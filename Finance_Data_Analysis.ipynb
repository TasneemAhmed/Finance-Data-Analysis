{
  "nbformat": 4,
  "nbformat_minor": 0,
  "metadata": {
    "colab": {
      "name": "Finance Data Analysis.ipynb",
      "provenance": [],
      "collapsed_sections": [],
      "authorship_tag": "ABX9TyM2Ld8VwucBJ7dXu28NC1qC",
      "include_colab_link": true
    },
    "kernelspec": {
      "name": "python3",
      "display_name": "Python 3"
    },
    "language_info": {
      "name": "python"
    }
  },
  "cells": [
    {
      "cell_type": "markdown",
      "metadata": {
        "id": "view-in-github",
        "colab_type": "text"
      },
      "source": [
        "<a href=\"https://colab.research.google.com/github/TasneemAhmed/Finance-Data-Analysis/blob/main/Finance_Data_Analysis.ipynb\" target=\"_parent\"><img src=\"https://colab.research.google.com/assets/colab-badge.svg\" alt=\"Open In Colab\"/></a>"
      ]
    },
    {
      "cell_type": "markdown",
      "source": [
        "# **1. Importing Packages**"
      ],
      "metadata": {
        "id": "zkwOZgxKhKFf"
      }
    },
    {
      "cell_type": "code",
      "execution_count": 1,
      "metadata": {
        "id": "XaYK--3pgCdc"
      },
      "outputs": [],
      "source": [
        "import pandas as pd\n",
        "import numpy as np\n",
        "import seaborn as sns \n",
        "import plotly.express as px\n",
        "import matplotlib.pyplot as plt"
      ]
    },
    {
      "cell_type": "code",
      "source": [
        "#for hypothesis testing\n",
        "import scipy.stats as ss "
      ],
      "metadata": {
        "id": "96a0aSxXPd4_"
      },
      "execution_count": 47,
      "outputs": []
    },
    {
      "cell_type": "markdown",
      "source": [
        "# **2. Read data & drop unneeded columns & Show box plot for different columns**"
      ],
      "metadata": {
        "id": "m-we1-MphxdU"
      }
    },
    {
      "cell_type": "code",
      "source": [
        "#specify need only the second sheet\n",
        "df = pd.read_excel('/content/sample_data/Bank_Personal_Loan_Modelling.xlsx', sheet_name=1)\n",
        "df"
      ],
      "metadata": {
        "colab": {
          "base_uri": "https://localhost:8080/",
          "height": 505
        },
        "id": "taJ1J4wriFKf",
        "outputId": "a9051216-aaf0-4f2d-f121-071ee5240dfb"
      },
      "execution_count": 2,
      "outputs": [
        {
          "output_type": "execute_result",
          "data": {
            "text/html": [
              "\n",
              "  <div id=\"df-d88c1493-f0fa-474f-a743-b3207c9778dc\">\n",
              "    <div class=\"colab-df-container\">\n",
              "      <div>\n",
              "<style scoped>\n",
              "    .dataframe tbody tr th:only-of-type {\n",
              "        vertical-align: middle;\n",
              "    }\n",
              "\n",
              "    .dataframe tbody tr th {\n",
              "        vertical-align: top;\n",
              "    }\n",
              "\n",
              "    .dataframe thead th {\n",
              "        text-align: right;\n",
              "    }\n",
              "</style>\n",
              "<table border=\"1\" class=\"dataframe\">\n",
              "  <thead>\n",
              "    <tr style=\"text-align: right;\">\n",
              "      <th></th>\n",
              "      <th>ID</th>\n",
              "      <th>Age</th>\n",
              "      <th>Experience</th>\n",
              "      <th>Income</th>\n",
              "      <th>ZIP Code</th>\n",
              "      <th>Family</th>\n",
              "      <th>CCAvg</th>\n",
              "      <th>Education</th>\n",
              "      <th>Mortgage</th>\n",
              "      <th>Personal Loan</th>\n",
              "      <th>Securities Account</th>\n",
              "      <th>CD Account</th>\n",
              "      <th>Online</th>\n",
              "      <th>CreditCard</th>\n",
              "    </tr>\n",
              "  </thead>\n",
              "  <tbody>\n",
              "    <tr>\n",
              "      <th>0</th>\n",
              "      <td>1</td>\n",
              "      <td>25</td>\n",
              "      <td>1</td>\n",
              "      <td>49</td>\n",
              "      <td>91107</td>\n",
              "      <td>4</td>\n",
              "      <td>1.6</td>\n",
              "      <td>1</td>\n",
              "      <td>0</td>\n",
              "      <td>0</td>\n",
              "      <td>1</td>\n",
              "      <td>0</td>\n",
              "      <td>0</td>\n",
              "      <td>0</td>\n",
              "    </tr>\n",
              "    <tr>\n",
              "      <th>1</th>\n",
              "      <td>2</td>\n",
              "      <td>45</td>\n",
              "      <td>19</td>\n",
              "      <td>34</td>\n",
              "      <td>90089</td>\n",
              "      <td>3</td>\n",
              "      <td>1.5</td>\n",
              "      <td>1</td>\n",
              "      <td>0</td>\n",
              "      <td>0</td>\n",
              "      <td>1</td>\n",
              "      <td>0</td>\n",
              "      <td>0</td>\n",
              "      <td>0</td>\n",
              "    </tr>\n",
              "    <tr>\n",
              "      <th>2</th>\n",
              "      <td>3</td>\n",
              "      <td>39</td>\n",
              "      <td>15</td>\n",
              "      <td>11</td>\n",
              "      <td>94720</td>\n",
              "      <td>1</td>\n",
              "      <td>1.0</td>\n",
              "      <td>1</td>\n",
              "      <td>0</td>\n",
              "      <td>0</td>\n",
              "      <td>0</td>\n",
              "      <td>0</td>\n",
              "      <td>0</td>\n",
              "      <td>0</td>\n",
              "    </tr>\n",
              "    <tr>\n",
              "      <th>3</th>\n",
              "      <td>4</td>\n",
              "      <td>35</td>\n",
              "      <td>9</td>\n",
              "      <td>100</td>\n",
              "      <td>94112</td>\n",
              "      <td>1</td>\n",
              "      <td>2.7</td>\n",
              "      <td>2</td>\n",
              "      <td>0</td>\n",
              "      <td>0</td>\n",
              "      <td>0</td>\n",
              "      <td>0</td>\n",
              "      <td>0</td>\n",
              "      <td>0</td>\n",
              "    </tr>\n",
              "    <tr>\n",
              "      <th>4</th>\n",
              "      <td>5</td>\n",
              "      <td>35</td>\n",
              "      <td>8</td>\n",
              "      <td>45</td>\n",
              "      <td>91330</td>\n",
              "      <td>4</td>\n",
              "      <td>1.0</td>\n",
              "      <td>2</td>\n",
              "      <td>0</td>\n",
              "      <td>0</td>\n",
              "      <td>0</td>\n",
              "      <td>0</td>\n",
              "      <td>0</td>\n",
              "      <td>1</td>\n",
              "    </tr>\n",
              "    <tr>\n",
              "      <th>...</th>\n",
              "      <td>...</td>\n",
              "      <td>...</td>\n",
              "      <td>...</td>\n",
              "      <td>...</td>\n",
              "      <td>...</td>\n",
              "      <td>...</td>\n",
              "      <td>...</td>\n",
              "      <td>...</td>\n",
              "      <td>...</td>\n",
              "      <td>...</td>\n",
              "      <td>...</td>\n",
              "      <td>...</td>\n",
              "      <td>...</td>\n",
              "      <td>...</td>\n",
              "    </tr>\n",
              "    <tr>\n",
              "      <th>4995</th>\n",
              "      <td>4996</td>\n",
              "      <td>29</td>\n",
              "      <td>3</td>\n",
              "      <td>40</td>\n",
              "      <td>92697</td>\n",
              "      <td>1</td>\n",
              "      <td>1.9</td>\n",
              "      <td>3</td>\n",
              "      <td>0</td>\n",
              "      <td>0</td>\n",
              "      <td>0</td>\n",
              "      <td>0</td>\n",
              "      <td>1</td>\n",
              "      <td>0</td>\n",
              "    </tr>\n",
              "    <tr>\n",
              "      <th>4996</th>\n",
              "      <td>4997</td>\n",
              "      <td>30</td>\n",
              "      <td>4</td>\n",
              "      <td>15</td>\n",
              "      <td>92037</td>\n",
              "      <td>4</td>\n",
              "      <td>0.4</td>\n",
              "      <td>1</td>\n",
              "      <td>85</td>\n",
              "      <td>0</td>\n",
              "      <td>0</td>\n",
              "      <td>0</td>\n",
              "      <td>1</td>\n",
              "      <td>0</td>\n",
              "    </tr>\n",
              "    <tr>\n",
              "      <th>4997</th>\n",
              "      <td>4998</td>\n",
              "      <td>63</td>\n",
              "      <td>39</td>\n",
              "      <td>24</td>\n",
              "      <td>93023</td>\n",
              "      <td>2</td>\n",
              "      <td>0.3</td>\n",
              "      <td>3</td>\n",
              "      <td>0</td>\n",
              "      <td>0</td>\n",
              "      <td>0</td>\n",
              "      <td>0</td>\n",
              "      <td>0</td>\n",
              "      <td>0</td>\n",
              "    </tr>\n",
              "    <tr>\n",
              "      <th>4998</th>\n",
              "      <td>4999</td>\n",
              "      <td>65</td>\n",
              "      <td>40</td>\n",
              "      <td>49</td>\n",
              "      <td>90034</td>\n",
              "      <td>3</td>\n",
              "      <td>0.5</td>\n",
              "      <td>2</td>\n",
              "      <td>0</td>\n",
              "      <td>0</td>\n",
              "      <td>0</td>\n",
              "      <td>0</td>\n",
              "      <td>1</td>\n",
              "      <td>0</td>\n",
              "    </tr>\n",
              "    <tr>\n",
              "      <th>4999</th>\n",
              "      <td>5000</td>\n",
              "      <td>28</td>\n",
              "      <td>4</td>\n",
              "      <td>83</td>\n",
              "      <td>92612</td>\n",
              "      <td>3</td>\n",
              "      <td>0.8</td>\n",
              "      <td>1</td>\n",
              "      <td>0</td>\n",
              "      <td>0</td>\n",
              "      <td>0</td>\n",
              "      <td>0</td>\n",
              "      <td>1</td>\n",
              "      <td>1</td>\n",
              "    </tr>\n",
              "  </tbody>\n",
              "</table>\n",
              "<p>5000 rows × 14 columns</p>\n",
              "</div>\n",
              "      <button class=\"colab-df-convert\" onclick=\"convertToInteractive('df-d88c1493-f0fa-474f-a743-b3207c9778dc')\"\n",
              "              title=\"Convert this dataframe to an interactive table.\"\n",
              "              style=\"display:none;\">\n",
              "        \n",
              "  <svg xmlns=\"http://www.w3.org/2000/svg\" height=\"24px\"viewBox=\"0 0 24 24\"\n",
              "       width=\"24px\">\n",
              "    <path d=\"M0 0h24v24H0V0z\" fill=\"none\"/>\n",
              "    <path d=\"M18.56 5.44l.94 2.06.94-2.06 2.06-.94-2.06-.94-.94-2.06-.94 2.06-2.06.94zm-11 1L8.5 8.5l.94-2.06 2.06-.94-2.06-.94L8.5 2.5l-.94 2.06-2.06.94zm10 10l.94 2.06.94-2.06 2.06-.94-2.06-.94-.94-2.06-.94 2.06-2.06.94z\"/><path d=\"M17.41 7.96l-1.37-1.37c-.4-.4-.92-.59-1.43-.59-.52 0-1.04.2-1.43.59L10.3 9.45l-7.72 7.72c-.78.78-.78 2.05 0 2.83L4 21.41c.39.39.9.59 1.41.59.51 0 1.02-.2 1.41-.59l7.78-7.78 2.81-2.81c.8-.78.8-2.07 0-2.86zM5.41 20L4 18.59l7.72-7.72 1.47 1.35L5.41 20z\"/>\n",
              "  </svg>\n",
              "      </button>\n",
              "      \n",
              "  <style>\n",
              "    .colab-df-container {\n",
              "      display:flex;\n",
              "      flex-wrap:wrap;\n",
              "      gap: 12px;\n",
              "    }\n",
              "\n",
              "    .colab-df-convert {\n",
              "      background-color: #E8F0FE;\n",
              "      border: none;\n",
              "      border-radius: 50%;\n",
              "      cursor: pointer;\n",
              "      display: none;\n",
              "      fill: #1967D2;\n",
              "      height: 32px;\n",
              "      padding: 0 0 0 0;\n",
              "      width: 32px;\n",
              "    }\n",
              "\n",
              "    .colab-df-convert:hover {\n",
              "      background-color: #E2EBFA;\n",
              "      box-shadow: 0px 1px 2px rgba(60, 64, 67, 0.3), 0px 1px 3px 1px rgba(60, 64, 67, 0.15);\n",
              "      fill: #174EA6;\n",
              "    }\n",
              "\n",
              "    [theme=dark] .colab-df-convert {\n",
              "      background-color: #3B4455;\n",
              "      fill: #D2E3FC;\n",
              "    }\n",
              "\n",
              "    [theme=dark] .colab-df-convert:hover {\n",
              "      background-color: #434B5C;\n",
              "      box-shadow: 0px 1px 3px 1px rgba(0, 0, 0, 0.15);\n",
              "      filter: drop-shadow(0px 1px 2px rgba(0, 0, 0, 0.3));\n",
              "      fill: #FFFFFF;\n",
              "    }\n",
              "  </style>\n",
              "\n",
              "      <script>\n",
              "        const buttonEl =\n",
              "          document.querySelector('#df-d88c1493-f0fa-474f-a743-b3207c9778dc button.colab-df-convert');\n",
              "        buttonEl.style.display =\n",
              "          google.colab.kernel.accessAllowed ? 'block' : 'none';\n",
              "\n",
              "        async function convertToInteractive(key) {\n",
              "          const element = document.querySelector('#df-d88c1493-f0fa-474f-a743-b3207c9778dc');\n",
              "          const dataTable =\n",
              "            await google.colab.kernel.invokeFunction('convertToInteractive',\n",
              "                                                     [key], {});\n",
              "          if (!dataTable) return;\n",
              "\n",
              "          const docLinkHtml = 'Like what you see? Visit the ' +\n",
              "            '<a target=\"_blank\" href=https://colab.research.google.com/notebooks/data_table.ipynb>data table notebook</a>'\n",
              "            + ' to learn more about interactive tables.';\n",
              "          element.innerHTML = '';\n",
              "          dataTable['output_type'] = 'display_data';\n",
              "          await google.colab.output.renderOutput(dataTable, element);\n",
              "          const docLink = document.createElement('div');\n",
              "          docLink.innerHTML = docLinkHtml;\n",
              "          element.appendChild(docLink);\n",
              "        }\n",
              "      </script>\n",
              "    </div>\n",
              "  </div>\n",
              "  "
            ],
            "text/plain": [
              "        ID  Age  Experience  ...  CD Account  Online  CreditCard\n",
              "0        1   25           1  ...           0       0           0\n",
              "1        2   45          19  ...           0       0           0\n",
              "2        3   39          15  ...           0       0           0\n",
              "3        4   35           9  ...           0       0           0\n",
              "4        5   35           8  ...           0       0           1\n",
              "...    ...  ...         ...  ...         ...     ...         ...\n",
              "4995  4996   29           3  ...           0       1           0\n",
              "4996  4997   30           4  ...           0       1           0\n",
              "4997  4998   63          39  ...           0       0           0\n",
              "4998  4999   65          40  ...           0       1           0\n",
              "4999  5000   28           4  ...           0       1           1\n",
              "\n",
              "[5000 rows x 14 columns]"
            ]
          },
          "metadata": {},
          "execution_count": 2
        }
      ]
    },
    {
      "cell_type": "code",
      "source": [
        "#check if there is null values in columns \n",
        "df.isnull().sum()"
      ],
      "metadata": {
        "colab": {
          "base_uri": "https://localhost:8080/"
        },
        "id": "05d8qzZ5jNi9",
        "outputId": "c006dc10-1c1a-447d-cd5b-640373f428f6"
      },
      "execution_count": 3,
      "outputs": [
        {
          "output_type": "execute_result",
          "data": {
            "text/plain": [
              "ID                    0\n",
              "Age                   0\n",
              "Experience            0\n",
              "Income                0\n",
              "ZIP Code              0\n",
              "Family                0\n",
              "CCAvg                 0\n",
              "Education             0\n",
              "Mortgage              0\n",
              "Personal Loan         0\n",
              "Securities Account    0\n",
              "CD Account            0\n",
              "Online                0\n",
              "CreditCard            0\n",
              "dtype: int64"
            ]
          },
          "metadata": {},
          "execution_count": 3
        }
      ]
    },
    {
      "cell_type": "code",
      "source": [
        "#drop unneeded columns: ID, ZIP Code\n",
        "df.drop(['ID', 'ZIP Code'], axis=1, inplace=True)"
      ],
      "metadata": {
        "id": "sj7qCWGbjjVK"
      },
      "execution_count": 4,
      "outputs": []
    },
    {
      "cell_type": "code",
      "source": [
        "df.columns"
      ],
      "metadata": {
        "colab": {
          "base_uri": "https://localhost:8080/"
        },
        "id": "zIGbLrTDkbSp",
        "outputId": "2201c136-efab-4bb8-fa37-35d826a2b80e"
      },
      "execution_count": 5,
      "outputs": [
        {
          "output_type": "execute_result",
          "data": {
            "text/plain": [
              "Index(['Age', 'Experience', 'Income', 'Family', 'CCAvg', 'Education',\n",
              "       'Mortgage', 'Personal Loan', 'Securities Account', 'CD Account',\n",
              "       'Online', 'CreditCard'],\n",
              "      dtype='object')"
            ]
          },
          "metadata": {},
          "execution_count": 5
        }
      ]
    },
    {
      "cell_type": "markdown",
      "source": [
        "# **3. Detecting Outlires**"
      ],
      "metadata": {
        "id": "ie1mTG_QI5Hy"
      }
    },
    {
      "cell_type": "code",
      "source": [
        "df.hist(figsize=(20,12))"
      ],
      "metadata": {
        "colab": {
          "base_uri": "https://localhost:8080/",
          "height": 830
        },
        "id": "UQRAgw-7sYXA",
        "outputId": "f39bc9ed-22a2-496b-efca-14fafcec23d1"
      },
      "execution_count": 6,
      "outputs": [
        {
          "output_type": "execute_result",
          "data": {
            "text/plain": [
              "array([[<matplotlib.axes._subplots.AxesSubplot object at 0x7f5d949bd2d0>,\n",
              "        <matplotlib.axes._subplots.AxesSubplot object at 0x7f5d9487a2d0>,\n",
              "        <matplotlib.axes._subplots.AxesSubplot object at 0x7f5d9471f910>],\n",
              "       [<matplotlib.axes._subplots.AxesSubplot object at 0x7f5d94611610>,\n",
              "        <matplotlib.axes._subplots.AxesSubplot object at 0x7f5d94751c10>,\n",
              "        <matplotlib.axes._subplots.AxesSubplot object at 0x7f5d94713250>],\n",
              "       [<matplotlib.axes._subplots.AxesSubplot object at 0x7f5d946c98d0>,\n",
              "        <matplotlib.axes._subplots.AxesSubplot object at 0x7f5d945bfe10>,\n",
              "        <matplotlib.axes._subplots.AxesSubplot object at 0x7f5d945bfe50>],\n",
              "       [<matplotlib.axes._subplots.AxesSubplot object at 0x7f5d94581590>,\n",
              "        <matplotlib.axes._subplots.AxesSubplot object at 0x7f5d944f90d0>,\n",
              "        <matplotlib.axes._subplots.AxesSubplot object at 0x7f5d944b06d0>]],\n",
              "      dtype=object)"
            ]
          },
          "metadata": {},
          "execution_count": 6
        },
        {
          "output_type": "display_data",
          "data": {
            "image/png": "[encoded data removed]",
            "text/plain": [
              "<Figure size 1440x864 with 12 Axes>"
            ]
          },
          "metadata": {
            "needs_background": "light"
          }
        }
      ]
    },
    {
      "cell_type": "code",
      "source": [
        "sns.boxplot(data=df[['Age', 'Experience', 'Income', 'Family','Education']])"
      ],
      "metadata": {
        "colab": {
          "base_uri": "https://localhost:8080/",
          "height": 282
        },
        "id": "UsHnibLbJPHt",
        "outputId": "920403ee-7e03-4e39-d9b9-af1c8c207175"
      },
      "execution_count": 7,
      "outputs": [
        {
          "output_type": "execute_result",
          "data": {
            "text/plain": [
              "<matplotlib.axes._subplots.AxesSubplot at 0x7f5d949ee110>"
            ]
          },
          "metadata": {},
          "execution_count": 7
        },
        {
          "output_type": "display_data",
          "data": {
            "image/png": "[encoded data removed]",
            "text/plain": [
              "<Figure size 432x288 with 1 Axes>"
            ]
          },
          "metadata": {
            "needs_background": "light"
          }
        }
      ]
    },
    {
      "cell_type": "code",
      "source": [
        "columns = ['Age', 'Experience', 'Income', 'Family']\n",
        "for col in columns:\n",
        "  fig = px.box(data_frame=df, y=col, title='5 Numbers Summary according to {} using box plot'.format(col))\n",
        "  fig.show()"
      ],
      "metadata": {
        "colab": {
          "base_uri": "https://localhost:8080/",
          "height": 1000
        },
        "id": "FApCVEk6O2VP",
        "outputId": "d285d572-e423-45ad-f444-acf2da1332f3"
      },
      "execution_count": 8,
      "outputs": [
        {
          "output_type": "display_data",
          "data": {
            "text/html": [
              "<html>\n",
              "<head><meta charset=\"utf-8\" /></head>\n",
              "<body>\n",
              "    <div>\n",
              "            <script src=\"https://cdnjs.cloudflare.com/ajax/libs/mathjax/2.7.5/MathJax.js?config=TeX-AMS-MML_SVG\"></script><script type=\"text/javascript\">if (window.MathJax) {MathJax.Hub.Config({SVG: {font: \"STIX-Web\"}});}</script>\n",
              "                <script type=\"text/javascript\">window.PlotlyConfig = {MathJaxConfig: 'local'};</script>\n",
              "        <script src=\"https://cdn.plot.ly/plotly-latest.min.js\"></script>    \n",
              "            <div id=\"357d5aa5-9438-4646-ae12-380f8761cb3e\" class=\"plotly-graph-div\" style=\"height:525px; width:100%;\"></div>\n",
              "            <script type=\"text/javascript\">\n",
              "                \n",
              "                    window.PLOTLYENV=window.PLOTLYENV || {};\n",
              "                    \n",
              "                if (document.getElementById(\"357d5aa5-9438-4646-ae12-380f8761cb3e\")) {\n",
              "                    Plotly.newPlot(\n",
              "                        '357d5aa5-9438-4646-ae12-380f8761cb3e',\n",
              "                        [{\"alignmentgroup\": \"True\", \"hoverlabel\": {\"namelength\": 0}, \"hovertemplate\": \"Age=%{y}\", \"legendgroup\": \"\", \"marker\": {\"color\": \"#636efa\"}, \"name\": \"\", \"notched\": false, \"offsetgroup\": \"\", \"orientation\": \"v\", \"showlegend\": false, \"type\": \"box\", \"x0\": \" \", \"xaxis\": \"x\", \"y\": [25, 45, 39, 35, 35, 37, 53, 50, 35, 34, 65, 29, 48, 59, 67, 60, 38, 42, 46, 55, 56, 57, 29, 44, 36, 43, 40, 46, 56, 38, 59, 40, 53, 30, 31, 48, 59, 51, 42, 38, 57, 34, 32, 39, 46, 57, 39, 37, 56, 40, 32, 61, 30, 50, 29, 41, 55, 56, 28, 31, 49, 47, 42, 42, 47, 59, 62, 53, 47, 53, 42, 53, 44, 41, 28, 31, 58, 46, 54, 50, 60, 47, 41, 33, 46, 27, 40, 48, 65, 25, 55, 35, 43, 60, 65, 38, 41, 54, 49, 66, 48, 61, 53, 43, 56, 24, 43, 42, 33, 43, 41, 62, 40, 58, 39, 65, 54, 58, 41, 32, 54, 52, 58, 37, 39, 60, 31, 34, 38, 41, 28, 58, 31, 30, 53, 58, 59, 49, 59, 59, 51, 35, 33, 25, 49, 59, 46, 50, 52, 48, 46, 26, 57, 60, 54, 24, 26, 41, 32, 61, 29, 61, 38, 28, 53, 27, 25, 33, 50, 27, 27, 52, 38, 58, 42, 45, 52, 29, 53, 62, 51, 36, 24, 29, 52, 39, 48, 46, 64, 55, 60, 51, 50, 48, 53, 34, 48, 55, 27, 36, 32, 35, 30, 58, 56, 38, 49, 34, 40, 64, 51, 44, 46, 57, 54, 38, 27, 39, 44, 56, 32, 45, 26, 55, 52, 39, 24, 47, 47, 48, 47, 35, 46, 62, 26, 38, 43, 62, 57, 28, 51, 48, 41, 65, 41, 35, 38, 53, 55, 26, 30, 54, 65, 47, 65, 66, 26, 66, 35, 56, 51, 42, 49, 27, 45, 49, 63, 47, 64, 43, 60, 40, 29, 41, 30, 49, 30, 29, 50, 39, 33, 57, 34, 61, 44, 40, 51, 37, 44, 42, 51, 43, 30, 45, 35, 60, 34, 55, 43, 41, 34, 65, 45, 49, 48, 60, 55, 42, 32, 62, 57, 52, 36, 34, 63, 24, 57, 40, 27, 65, 60, 44, 63, 59, 56, 54, 52, 58, 60, 28, 54, 32, 59, 63, 48, 56, 36, 57, 29, 39, 59, 31, 43, 35, 54, 51, 44, 25, 40, 26, 39, 28, 52, 53, 44, 43, 56, 38, 30, 32, 35, 43, 58, 25, 54, 57, 50, 32, 63, 31, 36, 58, 56, 49, 30, 33, 45, 30, 47, 25, 63, 55, 65, 44, 51, 35, 30, 31, 54, 45, 45, 58, 54, 53, 33, 60, 50, 26, 54, 28, 36, 29, 54, 55, 61, 36, 45, 64, 60, 49, 47, 60, 45, 32, 52, 35, 40, 53, 27, 58, 47, 28, 46, 43, 56, 28, 42, 32, 62, 37, 51, 39, 43, 52, 30, 52, 61, 36, 58, 47, 64, 52, 58, 48, 64, 58, 47, 49, 31, 61, 51, 28, 39, 54, 50, 30, 64, 29, 48, 35, 60, 55, 29, 48, 43, 66, 25, 45, 34, 48, 32, 50, 43, 64, 60, 43, 60, 64, 44, 60, 54, 33, 56, 29, 25, 60, 55, 39, 37, 53, 34, 42, 60, 50, 41, 25, 50, 48, 32, 50, 59, 50, 44, 31, 40, 36, 51, 64, 47, 52, 51, 31, 39, 30, 27, 41, 53, 54, 28, 34, 61, 48, 36, 56, 24, 64, 26, 33, 64, 39, 54, 32, 62, 27, 53, 51, 25, 44, 31, 57, 25, 30, 40, 63, 35, 43, 27, 44, 49, 61, 60, 59, 28, 52, 28, 34, 60, 39, 30, 49, 43, 63, 28, 51, 33, 55, 53, 34, 34, 40, 49, 35, 39, 55, 29, 54, 25, 52, 46, 57, 52, 28, 44, 24, 40, 34, 39, 50, 41, 31, 29, 30, 44, 33, 50, 42, 48, 24, 56, 28, 56, 58, 29, 63, 28, 57, 34, 28, 27, 37, 52, 49, 65, 60, 37, 63, 40, 46, 63, 57, 33, 41, 41, 44, 33, 52, 30, 45, 49, 45, 32, 45, 57, 61, 57, 60, 40, 53, 42, 62, 43, 35, 50, 45, 52, 35, 58, 62, 50, 25, 47, 28, 34, 49, 54, 50, 37, 38, 52, 63, 39, 63, 65, 46, 54, 54, 52, 63, 66, 56, 23, 65, 51, 34, 49, 29, 47, 46, 52, 55, 61, 34, 58, 40, 43, 35, 24, 48, 44, 54, 59, 45, 26, 40, 32, 29, 51, 42, 64, 44, 37, 44, 35, 41, 56, 62, 58, 47, 35, 29, 43, 62, 41, 34, 50, 47, 29, 59, 56, 61, 58, 49, 45, 50, 64, 39, 58, 62, 45, 58, 43, 28, 26, 49, 66, 33, 61, 64, 36, 49, 52, 61, 32, 61, 45, 30, 62, 57, 41, 58, 29, 53, 64, 49, 38, 56, 56, 52, 64, 53, 29, 48, 32, 54, 37, 47, 37, 64, 43, 33, 26, 42, 54, 41, 55, 65, 50, 55, 62, 53, 32, 56, 54, 44, 48, 46, 45, 45, 58, 29, 55, 55, 41, 24, 54, 57, 30, 42, 29, 29, 31, 47, 36, 52, 54, 55, 53, 52, 64, 54, 32, 63, 36, 50, 33, 62, 49, 41, 51, 56, 51, 39, 61, 35, 39, 37, 48, 63, 35, 55, 29, 61, 36, 61, 36, 58, 42, 30, 45, 39, 27, 57, 34, 64, 47, 44, 51, 40, 57, 33, 46, 41, 33, 27, 52, 59, 62, 49, 45, 63, 57, 60, 50, 54, 28, 60, 44, 61, 40, 54, 43, 54, 32, 24, 30, 61, 40, 35, 33, 63, 57, 44, 51, 51, 38, 31, 54, 41, 57, 24, 55, 32, 38, 58, 29, 43, 50, 62, 57, 30, 30, 57, 57, 43, 28, 46, 29, 64, 66, 23, 60, 47, 35, 57, 65, 53, 44, 45, 41, 51, 27, 31, 32, 55, 55, 42, 33, 65, 35, 55, 28, 27, 51, 50, 58, 46, 62, 38, 62, 56, 61, 38, 55, 30, 41, 57, 36, 55, 30, 40, 32, 59, 44, 51, 37, 59, 37, 56, 55, 49, 46, 35, 47, 39, 27, 62, 57, 55, 55, 41, 57, 43, 40, 43, 63, 63, 54, 54, 52, 50, 38, 36, 58, 46, 50, 46, 53, 62, 63, 42, 34, 40, 34, 41, 32, 28, 33, 46, 52, 60, 59, 57, 46, 25, 53, 38, 63, 44, 50, 28, 27, 52, 50, 39, 50, 60, 30, 31, 39, 29, 54, 35, 27, 45, 58, 62, 28, 32, 29, 41, 61, 56, 37, 60, 49, 43, 53, 35, 56, 41, 36, 56, 64, 51, 49, 43, 51, 55, 62, 35, 53, 33, 43, 58, 63, 31, 36, 30, 59, 28, 59, 47, 47, 56, 41, 25, 30, 50, 34, 44, 36, 39, 54, 33, 39, 41, 40, 29, 51, 54, 47, 53, 30, 28, 60, 51, 63, 38, 59, 53, 31, 41, 25, 27, 50, 50, 43, 50, 46, 30, 42, 42, 29, 38, 51, 35, 37, 47, 55, 65, 58, 54, 52, 28, 32, 51, 43, 42, 42, 41, 34, 30, 32, 46, 38, 37, 32, 35, 30, 30, 58, 57, 34, 31, 39, 57, 47, 51, 30, 55, 32, 32, 44, 33, 49, 32, 31, 37, 41, 56, 55, 49, 63, 55, 59, 41, 49, 48, 41, 50, 28, 36, 38, 34, 41, 43, 30, 37, 62, 40, 35, 64, 49, 24, 36, 29, 29, 28, 33, 36, 42, 25, 28, 50, 34, 43, 62, 61, 45, 42, 39, 29, 45, 58, 29, 32, 37, 48, 40, 29, 36, 35, 35, 62, 26, 32, 63, 38, 50, 46, 50, 61, 34, 27, 61, 45, 50, 44, 62, 45, 41, 30, 61, 45, 59, 30, 60, 39, 56, 56, 27, 66, 43, 53, 44, 54, 31, 38, 28, 51, 52, 64, 29, 34, 33, 46, 48, 52, 44, 51, 47, 39, 42, 57, 36, 27, 31, 63, 34, 52, 57, 63, 26, 35, 58, 32, 64, 50, 34, 36, 43, 28, 64, 60, 62, 27, 42, 45, 36, 48, 65, 39, 51, 30, 65, 38, 29, 42, 63, 46, 62, 58, 56, 56, 34, 42, 30, 61, 38, 50, 61, 41, 42, 29, 51, 32, 34, 26, 54, 38, 62, 37, 46, 52, 32, 49, 28, 55, 52, 32, 31, 27, 32, 52, 52, 50, 32, 61, 60, 28, 34, 31, 31, 62, 47, 50, 36, 26, 51, 52, 35, 42, 36, 41, 49, 57, 44, 60, 38, 26, 29, 59, 51, 50, 35, 61, 42, 55, 50, 64, 54, 50, 31, 32, 44, 60, 60, 62, 46, 57, 30, 58, 39, 60, 59, 50, 63, 27, 54, 62, 60, 38, 34, 65, 55, 57, 27, 35, 52, 45, 29, 44, 47, 62, 52, 47, 42, 65, 42, 40, 32, 40, 55, 32, 58, 46, 53, 63, 40, 41, 60, 65, 59, 48, 59, 33, 40, 42, 65, 30, 30, 42, 32, 55, 29, 64, 37, 31, 25, 31, 32, 58, 26, 51, 65, 43, 46, 28, 63, 59, 42, 58, 39, 36, 60, 47, 29, 52, 41, 63, 59, 44, 54, 29, 51, 63, 36, 42, 51, 47, 40, 54, 47, 35, 28, 45, 33, 62, 45, 59, 58, 52, 34, 65, 48, 44, 61, 40, 65, 28, 67, 35, 60, 58, 55, 34, 35, 28, 38, 62, 30, 38, 33, 58, 59, 52, 36, 45, 49, 52, 54, 30, 65, 34, 30, 51, 52, 43, 35, 56, 57, 58, 53, 45, 44, 54, 41, 52, 43, 63, 54, 33, 25, 41, 40, 43, 36, 57, 34, 38, 47, 39, 45, 62, 59, 61, 36, 58, 55, 29, 34, 61, 50, 52, 39, 55, 33, 47, 57, 57, 40, 50, 29, 46, 42, 59, 31, 51, 35, 59, 35, 46, 34, 55, 64, 34, 61, 63, 59, 51, 41, 37, 64, 44, 62, 50, 43, 34, 38, 29, 39, 53, 43, 61, 46, 57, 59, 52, 29, 57, 49, 39, 56, 63, 37, 56, 45, 66, 40, 50, 60, 31, 40, 36, 55, 54, 35, 55, 36, 66, 38, 58, 41, 60, 47, 62, 48, 61, 29, 45, 39, 31, 39, 63, 28, 56, 31, 46, 42, 53, 41, 61, 31, 62, 59, 49, 65, 30, 32, 56, 36, 58, 27, 41, 59, 56, 52, 35, 47, 29, 31, 62, 48, 26, 60, 35, 40, 31, 50, 33, 37, 38, 63, 57, 61, 37, 51, 44, 63, 43, 38, 34, 48, 29, 37, 60, 46, 34, 56, 57, 62, 32, 51, 55, 60, 40, 62, 63, 60, 59, 26, 56, 58, 57, 48, 30, 45, 64, 44, 51, 43, 29, 56, 65, 46, 48, 56, 61, 46, 58, 31, 27, 44, 44, 51, 39, 32, 33, 40, 36, 52, 54, 26, 39, 46, 57, 59, 52, 52, 50, 41, 43, 25, 40, 35, 60, 57, 44, 61, 33, 45, 45, 64, 50, 28, 37, 62, 29, 49, 46, 60, 55, 33, 53, 50, 28, 42, 33, 40, 31, 41, 52, 65, 48, 45, 26, 64, 41, 43, 60, 62, 46, 36, 31, 43, 46, 50, 52, 27, 34, 49, 52, 37, 53, 54, 29, 35, 32, 38, 44, 44, 48, 46, 35, 56, 49, 57, 35, 44, 38, 57, 35, 29, 58, 40, 51, 61, 46, 55, 35, 60, 28, 43, 61, 48, 65, 45, 36, 45, 60, 47, 32, 48, 33, 49, 56, 59, 56, 30, 59, 38, 47, 54, 34, 41, 47, 44, 43, 31, 28, 55, 42, 53, 30, 65, 43, 56, 25, 35, 50, 36, 34, 32, 51, 52, 65, 51, 37, 35, 67, 30, 62, 42, 48, 61, 36, 48, 65, 25, 55, 63, 31, 43, 28, 37, 27, 62, 51, 56, 56, 44, 46, 56, 56, 57, 31, 65, 31, 36, 56, 52, 42, 55, 49, 51, 26, 32, 54, 50, 59, 61, 43, 39, 56, 38, 25, 42, 42, 50, 56, 43, 60, 42, 57, 48, 37, 57, 62, 39, 38, 54, 45, 39, 45, 62, 43, 30, 35, 58, 44, 56, 28, 64, 63, 44, 34, 50, 51, 30, 55, 57, 43, 61, 49, 52, 57, 53, 52, 39, 58, 36, 45, 30, 49, 44, 43, 42, 29, 28, 50, 44, 52, 28, 62, 34, 45, 52, 43, 54, 64, 27, 42, 28, 47, 39, 29, 39, 41, 37, 41, 45, 52, 58, 31, 26, 31, 42, 56, 52, 59, 32, 46, 52, 30, 32, 35, 49, 54, 56, 48, 28, 44, 30, 44, 30, 47, 64, 48, 63, 25, 61, 46, 57, 40, 49, 30, 41, 42, 63, 43, 59, 46, 33, 55, 36, 47, 59, 38, 42, 30, 63, 60, 62, 49, 59, 36, 46, 35, 50, 51, 41, 45, 41, 57, 51, 52, 43, 63, 28, 43, 41, 34, 28, 58, 39, 49, 33, 37, 33, 28, 54, 63, 57, 56, 54, 29, 41, 58, 61, 30, 62, 52, 29, 46, 52, 40, 49, 34, 35, 26, 65, 52, 32, 31, 36, 50, 36, 51, 39, 53, 50, 31, 53, 48, 57, 47, 55, 37, 59, 53, 31, 35, 25, 37, 40, 31, 62, 41, 56, 47, 28, 60, 27, 57, 62, 57, 44, 31, 31, 39, 41, 41, 55, 28, 35, 44, 44, 40, 65, 35, 55, 55, 59, 39, 50, 45, 50, 65, 36, 57, 53, 28, 55, 56, 33, 57, 27, 27, 54, 48, 62, 41, 62, 40, 32, 62, 35, 25, 50, 61, 43, 52, 39, 33, 27, 27, 32, 65, 55, 52, 39, 35, 39, 34, 30, 37, 41, 31, 37, 49, 58, 45, 40, 34, 62, 54, 26, 54, 29, 48, 27, 42, 25, 45, 34, 51, 51, 60, 59, 49, 50, 41, 49, 50, 63, 63, 33, 38, 64, 36, 58, 39, 46, 61, 53, 28, 64, 48, 38, 52, 65, 59, 45, 53, 38, 54, 25, 61, 48, 46, 36, 46, 59, 59, 36, 63, 51, 30, 48, 55, 41, 26, 41, 54, 57, 54, 35, 60, 63, 41, 46, 31, 58, 59, 46, 33, 56, 47, 59, 24, 39, 30, 55, 47, 35, 47, 38, 38, 27, 42, 26, 60, 27, 27, 40, 40, 29, 30, 30, 47, 33, 57, 38, 54, 47, 48, 62, 30, 35, 59, 38, 47, 57, 42, 39, 53, 27, 59, 48, 62, 66, 38, 42, 47, 27, 32, 37, 56, 39, 36, 32, 62, 48, 58, 27, 52, 54, 31, 60, 34, 46, 41, 62, 31, 41, 55, 45, 51, 27, 30, 31, 61, 40, 45, 45, 37, 34, 43, 42, 56, 33, 36, 62, 58, 65, 65, 52, 64, 51, 59, 52, 55, 46, 61, 35, 56, 31, 44, 53, 36, 27, 36, 40, 39, 59, 43, 30, 26, 48, 50, 33, 32, 34, 33, 32, 55, 58, 47, 30, 42, 40, 33, 46, 63, 62, 43, 31, 28, 64, 27, 33, 39, 44, 53, 42, 44, 34, 47, 53, 62, 61, 42, 48, 38, 41, 57, 31, 39, 48, 55, 29, 47, 61, 60, 34, 45, 60, 25, 41, 63, 63, 43, 58, 50, 38, 54, 61, 29, 39, 33, 23, 56, 54, 37, 38, 34, 53, 65, 62, 51, 31, 64, 39, 28, 60, 47, 25, 44, 51, 31, 32, 51, 25, 43, 54, 34, 54, 42, 46, 62, 31, 30, 52, 35, 60, 58, 24, 40, 49, 43, 33, 36, 62, 57, 64, 52, 54, 40, 30, 55, 39, 55, 28, 44, 46, 61, 61, 45, 38, 29, 52, 38, 28, 34, 35, 46, 63, 33, 38, 53, 28, 44, 58, 38, 48, 33, 66, 59, 40, 36, 62, 51, 58, 52, 41, 31, 28, 57, 61, 60, 56, 49, 63, 49, 49, 32, 26, 27, 57, 29, 56, 59, 53, 54, 56, 50, 51, 53, 37, 32, 49, 34, 54, 64, 58, 25, 50, 38, 48, 41, 32, 46, 39, 39, 63, 58, 28, 36, 43, 36, 44, 31, 45, 39, 43, 40, 30, 58, 46, 35, 30, 34, 62, 58, 45, 42, 60, 55, 45, 52, 31, 60, 33, 37, 59, 51, 47, 60, 61, 64, 46, 31, 57, 48, 48, 35, 33, 47, 46, 44, 42, 50, 52, 53, 37, 64, 46, 57, 61, 42, 40, 33, 50, 52, 35, 57, 56, 44, 23, 33, 48, 45, 54, 42, 47, 61, 53, 56, 33, 44, 63, 47, 50, 49, 34, 40, 38, 51, 28, 52, 39, 29, 54, 63, 40, 36, 45, 61, 26, 33, 64, 43, 24, 30, 60, 50, 40, 31, 30, 60, 39, 66, 65, 54, 54, 35, 32, 63, 60, 43, 59, 62, 30, 54, 30, 31, 44, 32, 63, 57, 60, 37, 53, 51, 30, 28, 50, 52, 56, 40, 64, 61, 46, 55, 45, 40, 63, 57, 38, 37, 31, 50, 42, 51, 38, 53, 43, 35, 49, 28, 51, 39, 31, 44, 46, 42, 41, 23, 59, 47, 48, 58, 58, 54, 49, 63, 62, 45, 39, 58, 56, 29, 33, 55, 56, 36, 53, 57, 35, 43, 54, 29, 39, 32, 51, 50, 54, 38, 32, 62, 57, 47, 51, 54, 26, 37, 27, 63, 62, 59, 32, 35, 56, 55, 31, 54, 58, 48, 48, 33, 36, 41, 55, 63, 53, 38, 46, 59, 56, 59, 39, 47, 47, 53, 36, 34, 36, 60, 45, 27, 47, 44, 54, 57, 52, 51, 57, 65, 58, 64, 52, 58, 52, 43, 56, 37, 53, 27, 53, 42, 58, 36, 53, 48, 54, 26, 50, 31, 35, 63, 29, 57, 30, 33, 62, 35, 37, 37, 35, 35, 59, 53, 45, 46, 40, 42, 25, 39, 30, 58, 41, 37, 36, 27, 60, 62, 67, 44, 24, 45, 58, 61, 54, 28, 49, 35, 36, 34, 36, 35, 27, 42, 65, 29, 65, 59, 46, 59, 52, 60, 43, 65, 50, 48, 49, 58, 24, 58, 45, 42, 64, 49, 55, 40, 28, 57, 50, 40, 55, 53, 48, 59, 58, 38, 49, 60, 54, 28, 27, 42, 52, 54, 56, 58, 56, 64, 35, 45, 57, 35, 46, 30, 44, 39, 42, 34, 46, 55, 28, 35, 60, 50, 52, 51, 51, 59, 53, 43, 31, 32, 41, 31, 41, 47, 37, 53, 49, 62, 33, 54, 27, 60, 29, 56, 55, 45, 33, 45, 44, 37, 42, 26, 33, 61, 31, 54, 62, 61, 66, 38, 55, 60, 23, 29, 35, 53, 32, 38, 44, 43, 54, 52, 31, 47, 42, 57, 33, 35, 56, 57, 25, 53, 59, 56, 54, 48, 55, 33, 46, 42, 49, 42, 46, 65, 50, 54, 42, 57, 61, 60, 40, 33, 37, 52, 33, 62, 62, 63, 55, 33, 25, 55, 29, 45, 60, 44, 48, 57, 58, 58, 44, 54, 59, 63, 61, 58, 44, 53, 63, 41, 50, 51, 47, 43, 46, 50, 33, 27, 34, 34, 28, 29, 52, 47, 41, 58, 37, 57, 63, 60, 50, 60, 54, 28, 45, 28, 54, 42, 30, 61, 64, 38, 39, 54, 59, 39, 63, 31, 56, 47, 28, 32, 54, 29, 39, 26, 29, 46, 38, 55, 48, 36, 39, 40, 26, 55, 61, 57, 56, 31, 61, 58, 43, 29, 50, 49, 43, 58, 41, 65, 52, 55, 49, 52, 56, 30, 36, 41, 42, 60, 44, 34, 56, 31, 29, 31, 36, 42, 64, 61, 35, 28, 38, 44, 45, 46, 57, 40, 38, 39, 23, 47, 32, 30, 54, 25, 60, 61, 36, 52, 33, 57, 34, 50, 43, 34, 26, 26, 48, 49, 47, 43, 40, 31, 27, 55, 54, 23, 54, 57, 41, 28, 33, 51, 28, 63, 29, 62, 51, 52, 43, 39, 35, 34, 49, 43, 48, 30, 46, 43, 27, 39, 58, 44, 39, 35, 41, 43, 55, 32, 56, 30, 65, 31, 41, 55, 37, 34, 34, 33, 48, 28, 30, 44, 61, 59, 33, 56, 53, 42, 43, 35, 61, 39, 61, 40, 34, 65, 40, 39, 61, 40, 49, 43, 45, 52, 32, 31, 27, 33, 65, 62, 55, 46, 37, 60, 44, 35, 52, 30, 62, 41, 38, 52, 48, 47, 41, 44, 31, 50, 36, 52, 62, 55, 61, 34, 34, 59, 41, 33, 55, 64, 44, 32, 67, 40, 57, 59, 43, 58, 50, 52, 35, 40, 31, 32, 55, 43, 31, 26, 58, 51, 45, 56, 25, 38, 62, 39, 56, 50, 52, 53, 25, 44, 42, 42, 63, 57, 56, 60, 62, 48, 37, 55, 42, 39, 47, 34, 48, 52, 53, 49, 47, 48, 38, 48, 56, 65, 46, 60, 50, 41, 41, 60, 57, 48, 53, 42, 45, 35, 34, 67, 36, 37, 40, 35, 60, 59, 35, 27, 29, 35, 38, 62, 43, 35, 41, 65, 61, 55, 28, 52, 34, 49, 42, 49, 49, 32, 59, 43, 48, 31, 30, 58, 41, 38, 33, 51, 45, 34, 39, 44, 55, 28, 57, 43, 46, 35, 25, 65, 64, 39, 62, 46, 36, 42, 35, 63, 45, 27, 29, 55, 32, 37, 25, 41, 52, 31, 40, 54, 48, 39, 64, 54, 39, 55, 42, 58, 45, 29, 36, 63, 55, 54, 61, 36, 61, 39, 57, 35, 66, 49, 48, 61, 44, 23, 31, 39, 45, 39, 64, 64, 47, 34, 56, 33, 56, 57, 43, 43, 26, 64, 43, 44, 60, 37, 56, 54, 43, 57, 29, 54, 61, 29, 47, 43, 46, 55, 48, 26, 63, 57, 58, 28, 61, 65, 33, 63, 43, 26, 57, 50, 54, 59, 49, 54, 65, 34, 31, 31, 64, 52, 57, 60, 45, 39, 25, 29, 40, 36, 33, 51, 35, 54, 29, 32, 37, 55, 30, 49, 51, 65, 32, 29, 46, 64, 27, 50, 33, 38, 38, 37, 46, 31, 35, 50, 45, 30, 60, 31, 60, 36, 64, 29, 58, 59, 58, 35, 43, 33, 54, 38, 38, 57, 34, 52, 50, 60, 26, 56, 39, 45, 30, 37, 45, 48, 65, 46, 40, 33, 40, 60, 51, 41, 37, 35, 35, 46, 60, 51, 31, 30, 32, 53, 33, 40, 57, 51, 30, 41, 54, 42, 30, 60, 56, 63, 56, 39, 29, 28, 41, 28, 49, 30, 63, 45, 40, 28, 62, 38, 32, 58, 33, 60, 34, 38, 44, 56, 37, 45, 44, 37, 47, 51, 63, 61, 43, 41, 59, 29, 32, 64, 50, 35, 34, 58, 41, 37, 35, 45, 53, 53, 54, 28, 58, 47, 24, 27, 42, 50, 41, 46, 46, 51, 59, 58, 37, 39, 47, 51, 64, 59, 55, 57, 59, 42, 34, 41, 43, 53, 47, 49, 35, 52, 53, 48, 35, 52, 60, 33, 38, 29, 35, 26, 48, 43, 60, 27, 38, 40, 38, 50, 38, 34, 42, 60, 62, 59, 49, 49, 36, 33, 43, 53, 57, 53, 60, 34, 51, 36, 63, 37, 57, 52, 38, 61, 31, 39, 38, 46, 48, 58, 50, 67, 36, 30, 58, 43, 31, 37, 49, 27, 50, 46, 49, 29, 55, 61, 45, 33, 63, 32, 42, 51, 44, 33, 39, 56, 28, 43, 30, 34, 26, 58, 43, 40, 54, 44, 54, 39, 59, 53, 32, 40, 54, 27, 63, 26, 33, 43, 57, 26, 55, 30, 63, 55, 35, 45, 47, 31, 56, 49, 53, 62, 63, 26, 59, 40, 42, 29, 40, 31, 35, 62, 51, 32, 27, 62, 66, 53, 49, 65, 30, 60, 30, 54, 54, 37, 32, 51, 46, 41, 62, 54, 52, 51, 24, 61, 55, 37, 64, 34, 31, 42, 47, 29, 34, 36, 34, 26, 48, 47, 39, 62, 34, 43, 55, 65, 26, 57, 32, 35, 63, 49, 23, 30, 43, 39, 31, 65, 34, 37, 62, 33, 48, 33, 45, 44, 37, 31, 56, 30, 61, 32, 51, 26, 31, 43, 57, 42, 48, 46, 33, 45, 31, 42, 56, 63, 42, 50, 31, 65, 60, 34, 62, 56, 51, 44, 41, 43, 25, 40, 53, 54, 36, 26, 35, 29, 35, 28, 48, 46, 31, 40, 27, 32, 67, 24, 45, 26, 42, 65, 59, 30, 32, 36, 48, 56, 44, 60, 51, 34, 45, 47, 29, 52, 61, 40, 24, 33, 33, 52, 40, 45, 27, 38, 50, 41, 60, 64, 34, 30, 31, 41, 61, 42, 48, 59, 57, 37, 53, 53, 26, 39, 35, 59, 43, 39, 49, 47, 41, 57, 42, 61, 56, 29, 25, 32, 37, 31, 38, 40, 61, 50, 32, 62, 62, 40, 59, 43, 62, 48, 29, 58, 43, 39, 33, 40, 28, 38, 65, 35, 29, 61, 46, 50, 60, 54, 43, 38, 46, 64, 24, 39, 34, 65, 38, 62, 59, 49, 57, 64, 47, 30, 42, 53, 50, 62, 34, 47, 62, 61, 59, 47, 65, 56, 56, 31, 61, 42, 44, 47, 30, 62, 56, 25, 53, 26, 59, 62, 58, 40, 35, 51, 41, 51, 27, 46, 46, 31, 58, 42, 59, 54, 35, 34, 46, 52, 55, 34, 57, 45, 29, 49, 36, 57, 25, 43, 27, 54, 53, 55, 43, 35, 59, 42, 51, 57, 39, 53, 31, 33, 38, 47, 63, 44, 61, 52, 59, 56, 58, 30, 42, 51, 60, 30, 49, 26, 36, 65, 27, 60, 32, 46, 60, 28, 50, 52, 29, 30, 42, 32, 40, 49, 53, 42, 38, 60, 27, 61, 27, 45, 41, 44, 38, 39, 48, 47, 64, 27, 66, 43, 34, 28, 52, 45, 24, 39, 40, 30, 49, 53, 56, 50, 53, 60, 58, 43, 46, 29, 56, 48, 61, 41, 35, 48, 43, 37, 47, 29, 63, 43, 57, 55, 47, 58, 53, 59, 46, 41, 46, 44, 44, 50, 51, 55, 37, 34, 59, 45, 30, 32, 61, 54, 35, 63, 66, 48, 60, 41, 31, 58, 67, 35, 40, 42, 44, 47, 59, 29, 36, 47, 55, 41, 51, 26, 33, 30, 30, 45, 40, 42, 50, 62, 63, 43, 49, 51, 61, 43, 43, 61, 35, 59, 40, 61, 48, 37, 56, 35, 35, 40, 50, 49, 46, 64, 60, 45, 52, 58, 54, 48, 51, 53, 57, 43, 37, 32, 34, 54, 62, 56, 39, 32, 50, 27, 37, 60, 43, 62, 39, 34, 46, 46, 51, 44, 60, 65, 58, 37, 52, 42, 54, 54, 51, 59, 41, 43, 52, 52, 57, 53, 58, 59, 57, 27, 42, 52, 49, 47, 45, 25, 47, 44, 30, 63, 50, 40, 56, 39, 42, 28, 26, 58, 38, 23, 53, 54, 42, 54, 66, 46, 63, 63, 58, 65, 35, 33, 43, 30, 61, 49, 52, 45, 64, 26, 35, 45, 44, 34, 65, 32, 41, 52, 35, 51, 30, 58, 49, 63, 40, 27, 38, 52, 49, 59, 32, 30, 64, 59, 62, 61, 53, 51, 55, 36, 44, 26, 54, 35, 34, 28, 32, 38, 53, 26, 45, 58, 59, 45, 64, 30, 40, 61, 40, 40, 43, 39, 35, 38, 67, 55, 28, 30, 59, 26, 52, 40, 31, 50, 27, 64, 34, 30, 39, 34, 40, 33, 38, 42, 37, 33, 60, 28, 45, 56, 53, 37, 47, 58, 52, 46, 52, 24, 57, 66, 30, 48, 63, 48, 34, 60, 55, 50, 29, 61, 50, 37, 64, 43, 39, 23, 34, 29, 33, 60, 49, 54, 59, 42, 62, 63, 57, 61, 35, 26, 33, 31, 51, 55, 38, 38, 53, 62, 35, 46, 60, 63, 43, 33, 43, 62, 48, 38, 36, 49, 61, 49, 59, 30, 44, 67, 59, 37, 50, 56, 29, 55, 48, 32, 47, 46, 33, 39, 60, 39, 34, 55, 67, 40, 44, 56, 50, 31, 66, 43, 58, 33, 33, 32, 55, 25, 40, 54, 36, 35, 44, 38, 30, 39, 35, 41, 56, 52, 29, 38, 51, 45, 51, 53, 50, 59, 57, 45, 27, 40, 39, 26, 27, 55, 64, 41, 46, 43, 24, 29, 58, 45, 53, 45, 32, 56, 31, 29, 48, 36, 36, 41, 48, 27, 33, 31, 48, 59, 41, 42, 62, 62, 51, 48, 56, 62, 53, 62, 28, 61, 48, 50, 58, 53, 65, 27, 50, 50, 41, 43, 55, 33, 44, 47, 43, 59, 65, 28, 58, 33, 24, 46, 26, 47, 32, 58, 32, 46, 35, 53, 55, 63, 45, 58, 50, 37, 25, 52, 26, 35, 58, 37, 35, 31, 58, 43, 43, 54, 53, 32, 37, 34, 51, 49, 54, 37, 57, 37, 32, 48, 44, 50, 44, 54, 37, 34, 32, 63, 56, 37, 66, 38, 35, 61, 52, 57, 47, 50, 36, 45, 58, 27, 27, 48, 46, 32, 54, 31, 42, 30, 41, 44, 37, 51, 30, 36, 65, 33, 58, 34, 38, 59, 37, 59, 47, 48, 38, 34, 44, 33, 47, 41, 36, 28, 59, 43, 56, 28, 62, 40, 34, 52, 40, 27, 52, 39, 52, 50, 40, 35, 39, 25, 33, 26, 46, 27, 55, 52, 59, 63, 61, 58, 29, 51, 59, 41, 59, 52, 39, 45, 59, 49, 48, 61, 31, 42, 35, 57, 54, 61, 60, 59, 62, 26, 41, 65, 25, 25, 27, 65, 60, 29, 32, 32, 41, 52, 40, 39, 34, 34, 34, 41, 59, 40, 52, 37, 39, 49, 63, 34, 51, 61, 56, 62, 56, 58, 58, 50, 44, 49, 31, 49, 43, 31, 66, 41, 39, 46, 57, 59, 30, 26, 46, 66, 50, 61, 37, 51, 56, 58, 41, 35, 38, 26, 35, 36, 26, 53, 56, 44, 47, 32, 52, 39, 47, 35, 26, 43, 52, 30, 36, 48, 36, 58, 35, 59, 36, 45, 56, 46, 26, 37, 44, 44, 33, 34, 35, 48, 58, 30, 62, 40, 42, 43, 58, 36, 29, 49, 60, 58, 50, 46, 45, 32, 42, 30, 60, 46, 32, 56, 56, 30, 52, 31, 37, 30, 29, 49, 49, 65, 54, 36, 56, 34, 33, 59, 49, 61, 31, 45, 35, 37, 58, 49, 63, 55, 38, 45, 44, 58, 56, 37, 50, 34, 51, 49, 33, 61, 41, 50, 41, 38, 51, 63, 55, 46, 27, 59, 26, 61, 44, 53, 34, 40, 56, 57, 43, 38, 60, 54, 51, 41, 25, 58, 61, 56, 43, 42, 48, 45, 40, 43, 52, 54, 26, 26, 33, 40, 64, 62, 54, 34, 40, 41, 48, 46, 51, 30, 65, 49, 29, 36, 50, 41, 42, 37, 31, 40, 36, 64, 37, 43, 57, 62, 63, 57, 59, 47, 26, 59, 45, 33, 61, 54, 46, 28, 52, 26, 49, 42, 51, 39, 44, 29, 47, 53, 29, 47, 45, 63, 39, 29, 50, 51, 58, 39, 46, 32, 53, 29, 41, 41, 58, 45, 37, 58, 58, 31, 59, 38, 29, 40, 57, 50, 29, 34, 36, 51, 27, 48, 32, 48, 34, 24, 55, 51, 30, 45, 64, 29, 30, 63, 65, 28], \"y0\": \" \", \"yaxis\": \"y\"}],\n",
              "                        {\"boxmode\": \"group\", \"legend\": {\"tracegroupgap\": 0}, \"template\": {\"data\": {\"bar\": [{\"error_x\": {\"color\": \"#2a3f5f\"}, \"error_y\": {\"color\": \"#2a3f5f\"}, \"marker\": {\"line\": {\"color\": \"#E5ECF6\", \"width\": 0.5}}, \"type\": \"bar\"}], \"barpolar\": [{\"marker\": {\"line\": {\"color\": \"#E5ECF6\", \"width\": 0.5}}, \"type\": \"barpolar\"}], \"carpet\": [{\"aaxis\": {\"endlinecolor\": \"#2a3f5f\", \"gridcolor\": \"white\", \"linecolor\": \"white\", \"minorgridcolor\": \"white\", \"startlinecolor\": \"#2a3f5f\"}, \"baxis\": {\"endlinecolor\": \"#2a3f5f\", \"gridcolor\": \"white\", \"linecolor\": \"white\", \"minorgridcolor\": \"white\", \"startlinecolor\": \"#2a3f5f\"}, \"type\": \"carpet\"}], \"choropleth\": [{\"colorbar\": {\"outlinewidth\": 0, \"ticks\": \"\"}, \"type\": \"choropleth\"}], \"contour\": [{\"colorbar\": {\"outlinewidth\": 0, \"ticks\": \"\"}, \"colorscale\": [[0.0, \"#0d0887\"], [0.1111111111111111, \"#46039f\"], [0.2222222222222222, \"#7201a8\"], [0.3333333333333333, \"#9c179e\"], [0.4444444444444444, \"#bd3786\"], [0.5555555555555556, \"#d8576b\"], [0.6666666666666666, \"#ed7953\"], [0.7777777777777778, \"#fb9f3a\"], [0.8888888888888888, \"#fdca26\"], [1.0, \"#f0f921\"]], \"type\": \"contour\"}], \"contourcarpet\": [{\"colorbar\": {\"outlinewidth\": 0, \"ticks\": \"\"}, \"type\": \"contourcarpet\"}], \"heatmap\": [{\"colorbar\": {\"outlinewidth\": 0, \"ticks\": \"\"}, \"colorscale\": [[0.0, \"#0d0887\"], [0.1111111111111111, \"#46039f\"], [0.2222222222222222, \"#7201a8\"], [0.3333333333333333, \"#9c179e\"], [0.4444444444444444, \"#bd3786\"], [0.5555555555555556, \"#d8576b\"], [0.6666666666666666, \"#ed7953\"], [0.7777777777777778, \"#fb9f3a\"], [0.8888888888888888, \"#fdca26\"], [1.0, \"#f0f921\"]], \"type\": \"heatmap\"}], \"heatmapgl\": [{\"colorbar\": {\"outlinewidth\": 0, \"ticks\": \"\"}, \"colorscale\": [[0.0, \"#0d0887\"], [0.1111111111111111, \"#46039f\"], [0.2222222222222222, \"#7201a8\"], [0.3333333333333333, \"#9c179e\"], [0.4444444444444444, \"#bd3786\"], [0.5555555555555556, \"#d8576b\"], [0.6666666666666666, \"#ed7953\"], [0.7777777777777778, \"#fb9f3a\"], [0.8888888888888888, \"#fdca26\"], [1.0, \"#f0f921\"]], \"type\": \"heatmapgl\"}], \"histogram\": [{\"marker\": {\"colorbar\": {\"outlinewidth\": 0, \"ticks\": \"\"}}, \"type\": \"histogram\"}], \"histogram2d\": [{\"colorbar\": {\"outlinewidth\": 0, \"ticks\": \"\"}, \"colorscale\": [[0.0, \"#0d0887\"], [0.1111111111111111, \"#46039f\"], [0.2222222222222222, \"#7201a8\"], [0.3333333333333333, \"#9c179e\"], [0.4444444444444444, \"#bd3786\"], [0.5555555555555556, \"#d8576b\"], [0.6666666666666666, \"#ed7953\"], [0.7777777777777778, \"#fb9f3a\"], [0.8888888888888888, \"#fdca26\"], [1.0, \"#f0f921\"]], \"type\": \"histogram2d\"}], \"histogram2dcontour\": [{\"colorbar\": {\"outlinewidth\": 0, \"ticks\": \"\"}, \"colorscale\": [[0.0, \"#0d0887\"], [0.1111111111111111, \"#46039f\"], [0.2222222222222222, \"#7201a8\"], [0.3333333333333333, \"#9c179e\"], [0.4444444444444444, \"#bd3786\"], [0.5555555555555556, \"#d8576b\"], [0.6666666666666666, \"#ed7953\"], [0.7777777777777778, \"#fb9f3a\"], [0.8888888888888888, \"#fdca26\"], [1.0, \"#f0f921\"]], \"type\": \"histogram2dcontour\"}], \"mesh3d\": [{\"colorbar\": {\"outlinewidth\": 0, \"ticks\": \"\"}, \"type\": \"mesh3d\"}], \"parcoords\": [{\"line\": {\"colorbar\": {\"outlinewidth\": 0, \"ticks\": \"\"}}, \"type\": \"parcoords\"}], \"pie\": [{\"automargin\": true, \"type\": \"pie\"}], \"scatter\": [{\"marker\": {\"colorbar\": {\"outlinewidth\": 0, \"ticks\": \"\"}}, \"type\": \"scatter\"}], \"scatter3d\": [{\"line\": {\"colorbar\": {\"outlinewidth\": 0, \"ticks\": \"\"}}, \"marker\": {\"colorbar\": {\"outlinewidth\": 0, \"ticks\": \"\"}}, \"type\": \"scatter3d\"}], \"scattercarpet\": [{\"marker\": {\"colorbar\": {\"outlinewidth\": 0, \"ticks\": \"\"}}, \"type\": \"scattercarpet\"}], \"scattergeo\": [{\"marker\": {\"colorbar\": {\"outlinewidth\": 0, \"ticks\": \"\"}}, \"type\": \"scattergeo\"}], \"scattergl\": [{\"marker\": {\"colorbar\": {\"outlinewidth\": 0, \"ticks\": \"\"}}, \"type\": \"scattergl\"}], \"scattermapbox\": [{\"marker\": {\"colorbar\": {\"outlinewidth\": 0, \"ticks\": \"\"}}, \"type\": \"scattermapbox\"}], \"scatterpolar\": [{\"marker\": {\"colorbar\": {\"outlinewidth\": 0, \"ticks\": \"\"}}, \"type\": \"scatterpolar\"}], \"scatterpolargl\": [{\"marker\": {\"colorbar\": {\"outlinewidth\": 0, \"ticks\": \"\"}}, \"type\": \"scatterpolargl\"}], \"scatterternary\": [{\"marker\": {\"colorbar\": {\"outlinewidth\": 0, \"ticks\": \"\"}}, \"type\": \"scatterternary\"}], \"surface\": [{\"colorbar\": {\"outlinewidth\": 0, \"ticks\": \"\"}, \"colorscale\": [[0.0, \"#0d0887\"], [0.1111111111111111, \"#46039f\"], [0.2222222222222222, \"#7201a8\"], [0.3333333333333333, \"#9c179e\"], [0.4444444444444444, \"#bd3786\"], [0.5555555555555556, \"#d8576b\"], [0.6666666666666666, \"#ed7953\"], [0.7777777777777778, \"#fb9f3a\"], [0.8888888888888888, \"#fdca26\"], [1.0, \"#f0f921\"]], \"type\": \"surface\"}], \"table\": [{\"cells\": {\"fill\": {\"color\": \"#EBF0F8\"}, \"line\": {\"color\": \"white\"}}, \"header\": {\"fill\": {\"color\": \"#C8D4E3\"}, \"line\": {\"color\": \"white\"}}, \"type\": \"table\"}]}, \"layout\": {\"annotationdefaults\": {\"arrowcolor\": \"#2a3f5f\", \"arrowhead\": 0, \"arrowwidth\": 1}, \"coloraxis\": {\"colorbar\": {\"outlinewidth\": 0, \"ticks\": \"\"}}, \"colorscale\": {\"diverging\": [[0, \"#8e0152\"], [0.1, \"#c51b7d\"], [0.2, \"#de77ae\"], [0.3, \"#f1b6da\"], [0.4, \"#fde0ef\"], [0.5, \"#f7f7f7\"], [0.6, \"#e6f5d0\"], [0.7, \"#b8e186\"], [0.8, \"#7fbc41\"], [0.9, \"#4d9221\"], [1, \"#276419\"]], \"sequential\": [[0.0, \"#0d0887\"], [0.1111111111111111, \"#46039f\"], [0.2222222222222222, \"#7201a8\"], [0.3333333333333333, \"#9c179e\"], [0.4444444444444444, \"#bd3786\"], [0.5555555555555556, \"#d8576b\"], [0.6666666666666666, \"#ed7953\"], [0.7777777777777778, \"#fb9f3a\"], [0.8888888888888888, \"#fdca26\"], [1.0, \"#f0f921\"]], \"sequentialminus\": [[0.0, \"#0d0887\"], [0.1111111111111111, \"#46039f\"], [0.2222222222222222, \"#7201a8\"], [0.3333333333333333, \"#9c179e\"], [0.4444444444444444, \"#bd3786\"], [0.5555555555555556, \"#d8576b\"], [0.6666666666666666, \"#ed7953\"], [0.7777777777777778, \"#fb9f3a\"], [0.8888888888888888, \"#fdca26\"], [1.0, \"#f0f921\"]]}, \"colorway\": [\"#636efa\", \"#EF553B\", \"#00cc96\", \"#ab63fa\", \"#FFA15A\", \"#19d3f3\", \"#FF6692\", \"#B6E880\", \"#FF97FF\", \"#FECB52\"], \"font\": {\"color\": \"#2a3f5f\"}, \"geo\": {\"bgcolor\": \"white\", \"lakecolor\": \"white\", \"landcolor\": \"#E5ECF6\", \"showlakes\": true, \"showland\": true, \"subunitcolor\": \"white\"}, \"hoverlabel\": {\"align\": \"left\"}, \"hovermode\": \"closest\", \"mapbox\": {\"style\": \"light\"}, \"paper_bgcolor\": \"white\", \"plot_bgcolor\": \"#E5ECF6\", \"polar\": {\"angularaxis\": {\"gridcolor\": \"white\", \"linecolor\": \"white\", \"ticks\": \"\"}, \"bgcolor\": \"#E5ECF6\", \"radialaxis\": {\"gridcolor\": \"white\", \"linecolor\": \"white\", \"ticks\": \"\"}}, \"scene\": {\"xaxis\": {\"backgroundcolor\": \"#E5ECF6\", \"gridcolor\": \"white\", \"gridwidth\": 2, \"linecolor\": \"white\", \"showbackground\": true, \"ticks\": \"\", \"zerolinecolor\": \"white\"}, \"yaxis\": {\"backgroundcolor\": \"#E5ECF6\", \"gridcolor\": \"white\", \"gridwidth\": 2, \"linecolor\": \"white\", \"showbackground\": true, \"ticks\": \"\", \"zerolinecolor\": \"white\"}, \"zaxis\": {\"backgroundcolor\": \"#E5ECF6\", \"gridcolor\": \"white\", \"gridwidth\": 2, \"linecolor\": \"white\", \"showbackground\": true, \"ticks\": \"\", \"zerolinecolor\": \"white\"}}, \"shapedefaults\": {\"line\": {\"color\": \"#2a3f5f\"}}, \"ternary\": {\"aaxis\": {\"gridcolor\": \"white\", \"linecolor\": \"white\", \"ticks\": \"\"}, \"baxis\": {\"gridcolor\": \"white\", \"linecolor\": \"white\", \"ticks\": \"\"}, \"bgcolor\": \"#E5ECF6\", \"caxis\": {\"gridcolor\": \"white\", \"linecolor\": \"white\", \"ticks\": \"\"}}, \"title\": {\"x\": 0.05}, \"xaxis\": {\"automargin\": true, \"gridcolor\": \"white\", \"linecolor\": \"white\", \"ticks\": \"\", \"title\": {\"standoff\": 15}, \"zerolinecolor\": \"white\", \"zerolinewidth\": 2}, \"yaxis\": {\"automargin\": true, \"gridcolor\": \"white\", \"linecolor\": \"white\", \"ticks\": \"\", \"title\": {\"standoff\": 15}, \"zerolinecolor\": \"white\", \"zerolinewidth\": 2}}}, \"title\": {\"text\": \"5 Numbers Summary according to Age using box plot\"}, \"xaxis\": {\"anchor\": \"y\", \"domain\": [0.0, 1.0]}, \"yaxis\": {\"anchor\": \"x\", \"domain\": [0.0, 1.0], \"title\": {\"text\": \"Age\"}}},\n",
              "                        {\"responsive\": true}\n",
              "                    ).then(function(){\n",
              "                            \n",
              "var gd = document.getElementById('357d5aa5-9438-4646-ae12-380f8761cb3e');\n",
              "var x = new MutationObserver(function (mutations, observer) {{\n",
              "        var display = window.getComputedStyle(gd).display;\n",
              "        if (!display || display === 'none') {{\n",
              "            console.log([gd, 'removed!']);\n",
              "            Plotly.purge(gd);\n",
              "            observer.disconnect();\n",
              "        }}\n",
              "}});\n",
              "\n",
              "// Listen for the removal of the full notebook cells\n",
              "var notebookContainer = gd.closest('#notebook-container');\n",
              "if (notebookContainer) {{\n",
              "    x.observe(notebookContainer, {childList: true});\n",
              "}}\n",
              "\n",
              "// Listen for the clearing of the current output cell\n",
              "var outputEl = gd.closest('.output');\n",
              "if (outputEl) {{\n",
              "    x.observe(outputEl, {childList: true});\n",
              "}}\n",
              "\n",
              "                        })\n",
              "                };\n",
              "                \n",
              "            </script>\n",
              "        </div>\n",
              "</body>\n",
              "</html>"
            ]
          },
          "metadata": {}
        },
        {
          "output_type": "display_data",
          "data": {
            "text/html": [
              "<html>\n",
              "<head><meta charset=\"utf-8\" /></head>\n",
              "<body>\n",
              "    <div>\n",
              "            <script src=\"https://cdnjs.cloudflare.com/ajax/libs/mathjax/2.7.5/MathJax.js?config=TeX-AMS-MML_SVG\"></script><script type=\"text/javascript\">if (window.MathJax) {MathJax.Hub.Config({SVG: {font: \"STIX-Web\"}});}</script>\n",
              "                <script type=\"text/javascript\">window.PlotlyConfig = {MathJaxConfig: 'local'};</script>\n",
              "        <script src=\"https://cdn.plot.ly/plotly-latest.min.js\"></script>    \n",
              "            <div id=\"47eaec6b-a8ec-45e6-a465-0c82d60f0407\" class=\"plotly-graph-div\" style=\"height:525px; width:100%;\"></div>\n",
              "            <script type=\"text/javascript\">\n",
              "                \n",
              "                    window.PLOTLYENV=window.PLOTLYENV || {};\n",
              "                    \n",
              "                if (document.getElementById(\"47eaec6b-a8ec-45e6-a465-0c82d60f0407\")) {\n",
              "                    Plotly.newPlot(\n",
              "                        '47eaec6b-a8ec-45e6-a465-0c82d60f0407',\n",
              "                        [{\"alignmentgroup\": \"True\", \"hoverlabel\": {\"namelength\": 0}, \"hovertemplate\": \"Experience=%{y}\", \"legendgroup\": \"\", \"marker\": {\"color\": \"#636efa\"}, \"name\": \"\", \"notched\": false, \"offsetgroup\": \"\", \"orientation\": \"v\", \"showlegend\": false, \"type\": \"box\", \"x0\": \" \", \"xaxis\": \"x\", \"y\": [1, 19, 15, 9, 8, 13, 27, 24, 10, 9, 39, 5, 23, 32, 41, 30, 14, 18, 21, 28, 31, 27, 5, 18, 11, 19, 16, 20, 30, 13, 35, 16, 28, 6, 5, 24, 35, 25, 18, 13, 32, 9, 7, 15, 20, 31, 14, 12, 26, 16, 8, 37, 6, 26, 5, 17, 30, 31, 2, 5, 24, 21, 18, 17, 23, 35, 36, 23, 21, 29, 18, 29, 20, 16, 3, 7, 32, 20, 30, 26, 36, 22, 16, 9, 22, 2, 16, 22, 41, -1, 30, 10, 19, 34, 39, 12, 15, 28, 23, 41, 23, 36, 23, 18, 32, 0, 17, 18, 7, 17, 14, 38, 15, 34, 14, 40, 29, 33, 16, 7, 29, 26, 32, 13, 15, 35, 5, 8, 14, 16, 4, 34, 1, 4, 29, 33, 32, 25, 34, 35, 25, 11, 9, 1, 23, 35, 19, 25, 28, 22, 22, 0, 32, 36, 29, 0, 0, 17, 6, 35, 0, 35, 12, 4, 27, 1, 1, 9, 26, 1, 1, 28, 13, 34, 17, 20, 25, 3, 29, 37, 27, 12, 0, 3, 26, 14, 23, 21, 40, 29, 36, 25, 23, 24, 29, 10, 24, 31, 3, 11, 6, 9, 3, 34, 31, 12, 25, 10, 16, 39, 26, 18, 22, 33, 28, 14, 3, 14, 20, 30, 6, 19, 2, 25, 27, 13, -1, 23, 22, 24, 22, 10, 19, 37, 1, 8, 18, 38, 32, 3, 26, 22, 16, 39, 17, 11, 14, 29, 29, 1, 6, 28, 40, 21, 41, 40, 0, 41, 9, 30, 27, 16, 23, 1, 19, 23, 38, 22, 39, 13, 36, 14, 3, 16, 5, 24, 5, 2, 26, 14, 8, 31, 9, 36, 19, 13, 25, 12, 19, 15, 25, 16, 5, 19, 9, 34, 9, 25, 19, 15, 9, 39, 21, 25, 23, 35, 29, 18, 8, 38, 32, 26, 6, 9, 37, -2, 31, 16, 2, 39, 34, 20, 39, 34, 30, 28, 27, 32, 35, 4, 30, 6, 33, 38, 23, 32, 12, 27, 3, 13, 34, 6, 19, 5, 24, 27, 19, 0, 15, 2, 14, 4, 28, 29, 20, 19, 30, 14, 6, 6, 10, 19, 32, 0, 24, 32, 24, 8, 37, 6, 12, 34, 30, 25, 5, 7, 21, 5, 23, 0, 33, 29, 41, 18, 25, 9, 5, 5, 30, 20, 19, 32, 29, 28, 9, 35, 24, 2, 30, 3, 10, 2, 28, 30, 36, 11, 19, 40, 36, 22, 23, 36, 20, 7, 28, 8, 15, 29, 0, 33, 22, 3, 20, 19, 30, 3, 18, 7, 38, 13, 26, 13, 17, 28, 6, 26, 35, 9, 32, 23, 39, 27, 28, 24, 40, 32, 23, 23, 4, 37, 25, -2, 13, 28, 24, 4, 39, 3, 24, 10, 36, 30, 4, 22, 19, 42, 0, 20, 10, 23, 6, 24, 19, 39, 34, 19, 34, 39, 20, 36, 29, 9, 32, 5, 1, 34, 30, 13, 13, 28, 10, 18, 36, 24, 17, 0, 24, 22, 8, 25, 33, 26, 19, 5, 10, 12, 25, 40, 22, 28, 26, 5, 14, 6, 1, 16, 27, 27, 4, 9, 37, 24, 11, 31, -1, 38, 2, 8, 39, 15, 30, 6, 37, 2, 28, 25, -1, 20, 5, 32, -1, 6, 14, 38, 10, 19, 2, 14, 23, 36, 34, 34, 3, 28, 2, 8, 34, 15, 5, 25, 18, 33, 3, 27, 7, 29, 28, 8, 9, 14, 25, 9, 15, 28, 5, 30, -1, 28, 19, 33, 22, 3, 18, -1, 16, 4, 14, 24, 17, 7, 3, 5, 20, 7, 26, 18, 22, -2, 31, 4, 30, 32, 5, 38, 3, 31, 8, 3, 2, 11, 28, 23, 40, 35, 12, 37, 14, 20, 37, 27, 8, 17, 17, 19, 6, 28, 6, 19, 24, 19, 7, 18, 32, 31, 31, 35, 16, 28, 16, 36, 18, 10, 24, 21, 27, 9, 33, 38, 25, -1, 22, 4, 9, 23, 29, 25, 11, 8, 26, 39, 14, 38, 41, 20, 30, 24, 26, 39, 41, 29, -1, 41, 27, 10, 23, 2, 23, 21, 27, 31, 36, 9, 34, 16, 17, 8, -1, 22, 20, 30, 34, 18, 2, 15, 7, 4, 27, 17, 38, 20, 11, 19, 9, 17, 32, 36, 34, 20, 10, 4, 17, 37, 16, 9, 23, 23, 5, 34, 31, 35, 32, 24, 21, 24, 38, 15, 33, 37, 20, 28, 18, 3, 1, 24, 42, 7, 35, 37, 10, 23, 27, 37, 6, 37, 20, 4, 37, 32, 17, 34, 5, 28, 39, 23, 14, 30, 31, 28, 39, 28, 3, 24, 6, 28, 13, 21, 12, 39, 19, 6, 2, 18, 28, 16, 29, 39, 26, 31, 36, 28, 7, 32, 30, 20, 22, 22, 21, 15, 34, 3, 30, 29, 16, -2, 29, 32, 6, 17, 2, 3, 7, 23, 12, 27, 28, 29, 27, 27, 39, 29, 6, 33, 10, 25, 8, 38, 23, 15, 27, 30, 25, 13, 35, 9, 15, 11, 21, 37, 9, 30, 5, 31, 10, 35, 12, 33, 17, 4, 20, 15, 3, 33, 10, 39, 23, 17, 27, 14, 32, 8, 20, 16, 7, 2, 28, 33, 38, 25, 19, 37, 31, 30, 23, 30, 2, 34, 20, 35, 15, 30, 19, 28, 7, 0, 4, 36, 14, 11, 3, 37, 31, 19, 25, 26, 13, 5, 29, 16, 33, -2, 29, 6, 12, 32, 4, 17, 24, 37, 32, 3, 4, 33, 33, 18, 2, 22, 3, 40, 36, -1, 36, 21, 10, 32, 41, 28, 20, 20, 16, 27, 1, 5, 6, 30, 30, 18, 9, 40, 10, 30, 4, 3, 27, 23, 33, 20, 32, 13, 37, 32, 36, 13, 29, 4, 15, 32, 11, 29, 4, 16, 6, 34, 20, 26, 12, 35, 11, 32, 29, 24, 22, 9, 21, 14, 1, 36, 32, 30, 31, 15, 32, 19, 16, 18, 38, 38, 30, 30, 26, 26, 13, 12, 33, 22, 25, 22, 27, 36, 39, 16, 10, 14, 9, 15, 8, 3, 6, 20, 27, 35, 35, 32, 20, 1, 23, 12, 38, 19, 24, 3, 3, 27, 25, 13, 26, 34, 5, 5, 15, 3, 29, 8, 3, 20, 33, 37, 4, 7, 4, 17, 35, 32, 12, 34, 23, 17, 28, 11, 30, 16, 6, 32, 34, 27, 24, 18, 26, 31, 37, 10, 27, 7, 17, 32, 38, 6, 6, 0, 34, 2, 34, 22, 21, 30, 17, 1, 5, 24, 9, 18, 9, 14, 24, 8, 14, 15, 13, 3, 27, 30, 22, 28, 5, 3, 35, 26, 37, 13, 35, 29, 5, 17, 1, 3, 24, 25, 18, 24, 20, 6, 16, 17, 3, 14, 25, 10, 13, 21, 29, 41, 33, 28, 28, 2, 8, 24, 18, 18, 17, 16, 8, 6, 7, 20, 12, 13, 8, 9, 5, 4, 32, 27, 9, 4, 14, 33, 21, 26, 6, 28, 6, 7, 20, 7, 24, 6, 7, 13, 15, 32, 31, 23, 37, 30, 35, 16, 25, 23, 16, 26, 1, 11, 14, 9, 17, 19, 5, 12, 37, 16, 10, 40, 24, -1, 10, 4, 3, 3, 7, 11, 17, 0, 2, 25, 9, 19, 38, 36, 19, 17, 15, 5, 20, 32, 3, 7, 13, 23, 14, 4, 12, 8, 11, 37, 1, 7, 37, 12, 26, 21, 24, 36, 8, 2, 36, 20, 25, 20, 36, 18, 17, 5, 37, 19, 35, 6, 36, 13, 30, 32, 1, 41, 19, 29, 18, 28, 6, 13, 2, 26, 27, 38, 4, 10, 8, 21, 22, 28, 19, 27, 20, 13, 17, 33, 12, 1, 7, 37, 8, 27, 31, 39, 1, 5, 33, 2, 39, 23, 9, 11, 18, 4, 39, 35, 37, 2, 16, 20, 10, 22, 40, 15, 26, 6, 40, 13, 3, 18, 38, 21, 38, 34, 30, 31, 10, 17, 6, 35, 14, 25, 36, 17, 16, 5, 26, 6, 9, 2, 24, 14, 36, 11, 21, 27, 6, 25, 3, 30, 26, 6, 7, 3, 5, 26, 28, 24, 5, 35, 36, 4, 9, 7, 5, 38, 22, 24, 12, 0, 27, 25, 11, 16, 12, 17, 25, 32, 20, 34, 14, 2, 2, 35, 27, 25, 10, 37, 16, 29, 25, 40, 28, 26, 5, 8, 19, 35, 34, 38, 21, 33, 5, 32, 13, 35, 34, 26, 39, 3, 29, 37, 34, 12, 8, 41, 31, 31, 3, 10, 28, 15, 3, 18, 23, 37, 27, 23, 18, 41, 18, 16, 8, 15, 29, 6, 28, 22, 23, 39, 14, 17, 35, 39, 33, 24, 33, 8, 15, 18, 41, 4, 4, 17, 8, 30, 3, 38, 11, 5, -1, 5, 7, 34, 2, 25, 41, 17, 21, 3, 37, 29, 15, 33, 13, 12, 33, 21, 4, 28, 16, 37, 34, 20, 28, 5, 25, 39, 11, 16, 25, 20, 16, 28, 21, 10, 4, 19, 9, 36, 18, 35, 28, 26, 8, 35, 23, 19, 37, 14, 39, 4, 42, 9, 35, 32, 30, 9, 9, 4, 12, 38, 4, 12, 8, 34, 35, 28, 12, 21, 23, 26, 28, 4, 39, 8, 6, 25, 27, 18, 10, 26, 32, 32, 28, 21, 20, 28, 17, 26, 17, 38, 30, 8, -1, 16, 16, 18, 10, 33, 9, 14, 21, 13, 20, 37, 34, 37, 12, 34, 30, 5, 8, 35, 20, 26, 15, 29, 9, 21, 32, 31, 14, 25, 5, 22, 15, 33, 1, 25, 10, 35, 10, 20, 9, 29, 40, 9, 35, 39, 33, 27, 16, 13, 40, 20, 37, 26, 18, 8, 13, 5, 14, 29, 19, 36, 20, 31, 33, 28, 3, 32, 23, 13, 31, 38, 12, 26, 20, 41, 15, 24, 36, 7, 14, 6, 29, 28, 10, 29, 10, 41, 14, 32, 17, 34, 23, 36, 23, 36, 3, 21, 14, 6, 14, 38, 2, 30, 6, 20, 18, 29, 17, 36, 5, 38, 34, 24, 39, 6, 7, 31, 10, 34, 3, 16, 35, 32, 26, 5, 21, 4, 6, 36, 18, 1, 34, 11, 15, 5, 25, 7, 11, 14, 38, 32, 35, 12, 25, 20, 37, 18, 14, 9, 23, 5, 11, 35, 20, 10, 30, 31, 36, 8, 26, 29, 34, 16, 38, 39, 34, 34, 1, 32, 32, 31, 23, 6, 21, 38, 20, 25, 16, 3, 30, 41, 22, 24, 31, 37, 20, 34, 5, 3, 20, 20, 27, 13, 8, 7, 16, 12, 28, 29, 2, 15, 19, 32, 33, 26, 26, 20, 17, 19, 0, 16, 10, 36, 31, 19, 36, 7, 20, 21, 38, 24, 3, 12, 36, 5, 23, 22, 34, 31, 8, 29, 24, 3, 17, 9, 14, 6, 16, 27, 35, 24, 21, 0, 38, 14, 18, 36, 37, 21, 11, 5, 18, 22, 26, 27, 3, 9, 24, 26, 11, 27, 29, 3, 11, 6, 13, 20, 20, 22, 20, 9, 32, 24, 32, 10, 20, 14, 33, 10, 3, 32, 16, 26, 36, 20, 31, 10, 34, 3, 19, 36, 22, 39, 19, 11, 20, 34, 22, 7, 23, 8, 23, 32, 33, 30, 4, 29, 13, 22, 29, 9, 16, 23, 19, 18, 7, 2, 25, 17, 29, 6, 40, 18, 32, 0, 10, 26, 10, 8, 6, 25, 25, 39, 24, 13, 11, 41, 6, 38, 17, 22, 36, 6, 24, 39, 1, 30, 37, 5, 17, 4, 11, 3, 38, 24, 30, 30, 19, 19, 32, 30, 33, 6, 41, 7, 10, 30, 27, 18, 30, 24, 25, 2, 7, 29, 24, 33, 36, 19, 14, 26, 14, -1, 17, 18, 26, 30, 18, 35, 16, 33, 24, 11, 32, 32, 9, 13, 28, 21, 15, 19, 38, 19, 6, 10, 34, 19, 29, 2, 39, 39, 20, 9, 24, 25, 4, 31, 33, 19, 36, 23, 28, 33, 23, 28, 15, 34, 12, 21, 5, 25, 20, 17, 18, 4, 2, 24, 19, 26, 4, 38, 10, 20, 26, 18, 24, 38, 3, 17, 2, 22, 13, 3, 13, 15, 11, 17, 19, 26, 33, 5, 1, 7, 17, 31, 28, 35, 8, 22, 28, 5, 8, 11, 24, 30, 32, 22, 2, 17, 4, 20, 4, 23, 39, 21, 38, 0, 36, 21, 31, 15, 19, 5, 17, 15, 39, 17, 34, 20, 3, 29, 12, 20, 33, 12, 17, 3, 38, 35, 37, 23, 33, 10, 19, 8, 24, 25, 16, 20, 17, 32, 25, 28, 16, 38, 4, 18, 15, 8, 3, 32, 15, 23, 8, 12, 7, 3, 29, 38, 31, 30, 29, 5, 16, 32, 37, 4, 37, 28, 3, 20, 27, 16, 23, 9, 11, 2, 40, 27, 7, 7, 9, 24, 12, 27, 9, 29, 25, 4, 23, 23, 31, 21, 29, 11, 35, 29, 6, 5, -1, 13, 14, 5, 38, 17, 32, 23, 4, 34, 2, 33, 36, 31, 17, 7, 5, 13, 17, 17, 29, 2, 9, 20, 19, 14, 40, 10, 31, 31, 35, 15, 24, 15, 26, 40, 11, 32, 27, 4, 31, 31, 6, 32, 3, 3, 30, 22, 38, 16, 38, 14, 8, 38, 11, 0, 25, 35, 17, 28, 13, 3, 3, 0, 8, 40, 29, 27, 13, 11, 15, 10, 5, 12, 14, 7, 13, 23, 33, 15, 14, 8, 36, 30, 2, 30, 4, 23, 3, 18, 1, 19, 9, 27, 24, 35, 35, 24, 25, 16, 24, 25, 37, 37, 7, 12, 40, 10, 33, 14, 22, 37, 27, 3, 40, 24, 13, 22, 40, 33, 20, 28, 12, 24, 1, 35, 23, 22, 11, 20, 33, 35, 12, 37, 24, 5, 22, 29, 17, 0, 17, 28, 31, 28, 11, 34, 37, 14, 22, 5, 32, 35, 22, 9, 31, 23, 33, 0, 14, 3, 29, 21, 11, 23, 13, 13, 3, 18, 2, 34, 3, 1, 15, 16, 3, 6, 4, 23, 7, 32, 14, 28, 23, 22, 36, 6, 11, 35, 13, 23, 33, 17, 15, 23, 3, 35, 24, 37, 41, 13, 17, 21, 2, 7, 13, 31, 13, 12, 6, 37, 22, 32, 2, 26, 30, 5, 34, 9, 22, 15, 37, 7, 11, 30, 19, 25, 2, 4, 5, 37, 16, 21, 21, 13, 8, 16, 18, 31, 9, 10, 37, 34, 40, 40, 26, 39, 25, 35, 28, 31, 19, 36, 9, 31, 5, 19, 27, 12, 1, 12, 15, 13, 35, 18, 4, 1, 22, 24, 7, 6, 10, 9, 5, 30, 33, 23, 5, 18, 16, 9, 20, 39, 37, 17, 5, 2, 39, 1, 9, 12, 20, 28, 18, 17, 10, 22, 29, 36, 36, 17, 21, 13, 15, 32, 7, 15, 22, 31, 4, 22, 36, 34, 10, 21, 35, 0, 17, 37, 39, 19, 32, 25, 12, 30, 36, 5, 12, 7, -1, 31, 30, 11, 12, 9, 29, 40, 37, 25, 5, 38, 15, 3, 35, 23, 1, 19, 26, 7, 7, 25, 1, 19, 29, 8, 30, 17, 20, 37, 5, 5, 28, 9, 36, 34, -2, 16, 23, 18, 7, 11, 36, 32, 38, 26, 28, 14, 5, 30, 13, 30, 4, 18, 21, 36, 36, 20, 14, 3, 28, 14, 3, 9, 9, 22, 37, 9, 14, 27, 2, 18, 31, 14, 24, 7, 42, 34, 15, 11, 38, 27, 32, 26, 16, 5, 3, 31, 37, 36, 29, 23, 37, 23, 25, 8, 1, 1, 31, 5, 30, 35, 28, 29, 30, 25, 25, 27, 12, 7, 23, 8, 30, 39, 34, -1, 25, 13, 24, 15, 8, 22, 15, 15, 39, 32, 4, 11, 19, 12, 18, 5, 21, 13, 16, 15, 5, 33, 21, 10, 4, 8, 32, 34, 18, 16, 36, 29, 21, 27, 7, 34, 9, 11, 34, 26, 23, 33, 36, 40, 20, 7, 32, 23, 23, 10, 8, 23, 20, 20, 18, 24, 26, 27, 10, 40, 22, 33, 35, 18, 16, 8, 26, 26, 11, 32, 31, 20, -3, 8, 22, 18, 28, 17, 21, 36, 27, 30, 6, 18, 37, 20, 24, 25, 9, 14, 13, 26, 4, 26, 13, 5, 29, 38, 14, 12, 20, 37, 0, 8, 40, 17, 0, 5, 36, 26, 15, 6, 4, 35, 14, 41, 41, 28, 29, 9, 7, 39, 35, 18, 33, 37, 5, 30, 6, 1, 20, 8, 38, 32, 30, 11, 27, 25, 5, 2, 24, 27, 30, 16, 38, 36, 20, 29, 19, 15, 37, 32, 14, 11, 5, 26, 18, 27, 13, 26, 17, 9, 24, 4, 27, 14, 7, 18, 20, 18, 17, -2, 33, 21, 23, 33, 34, 29, 24, 38, 37, 19, 13, 34, 30, 5, 9, 29, 31, 12, 29, 31, 9, 18, 29, 3, 14, 8, 27, 25, 29, 12, 7, 37, 33, 23, 25, 27, 1, 11, 0, 38, 36, 33, 7, 8, 31, 31, 5, 29, 32, 24, 22, 9, 6, 16, 31, 37, 29, 13, 20, 33, 31, 35, 13, 21, 22, 26, 9, 9, 10, 34, 20, 3, 22, 20, 30, 33, 26, 25, 32, 39, 33, 39, 26, 34, 22, 18, 32, 12, 27, 2, 27, 16, 34, 12, 28, 22, 28, 1, 26, 7, 9, 37, 4, 32, 5, 7, 36, 10, 11, 11, 10, 9, 35, 27, 21, 22, 16, 16, 1, 14, 6, 33, 15, 11, 11, 3, 34, 36, 43, 18, -1, 21, 34, 36, 29, 3, 24, 11, 10, 8, 11, 11, 2, 18, 39, 5, 41, 33, 22, 33, 26, 35, 17, 39, 26, 23, 25, 33, -2, 32, 19, 15, 40, 25, 31, 14, 2, 31, 25, 16, 28, 29, 24, 33, 32, 14, 25, 36, 28, 2, 1, 18, 28, 30, 30, 34, 32, 40, 8, 20, 32, 8, 22, 4, 20, 12, 18, 9, 20, 31, 3, 10, 35, 24, 26, 27, 26, 35, 28, 17, 6, 6, 17, 4, 16, 22, 13, 23, 22, 36, 9, 24, 3, 35, 5, 32, 30, 19, 9, 21, 18, 11, 16, 2, 8, 36, 7, 29, 38, 36, 41, 12, 29, 36, -2, 3, 10, 27, 7, 14, 18, 18, 30, 25, 7, 22, 18, 33, 8, 10, 30, 32, -1, 28, 33, 32, 28, 23, 30, 7, 21, 18, 25, 17, 21, 40, 24, 24, 18, 33, 35, 34, 14, 7, 13, 28, 7, 36, 37, 37, 25, 9, 1, 31, 3, 21, 34, 18, 23, 32, 32, 33, 20, 28, 33, 37, 35, 32, 20, 29, 39, 17, 26, 25, 22, 19, 21, 24, 9, 2, 8, 9, 2, 5, 26, 22, 16, 32, 12, 33, 39, 35, 25, 35, 30, 4, 21, 2, 29, 18, 4, 36, 38, 13, 14, 29, 33, 15, 33, 5, 26, 20, 3, 8, 30, 5, 15, 0, -1, 21, 13, 31, 22, 10, 13, 16, 0, 29, 35, 33, 31, 5, 31, 32, 18, 5, 23, 25, 18, 32, 16, 40, 27, 31, 25, 22, 31, 4, 10, 17, 15, 34, 20, 9, 32, 5, 4, 5, 10, 16, 39, 36, 11, 2, 14, 17, 20, 20, 32, 14, 12, 14, -2, 22, 7, 5, 30, 0, 34, 36, 11, 26, 7, 31, 8, 24, 18, 10, 1, 0, 22, 25, 22, 19, 15, 5, 1, 29, 30, -1, 28, 33, 15, 4, 7, 27, 4, 37, 4, 38, 25, 28, 16, 12, 9, 10, 24, 18, 24, 4, 21, 17, 3, 15, 33, 17, 15, 10, 16, 18, 25, 6, 26, 5, 39, 7, 15, 29, 7, 10, 9, 9, 23, 3, 4, 20, 35, 33, 7, 32, 29, 16, 19, 9, 35, 9, 37, 15, 8, 39, 16, 15, 35, 16, 23, 18, 21, 28, 8, 7, 2, 9, 40, 37, 25, 20, 12, 35, 14, 9, 28, 4, 36, 15, 14, 26, 24, 22, 17, 20, 6, 25, 11, 26, 38, 30, 37, 7, 9, 35, 17, 8, 30, 40, 19, 8, 41, 14, 31, 35, 17, 34, 23, 27, 9, 15, 5, 8, 31, 19, 6, -1, 33, 25, 21, 30, -1, 13, 36, 13, 30, 25, 27, 28, -1, 20, 12, 16, 37, 32, 32, 34, 38, 22, 11, 29, 17, 13, 22, 10, 23, 27, 29, 25, 22, 24, 13, 22, 26, 41, 20, 35, 25, 15, 16, 35, 31, 23, 27, 18, 20, 10, 9, 42, 9, 13, 14, 10, 34, 29, 9, 1, 3, 9, 13, 37, 19, 11, 15, 41, 35, 25, 3, 26, 4, 23, 18, 23, 23, 6, 35, 19, 24, 5, 4, 34, 15, 8, 9, 27, 18, 10, 13, 18, 29, 2, 31, 18, 21, 10, 0, 41, 38, 15, 36, 22, 11, 17, 10, 37, 21, 3, 3, 29, 7, 11, -1, 16, 28, 6, 14, 29, 22, 15, 40, 29, 14, 30, 12, 32, 21, 5, 11, 37, 29, 24, 36, 12, 37, 12, 31, 10, 41, 23, 23, 35, 19, -1, 5, 15, 21, 14, 38, 38, 23, 9, 31, 8, 29, 31, 17, 17, 1, 40, 18, 18, 35, 13, 32, 29, 18, 32, 4, 30, 37, 3, 21, 19, 22, 31, 23, 1, 37, 27, 33, 3, 37, 41, 6, 37, 19, 2, 31, 25, 27, 34, 24, 30, 39, 10, 6, 6, 39, 26, 33, 36, 18, 13, 1, 4, 15, 12, 9, 27, 9, 28, 2, 8, 13, 31, 6, 23, 26, 39, 8, 3, 20, 39, 1, 23, 9, 12, 11, 11, 20, 4, 9, 26, 21, 6, 36, 5, 35, 10, 40, 4, 33, 34, 33, 10, 17, 7, 28, 12, 12, 32, 10, 27, 24, 34, 0, 30, 15, 20, 5, 11, 19, 22, 40, 20, 16, 7, 10, 35, 27, 16, 13, 9, 11, 20, 34, 25, 5, 6, 8, 27, 7, 15, 33, 26, 4, 15, 29, 18, 6, 36, 30, 38, 30, 9, 5, 2, 16, 4, 25, 3, 37, 18, 15, 4, 38, 12, 7, 32, 3, 34, 8, 14, 20, 26, 11, 19, 20, 13, 21, 25, 38, 31, 18, 15, 35, 5, 6, 39, 25, 11, 10, 34, 15, 11, 8, 20, 29, 27, 29, 3, 28, 21, -3, 1, 18, 26, 16, 21, 20, 25, 35, 33, 11, 14, 22, 26, 34, 35, 29, 32, 33, 17, 9, 14, 13, 29, 21, 23, 9, 27, 28, 22, 8, 26, 35, 7, 12, 4, 9, 2, 24, 19, 35, 3, 13, 15, 14, 25, 13, 9, 16, 34, 37, 33, 25, 23, 11, 9, 17, 27, 31, 27, 35, 10, 26, 12, 39, 13, 33, 27, 8, 35, 5, 13, 12, 22, 22, 33, 25, 41, 11, 4, 33, 18, 1, 11, 22, 1, 25, 20, 23, 5, 29, 37, 19, 8, 39, 6, 17, 27, 20, 6, 13, 30, 3, 17, 6, 8, 1, 32, 19, 14, 30, 19, 28, 14, 35, 29, 8, 14, 29, 3, 39, 0, 7, 19, 32, 2, 30, 4, 37, 25, 11, 21, 23, 4, 26, 24, 27, 36, 37, 0, 35, 16, 16, 4, 16, 7, 10, 36, 26, 6, 3, 37, 41, 27, 25, 40, 5, 34, 6, 28, 28, 12, 7, 27, 22, 17, 36, 28, 27, 25, -2, 35, 25, 11, 38, 8, 7, 18, 22, 5, 8, 11, 10, 2, 24, 23, 13, 37, 9, 19, 30, 40, 0, 27, 7, 9, 33, 25, -1, 6, 19, 14, 6, 39, 8, 12, 38, 9, 22, 9, 19, 19, 11, 5, 31, 4, 35, 7, 27, 1, 5, 18, 32, 18, 23, 21, 7, 21, 6, 18, 30, 39, 18, 24, 6, 40, 34, 10, 32, 30, 25, 19, 16, 16, 0, 16, 29, 30, 12, 2, 11, 4, 11, 4, 24, 20, 7, 16, 1, 2, 43, -2, 18, 0, 17, 40, 33, 5, 6, 12, 24, 31, 20, 34, 27, 10, 21, 23, 5, 28, 35, 14, 0, 7, 8, 26, 14, 20, 3, 13, 26, 15, 34, 34, 8, 6, 4, 15, 37, 18, 23, 34, 33, 13, 27, 27, 2, 14, 11, 33, 18, 15, 24, 23, 17, 33, 17, 36, 26, 3, -1, 8, 12, 5, 14, 14, 36, 26, 7, 36, 37, 15, 34, 19, 37, 22, 5, 32, 18, 15, 7, 15, 3, 11, 40, 11, 5, 35, 21, 23, 33, 27, 18, 14, 22, 39, 0, 13, 8, 40, 14, 36, 35, 25, 32, 38, 22, 6, 18, 28, 24, 38, 10, 21, 37, 35, 34, 21, 39, 32, 32, 7, 31, 18, 19, 21, 6, 38, 32, -1, 28, 0, 35, 36, 32, 14, 5, 25, 15, 27, 1, 21, 20, 5, 32, 18, 35, 24, 11, 9, 21, 28, 30, 9, 32, 19, 3, 23, 11, 31, 0, 17, 2, 28, 26, 29, 19, 11, 34, 18, 25, 32, 15, 27, 6, 3, 14, 21, 39, 19, 37, 28, 34, 32, 33, 6, 17, 27, 35, 4, 23, 0, 12, 40, 0, 35, 6, 20, 36, 2, 26, 28, -1, 4, 18, 6, 15, 24, 23, 17, 14, 34, 3, 35, 2, 21, 16, 20, 14, 15, 22, 22, 39, 0, 41, 17, 9, 2, 28, 20, -2, 14, 16, 5, 23, 27, 30, 24, 29, 34, 33, 19, 21, 3, 30, 23, 36, 17, 11, 23, 19, 12, 22, 3, 38, 19, 32, 31, 23, 34, 28, 35, 22, 15, 20, 18, 18, 26, 25, 30, 12, 10, 34, 20, 4, 8, 37, 28, 10, 38, 40, 24, 34, 17, 7, 31, 42, 9, 14, 17, 18, 23, 35, 3, 6, 22, 29, 17, 25, 2, 9, 5, 4, 19, 16, 15, 26, 37, 37, 19, 25, 25, 36, 19, 19, 36, 9, 33, 16, 36, 23, 11, 32, 9, 8, 16, 23, 25, 22, 40, 35, 21, 27, 34, 30, 22, 25, 26, 27, 18, 13, 7, 10, 24, 36, 32, 15, 7, 24, 1, 12, 34, 19, 36, 14, 9, 21, 22, 26, 20, 35, 39, 33, 12, 28, 16, 29, 28, 27, 35, 17, 17, 26, 26, 31, 28, 33, 33, 31, 2, 16, 26, 23, 23, 19, 1, 22, 19, 3, 38, 24, 16, 31, 15, 18, 1, 0, 32, 13, -3, 29, 28, 17, 28, 42, 21, 37, 38, 34, 41, 9, 9, 19, 5, 37, 24, 27, 21, 39, 1, 11, 19, 20, 8, 41, 8, 15, 28, 9, 26, 6, 33, 23, 38, 15, 0, 14, 28, 24, 35, 8, 4, 38, 33, 37, 37, 26, 26, 29, 10, 19, 2, 30, 11, 10, 3, 7, 14, 28, 1, 21, 33, 33, 18, 39, 3, 16, 36, 16, 10, 19, 14, 11, 12, 43, 30, 2, 4, 35, 2, 28, 15, 7, 25, 3, 39, 10, 6, 15, 10, 15, 8, 12, 17, 13, 8, 34, 4, 20, 32, 27, 12, 21, 32, 26, 22, 27, 0, 31, 41, 5, 23, 37, 23, 10, 35, 25, 24, 5, 35, 25, 13, 40, 19, 14, -2, 10, 2, 8, 35, 25, 28, 34, 17, 38, 38, 31, 36, 10, 0, 8, 7, 27, 29, 12, 12, 27, 38, 9, 21, 35, 38, 18, 7, 19, 36, 23, 14, 10, 25, 35, 22, 34, 6, 20, 41, 35, 11, 24, 31, 3, 29, 22, 8, 22, 21, 7, 13, 35, 15, 10, 30, 42, 14, 20, 30, 25, 5, 41, 18, 32, 9, 9, 8, 30, -2, 14, 28, 11, 9, 19, 14, 4, 13, 9, 16, 26, 28, 4, 14, 25, 21, 26, 26, 26, 33, 32, 21, 1, 15, 13, 1, 2, 30, 39, 17, 22, 19, -3, 3, 32, 18, 28, 21, 7, 31, 5, 4, 24, 11, 9, 16, 23, 0, 9, 7, 22, 34, 17, 18, 37, 36, 24, 24, 32, 38, 29, 38, 4, 35, 24, 25, 33, 29, 40, 0, 23, 25, 16, 19, 29, 9, 19, 20, 18, 33, 40, 2, 32, 8, 0, 20, 0, 21, 6, 28, 7, 20, 11, 27, 30, 37, 20, 32, 24, 13, -1, 26, 0, 11, 32, 11, 10, 7, 34, 16, 18, 30, 27, 7, 13, 10, 26, 25, 24, 12, 32, 12, 7, 22, 20, 23, 19, 28, 13, 7, 6, 38, 30, 12, 41, 13, 9, 36, 26, 32, 20, 25, 11, 21, 34, 1, 1, 24, 21, 8, 29, 5, 17, 5, 16, 19, 13, 25, 6, 11, 40, 7, 34, 10, 13, 35, 11, 35, 23, 24, 12, 10, 17, 7, 21, 16, 11, 4, 35, 19, 31, 3, 37, 16, 9, 28, 14, 1, 26, 14, 26, 23, 14, 11, 13, 0, 7, 0, 21, 3, 25, 28, 34, 39, 35, 34, 3, 27, 34, 17, 35, 28, 13, 19, 35, 22, 22, 36, 7, 16, 5, 27, 28, 37, 36, 35, 37, 1, 17, 40, 0, 1, 3, 39, 34, 5, 6, 8, 15, 26, 16, 15, 8, 8, 10, 17, 35, 14, 27, 11, 13, 23, 39, 9, 25, 36, 32, 38, 30, 32, 33, 26, 20, 23, 7, 25, 18, 5, 41, 17, 14, 21, 33, 35, 4, 2, 21, 41, 25, 35, 7, 25, 32, 34, 15, 9, 14, 2, 5, 11, 2, 28, 32, 14, 23, 8, 27, 14, 20, 9, 0, 19, 28, 5, 12, 22, 10, 34, 11, 35, 10, 21, 30, 21, 0, 11, 20, 20, 7, 10, 11, 24, 32, 6, 37, 14, 16, 19, 34, 12, 4, 23, 34, 32, 24, 22, 19, 6, 17, 6, 36, 21, 6, 32, 31, 6, 28, 7, 12, 6, 4, 24, 23, 39, 24, 10, 30, 8, 9, 35, 23, 34, 6, 21, 10, 11, 32, 25, 39, 31, 12, 19, 20, 32, 31, 13, 24, 8, 25, 24, 7, 35, 16, 24, 17, 12, 27, 39, 30, 22, 3, 35, 0, 36, 19, 29, 9, 15, 32, 32, 19, 13, 34, 30, 26, 15, 1, 28, 35, 31, 19, 12, 22, 20, 15, 18, 26, 29, 1, 0, 8, 15, 40, 37, 28, 9, 16, 16, 22, 22, 26, 4, 39, 24, 5, 10, 25, 16, 16, 11, 5, 15, 12, 39, 13, 19, 33, 36, 38, 27, 35, 23, 0, 33, 20, 8, 35, 29, 22, 4, 26, 0, 24, 18, 26, 13, 20, 5, 23, 27, 3, 21, 19, 37, 13, -1, 26, 27, 28, 14, 20, 6, 27, 5, 17, 16, 32, 19, 13, 28, 32, 1, 33, 11, 5, 15, 27, 26, 5, 9, 10, 26, 1, 23, 6, 23, 8, 0, 25, 25, 5, 21, 40, 3, 4, 39, 40, 4], \"y0\": \" \", \"yaxis\": \"y\"}],\n",
              "                        {\"boxmode\": \"group\", \"legend\": {\"tracegroupgap\": 0}, \"template\": {\"data\": {\"bar\": [{\"error_x\": {\"color\": \"#2a3f5f\"}, \"error_y\": {\"color\": \"#2a3f5f\"}, \"marker\": {\"line\": {\"color\": \"#E5ECF6\", \"width\": 0.5}}, \"type\": \"bar\"}], \"barpolar\": [{\"marker\": {\"line\": {\"color\": \"#E5ECF6\", \"width\": 0.5}}, \"type\": \"barpolar\"}], \"carpet\": [{\"aaxis\": {\"endlinecolor\": \"#2a3f5f\", \"gridcolor\": \"white\", \"linecolor\": \"white\", \"minorgridcolor\": \"white\", \"startlinecolor\": \"#2a3f5f\"}, \"baxis\": {\"endlinecolor\": \"#2a3f5f\", \"gridcolor\": \"white\", \"linecolor\": \"white\", \"minorgridcolor\": \"white\", \"startlinecolor\": \"#2a3f5f\"}, \"type\": \"carpet\"}], \"choropleth\": [{\"colorbar\": {\"outlinewidth\": 0, \"ticks\": \"\"}, \"type\": \"choropleth\"}], \"contour\": [{\"colorbar\": {\"outlinewidth\": 0, \"ticks\": \"\"}, \"colorscale\": [[0.0, \"#0d0887\"], [0.1111111111111111, \"#46039f\"], [0.2222222222222222, \"#7201a8\"], [0.3333333333333333, \"#9c179e\"], [0.4444444444444444, \"#bd3786\"], [0.5555555555555556, \"#d8576b\"], [0.6666666666666666, \"#ed7953\"], [0.7777777777777778, \"#fb9f3a\"], [0.8888888888888888, \"#fdca26\"], [1.0, \"#f0f921\"]], \"type\": \"contour\"}], \"contourcarpet\": [{\"colorbar\": {\"outlinewidth\": 0, \"ticks\": \"\"}, \"type\": \"contourcarpet\"}], \"heatmap\": [{\"colorbar\": {\"outlinewidth\": 0, \"ticks\": \"\"}, \"colorscale\": [[0.0, \"#0d0887\"], [0.1111111111111111, \"#46039f\"], [0.2222222222222222, \"#7201a8\"], [0.3333333333333333, \"#9c179e\"], [0.4444444444444444, \"#bd3786\"], [0.5555555555555556, \"#d8576b\"], [0.6666666666666666, \"#ed7953\"], [0.7777777777777778, \"#fb9f3a\"], [0.8888888888888888, \"#fdca26\"], [1.0, \"#f0f921\"]], \"type\": \"heatmap\"}], \"heatmapgl\": [{\"colorbar\": {\"outlinewidth\": 0, \"ticks\": \"\"}, \"colorscale\": [[0.0, \"#0d0887\"], [0.1111111111111111, \"#46039f\"], [0.2222222222222222, \"#7201a8\"], [0.3333333333333333, \"#9c179e\"], [0.4444444444444444, \"#bd3786\"], [0.5555555555555556, \"#d8576b\"], [0.6666666666666666, \"#ed7953\"], [0.7777777777777778, \"#fb9f3a\"], [0.8888888888888888, \"#fdca26\"], [1.0, \"#f0f921\"]], \"type\": \"heatmapgl\"}], \"histogram\": [{\"marker\": {\"colorbar\": {\"outlinewidth\": 0, \"ticks\": \"\"}}, \"type\": \"histogram\"}], \"histogram2d\": [{\"colorbar\": {\"outlinewidth\": 0, \"ticks\": \"\"}, \"colorscale\": [[0.0, \"#0d0887\"], [0.1111111111111111, \"#46039f\"], [0.2222222222222222, \"#7201a8\"], [0.3333333333333333, \"#9c179e\"], [0.4444444444444444, \"#bd3786\"], [0.5555555555555556, \"#d8576b\"], [0.6666666666666666, \"#ed7953\"], [0.7777777777777778, \"#fb9f3a\"], [0.8888888888888888, \"#fdca26\"], [1.0, \"#f0f921\"]], \"type\": \"histogram2d\"}], \"histogram2dcontour\": [{\"colorbar\": {\"outlinewidth\": 0, \"ticks\": \"\"}, \"colorscale\": [[0.0, \"#0d0887\"], [0.1111111111111111, \"#46039f\"], [0.2222222222222222, \"#7201a8\"], [0.3333333333333333, \"#9c179e\"], [0.4444444444444444, \"#bd3786\"], [0.5555555555555556, \"#d8576b\"], [0.6666666666666666, \"#ed7953\"], [0.7777777777777778, \"#fb9f3a\"], [0.8888888888888888, \"#fdca26\"], [1.0, \"#f0f921\"]], \"type\": \"histogram2dcontour\"}], \"mesh3d\": [{\"colorbar\": {\"outlinewidth\": 0, \"ticks\": \"\"}, \"type\": \"mesh3d\"}], \"parcoords\": [{\"line\": {\"colorbar\": {\"outlinewidth\": 0, \"ticks\": \"\"}}, \"type\": \"parcoords\"}], \"pie\": [{\"automargin\": true, \"type\": \"pie\"}], \"scatter\": [{\"marker\": {\"colorbar\": {\"outlinewidth\": 0, \"ticks\": \"\"}}, \"type\": \"scatter\"}], \"scatter3d\": [{\"line\": {\"colorbar\": {\"outlinewidth\": 0, \"ticks\": \"\"}}, \"marker\": {\"colorbar\": {\"outlinewidth\": 0, \"ticks\": \"\"}}, \"type\": \"scatter3d\"}], \"scattercarpet\": [{\"marker\": {\"colorbar\": {\"outlinewidth\": 0, \"ticks\": \"\"}}, \"type\": \"scattercarpet\"}], \"scattergeo\": [{\"marker\": {\"colorbar\": {\"outlinewidth\": 0, \"ticks\": \"\"}}, \"type\": \"scattergeo\"}], \"scattergl\": [{\"marker\": {\"colorbar\": {\"outlinewidth\": 0, \"ticks\": \"\"}}, \"type\": \"scattergl\"}], \"scattermapbox\": [{\"marker\": {\"colorbar\": {\"outlinewidth\": 0, \"ticks\": \"\"}}, \"type\": \"scattermapbox\"}], \"scatterpolar\": [{\"marker\": {\"colorbar\": {\"outlinewidth\": 0, \"ticks\": \"\"}}, \"type\": \"scatterpolar\"}], \"scatterpolargl\": [{\"marker\": {\"colorbar\": {\"outlinewidth\": 0, \"ticks\": \"\"}}, \"type\": \"scatterpolargl\"}], \"scatterternary\": [{\"marker\": {\"colorbar\": {\"outlinewidth\": 0, \"ticks\": \"\"}}, \"type\": \"scatterternary\"}], \"surface\": [{\"colorbar\": {\"outlinewidth\": 0, \"ticks\": \"\"}, \"colorscale\": [[0.0, \"#0d0887\"], [0.1111111111111111, \"#46039f\"], [0.2222222222222222, \"#7201a8\"], [0.3333333333333333, \"#9c179e\"], [0.4444444444444444, \"#bd3786\"], [0.5555555555555556, \"#d8576b\"], [0.6666666666666666, \"#ed7953\"], [0.7777777777777778, \"#fb9f3a\"], [0.8888888888888888, \"#fdca26\"], [1.0, \"#f0f921\"]], \"type\": \"surface\"}], \"table\": [{\"cells\": {\"fill\": {\"color\": \"#EBF0F8\"}, \"line\": {\"color\": \"white\"}}, \"header\": {\"fill\": {\"color\": \"#C8D4E3\"}, \"line\": {\"color\": \"white\"}}, \"type\": \"table\"}]}, \"layout\": {\"annotationdefaults\": {\"arrowcolor\": \"#2a3f5f\", \"arrowhead\": 0, \"arrowwidth\": 1}, \"coloraxis\": {\"colorbar\": {\"outlinewidth\": 0, \"ticks\": \"\"}}, \"colorscale\": {\"diverging\": [[0, \"#8e0152\"], [0.1, \"#c51b7d\"], [0.2, \"#de77ae\"], [0.3, \"#f1b6da\"], [0.4, \"#fde0ef\"], [0.5, \"#f7f7f7\"], [0.6, \"#e6f5d0\"], [0.7, \"#b8e186\"], [0.8, \"#7fbc41\"], [0.9, \"#4d9221\"], [1, \"#276419\"]], \"sequential\": [[0.0, \"#0d0887\"], [0.1111111111111111, \"#46039f\"], [0.2222222222222222, \"#7201a8\"], [0.3333333333333333, \"#9c179e\"], [0.4444444444444444, \"#bd3786\"], [0.5555555555555556, \"#d8576b\"], [0.6666666666666666, \"#ed7953\"], [0.7777777777777778, \"#fb9f3a\"], [0.8888888888888888, \"#fdca26\"], [1.0, \"#f0f921\"]], \"sequentialminus\": [[0.0, \"#0d0887\"], [0.1111111111111111, \"#46039f\"], [0.2222222222222222, \"#7201a8\"], [0.3333333333333333, \"#9c179e\"], [0.4444444444444444, \"#bd3786\"], [0.5555555555555556, \"#d8576b\"], [0.6666666666666666, \"#ed7953\"], [0.7777777777777778, \"#fb9f3a\"], [0.8888888888888888, \"#fdca26\"], [1.0, \"#f0f921\"]]}, \"colorway\": [\"#636efa\", \"#EF553B\", \"#00cc96\", \"#ab63fa\", \"#FFA15A\", \"#19d3f3\", \"#FF6692\", \"#B6E880\", \"#FF97FF\", \"#FECB52\"], \"font\": {\"color\": \"#2a3f5f\"}, \"geo\": {\"bgcolor\": \"white\", \"lakecolor\": \"white\", \"landcolor\": \"#E5ECF6\", \"showlakes\": true, \"showland\": true, \"subunitcolor\": \"white\"}, \"hoverlabel\": {\"align\": \"left\"}, \"hovermode\": \"closest\", \"mapbox\": {\"style\": \"light\"}, \"paper_bgcolor\": \"white\", \"plot_bgcolor\": \"#E5ECF6\", \"polar\": {\"angularaxis\": {\"gridcolor\": \"white\", \"linecolor\": \"white\", \"ticks\": \"\"}, \"bgcolor\": \"#E5ECF6\", \"radialaxis\": {\"gridcolor\": \"white\", \"linecolor\": \"white\", \"ticks\": \"\"}}, \"scene\": {\"xaxis\": {\"backgroundcolor\": \"#E5ECF6\", \"gridcolor\": \"white\", \"gridwidth\": 2, \"linecolor\": \"white\", \"showbackground\": true, \"ticks\": \"\", \"zerolinecolor\": \"white\"}, \"yaxis\": {\"backgroundcolor\": \"#E5ECF6\", \"gridcolor\": \"white\", \"gridwidth\": 2, \"linecolor\": \"white\", \"showbackground\": true, \"ticks\": \"\", \"zerolinecolor\": \"white\"}, \"zaxis\": {\"backgroundcolor\": \"#E5ECF6\", \"gridcolor\": \"white\", \"gridwidth\": 2, \"linecolor\": \"white\", \"showbackground\": true, \"ticks\": \"\", \"zerolinecolor\": \"white\"}}, \"shapedefaults\": {\"line\": {\"color\": \"#2a3f5f\"}}, \"ternary\": {\"aaxis\": {\"gridcolor\": \"white\", \"linecolor\": \"white\", \"ticks\": \"\"}, \"baxis\": {\"gridcolor\": \"white\", \"linecolor\": \"white\", \"ticks\": \"\"}, \"bgcolor\": \"#E5ECF6\", \"caxis\": {\"gridcolor\": \"white\", \"linecolor\": \"white\", \"ticks\": \"\"}}, \"title\": {\"x\": 0.05}, \"xaxis\": {\"automargin\": true, \"gridcolor\": \"white\", \"linecolor\": \"white\", \"ticks\": \"\", \"title\": {\"standoff\": 15}, \"zerolinecolor\": \"white\", \"zerolinewidth\": 2}, \"yaxis\": {\"automargin\": true, \"gridcolor\": \"white\", \"linecolor\": \"white\", \"ticks\": \"\", \"title\": {\"standoff\": 15}, \"zerolinecolor\": \"white\", \"zerolinewidth\": 2}}}, \"title\": {\"text\": \"5 Numbers Summary according to Experience using box plot\"}, \"xaxis\": {\"anchor\": \"y\", \"domain\": [0.0, 1.0]}, \"yaxis\": {\"anchor\": \"x\", \"domain\": [0.0, 1.0], \"title\": {\"text\": \"Experience\"}}},\n",
              "                        {\"responsive\": true}\n",
              "                    ).then(function(){\n",
              "                            \n",
              "var gd = document.getElementById('47eaec6b-a8ec-45e6-a465-0c82d60f0407');\n",
              "var x = new MutationObserver(function (mutations, observer) {{\n",
              "        var display = window.getComputedStyle(gd).display;\n",
              "        if (!display || display === 'none') {{\n",
              "            console.log([gd, 'removed!']);\n",
              "            Plotly.purge(gd);\n",
              "            observer.disconnect();\n",
              "        }}\n",
              "}});\n",
              "\n",
              "// Listen for the removal of the full notebook cells\n",
              "var notebookContainer = gd.closest('#notebook-container');\n",
              "if (notebookContainer) {{\n",
              "    x.observe(notebookContainer, {childList: true});\n",
              "}}\n",
              "\n",
              "// Listen for the clearing of the current output cell\n",
              "var outputEl = gd.closest('.output');\n",
              "if (outputEl) {{\n",
              "    x.observe(outputEl, {childList: true});\n",
              "}}\n",
              "\n",
              "                        })\n",
              "                };\n",
              "                \n",
              "            </script>\n",
              "        </div>\n",
              "</body>\n",
              "</html>"
            ]
          },
          "metadata": {}
        },
        {
          "output_type": "display_data",
          "data": {
            "text/html": [
              "<html>\n",
              "<head><meta charset=\"utf-8\" /></head>\n",
              "<body>\n",
              "    <div>\n",
              "            <script src=\"https://cdnjs.cloudflare.com/ajax/libs/mathjax/2.7.5/MathJax.js?config=TeX-AMS-MML_SVG\"></script><script type=\"text/javascript\">if (window.MathJax) {MathJax.Hub.Config({SVG: {font: \"STIX-Web\"}});}</script>\n",
              "                <script type=\"text/javascript\">window.PlotlyConfig = {MathJaxConfig: 'local'};</script>\n",
              "        <script src=\"https://cdn.plot.ly/plotly-latest.min.js\"></script>    \n",
              "            <div id=\"10cf31d6-feab-4995-a43e-b2a29147772f\" class=\"plotly-graph-div\" style=\"height:525px; width:100%;\"></div>\n",
              "            <script type=\"text/javascript\">\n",
              "                \n",
              "                    window.PLOTLYENV=window.PLOTLYENV || {};\n",
              "                    \n",
              "                if (document.getElementById(\"10cf31d6-feab-4995-a43e-b2a29147772f\")) {\n",
              "                    Plotly.newPlot(\n",
              "                        '10cf31d6-feab-4995-a43e-b2a29147772f',\n",
              "                        [{\"alignmentgroup\": \"True\", \"hoverlabel\": {\"namelength\": 0}, \"hovertemplate\": \"Income=%{y}\", \"legendgroup\": \"\", \"marker\": {\"color\": \"#636efa\"}, \"name\": \"\", \"notched\": false, \"offsetgroup\": \"\", \"orientation\": \"v\", \"showlegend\": false, \"type\": \"box\", \"x0\": \" \", \"xaxis\": \"x\", \"y\": [49, 34, 11, 100, 45, 29, 72, 22, 81, 180, 105, 45, 114, 40, 112, 22, 130, 81, 193, 21, 25, 63, 62, 43, 152, 29, 83, 158, 48, 119, 35, 29, 41, 18, 50, 81, 121, 71, 141, 80, 84, 60, 132, 45, 104, 52, 43, 194, 81, 49, 8, 131, 72, 190, 44, 139, 29, 131, 93, 188, 39, 125, 22, 32, 105, 131, 105, 45, 60, 20, 115, 69, 130, 85, 135, 135, 12, 29, 133, 19, 41, 40, 82, 50, 18, 109, 42, 78, 51, 113, 118, 29, 34, 64, 121, 48, 80, 161, 94, 15, 74, 30, 44, 22, 38, 35, 69, 43, 32, 49, 9, 45, 82, 92, 39, 81, 35, 61, 73, 112, 12, 38, 73, 84, 78, 80, 115, 82, 74, 70, 81, 149, 51, 39, 98, 45, 49, 128, 42, 18, 31, 58, 48, 54, 70, 124, 84, 83, 163, 42, 118, 132, 24, 22, 58, 60, 15, 83, 79, 41, 134, 80, 52, 70, 92, 43, 21, 23, 13, 112, 138, 11, 171, 42, 168, 85, 44, 65, 24, 11, 38, 10, 135, 148, 63, 115, 45, 159, 169, 112, 93, 29, 85, 21, 144, 13, 165, 9, 59, 158, 29, 20, 68, 65, 61, 91, 31, 71, 73, 172, 20, 55, 69, 155, 94, 92, 125, 74, 72, 61, 25, 83, 104, 41, 58, 93, 39, 148, 53, 71, 92, 61, 38, 58, 80, 71, 89, 83, 28, 52, 70, 71, 75, 170, 78, 25, 60, 120, 99, 55, 29, 170, 53, 138, 134, 42, 99, 18, 24, 55, 58, 111, 33, 74, 38, 23, 61, 81, 129, 33, 63, 70, 45, 65, 74, 50, 22, 30, 21, 155, 64, 65, 71, 40, 69, 69, 45, 62, 172, 24, 80, 8, 38, 93, 55, 64, 122, 70, 81, 159, 70, 150, 152, 195, 22, 22, 79, 33, 128, 91, 39, 121, 21, 41, 45, 51, 165, 119, 110, 20, 64, 101, 101, 99, 158, 89, 80, 114, 49, 191, 78, 28, 42, 140, 45, 122, 65, 68, 153, 89, 91, 55, 118, 22, 63, 12, 50, 43, 173, 60, 113, 155, 91, 55, 173, 71, 24, 42, 141, 32, 55, 153, 113, 30, 29, 174, 35, 98, 30, 58, 25, 19, 44, 20, 98, 90, 61, 40, 38, 28, 34, 73, 133, 53, 21, 40, 41, 82, 100, 155, 45, 9, 48, 18, 80, 64, 29, 48, 23, 84, 179, 30, 93, 39, 60, 133, 125, 58, 89, 82, 110, 54, 89, 42, 41, 38, 85, 83, 33, 50, 58, 115, 145, 161, 38, 28, 75, 35, 24, 78, 113, 75, 91, 31, 45, 80, 50, 31, 113, 29, 59, 43, 122, 29, 91, 65, 22, 71, 60, 60, 69, 48, 21, 53, 29, 60, 42, 69, 20, 200, 141, 81, 183, 149, 83, 35, 13, 39, 21, 10, 84, 30, 31, 182, 114, 152, 53, 24, 150, 132, 68, 53, 173, 30, 113, 15, 84, 88, 43, 43, 90, 34, 38, 173, 160, 44, 83, 94, 43, 42, 34, 39, 70, 39, 44, 69, 44, 32, 15, 118, 62, 82, 54, 48, 74, 113, 81, 43, 34, 48, 54, 75, 72, 39, 75, 79, 205, 65, 122, 82, 21, 50, 39, 101, 41, 132, 43, 131, 11, 21, 109, 141, 81, 54, 164, 28, 68, 44, 61, 35, 54, 14, 52, 101, 149, 35, 21, 118, 38, 24, 59, 41, 85, 12, 32, 79, 175, 28, 41, 70, 161, 53, 128, 50, 80, 93, 48, 149, 49, 88, 22, 55, 72, 38, 114, 83, 101, 94, 40, 128, 39, 51, 79, 48, 85, 41, 152, 125, 11, 103, 141, 38, 135, 28, 70, 41, 81, 170, 55, 24, 81, 32, 129, 108, 180, 139, 33, 74, 42, 73, 115, 114, 92, 34, 54, 64, 42, 70, 51, 71, 35, 40, 165, 18, 32, 35, 120, 31, 35, 32, 85, 139, 103, 152, 33, 84, 61, 64, 34, 82, 122, 58, 92, 78, 129, 13, 81, 23, 35, 79, 165, 52, 185, 49, 64, 61, 112, 72, 18, 41, 61, 105, 23, 22, 59, 33, 11, 204, 61, 103, 51, 164, 12, 82, 164, 48, 38, 65, 71, 18, 52, 48, 30, 40, 112, 115, 63, 85, 59, 68, 84, 62, 109, 141, 129, 30, 148, 25, 21, 72, 59, 83, 10, 84, 98, 32, 31, 94, 21, 110, 38, 39, 132, 61, 92, 119, 53, 18, 114, 90, 140, 90, 85, 80, 53, 49, 152, 138, 80, 82, 195, 22, 81, 40, 154, 49, 85, 21, 14, 60, 138, 98, 22, 49, 102, 45, 82, 81, 35, 59, 52, 84, 85, 65, 89, 109, 81, 38, 72, 78, 172, 71, 165, 120, 39, 23, 135, 12, 92, 192, 42, 158, 194, 160, 98, 164, 42, 202, 10, 31, 58, 65, 98, 150, 44, 15, 82, 61, 38, 39, 173, 8, 51, 62, 34, 132, 44, 162, 64, 111, 41, 52, 65, 130, 45, 35, 65, 38, 42, 45, 145, 33, 60, 45, 72, 34, 23, 45, 28, 81, 72, 49, 31, 63, 150, 142, 74, 24, 29, 79, 94, 121, 54, 73, 71, 29, 93, 73, 19, 58, 39, 23, 29, 155, 90, 113, 42, 30, 19, 124, 30, 28, 15, 70, 10, 22, 70, 61, 161, 29, 35, 48, 44, 88, 40, 21, 58, 59, 74, 84, 58, 154, 185, 78, 55, 30, 74, 118, 182, 82, 29, 120, 53, 43, 59, 84, 161, 21, 63, 172, 51, 24, 95, 59, 51, 28, 154, 15, 55, 149, 79, 68, 78, 34, 195, 184, 85, 200, 64, 88, 42, 91, 38, 28, 32, 31, 22, 95, 74, 22, 43, 43, 112, 9, 81, 131, 19, 62, 19, 8, 193, 129, 30, 80, 22, 33, 64, 60, 81, 45, 112, 83, 180, 28, 169, 14, 43, 88, 78, 68, 144, 30, 120, 24, 78, 135, 44, 73, 90, 58, 75, 174, 50, 85, 54, 83, 24, 45, 68, 48, 114, 142, 52, 142, 15, 118, 101, 84, 32, 64, 81, 28, 93, 185, 42, 45, 49, 69, 94, 18, 8, 55, 85, 62, 65, 138, 103, 99, 152, 25, 98, 39, 40, 58, 192, 62, 69, 40, 61, 30, 29, 41, 118, 109, 122, 50, 43, 108, 110, 20, 112, 25, 42, 29, 84, 81, 55, 40, 145, 175, 78, 51, 50, 21, 79, 84, 34, 73, 90, 23, 145, 54, 49, 51, 8, 62, 25, 63, 24, 11, 23, 33, 83, 39, 138, 113, 125, 195, 105, 75, 40, 61, 75, 122, 75, 59, 24, 175, 39, 145, 24, 20, 85, 65, 191, 11, 40, 54, 95, 94, 79, 48, 70, 40, 44, 43, 29, 188, 114, 52, 13, 95, 84, 49, 181, 182, 70, 79, 61, 121, 34, 183, 51, 70, 39, 84, 122, 145, 98, 79, 38, 49, 38, 91, 29, 172, 104, 58, 171, 73, 191, 90, 55, 28, 42, 9, 65, 134, 83, 38, 13, 143, 75, 120, 91, 99, 71, 111, 108, 158, 81, 12, 21, 55, 42, 81, 13, 132, 99, 23, 40, 181, 112, 138, 94, 113, 112, 190, 38, 32, 104, 43, 45, 35, 42, 58, 103, 71, 14, 98, 90, 65, 19, 35, 71, 31, 43, 24, 58, 115, 168, 128, 138, 81, 41, 123, 71, 8, 42, 62, 22, 38, 24, 50, 190, 94, 165, 43, 48, 52, 84, 131, 44, 78, 15, 38, 84, 122, 98, 80, 165, 121, 20, 11, 45, 118, 14, 30, 45, 80, 25, 144, 84, 22, 33, 60, 81, 169, 63, 12, 15, 39, 44, 110, 130, 41, 59, 39, 35, 80, 81, 31, 93, 45, 40, 80, 20, 41, 31, 35, 40, 84, 53, 85, 138, 71, 113, 23, 62, 14, 60, 94, 83, 130, 61, 92, 20, 194, 74, 84, 98, 52, 55, 64, 128, 113, 50, 54, 129, 82, 100, 44, 164, 81, 71, 28, 80, 90, 74, 14, 23, 153, 38, 112, 145, 28, 31, 195, 50, 71, 21, 35, 42, 78, 73, 53, 51, 40, 178, 35, 192, 123, 48, 45, 15, 79, 63, 30, 145, 32, 64, 84, 21, 99, 35, 180, 42, 179, 42, 180, 82, 55, 79, 48, 93, 23, 50, 85, 35, 171, 29, 84, 20, 14, 179, 48, 74, 53, 83, 171, 85, 38, 85, 79, 69, 43, 33, 42, 40, 43, 20, 65, 139, 135, 84, 179, 45, 109, 34, 162, 105, 22, 82, 105, 62, 82, 72, 38, 25, 20, 80, 84, 33, 55, 33, 190, 43, 45, 141, 69, 78, 84, 172, 51, 75, 183, 20, 101, 129, 63, 44, 184, 100, 12, 68, 48, 82, 52, 154, 39, 40, 54, 32, 64, 92, 40, 60, 85, 21, 35, 52, 128, 195, 68, 55, 55, 80, 123, 90, 61, 41, 43, 71, 25, 154, 141, 22, 145, 49, 109, 80, 82, 52, 85, 148, 160, 39, 25, 33, 38, 85, 48, 15, 94, 120, 60, 145, 29, 78, 59, 80, 180, 8, 23, 79, 78, 64, 64, 160, 43, 32, 179, 8, 63, 40, 99, 141, 159, 39, 99, 18, 38, 133, 84, 60, 178, 18, 73, 125, 91, 74, 35, 113, 52, 191, 18, 25, 50, 75, 92, 33, 65, 44, 183, 175, 28, 49, 45, 64, 22, 120, 175, 101, 104, 155, 58, 80, 45, 134, 58, 20, 25, 55, 155, 30, 39, 73, 41, 34, 21, 11, 154, 19, 101, 24, 131, 105, 52, 21, 45, 39, 192, 195, 83, 34, 49, 60, 41, 72, 102, 31, 73, 89, 19, 63, 104, 40, 92, 72, 44, 114, 73, 63, 69, 42, 88, 98, 65, 12, 122, 12, 24, 170, 184, 25, 131, 50, 21, 55, 124, 58, 72, 192, 83, 93, 38, 55, 11, 85, 124, 129, 180, 74, 138, 111, 83, 33, 21, 35, 105, 103, 75, 33, 52, 89, 63, 84, 44, 29, 29, 22, 53, 24, 153, 31, 21, 180, 82, 90, 154, 99, 153, 93, 53, 18, 70, 100, 193, 125, 68, 55, 152, 84, 13, 33, 89, 93, 68, 85, 73, 83, 158, 182, 24, 102, 53, 175, 28, 14, 139, 34, 64, 84, 42, 63, 100, 190, 22, 20, 21, 25, 20, 173, 81, 139, 119, 74, 42, 73, 114, 44, 141, 14, 33, 83, 89, 39, 83, 108, 21, 102, 48, 32, 43, 35, 184, 140, 32, 149, 15, 71, 108, 122, 40, 198, 79, 84, 31, 12, 88, 29, 201, 20, 15, 155, 25, 200, 101, 19, 188, 8, 59, 72, 55, 24, 19, 71, 54, 28, 25, 51, 125, 88, 125, 79, 31, 131, 70, 38, 83, 59, 121, 42, 32, 29, 40, 25, 21, 79, 52, 61, 25, 155, 25, 80, 55, 23, 60, 54, 44, 33, 45, 55, 134, 44, 149, 22, 74, 128, 62, 9, 9, 15, 28, 83, 73, 42, 34, 32, 68, 82, 19, 60, 192, 119, 190, 34, 44, 23, 171, 43, 139, 118, 113, 98, 70, 42, 143, 185, 28, 45, 78, 121, 59, 64, 15, 10, 61, 50, 79, 35, 11, 128, 55, 79, 18, 91, 9, 62, 59, 25, 54, 112, 125, 194, 161, 35, 113, 25, 45, 119, 30, 79, 178, 23, 171, 74, 103, 99, 43, 23, 91, 93, 154, 21, 65, 15, 52, 30, 42, 20, 60, 54, 60, 41, 30, 21, 105, 65, 20, 179, 161, 82, 43, 61, 90, 90, 21, 118, 44, 110, 99, 98, 69, 82, 112, 123, 78, 59, 78, 49, 82, 125, 185, 163, 19, 115, 81, 93, 111, 184, 50, 55, 13, 29, 72, 83, 98, 43, 34, 10, 201, 85, 50, 91, 112, 98, 115, 22, 101, 83, 52, 191, 134, 54, 69, 64, 53, 118, 19, 31, 63, 25, 22, 78, 81, 41, 62, 35, 30, 51, 140, 73, 40, 69, 191, 82, 181, 38, 23, 55, 58, 29, 39, 39, 30, 58, 62, 62, 19, 38, 84, 78, 22, 81, 32, 89, 121, 42, 130, 30, 114, 155, 50, 34, 94, 114, 89, 49, 115, 148, 72, 114, 11, 63, 113, 80, 54, 32, 11, 141, 84, 18, 20, 55, 31, 114, 52, 18, 55, 29, 30, 38, 122, 183, 41, 38, 61, 103, 80, 22, 128, 142, 124, 44, 170, 75, 78, 31, 99, 41, 39, 51, 52, 169, 141, 93, 14, 160, 44, 33, 103, 71, 55, 113, 79, 80, 179, 9, 61, 111, 80, 32, 83, 91, 29, 19, 52, 150, 32, 91, 180, 121, 25, 102, 44, 161, 134, 43, 94, 29, 38, 120, 85, 89, 25, 20, 125, 18, 173, 34, 159, 55, 32, 65, 83, 30, 180, 13, 35, 95, 83, 39, 54, 81, 53, 119, 160, 21, 40, 69, 45, 55, 38, 44, 45, 84, 188, 29, 95, 79, 41, 19, 75, 64, 174, 54, 14, 94, 10, 145, 203, 81, 153, 58, 49, 132, 85, 85, 178, 104, 40, 103, 25, 69, 30, 70, 15, 125, 50, 44, 38, 64, 9, 44, 93, 83, 179, 40, 58, 74, 15, 11, 41, 68, 28, 115, 83, 40, 113, 89, 38, 62, 65, 168, 40, 30, 20, 58, 150, 54, 19, 30, 123, 45, 154, 93, 71, 83, 99, 55, 38, 74, 69, 104, 38, 25, 162, 64, 30, 52, 42, 79, 34, 123, 160, 51, 108, 158, 68, 42, 32, 22, 29, 183, 69, 92, 40, 9, 128, 110, 171, 13, 25, 123, 33, 189, 34, 58, 51, 29, 111, 43, 130, 20, 101, 48, 180, 92, 33, 51, 31, 83, 45, 89, 193, 89, 162, 9, 58, 80, 73, 41, 74, 29, 25, 98, 59, 43, 72, 183, 134, 140, 39, 35, 141, 23, 134, 35, 42, 81, 14, 45, 79, 53, 33, 190, 60, 8, 38, 154, 54, 41, 25, 53, 79, 13, 130, 93, 82, 15, 150, 131, 28, 9, 88, 143, 168, 105, 62, 51, 101, 90, 83, 21, 115, 172, 32, 204, 34, 30, 31, 90, 79, 22, 114, 42, 29, 72, 68, 78, 90, 170, 14, 129, 39, 82, 31, 9, 15, 70, 84, 155, 89, 170, 185, 82, 60, 58, 29, 32, 115, 83, 54, 112, 182, 112, 129, 23, 198, 84, 39, 129, 113, 35, 85, 73, 70, 130, 39, 72, 68, 35, 61, 69, 59, 99, 201, 130, 72, 44, 91, 92, 55, 20, 89, 59, 8, 85, 94, 22, 74, 59, 12, 8, 74, 184, 34, 63, 123, 85, 109, 31, 61, 88, 22, 63, 80, 78, 45, 51, 111, 45, 184, 41, 69, 23, 160, 61, 110, 50, 49, 185, 52, 53, 125, 72, 51, 23, 41, 41, 138, 138, 14, 145, 25, 43, 93, 90, 41, 169, 63, 23, 140, 75, 13, 10, 100, 85, 73, 130, 65, 59, 31, 134, 11, 32, 53, 28, 44, 40, 40, 163, 82, 89, 78, 55, 34, 108, 58, 73, 54, 45, 123, 93, 102, 39, 114, 29, 30, 22, 38, 41, 161, 38, 25, 70, 201, 42, 64, 28, 119, 28, 60, 23, 164, 39, 19, 72, 41, 32, 69, 23, 44, 32, 25, 80, 83, 133, 89, 81, 44, 119, 39, 40, 79, 30, 179, 178, 82, 50, 64, 129, 68, 30, 48, 130, 40, 105, 41, 168, 80, 134, 49, 63, 70, 32, 14, 111, 38, 121, 90, 178, 20, 61, 43, 39, 60, 63, 8, 52, 92, 111, 71, 25, 34, 74, 120, 50, 10, 45, 29, 145, 100, 24, 60, 50, 43, 79, 44, 31, 14, 19, 111, 90, 21, 104, 75, 175, 98, 41, 171, 79, 24, 90, 39, 9, 15, 80, 63, 20, 43, 65, 91, 53, 110, 82, 23, 172, 88, 71, 180, 39, 94, 25, 10, 42, 142, 34, 139, 154, 40, 33, 80, 10, 41, 30, 78, 164, 23, 149, 25, 42, 71, 114, 70, 149, 55, 29, 123, 152, 8, 69, 161, 79, 105, 39, 163, 9, 71, 51, 32, 161, 60, 35, 41, 73, 49, 79, 120, 60, 78, 40, 110, 160, 68, 49, 65, 55, 62, 152, 42, 39, 111, 82, 108, 59, 61, 78, 18, 113, 62, 81, 13, 75, 33, 179, 69, 45, 59, 81, 133, 81, 14, 28, 93, 191, 155, 155, 68, 52, 51, 44, 121, 49, 42, 144, 72, 44, 43, 74, 145, 158, 78, 154, 105, 100, 58, 113, 10, 142, 128, 131, 88, 101, 70, 122, 70, 148, 43, 31, 35, 81, 19, 98, 101, 81, 135, 34, 104, 29, 119, 82, 62, 85, 8, 78, 44, 122, 22, 39, 55, 144, 71, 191, 22, 158, 131, 75, 69, 39, 34, 32, 129, 158, 54, 34, 45, 68, 53, 32, 173, 31, 72, 30, 138, 18, 69, 58, 63, 43, 28, 38, 72, 64, 70, 12, 159, 103, 42, 48, 49, 89, 22, 10, 38, 49, 30, 82, 82, 24, 32, 34, 195, 61, 22, 40, 50, 35, 64, 49, 44, 65, 13, 84, 28, 108, 59, 163, 183, 69, 115, 130, 185, 118, 163, 140, 91, 61, 168, 69, 22, 53, 25, 115, 31, 83, 152, 30, 34, 44, 182, 44, 122, 35, 91, 30, 53, 28, 85, 28, 41, 154, 41, 33, 182, 59, 129, 35, 185, 45, 62, 183, 14, 53, 48, 128, 105, 40, 10, 102, 31, 30, 21, 44, 48, 21, 84, 64, 82, 39, 45, 133, 152, 12, 32, 74, 54, 181, 75, 95, 190, 90, 20, 64, 85, 105, 21, 78, 158, 125, 81, 183, 54, 79, 38, 172, 184, 158, 188, 20, 60, 113, 70, 84, 23, 141, 110, 31, 22, 91, 82, 23, 35, 114, 18, 80, 74, 122, 73, 40, 55, 69, 92, 48, 113, 58, 109, 39, 33, 18, 63, 43, 70, 19, 39, 81, 34, 140, 114, 55, 21, 50, 41, 190, 8, 55, 40, 22, 44, 102, 54, 130, 75, 42, 133, 40, 34, 142, 64, 44, 95, 49, 12, 98, 42, 44, 124, 175, 22, 78, 54, 154, 42, 195, 80, 81, 89, 61, 25, 43, 122, 160, 83, 79, 30, 145, 151, 14, 19, 55, 132, 182, 78, 42, 44, 195, 53, 65, 43, 38, 50, 81, 41, 73, 31, 84, 95, 162, 60, 121, 43, 38, 82, 52, 43, 82, 161, 24, 102, 53, 85, 111, 90, 94, 63, 153, 39, 205, 142, 163, 113, 64, 20, 179, 91, 103, 80, 38, 44, 164, 81, 95, 44, 88, 148, 169, 11, 92, 74, 72, 63, 172, 183, 40, 68, 78, 68, 49, 39, 151, 159, 89, 105, 78, 128, 81, 50, 38, 119, 110, 29, 19, 130, 38, 31, 14, 158, 39, 141, 33, 92, 78, 42, 15, 48, 63, 149, 49, 125, 58, 48, 75, 114, 134, 111, 62, 45, 113, 128, 168, 81, 75, 21, 83, 121, 40, 101, 90, 68, 74, 74, 51, 149, 31, 85, 62, 44, 63, 23, 40, 78, 40, 78, 129, 71, 23, 15, 28, 23, 19, 42, 113, 34, 19, 43, 179, 44, 21, 115, 81, 91, 30, 55, 48, 23, 21, 55, 21, 40, 30, 78, 65, 50, 55, 111, 21, 65, 114, 54, 75, 13, 54, 22, 198, 18, 74, 61, 64, 10, 82, 61, 83, 73, 22, 91, 65, 13, 103, 95, 31, 131, 175, 38, 104, 114, 38, 30, 19, 25, 124, 20, 83, 18, 99, 62, 24, 13, 64, 62, 158, 88, 28, 52, 82, 140, 80, 58, 180, 55, 65, 62, 23, 35, 35, 74, 14, 83, 71, 53, 103, 109, 60, 12, 141, 128, 98, 41, 90, 31, 74, 83, 35, 140, 65, 35, 73, 29, 55, 20, 70, 81, 25, 119, 49, 38, 80, 84, 61, 173, 60, 83, 59, 32, 33, 19, 14, 94, 154, 33, 28, 44, 81, 29, 58, 38, 82, 18, 45, 64, 48, 24, 65, 111, 114, 39, 19, 22, 49, 40, 63, 55, 33, 31, 24, 81, 81, 113, 92, 81, 101, 78, 78, 35, 9, 82, 41, 84, 42, 54, 84, 131, 85, 84, 114, 61, 39, 21, 111, 68, 179, 93, 85, 180, 110, 65, 159, 81, 132, 44, 98, 62, 91, 29, 101, 65, 58, 32, 140, 44, 113, 38, 13, 62, 29, 141, 132, 23, 11, 90, 43, 59, 28, 28, 108, 78, 65, 25, 108, 43, 95, 24, 190, 24, 41, 80, 63, 79, 105, 153, 114, 120, 104, 20, 41, 35, 174, 164, 22, 132, 32, 21, 49, 79, 30, 118, 11, 61, 43, 141, 54, 33, 84, 125, 110, 14, 65, 78, 18, 95, 95, 191, 19, 19, 39, 93, 115, 112, 40, 45, 133, 85, 18, 54, 41, 21, 152, 53, 163, 84, 59, 33, 81, 182, 61, 88, 170, 83, 44, 83, 21, 143, 103, 135, 162, 73, 142, 25, 115, 88, 73, 94, 58, 81, 113, 35, 65, 170, 62, 54, 39, 28, 95, 82, 21, 50, 34, 19, 71, 113, 9, 118, 79, 72, 18, 93, 62, 23, 40, 34, 114, 125, 41, 38, 45, 12, 115, 175, 24, 28, 32, 63, 32, 60, 53, 58, 42, 39, 72, 80, 39, 18, 30, 54, 128, 38, 120, 25, 85, 135, 14, 70, 23, 31, 132, 28, 125, 91, 191, 88, 84, 64, 28, 149, 172, 42, 53, 149, 113, 79, 175, 38, 120, 52, 42, 13, 141, 131, 133, 64, 49, 34, 91, 195, 53, 39, 20, 104, 51, 154, 38, 12, 28, 33, 31, 44, 49, 134, 182, 114, 90, 105, 58, 53, 15, 103, 58, 83, 125, 61, 69, 89, 70, 39, 41, 148, 38, 95, 129, 84, 29, 30, 90, 150, 15, 13, 9, 24, 41, 25, 49, 58, 141, 50, 61, 65, 112, 19, 23, 60, 30, 144, 118, 194, 109, 174, 34, 84, 41, 92, 19, 55, 22, 155, 72, 81, 30, 54, 60, 68, 65, 31, 169, 139, 29, 43, 80, 43, 194, 24, 32, 153, 30, 165, 64, 15, 70, 32, 128, 84, 62, 33, 65, 33, 15, 45, 132, 29, 65, 52, 64, 73, 20, 44, 79, 104, 88, 51, 61, 23, 38, 75, 42, 45, 59, 130, 9, 62, 202, 162, 93, 145, 99, 148, 154, 149, 69, 30, 48, 42, 132, 81, 60, 45, 70, 71, 28, 83, 131, 82, 79, 51, 111, 93, 73, 24, 64, 104, 38, 191, 53, 74, 21, 80, 41, 79, 141, 32, 38, 85, 93, 140, 69, 32, 61, 125, 30, 104, 24, 22, 59, 120, 164, 60, 43, 70, 51, 59, 129, 22, 29, 18, 65, 65, 38, 110, 22, 43, 30, 134, 32, 139, 45, 62, 51, 93, 122, 45, 179, 64, 41, 58, 64, 28, 21, 60, 78, 59, 59, 83, 128, 95, 160, 78, 184, 30, 51, 35, 74, 43, 23, 20, 112, 74, 65, 124, 65, 73, 8, 53, 131, 13, 60, 45, 39, 78, 43, 31, 118, 82, 112, 10, 18, 72, 72, 78, 78, 30, 45, 80, 174, 51, 181, 78, 79, 119, 49, 83, 100, 70, 52, 12, 82, 34, 112, 42, 83, 142, 199, 29, 70, 25, 84, 81, 15, 54, 108, 83, 62, 134, 75, 109, 152, 83, 52, 31, 135, 98, 14, 64, 109, 118, 80, 51, 115, 83, 90, 28, 82, 24, 71, 80, 109, 140, 39, 39, 50, 31, 35, 44, 35, 20, 10, 83, 203, 84, 41, 164, 152, 62, 12, 28, 52, 19, 35, 28, 70, 140, 102, 50, 61, 188, 178, 44, 12, 69, 132, 128, 44, 44, 34, 132, 158, 83, 28, 131, 31, 40, 71, 42, 35, 81, 91, 129, 75, 54, 43, 94, 84, 34, 15, 99, 15, 83, 83, 143, 81, 39, 158, 62, 64, 29, 64, 21, 142, 64, 40, 61, 44, 78, 25, 125, 63, 54, 92, 119, 40, 41, 81, 101, 25, 55, 43, 98, 112, 69, 79, 118, 81, 19, 139, 63, 102, 40, 44, 59, 224, 64, 129, 43, 12, 53, 39, 65, 18, 55, 60, 42, 44, 111, 62, 44, 69, 62, 35, 91, 12, 89, 65, 179, 82, 48, 20, 91, 122, 22, 43, 38, 61, 33, 145, 170, 55, 40, 68, 53, 63, 123, 13, 12, 53, 79, 89, 188, 62, 123, 40, 119, 123, 23, 62, 69, 124, 52, 134, 58, 45, 75, 23, 123, 48, 145, 31, 38, 78, 94, 84, 22, 78, 75, 71, 24, 112, 53, 41, 25, 42, 51, 19, 90, 89, 22, 119, 93, 18, 32, 182, 19, 85, 90, 59, 84, 95, 13, 88, 34, 11, 80, 41, 90, 93, 81, 60, 39, 22, 32, 28, 35, 154, 189, 40, 88, 124, 23, 23, 139, 173, 42, 161, 28, 191, 42, 81, 175, 82, 53, 142, 42, 64, 90, 44, 29, 93, 69, 82, 180, 13, 72, 54, 104, 44, 40, 190, 64, 9, 38, 72, 82, 48, 82, 14, 162, 54, 90, 64, 65, 113, 38, 65, 39, 174, 59, 43, 24, 50, 68, 61, 21, 21, 31, 70, 25, 78, 19, 23, 40, 22, 71, 58, 75, 40, 155, 83, 99, 59, 53, 11, 179, 71, 85, 49, 122, 171, 138, 8, 59, 49, 92, 75, 60, 41, 40, 81, 52, 25, 139, 54, 81, 73, 30, 59, 21, 65, 41, 52, 84, 135, 18, 34, 85, 23, 65, 195, 40, 141, 95, 23, 82, 53, 10, 75, 23, 133, 129, 85, 168, 83, 52, 114, 81, 32, 63, 70, 20, 138, 63, 85, 180, 80, 53, 72, 123, 91, 148, 163, 28, 193, 22, 74, 70, 11, 61, 41, 108, 23, 135, 30, 144, 139, 143, 44, 49, 75, 43, 59, 154, 75, 75, 88, 91, 11, 22, 49, 140, 99, 82, 10, 109, 45, 93, 89, 39, 21, 31, 31, 52, 13, 21, 50, 81, 74, 89, 82, 88, 61, 139, 29, 51, 58, 21, 43, 104, 9, 39, 89, 21, 173, 29, 43, 30, 39, 83, 58, 8, 39, 204, 45, 111, 83, 83, 115, 60, 53, 134, 91, 91, 128, 78, 161, 60, 161, 40, 68, 74, 55, 145, 24, 10, 138, 63, 54, 62, 81, 61, 68, 78, 165, 48, 155, 158, 52, 18, 42, 18, 40, 44, 11, 194, 108, 12, 19, 150, 89, 83, 79, 102, 155, 138, 51, 80, 135, 34, 195, 62, 173, 149, 20, 42, 28, 95, 95, 34, 191, 41, 150, 91, 84, 73, 122, 73, 20, 130, 85, 134, 98, 54, 41, 128, 132, 188, 170, 14, 93, 79, 79, 62, 95, 60, 75, 85, 143, 34, 44, 31, 13, 52, 42, 102, 143, 10, 44, 158, 12, 59, 92, 82, 44, 182, 121, 38, 92, 53, 45, 63, 181, 184, 33, 22, 99, 44, 101, 32, 59, 25, 140, 29, 35, 141, 75, 58, 41, 42, 55, 18, 75, 85, 43, 149, 25, 19, 18, 13, 41, 139, 62, 51, 71, 145, 45, 53, 64, 39, 38, 85, 61, 23, 122, 72, 123, 40, 62, 113, 81, 59, 25, 25, 14, 19, 61, 21, 44, 42, 52, 112, 34, 83, 24, 71, 181, 75, 153, 75, 19, 31, 178, 65, 8, 92, 145, 85, 149, 9, 164, 40, 54, 164, 140, 18, 12, 140, 24, 60, 50, 44, 51, 34, 33, 63, 22, 104, 75, 75, 62, 48, 73, 135, 61, 78, 40, 44, 45, 18, 53, 11, 38, 28, 35, 81, 90, 115, 78, 30, 39, 69, 29, 54, 60, 99, 51, 53, 111, 79, 90, 18, 73, 59, 40, 41, 53, 128, 145, 35, 28, 155, 195, 50, 48, 81, 50, 21, 142, 64, 91, 74, 182, 82, 45, 85, 133, 22, 24, 38, 80, 33, 41, 90, 89, 8, 85, 53, 20, 9, 25, 114, 41, 49, 12, 50, 30, 32, 41, 25, 29, 50, 79, 110, 40, 18, 48, 40, 19, 35, 133, 19, 83, 39, 38, 63, 85, 14, 64, 124, 20, 33, 80, 35, 74, 32, 73, 41, 18, 28, 64, 44, 109, 71, 79, 30, 82, 101, 13, 59, 64, 188, 28, 120, 131, 19, 44, 49, 99, 95, 81, 73, 193, 115, 41, 80, 90, 41, 102, 59, 69, 83, 49, 180, 61, 59, 85, 13, 151, 44, 53, 133, 31, 101, 61, 68, 21, 149, 75, 55, 81, 179, 81, 42, 199, 18, 28, 80, 79, 52, 18, 52, 15, 84, 114, 41, 29, 23, 84, 60, 13, 45, 83, 102, 58, 134, 130, 148, 92, 142, 62, 50, 29, 85, 78, 85, 89, 33, 42, 31, 143, 35, 22, 45, 119, 43, 75, 121, 63, 58, 184, 155, 69, 188, 38, 9, 69, 199, 38, 129, 59, 115, 83, 65, 72, 72, 63, 64, 194, 104, 180, 18, 93, 32, 68, 38, 115, 161, 154, 68, 44, 149, 103, 41, 113, 48, 69, 43, 19, 65, 32, 20, 25, 70, 70, 103, 162, 61, 170, 49, 108, 62, 102, 141, 8, 91, 10, 35, 71, 59, 14, 122, 81, 35, 83, 121, 35, 140, 88, 70, 63, 125, 21, 75, 38, 58, 31, 18, 29, 29, 69, 121, 64, 84, 65, 85, 44, 174, 178, 55, 25, 21, 72, 129, 18, 91, 38, 21, 38, 154, 178, 85, 93, 151, 78, 135, 40, 80, 18, 74, 94, 173, 88, 82, 54, 45, 39, 20, 93, 85, 95, 48, 22, 33, 40, 30, 22, 20, 49, 25, 150, 32, 9, 23, 18, 42, 39, 84, 101, 43, 28, 59, 29, 39, 42, 24, 62, 33, 73, 88, 58, 48, 40, 160, 39, 53, 32, 32, 11, 123, 184, 60, 41, 99, 83, 134, 85, 41, 44, 62, 149, 115, 25, 84, 81, 181, 62, 11, 60, 42, 83, 109, 70, 25, 72, 183, 44, 52, 18, 40, 174, 41, 81, 128, 135, 65, 145, 65, 119, 124, 33, 41, 105, 130, 80, 115, 62, 165, 34, 18, 44, 25, 52, 133, 71, 61, 62, 33, 28, 53, 69, 165, 75, 54, 142, 53, 41, 43, 79, 24, 73, 129, 50, 28, 64, 49, 121, 58, 51, 61, 35, 39, 74, 201, 81, 44, 19, 85, 74, 54, 58, 18, 88, 19, 49, 101, 138, 25, 120, 153, 28, 110, 94, 48, 123, 33, 42, 68, 28, 42, 28, 73, 89, 82, 83, 121, 28, 39, 110, 55, 111, 94, 85, 81, 94, 162, 80, 70, 19, 112, 109, 12, 33, 49, 42, 41, 43, 64, 19, 65, 53, 32, 22, 39, 59, 50, 19, 55, 81, 108, 122, 98, 110, 33, 34, 69, 41, 60, 95, 73, 41, 68, 64, 29, 31, 54, 63, 92, 135, 195, 45, 72, 98, 30, 78, 43, 85, 38, 58, 92, 13, 218, 75, 40, 15, 24, 49, 83], \"y0\": \" \", \"yaxis\": \"y\"}],\n",
              "                        {\"boxmode\": \"group\", \"legend\": {\"tracegroupgap\": 0}, \"template\": {\"data\": {\"bar\": [{\"error_x\": {\"color\": \"#2a3f5f\"}, \"error_y\": {\"color\": \"#2a3f5f\"}, \"marker\": {\"line\": {\"color\": \"#E5ECF6\", \"width\": 0.5}}, \"type\": \"bar\"}], \"barpolar\": [{\"marker\": {\"line\": {\"color\": \"#E5ECF6\", \"width\": 0.5}}, \"type\": \"barpolar\"}], \"carpet\": [{\"aaxis\": {\"endlinecolor\": \"#2a3f5f\", \"gridcolor\": \"white\", \"linecolor\": \"white\", \"minorgridcolor\": \"white\", \"startlinecolor\": \"#2a3f5f\"}, \"baxis\": {\"endlinecolor\": \"#2a3f5f\", \"gridcolor\": \"white\", \"linecolor\": \"white\", \"minorgridcolor\": \"white\", \"startlinecolor\": \"#2a3f5f\"}, \"type\": \"carpet\"}], \"choropleth\": [{\"colorbar\": {\"outlinewidth\": 0, \"ticks\": \"\"}, \"type\": \"choropleth\"}], \"contour\": [{\"colorbar\": {\"outlinewidth\": 0, \"ticks\": \"\"}, \"colorscale\": [[0.0, \"#0d0887\"], [0.1111111111111111, \"#46039f\"], [0.2222222222222222, \"#7201a8\"], [0.3333333333333333, \"#9c179e\"], [0.4444444444444444, \"#bd3786\"], [0.5555555555555556, \"#d8576b\"], [0.6666666666666666, \"#ed7953\"], [0.7777777777777778, \"#fb9f3a\"], [0.8888888888888888, \"#fdca26\"], [1.0, \"#f0f921\"]], \"type\": \"contour\"}], \"contourcarpet\": [{\"colorbar\": {\"outlinewidth\": 0, \"ticks\": \"\"}, \"type\": \"contourcarpet\"}], \"heatmap\": [{\"colorbar\": {\"outlinewidth\": 0, \"ticks\": \"\"}, \"colorscale\": [[0.0, \"#0d0887\"], [0.1111111111111111, \"#46039f\"], [0.2222222222222222, \"#7201a8\"], [0.3333333333333333, \"#9c179e\"], [0.4444444444444444, \"#bd3786\"], [0.5555555555555556, \"#d8576b\"], [0.6666666666666666, \"#ed7953\"], [0.7777777777777778, \"#fb9f3a\"], [0.8888888888888888, \"#fdca26\"], [1.0, \"#f0f921\"]], \"type\": \"heatmap\"}], \"heatmapgl\": [{\"colorbar\": {\"outlinewidth\": 0, \"ticks\": \"\"}, \"colorscale\": [[0.0, \"#0d0887\"], [0.1111111111111111, \"#46039f\"], [0.2222222222222222, \"#7201a8\"], [0.3333333333333333, \"#9c179e\"], [0.4444444444444444, \"#bd3786\"], [0.5555555555555556, \"#d8576b\"], [0.6666666666666666, \"#ed7953\"], [0.7777777777777778, \"#fb9f3a\"], [0.8888888888888888, \"#fdca26\"], [1.0, \"#f0f921\"]], \"type\": \"heatmapgl\"}], \"histogram\": [{\"marker\": {\"colorbar\": {\"outlinewidth\": 0, \"ticks\": \"\"}}, \"type\": \"histogram\"}], \"histogram2d\": [{\"colorbar\": {\"outlinewidth\": 0, \"ticks\": \"\"}, \"colorscale\": [[0.0, \"#0d0887\"], [0.1111111111111111, \"#46039f\"], [0.2222222222222222, \"#7201a8\"], [0.3333333333333333, \"#9c179e\"], [0.4444444444444444, \"#bd3786\"], [0.5555555555555556, \"#d8576b\"], [0.6666666666666666, \"#ed7953\"], [0.7777777777777778, \"#fb9f3a\"], [0.8888888888888888, \"#fdca26\"], [1.0, \"#f0f921\"]], \"type\": \"histogram2d\"}], \"histogram2dcontour\": [{\"colorbar\": {\"outlinewidth\": 0, \"ticks\": \"\"}, \"colorscale\": [[0.0, \"#0d0887\"], [0.1111111111111111, \"#46039f\"], [0.2222222222222222, \"#7201a8\"], [0.3333333333333333, \"#9c179e\"], [0.4444444444444444, \"#bd3786\"], [0.5555555555555556, \"#d8576b\"], [0.6666666666666666, \"#ed7953\"], [0.7777777777777778, \"#fb9f3a\"], [0.8888888888888888, \"#fdca26\"], [1.0, \"#f0f921\"]], \"type\": \"histogram2dcontour\"}], \"mesh3d\": [{\"colorbar\": {\"outlinewidth\": 0, \"ticks\": \"\"}, \"type\": \"mesh3d\"}], \"parcoords\": [{\"line\": {\"colorbar\": {\"outlinewidth\": 0, \"ticks\": \"\"}}, \"type\": \"parcoords\"}], \"pie\": [{\"automargin\": true, \"type\": \"pie\"}], \"scatter\": [{\"marker\": {\"colorbar\": {\"outlinewidth\": 0, \"ticks\": \"\"}}, \"type\": \"scatter\"}], \"scatter3d\": [{\"line\": {\"colorbar\": {\"outlinewidth\": 0, \"ticks\": \"\"}}, \"marker\": {\"colorbar\": {\"outlinewidth\": 0, \"ticks\": \"\"}}, \"type\": \"scatter3d\"}], \"scattercarpet\": [{\"marker\": {\"colorbar\": {\"outlinewidth\": 0, \"ticks\": \"\"}}, \"type\": \"scattercarpet\"}], \"scattergeo\": [{\"marker\": {\"colorbar\": {\"outlinewidth\": 0, \"ticks\": \"\"}}, \"type\": \"scattergeo\"}], \"scattergl\": [{\"marker\": {\"colorbar\": {\"outlinewidth\": 0, \"ticks\": \"\"}}, \"type\": \"scattergl\"}], \"scattermapbox\": [{\"marker\": {\"colorbar\": {\"outlinewidth\": 0, \"ticks\": \"\"}}, \"type\": \"scattermapbox\"}], \"scatterpolar\": [{\"marker\": {\"colorbar\": {\"outlinewidth\": 0, \"ticks\": \"\"}}, \"type\": \"scatterpolar\"}], \"scatterpolargl\": [{\"marker\": {\"colorbar\": {\"outlinewidth\": 0, \"ticks\": \"\"}}, \"type\": \"scatterpolargl\"}], \"scatterternary\": [{\"marker\": {\"colorbar\": {\"outlinewidth\": 0, \"ticks\": \"\"}}, \"type\": \"scatterternary\"}], \"surface\": [{\"colorbar\": {\"outlinewidth\": 0, \"ticks\": \"\"}, \"colorscale\": [[0.0, \"#0d0887\"], [0.1111111111111111, \"#46039f\"], [0.2222222222222222, \"#7201a8\"], [0.3333333333333333, \"#9c179e\"], [0.4444444444444444, \"#bd3786\"], [0.5555555555555556, \"#d8576b\"], [0.6666666666666666, \"#ed7953\"], [0.7777777777777778, \"#fb9f3a\"], [0.8888888888888888, \"#fdca26\"], [1.0, \"#f0f921\"]], \"type\": \"surface\"}], \"table\": [{\"cells\": {\"fill\": {\"color\": \"#EBF0F8\"}, \"line\": {\"color\": \"white\"}}, \"header\": {\"fill\": {\"color\": \"#C8D4E3\"}, \"line\": {\"color\": \"white\"}}, \"type\": \"table\"}]}, \"layout\": {\"annotationdefaults\": {\"arrowcolor\": \"#2a3f5f\", \"arrowhead\": 0, \"arrowwidth\": 1}, \"coloraxis\": {\"colorbar\": {\"outlinewidth\": 0, \"ticks\": \"\"}}, \"colorscale\": {\"diverging\": [[0, \"#8e0152\"], [0.1, \"#c51b7d\"], [0.2, \"#de77ae\"], [0.3, \"#f1b6da\"], [0.4, \"#fde0ef\"], [0.5, \"#f7f7f7\"], [0.6, \"#e6f5d0\"], [0.7, \"#b8e186\"], [0.8, \"#7fbc41\"], [0.9, \"#4d9221\"], [1, \"#276419\"]], \"sequential\": [[0.0, \"#0d0887\"], [0.1111111111111111, \"#46039f\"], [0.2222222222222222, \"#7201a8\"], [0.3333333333333333, \"#9c179e\"], [0.4444444444444444, \"#bd3786\"], [0.5555555555555556, \"#d8576b\"], [0.6666666666666666, \"#ed7953\"], [0.7777777777777778, \"#fb9f3a\"], [0.8888888888888888, \"#fdca26\"], [1.0, \"#f0f921\"]], \"sequentialminus\": [[0.0, \"#0d0887\"], [0.1111111111111111, \"#46039f\"], [0.2222222222222222, \"#7201a8\"], [0.3333333333333333, \"#9c179e\"], [0.4444444444444444, \"#bd3786\"], [0.5555555555555556, \"#d8576b\"], [0.6666666666666666, \"#ed7953\"], [0.7777777777777778, \"#fb9f3a\"], [0.8888888888888888, \"#fdca26\"], [1.0, \"#f0f921\"]]}, \"colorway\": [\"#636efa\", \"#EF553B\", \"#00cc96\", \"#ab63fa\", \"#FFA15A\", \"#19d3f3\", \"#FF6692\", \"#B6E880\", \"#FF97FF\", \"#FECB52\"], \"font\": {\"color\": \"#2a3f5f\"}, \"geo\": {\"bgcolor\": \"white\", \"lakecolor\": \"white\", \"landcolor\": \"#E5ECF6\", \"showlakes\": true, \"showland\": true, \"subunitcolor\": \"white\"}, \"hoverlabel\": {\"align\": \"left\"}, \"hovermode\": \"closest\", \"mapbox\": {\"style\": \"light\"}, \"paper_bgcolor\": \"white\", \"plot_bgcolor\": \"#E5ECF6\", \"polar\": {\"angularaxis\": {\"gridcolor\": \"white\", \"linecolor\": \"white\", \"ticks\": \"\"}, \"bgcolor\": \"#E5ECF6\", \"radialaxis\": {\"gridcolor\": \"white\", \"linecolor\": \"white\", \"ticks\": \"\"}}, \"scene\": {\"xaxis\": {\"backgroundcolor\": \"#E5ECF6\", \"gridcolor\": \"white\", \"gridwidth\": 2, \"linecolor\": \"white\", \"showbackground\": true, \"ticks\": \"\", \"zerolinecolor\": \"white\"}, \"yaxis\": {\"backgroundcolor\": \"#E5ECF6\", \"gridcolor\": \"white\", \"gridwidth\": 2, \"linecolor\": \"white\", \"showbackground\": true, \"ticks\": \"\", \"zerolinecolor\": \"white\"}, \"zaxis\": {\"backgroundcolor\": \"#E5ECF6\", \"gridcolor\": \"white\", \"gridwidth\": 2, \"linecolor\": \"white\", \"showbackground\": true, \"ticks\": \"\", \"zerolinecolor\": \"white\"}}, \"shapedefaults\": {\"line\": {\"color\": \"#2a3f5f\"}}, \"ternary\": {\"aaxis\": {\"gridcolor\": \"white\", \"linecolor\": \"white\", \"ticks\": \"\"}, \"baxis\": {\"gridcolor\": \"white\", \"linecolor\": \"white\", \"ticks\": \"\"}, \"bgcolor\": \"#E5ECF6\", \"caxis\": {\"gridcolor\": \"white\", \"linecolor\": \"white\", \"ticks\": \"\"}}, \"title\": {\"x\": 0.05}, \"xaxis\": {\"automargin\": true, \"gridcolor\": \"white\", \"linecolor\": \"white\", \"ticks\": \"\", \"title\": {\"standoff\": 15}, \"zerolinecolor\": \"white\", \"zerolinewidth\": 2}, \"yaxis\": {\"automargin\": true, \"gridcolor\": \"white\", \"linecolor\": \"white\", \"ticks\": \"\", \"title\": {\"standoff\": 15}, \"zerolinecolor\": \"white\", \"zerolinewidth\": 2}}}, \"title\": {\"text\": \"5 Numbers Summary according to Income using box plot\"}, \"xaxis\": {\"anchor\": \"y\", \"domain\": [0.0, 1.0]}, \"yaxis\": {\"anchor\": \"x\", \"domain\": [0.0, 1.0], \"title\": {\"text\": \"Income\"}}},\n",
              "                        {\"responsive\": true}\n",
              "                    ).then(function(){\n",
              "                            \n",
              "var gd = document.getElementById('10cf31d6-feab-4995-a43e-b2a29147772f');\n",
              "var x = new MutationObserver(function (mutations, observer) {{\n",
              "        var display = window.getComputedStyle(gd).display;\n",
              "        if (!display || display === 'none') {{\n",
              "            console.log([gd, 'removed!']);\n",
              "            Plotly.purge(gd);\n",
              "            observer.disconnect();\n",
              "        }}\n",
              "}});\n",
              "\n",
              "// Listen for the removal of the full notebook cells\n",
              "var notebookContainer = gd.closest('#notebook-container');\n",
              "if (notebookContainer) {{\n",
              "    x.observe(notebookContainer, {childList: true});\n",
              "}}\n",
              "\n",
              "// Listen for the clearing of the current output cell\n",
              "var outputEl = gd.closest('.output');\n",
              "if (outputEl) {{\n",
              "    x.observe(outputEl, {childList: true});\n",
              "}}\n",
              "\n",
              "                        })\n",
              "                };\n",
              "                \n",
              "            </script>\n",
              "        </div>\n",
              "</body>\n",
              "</html>"
            ]
          },
          "metadata": {}
        },
        {
          "output_type": "display_data",
          "data": {
            "text/html": [
              "<html>\n",
              "<head><meta charset=\"utf-8\" /></head>\n",
              "<body>\n",
              "    <div>\n",
              "            <script src=\"https://cdnjs.cloudflare.com/ajax/libs/mathjax/2.7.5/MathJax.js?config=TeX-AMS-MML_SVG\"></script><script type=\"text/javascript\">if (window.MathJax) {MathJax.Hub.Config({SVG: {font: \"STIX-Web\"}});}</script>\n",
              "                <script type=\"text/javascript\">window.PlotlyConfig = {MathJaxConfig: 'local'};</script>\n",
              "        <script src=\"https://cdn.plot.ly/plotly-latest.min.js\"></script>    \n",
              "            <div id=\"506f74ce-2853-4fab-ae49-72f9fbe15327\" class=\"plotly-graph-div\" style=\"height:525px; width:100%;\"></div>\n",
              "            <script type=\"text/javascript\">\n",
              "                \n",
              "                    window.PLOTLYENV=window.PLOTLYENV || {};\n",
              "                    \n",
              "                if (document.getElementById(\"506f74ce-2853-4fab-ae49-72f9fbe15327\")) {\n",
              "                    Plotly.newPlot(\n",
              "                        '506f74ce-2853-4fab-ae49-72f9fbe15327',\n",
              "                        [{\"alignmentgroup\": \"True\", \"hoverlabel\": {\"namelength\": 0}, \"hovertemplate\": \"Family=%{y}\", \"legendgroup\": \"\", \"marker\": {\"color\": \"#636efa\"}, \"name\": \"\", \"notched\": false, \"offsetgroup\": \"\", \"orientation\": \"v\", \"showlegend\": false, \"type\": \"box\", \"x0\": \" \", \"xaxis\": \"x\", \"y\": [4, 3, 1, 1, 4, 4, 2, 1, 3, 1, 4, 3, 2, 4, 1, 1, 4, 4, 2, 1, 4, 3, 1, 2, 2, 3, 4, 1, 1, 1, 1, 1, 2, 3, 4, 3, 1, 1, 3, 4, 3, 3, 4, 1, 1, 4, 3, 4, 2, 1, 4, 1, 1, 3, 1, 2, 3, 2, 2, 2, 3, 1, 1, 4, 2, 1, 2, 4, 3, 4, 1, 4, 1, 1, 2, 4, 3, 3, 2, 2, 4, 3, 1, 1, 1, 4, 4, 3, 2, 4, 4, 4, 3, 2, 1, 4, 1, 1, 1, 3, 1, 3, 3, 2, 4, 3, 4, 1, 1, 1, 3, 4, 3, 2, 3, 3, 1, 2, 3, 1, 2, 3, 2, 1, 4, 3, 2, 1, 2, 3, 3, 4, 2, 3, 3, 4, 4, 2, 3, 1, 2, 3, 1, 4, 2, 1, 1, 4, 2, 3, 2, 3, 1, 2, 4, 4, 4, 4, 2, 4, 4, 2, 1, 4, 2, 1, 3, 3, 4, 4, 2, 3, 2, 4, 2, 4, 3, 4, 4, 1, 2, 4, 1, 3, 2, 1, 1, 3, 2, 2, 1, 1, 1, 4, 2, 4, 1, 4, 4, 1, 1, 2, 4, 4, 2, 4, 1, 4, 4, 4, 2, 1, 2, 1, 1, 2, 2, 3, 3, 1, 2, 2, 3, 3, 4, 1, 2, 2, 4, 2, 1, 4, 3, 4, 1, 4, 3, 1, 3, 4, 1, 1, 1, 3, 4, 2, 2, 4, 2, 3, 3, 2, 3, 1, 3, 2, 4, 3, 4, 1, 1, 2, 1, 4, 2, 4, 2, 1, 1, 1, 4, 4, 4, 3, 4, 4, 4, 4, 4, 2, 4, 4, 4, 3, 3, 3, 3, 3, 2, 3, 1, 3, 4, 4, 1, 2, 1, 3, 2, 1, 4, 2, 2, 4, 1, 1, 3, 1, 2, 1, 4, 1, 1, 3, 2, 3, 1, 2, 4, 3, 1, 3, 1, 1, 4, 1, 1, 2, 3, 1, 4, 3, 1, 1, 1, 2, 3, 1, 2, 4, 1, 4, 2, 1, 3, 4, 3, 2, 4, 2, 1, 4, 4, 4, 2, 3, 2, 1, 2, 1, 4, 2, 2, 2, 3, 1, 1, 2, 2, 2, 4, 4, 4, 4, 2, 3, 3, 4, 2, 2, 1, 2, 4, 1, 4, 3, 4, 4, 4, 1, 1, 3, 4, 4, 4, 2, 4, 3, 2, 4, 3, 4, 1, 2, 3, 1, 1, 1, 2, 1, 2, 4, 4, 3, 3, 4, 2, 4, 4, 4, 4, 4, 2, 2, 1, 4, 3, 3, 2, 4, 1, 3, 1, 4, 1, 3, 3, 4, 2, 4, 2, 1, 1, 1, 2, 3, 1, 1, 4, 3, 1, 2, 3, 4, 3, 4, 3, 3, 1, 2, 2, 2, 3, 2, 4, 1, 2, 1, 1, 2, 4, 4, 4, 1, 2, 3, 1, 4, 2, 2, 3, 1, 1, 3, 2, 1, 2, 4, 3, 2, 2, 4, 4, 1, 2, 4, 2, 4, 1, 3, 2, 3, 1, 4, 3, 3, 3, 3, 2, 2, 1, 4, 3, 1, 3, 1, 3, 3, 1, 1, 4, 4, 1, 4, 4, 2, 1, 2, 4, 1, 2, 4, 2, 1, 2, 1, 3, 1, 1, 1, 4, 2, 3, 3, 2, 4, 3, 3, 1, 3, 3, 1, 4, 2, 2, 4, 3, 2, 4, 4, 1, 4, 1, 4, 1, 3, 3, 3, 2, 3, 3, 4, 1, 3, 2, 1, 3, 2, 3, 1, 4, 4, 1, 2, 1, 4, 2, 1, 2, 1, 4, 1, 4, 4, 1, 1, 1, 2, 2, 2, 2, 1, 2, 2, 4, 1, 3, 1, 4, 4, 3, 4, 1, 1, 1, 2, 2, 4, 2, 1, 4, 2, 2, 1, 2, 2, 1, 3, 1, 4, 3, 3, 4, 1, 3, 3, 2, 4, 3, 2, 1, 2, 1, 2, 2, 4, 4, 4, 1, 4, 1, 3, 1, 2, 4, 2, 1, 1, 3, 4, 2, 2, 3, 3, 1, 4, 1, 3, 3, 4, 4, 1, 1, 1, 3, 1, 1, 2, 4, 3, 3, 1, 1, 1, 1, 2, 4, 2, 4, 1, 2, 3, 1, 2, 1, 1, 2, 1, 1, 1, 2, 3, 3, 2, 1, 3, 1, 3, 3, 4, 3, 3, 2, 3, 3, 1, 4, 3, 2, 3, 1, 1, 3, 4, 1, 2, 4, 3, 2, 1, 1, 2, 1, 1, 2, 4, 3, 2, 4, 2, 1, 1, 1, 4, 2, 3, 4, 3, 1, 4, 2, 1, 4, 1, 2, 4, 4, 3, 1, 2, 3, 3, 1, 1, 2, 4, 1, 1, 2, 4, 2, 3, 1, 2, 1, 3, 2, 2, 2, 2, 4, 3, 3, 2, 2, 2, 2, 3, 4, 4, 4, 4, 1, 2, 2, 2, 2, 3, 1, 4, 1, 4, 3, 4, 4, 3, 4, 1, 3, 1, 2, 4, 4, 1, 2, 1, 3, 2, 4, 4, 1, 4, 3, 1, 4, 3, 3, 2, 4, 4, 3, 4, 4, 3, 4, 2, 3, 1, 4, 4, 2, 1, 3, 3, 1, 3, 1, 1, 4, 2, 1, 2, 1, 1, 1, 2, 1, 4, 3, 3, 2, 1, 2, 1, 1, 3, 4, 1, 2, 2, 3, 4, 4, 3, 4, 4, 2, 4, 4, 4, 1, 2, 1, 1, 2, 4, 3, 2, 2, 2, 4, 4, 2, 3, 4, 4, 3, 4, 4, 3, 4, 4, 2, 1, 4, 1, 2, 2, 4, 1, 1, 4, 1, 2, 3, 1, 2, 2, 3, 1, 3, 3, 1, 1, 4, 1, 4, 3, 4, 1, 3, 1, 3, 2, 2, 1, 1, 3, 4, 2, 1, 4, 4, 4, 4, 1, 4, 3, 1, 3, 4, 2, 2, 4, 2, 4, 1, 2, 4, 1, 2, 4, 1, 2, 4, 2, 2, 4, 1, 3, 2, 3, 2, 1, 3, 2, 4, 4, 1, 4, 1, 3, 3, 2, 1, 1, 4, 2, 1, 3, 4, 4, 1, 1, 1, 2, 2, 3, 1, 1, 4, 4, 2, 4, 4, 2, 1, 3, 1, 2, 2, 2, 1, 3, 2, 1, 1, 4, 2, 4, 1, 2, 1, 1, 4, 3, 3, 1, 4, 1, 4, 1, 3, 2, 3, 4, 4, 1, 4, 2, 4, 4, 4, 3, 1, 1, 4, 4, 3, 4, 2, 4, 3, 1, 4, 1, 1, 2, 2, 1, 1, 1, 1, 3, 3, 3, 4, 1, 3, 2, 2, 3, 2, 1, 3, 4, 3, 3, 2, 2, 4, 3, 1, 3, 4, 2, 2, 3, 1, 4, 4, 3, 4, 3, 4, 1, 1, 3, 1, 3, 1, 3, 1, 1, 1, 1, 2, 3, 4, 2, 3, 1, 1, 3, 1, 3, 1, 1, 2, 1, 2, 3, 1, 4, 4, 2, 2, 1, 2, 3, 1, 2, 3, 1, 1, 1, 1, 4, 4, 3, 4, 3, 4, 1, 1, 2, 1, 1, 1, 1, 3, 2, 2, 4, 1, 2, 4, 1, 1, 4, 1, 3, 2, 2, 3, 1, 4, 2, 1, 1, 3, 1, 3, 2, 4, 1, 4, 1, 1, 3, 1, 4, 4, 3, 4, 3, 4, 1, 2, 2, 2, 1, 1, 3, 4, 2, 2, 1, 2, 2, 4, 4, 4, 3, 4, 2, 4, 4, 1, 3, 4, 1, 4, 4, 4, 4, 1, 1, 2, 3, 2, 2, 3, 1, 1, 2, 2, 3, 1, 3, 4, 1, 4, 2, 3, 4, 4, 1, 2, 2, 4, 1, 4, 1, 3, 1, 1, 2, 4, 1, 1, 2, 4, 4, 2, 2, 1, 1, 1, 4, 3, 1, 2, 4, 2, 2, 1, 2, 3, 4, 2, 3, 3, 3, 4, 2, 2, 2, 1, 2, 3, 3, 1, 4, 1, 4, 3, 4, 1, 4, 4, 4, 4, 2, 1, 1, 3, 4, 1, 2, 2, 1, 3, 2, 1, 2, 4, 1, 3, 4, 3, 2, 1, 4, 4, 2, 2, 2, 1, 2, 1, 1, 2, 3, 1, 1, 4, 2, 4, 3, 2, 1, 1, 4, 2, 1, 1, 4, 4, 2, 4, 2, 2, 2, 1, 2, 3, 2, 1, 3, 4, 1, 4, 1, 1, 1, 1, 1, 1, 2, 4, 4, 3, 1, 4, 3, 2, 3, 4, 1, 4, 3, 3, 3, 3, 1, 4, 2, 4, 1, 2, 3, 2, 4, 1, 2, 4, 4, 4, 1, 4, 3, 1, 3, 2, 4, 1, 3, 1, 4, 4, 1, 1, 4, 1, 1, 4, 2, 1, 2, 4, 1, 2, 3, 2, 1, 2, 2, 2, 1, 1, 4, 2, 2, 2, 1, 3, 2, 4, 1, 2, 1, 1, 2, 2, 1, 4, 1, 4, 1, 3, 2, 3, 4, 1, 1, 2, 2, 3, 1, 3, 4, 4, 3, 1, 2, 4, 2, 1, 3, 4, 1, 4, 1, 2, 1, 2, 2, 3, 4, 2, 1, 3, 1, 2, 2, 1, 4, 4, 1, 1, 2, 1, 1, 2, 4, 2, 1, 2, 4, 4, 2, 1, 2, 1, 3, 1, 1, 1, 1, 2, 2, 1, 4, 2, 1, 2, 4, 4, 2, 2, 3, 3, 2, 2, 4, 4, 4, 4, 3, 1, 2, 4, 1, 4, 1, 4, 1, 1, 4, 1, 4, 1, 1, 1, 4, 4, 4, 4, 3, 4, 2, 4, 2, 1, 2, 1, 1, 4, 3, 1, 2, 1, 3, 3, 4, 4, 4, 3, 4, 3, 1, 1, 4, 4, 3, 1, 2, 2, 3, 4, 4, 4, 1, 3, 1, 2, 1, 2, 4, 2, 2, 4, 4, 4, 2, 2, 2, 3, 1, 4, 2, 1, 3, 1, 3, 4, 3, 2, 1, 2, 1, 4, 1, 2, 3, 4, 4, 2, 1, 1, 2, 1, 4, 1, 1, 4, 4, 3, 1, 2, 4, 2, 1, 2, 2, 2, 3, 4, 4, 2, 1, 2, 1, 3, 1, 4, 3, 1, 2, 1, 4, 3, 2, 4, 4, 1, 4, 2, 1, 4, 2, 4, 2, 2, 3, 2, 3, 4, 1, 3, 1, 4, 3, 1, 3, 2, 1, 1, 2, 4, 4, 3, 2, 2, 2, 4, 1, 2, 4, 2, 2, 2, 2, 2, 4, 4, 3, 2, 3, 1, 1, 3, 1, 4, 1, 2, 3, 1, 4, 3, 4, 2, 3, 2, 4, 1, 3, 4, 2, 2, 1, 1, 1, 2, 3, 2, 1, 4, 2, 1, 2, 4, 1, 3, 1, 2, 2, 1, 4, 2, 3, 2, 2, 4, 3, 2, 1, 3, 1, 1, 1, 2, 4, 4, 2, 3, 4, 3, 2, 4, 2, 1, 2, 4, 4, 2, 1, 2, 4, 4, 2, 4, 1, 3, 2, 2, 3, 4, 4, 1, 2, 2, 4, 3, 1, 4, 2, 3, 1, 1, 2, 2, 1, 3, 2, 1, 4, 4, 4, 1, 1, 1, 3, 3, 1, 2, 1, 3, 4, 3, 1, 2, 1, 4, 2, 1, 2, 4, 4, 1, 4, 1, 3, 3, 2, 2, 4, 2, 1, 1, 4, 1, 1, 4, 1, 1, 2, 2, 3, 2, 4, 4, 1, 2, 2, 4, 3, 1, 4, 4, 1, 1, 1, 3, 2, 1, 3, 3, 1, 4, 4, 4, 4, 3, 3, 2, 1, 3, 2, 3, 1, 1, 1, 2, 4, 1, 2, 1, 2, 1, 4, 3, 3, 3, 3, 1, 1, 3, 3, 4, 3, 3, 1, 1, 4, 4, 2, 1, 4, 1, 4, 3, 1, 4, 4, 1, 1, 4, 1, 4, 2, 3, 3, 2, 2, 2, 1, 4, 3, 2, 3, 3, 4, 1, 3, 3, 4, 2, 2, 2, 1, 1, 1, 1, 1, 1, 3, 1, 1, 3, 2, 3, 4, 1, 1, 3, 1, 1, 2, 1, 2, 2, 4, 3, 3, 4, 1, 4, 1, 1, 4, 1, 4, 4, 3, 4, 2, 1, 1, 4, 1, 1, 2, 1, 3, 2, 3, 1, 1, 1, 4, 4, 2, 4, 2, 2, 3, 2, 1, 1, 3, 3, 2, 4, 4, 2, 3, 1, 1, 1, 3, 2, 2, 1, 1, 1, 1, 3, 2, 1, 2, 3, 1, 1, 2, 4, 3, 1, 1, 2, 4, 1, 3, 3, 1, 4, 3, 2, 1, 3, 4, 4, 1, 4, 3, 2, 2, 2, 4, 2, 3, 3, 1, 4, 4, 3, 2, 1, 2, 3, 3, 1, 2, 1, 4, 3, 3, 1, 4, 2, 4, 1, 2, 2, 1, 3, 2, 1, 2, 4, 4, 3, 2, 4, 3, 2, 1, 2, 4, 3, 1, 4, 1, 1, 4, 1, 4, 2, 1, 4, 1, 4, 1, 4, 3, 1, 2, 3, 1, 1, 1, 4, 4, 3, 4, 2, 3, 1, 2, 1, 1, 2, 2, 4, 4, 1, 4, 3, 1, 3, 1, 1, 2, 2, 3, 3, 3, 2, 3, 1, 4, 3, 1, 3, 4, 4, 2, 1, 4, 3, 1, 2, 1, 1, 1, 1, 4, 2, 1, 1, 4, 4, 3, 3, 3, 1, 4, 2, 1, 1, 2, 3, 1, 1, 1, 2, 4, 4, 1, 3, 4, 3, 4, 2, 4, 3, 1, 4, 2, 3, 1, 2, 1, 2, 2, 3, 1, 2, 1, 2, 1, 2, 2, 2, 1, 2, 2, 4, 1, 2, 2, 4, 2, 1, 4, 4, 1, 1, 1, 2, 2, 4, 1, 2, 2, 4, 1, 2, 3, 2, 2, 1, 1, 1, 3, 1, 4, 2, 4, 1, 2, 1, 3, 2, 4, 1, 4, 4, 4, 1, 1, 2, 1, 4, 2, 1, 1, 1, 4, 4, 4, 1, 3, 1, 2, 3, 1, 1, 3, 1, 4, 3, 2, 2, 1, 4, 2, 2, 3, 2, 4, 2, 3, 4, 4, 1, 2, 1, 3, 4, 3, 3, 4, 2, 1, 4, 2, 2, 4, 2, 3, 2, 4, 4, 1, 1, 1, 3, 1, 4, 1, 2, 2, 2, 3, 2, 3, 4, 3, 3, 4, 1, 2, 3, 2, 2, 3, 2, 1, 2, 4, 2, 3, 4, 2, 2, 3, 1, 2, 4, 3, 1, 2, 1, 1, 4, 1, 3, 1, 4, 4, 1, 3, 4, 1, 2, 1, 2, 3, 1, 1, 3, 1, 3, 1, 2, 3, 4, 1, 2, 2, 3, 4, 1, 3, 4, 4, 2, 2, 2, 3, 1, 2, 2, 2, 4, 4, 3, 4, 4, 2, 3, 2, 2, 4, 3, 2, 1, 2, 2, 1, 4, 2, 2, 4, 3, 4, 3, 1, 3, 1, 2, 4, 2, 3, 1, 1, 2, 2, 2, 2, 3, 4, 1, 4, 1, 1, 3, 3, 2, 3, 4, 2, 1, 4, 1, 2, 1, 2, 1, 3, 2, 1, 4, 4, 3, 4, 4, 4, 4, 4, 4, 1, 1, 4, 3, 4, 1, 3, 1, 2, 2, 4, 3, 1, 4, 2, 2, 1, 4, 1, 1, 3, 1, 4, 2, 2, 2, 3, 2, 1, 3, 4, 3, 2, 2, 1, 1, 1, 2, 2, 2, 4, 2, 3, 4, 1, 2, 4, 2, 2, 1, 4, 1, 3, 1, 1, 2, 4, 3, 2, 2, 1, 2, 4, 3, 3, 2, 4, 2, 4, 2, 4, 2, 4, 1, 4, 3, 4, 4, 4, 2, 1, 2, 1, 3, 2, 4, 2, 4, 4, 2, 2, 3, 1, 4, 3, 3, 3, 4, 2, 4, 1, 1, 2, 1, 1, 2, 1, 4, 2, 4, 4, 1, 3, 2, 2, 1, 1, 1, 2, 1, 2, 1, 3, 3, 4, 2, 2, 2, 1, 2, 1, 3, 2, 1, 2, 2, 1, 2, 2, 1, 2, 3, 3, 4, 1, 1, 1, 1, 4, 1, 1, 3, 1, 4, 4, 1, 1, 1, 4, 4, 4, 1, 1, 3, 1, 1, 4, 3, 1, 4, 1, 4, 4, 2, 4, 2, 2, 2, 3, 4, 2, 4, 4, 2, 2, 3, 3, 1, 3, 4, 3, 3, 4, 2, 3, 4, 2, 4, 1, 1, 3, 1, 2, 1, 3, 1, 3, 2, 1, 2, 4, 2, 2, 3, 1, 2, 4, 2, 1, 4, 2, 4, 2, 1, 1, 1, 3, 1, 1, 2, 4, 1, 2, 3, 1, 1, 2, 2, 1, 3, 4, 2, 2, 1, 3, 2, 2, 1, 2, 4, 1, 4, 4, 2, 1, 2, 1, 3, 2, 2, 1, 3, 2, 4, 3, 2, 3, 4, 1, 2, 1, 2, 1, 1, 3, 1, 3, 2, 4, 1, 1, 3, 1, 1, 4, 2, 1, 1, 2, 4, 2, 4, 1, 1, 1, 3, 4, 2, 1, 1, 3, 4, 3, 1, 2, 2, 1, 2, 1, 2, 4, 2, 1, 2, 2, 1, 1, 1, 4, 3, 2, 4, 3, 4, 2, 2, 3, 3, 4, 2, 4, 1, 4, 3, 1, 1, 2, 4, 1, 4, 2, 2, 1, 2, 2, 4, 4, 3, 1, 1, 2, 4, 4, 1, 2, 1, 1, 1, 2, 3, 2, 4, 1, 2, 1, 1, 4, 2, 4, 1, 1, 3, 3, 2, 2, 3, 3, 4, 4, 3, 2, 1, 3, 2, 1, 3, 2, 2, 3, 4, 1, 2, 1, 3, 4, 3, 1, 4, 2, 4, 2, 1, 3, 4, 2, 3, 2, 3, 4, 1, 4, 3, 2, 4, 1, 2, 2, 1, 3, 1, 4, 4, 1, 4, 3, 2, 1, 4, 4, 4, 4, 2, 2, 2, 3, 4, 1, 1, 4, 1, 1, 1, 3, 2, 2, 4, 3, 2, 4, 1, 4, 4, 4, 1, 2, 3, 3, 4, 1, 1, 4, 1, 4, 3, 4, 1, 1, 2, 1, 4, 3, 3, 2, 2, 2, 3, 2, 3, 4, 4, 3, 2, 1, 1, 3, 1, 3, 2, 1, 1, 2, 1, 4, 2, 1, 2, 4, 4, 2, 1, 3, 2, 1, 3, 2, 3, 4, 3, 1, 1, 4, 2, 3, 1, 2, 2, 3, 1, 2, 1, 3, 1, 2, 4, 3, 3, 4, 4, 1, 2, 1, 3, 2, 3, 2, 4, 2, 2, 3, 1, 1, 4, 3, 1, 1, 2, 1, 3, 1, 3, 2, 2, 4, 2, 2, 2, 1, 2, 3, 1, 3, 1, 2, 1, 4, 2, 1, 1, 3, 2, 3, 3, 3, 3, 1, 1, 3, 3, 3, 2, 2, 1, 4, 4, 2, 1, 2, 1, 2, 4, 4, 2, 2, 4, 4, 3, 2, 3, 1, 1, 2, 1, 1, 4, 3, 4, 2, 3, 2, 3, 3, 2, 1, 3, 1, 1, 2, 1, 3, 2, 2, 4, 4, 4, 1, 2, 1, 4, 1, 1, 4, 3, 1, 4, 1, 2, 1, 2, 4, 2, 1, 1, 2, 2, 1, 3, 2, 3, 2, 3, 4, 3, 3, 3, 2, 1, 3, 1, 3, 2, 4, 1, 1, 3, 3, 2, 1, 4, 2, 4, 3, 2, 4, 3, 2, 3, 3, 4, 3, 2, 4, 4, 2, 3, 3, 1, 3, 2, 4, 2, 3, 2, 1, 4, 4, 2, 2, 2, 3, 2, 3, 2, 2, 3, 3, 1, 1, 4, 3, 4, 4, 3, 3, 4, 4, 2, 4, 4, 3, 1, 4, 1, 3, 1, 4, 2, 3, 1, 1, 4, 2, 4, 2, 1, 4, 1, 1, 3, 3, 4, 1, 4, 4, 3, 2, 4, 2, 2, 1, 2, 3, 2, 1, 3, 1, 2, 1, 1, 4, 1, 1, 3, 3, 4, 1, 4, 4, 1, 4, 2, 2, 4, 1, 2, 1, 4, 2, 2, 2, 1, 3, 3, 4, 4, 4, 2, 1, 2, 1, 2, 1, 3, 4, 3, 1, 2, 4, 3, 1, 4, 1, 3, 2, 1, 3, 4, 1, 1, 1, 1, 4, 4, 4, 1, 2, 2, 1, 3, 3, 2, 1, 2, 4, 1, 1, 4, 3, 2, 1, 2, 4, 4, 3, 1, 2, 4, 2, 4, 4, 2, 1, 2, 1, 1, 2, 1, 1, 1, 2, 1, 4, 4, 3, 1, 2, 4, 1, 1, 1, 4, 2, 3, 3, 1, 1, 2, 4, 1, 4, 2, 2, 3, 1, 1, 4, 2, 4, 4, 1, 2, 1, 4, 3, 3, 3, 4, 3, 1, 1, 1, 1, 1, 2, 1, 1, 1, 1, 4, 3, 2, 4, 2, 2, 4, 3, 4, 4, 4, 2, 3, 1, 1, 4, 2, 3, 3, 2, 2, 1, 1, 4, 1, 1, 3, 1, 4, 3, 1, 3, 2, 4, 2, 1, 1, 1, 3, 4, 3, 3, 4, 3, 1, 4, 2, 4, 4, 3, 1, 1, 2, 3, 1, 4, 4, 2, 2, 3, 3, 1, 1, 3, 4, 2, 1, 2, 2, 2, 1, 1, 2, 3, 1, 2, 3, 4, 4, 2, 4, 1, 4, 3, 1, 2, 1, 3, 3, 4, 1, 1, 1, 2, 4, 4, 2, 2, 1, 2, 2, 2, 1, 4, 2, 4, 4, 4, 1, 3, 4, 2, 1, 1, 1, 1, 1, 4, 4, 3, 4, 1, 3, 4, 1, 3, 2, 2, 2, 2, 4, 3, 2, 1, 4, 1, 2, 2, 2, 2, 2, 1, 4, 4, 2, 1, 2, 2, 1, 2, 2, 1, 1, 1, 3, 2, 4, 4, 2, 3, 1, 2, 1, 2, 4, 1, 4, 2, 4, 1, 1, 4, 3, 4, 4, 1, 4, 1, 1, 3, 3, 1, 4, 2, 4, 2, 3, 1, 2, 4, 3, 2, 2, 1, 4, 4, 2, 4, 3, 4, 4, 3, 2, 4, 3, 1, 1, 3, 1, 1, 4, 4, 4, 2, 3, 1, 1, 3, 1, 3, 1, 3, 4, 1, 4, 1, 1, 4, 3, 1, 4, 3, 1, 1, 1, 2, 2, 1, 2, 2, 2, 3, 1, 3, 3, 4, 3, 3, 2, 1, 2, 3, 1, 4, 1, 3, 2, 3, 1, 2, 2, 2, 1, 2, 1, 2, 1, 3, 3, 2, 2, 3, 4, 4, 3, 2, 2, 3, 1, 1, 3, 1, 1, 1, 3, 2, 1, 2, 2, 1, 2, 3, 4, 4, 1, 4, 4, 2, 1, 1, 1, 4, 2, 1, 4, 2, 3, 3, 4, 1, 4, 4, 4, 3, 4, 1, 3, 3, 3, 3, 2, 1, 4, 2, 4, 1, 4, 2, 1, 1, 2, 1, 2, 4, 3, 3, 2, 4, 4, 2, 4, 1, 3, 4, 1, 2, 1, 2, 4, 2, 3, 1, 2, 3, 4, 1, 1, 1, 1, 3, 2, 2, 4, 3, 1, 1, 2, 3, 3, 4, 1, 1, 4, 4, 2, 3, 2, 1, 4, 4, 2, 4, 1, 3, 2, 2, 3, 3, 2, 3, 3, 4, 1, 1, 2, 4, 3, 2, 3, 3, 3, 1, 2, 3, 4, 1, 3, 1, 3, 2, 1, 2, 1, 4, 3, 1, 4, 3, 1, 3, 3, 4, 4, 2, 4, 3, 2, 1, 2, 4, 3, 2, 2, 3, 2, 3, 4, 4, 1, 2, 3, 2, 2, 4, 4, 2, 3, 1, 4, 4, 2, 1, 4, 3, 4, 1, 1, 4, 2, 3, 2, 1, 4, 1, 4, 1, 3, 2, 3, 4, 1, 2, 4, 4, 2, 3, 4, 2, 2, 4, 4, 4, 1, 3, 3, 4, 3, 1, 4, 4, 3, 2, 4, 4, 4, 4, 1, 2, 4, 1, 2, 2, 2, 1, 1, 3, 3, 4, 2, 2, 3, 2, 2, 4, 1, 4, 1, 4, 4, 1, 4, 2, 1, 4, 4, 1, 4, 1, 2, 1, 2, 1, 3, 4, 2, 3, 4, 3, 1, 3, 2, 2, 2, 1, 2, 2, 1, 1, 2, 3, 4, 1, 1, 2, 4, 4, 4, 2, 3, 1, 2, 3, 2, 4, 1, 3, 2, 2, 2, 1, 3, 3, 2, 1, 1, 1, 1, 2, 3, 2, 1, 2, 1, 3, 1, 1, 1, 3, 4, 2, 2, 1, 4, 1, 2, 1, 2, 4, 3, 4, 1, 1, 3, 1, 2, 3, 3, 2, 2, 4, 2, 1, 1, 1, 3, 3, 3, 4, 4, 1, 1, 3, 2, 4, 2, 1, 3, 4, 4, 3, 3, 1, 1, 3, 4, 2, 1, 1, 4, 3, 3, 1, 2, 1, 1, 1, 4, 3, 2, 2, 4, 3, 1, 4, 4, 1, 3, 2, 1, 4, 2, 1, 2, 3, 4, 2, 4, 4, 1, 2, 3, 4, 2, 3, 3, 2, 1, 2, 3, 2, 4, 2, 2, 2, 4, 2, 4, 4, 1, 3, 4, 2, 4, 3, 3, 1, 3, 4, 4, 2, 1, 1, 2, 3, 2, 2, 2, 1, 3, 1, 2, 1, 2, 4, 2, 4, 3, 1, 2, 4, 2, 1, 2, 2, 4, 3, 2, 2, 1, 4, 2, 2, 2, 2, 1, 1, 3, 4, 2, 4, 4, 3, 1, 1, 1, 4, 1, 4, 1, 3, 1, 1, 4, 3, 1, 3, 4, 4, 2, 4, 3, 2, 2, 2, 4, 4, 3, 2, 4, 1, 2, 3, 2, 1, 4, 1, 1, 1, 3, 4, 3, 3, 3, 3, 4, 4, 2, 4, 1, 4, 1, 4, 1, 4, 2, 2, 3, 2, 4, 4, 1, 4, 1, 1, 4, 2, 4, 2, 1, 1, 1, 3, 3, 2, 2, 4, 1, 2, 4, 1, 2, 3, 2, 2, 2, 4, 1, 3, 4, 4, 1, 3, 1, 4, 4, 2, 2, 4, 4, 2, 1, 4, 4, 2, 3, 3, 1, 1, 2, 1, 1, 1, 2, 1, 2, 2, 4, 4, 4, 2, 3, 3, 1, 3, 1, 4, 1, 2, 4, 4, 4, 3, 3, 4, 3, 2, 1, 3, 1, 2, 2, 2, 1, 3, 1, 2, 3, 1, 4, 3, 4, 2, 3, 1, 3, 2, 1, 1, 2, 1, 2, 1, 1, 2, 1, 2, 2, 3, 2, 3, 1, 4, 1, 3, 3, 1, 1, 1, 2, 4, 4, 3, 1, 3, 1, 2, 2, 3, 3, 2, 1, 4, 4, 2, 2, 4, 1, 2, 2, 4, 3, 1, 4, 2, 4, 4, 1, 1, 3, 2, 2, 4, 3, 3, 2, 2, 1, 4, 1, 1, 2, 1, 2, 2, 1, 2, 4, 4, 1, 1, 2, 4, 3, 2, 3, 2, 3, 4, 3, 1, 4, 3, 1, 1, 4, 4, 2, 4, 1, 4, 1, 1, 2, 4, 4, 4, 1, 4, 2, 4, 1, 2, 2, 1, 1, 2, 4, 2, 2, 1, 2, 2, 3, 1, 1, 2, 3, 3, 2, 3, 4, 1, 4, 2, 3, 1, 1, 4, 4, 2, 2, 2, 3, 4, 4, 2, 4, 2, 2, 4, 1, 4, 1, 1, 3, 3, 3, 1, 4, 4, 1, 4, 3, 3, 3, 1, 1, 4, 1, 1, 4, 2, 4, 4, 2, 4, 4, 1, 1, 1, 1, 3, 1, 1, 1, 2, 4, 2, 2, 4, 2, 2, 4, 4, 3, 2, 1, 2, 4, 1, 1, 4, 2, 3, 1, 2, 1, 1, 4, 2, 2, 2, 2, 1, 4, 2, 2, 2, 2, 2, 3, 2, 4, 1, 2, 2, 3, 3, 3, 1, 2, 2, 4, 3, 3, 1, 2, 3, 2, 1, 1, 4, 4, 3, 3, 4, 3, 1, 3, 3, 2, 3, 1, 2, 3, 3, 2, 1, 1, 2, 2, 4, 2, 1, 2, 4, 3, 1, 1, 3, 2, 4, 1, 1, 1, 4, 4, 2, 1, 1, 4, 3, 2, 3, 4, 4, 1, 2, 1, 3, 3, 1, 4, 1, 4, 4, 4, 3, 4, 4, 4, 3, 1, 4, 3, 1, 2, 1, 1, 4, 2, 1, 2, 2, 4, 3, 3, 1, 3, 4, 4, 1, 1, 3, 3, 2, 3, 2, 4, 2, 1, 4, 1, 2, 3, 3, 2, 2, 2, 3, 2, 3, 2, 2, 2, 2, 1, 3, 4, 3, 2, 1, 4, 2, 2, 2, 2, 2, 4, 1, 2, 1, 3, 1, 3, 1, 3, 4, 4, 1, 3, 3, 3, 1, 3, 4, 3, 3, 4, 2, 1, 1, 2, 1, 2, 1, 2, 1, 1, 4, 1, 2, 2, 4, 4, 4, 1, 3, 3, 1, 1, 3, 3, 2, 1, 4, 4, 1, 3, 2, 1, 4, 4, 1, 1, 2, 4, 4, 2, 3, 1, 4, 4, 4, 1, 1, 2, 4, 3, 1, 1, 2, 3, 2, 3, 2, 3, 2, 4, 1, 1, 1, 2, 1, 4, 2, 3, 1, 3, 4, 1, 1, 1, 2, 1, 1, 3, 2, 1, 2, 2, 4, 3, 2, 1, 4, 2, 4, 4, 4, 1, 3, 3, 1, 2, 1, 4, 3, 3, 2, 1, 1, 2, 3, 3, 3, 2, 2, 3, 2, 3, 3, 2, 2, 3, 1, 2, 1, 3, 4, 1, 2, 1, 1, 4, 2, 1, 4, 3, 4, 1, 2, 3, 1, 1, 4, 3, 3, 3, 1, 1, 4, 4, 1, 3, 1, 1, 4, 1, 3, 1, 1, 1, 1, 2, 2, 4, 1, 1, 4, 2, 2, 4, 1, 4, 1, 3, 3, 1, 4, 4, 3, 3, 2, 1, 1, 2, 4, 4, 1, 3, 3, 2, 4, 2, 2, 4, 3, 1, 4, 3, 4, 4, 2, 4, 2, 4, 4, 3, 4, 1, 2, 3, 2, 1, 1, 3, 1, 3, 3, 2, 2, 4, 3, 3, 2, 3, 2, 2, 3, 1, 1, 1, 2, 3, 2, 2, 1, 1, 1, 4, 1, 4, 1, 1, 2, 3, 2, 4, 4, 4, 4, 3, 4, 2, 1, 3, 2, 2, 2, 1, 2, 4, 1, 1, 2, 4, 1, 2, 1, 3, 1, 1, 1, 2, 4, 2, 4, 2, 3, 2, 4, 3, 2, 3, 3, 1, 4, 1, 4, 3, 2, 3, 3, 3, 2, 4, 3, 1, 3, 3, 4, 1, 3, 1, 2, 2, 1, 1, 4, 4, 3, 2, 2, 1, 3, 1, 3, 2, 2, 1, 2, 1, 1, 1, 1, 2, 4, 2, 3, 4, 3, 1, 3, 2, 4, 2, 1, 1, 2, 3, 1, 1, 1, 2, 2, 3, 1, 4, 3, 3, 2, 1, 1, 3, 2, 1, 2, 1, 4, 1, 1, 4, 3, 3, 2, 4, 2, 1, 1, 1, 3, 3, 2, 1, 1, 1, 1, 4, 2, 2, 1, 3, 4, 4, 4, 1, 3, 4, 1, 3, 2, 4, 1, 4, 3, 1, 3, 1, 1, 4, 1, 4, 2, 3, 1, 4, 2, 3, 3], \"y0\": \" \", \"yaxis\": \"y\"}],\n",
              "                        {\"boxmode\": \"group\", \"legend\": {\"tracegroupgap\": 0}, \"template\": {\"data\": {\"bar\": [{\"error_x\": {\"color\": \"#2a3f5f\"}, \"error_y\": {\"color\": \"#2a3f5f\"}, \"marker\": {\"line\": {\"color\": \"#E5ECF6\", \"width\": 0.5}}, \"type\": \"bar\"}], \"barpolar\": [{\"marker\": {\"line\": {\"color\": \"#E5ECF6\", \"width\": 0.5}}, \"type\": \"barpolar\"}], \"carpet\": [{\"aaxis\": {\"endlinecolor\": \"#2a3f5f\", \"gridcolor\": \"white\", \"linecolor\": \"white\", \"minorgridcolor\": \"white\", \"startlinecolor\": \"#2a3f5f\"}, \"baxis\": {\"endlinecolor\": \"#2a3f5f\", \"gridcolor\": \"white\", \"linecolor\": \"white\", \"minorgridcolor\": \"white\", \"startlinecolor\": \"#2a3f5f\"}, \"type\": \"carpet\"}], \"choropleth\": [{\"colorbar\": {\"outlinewidth\": 0, \"ticks\": \"\"}, \"type\": \"choropleth\"}], \"contour\": [{\"colorbar\": {\"outlinewidth\": 0, \"ticks\": \"\"}, \"colorscale\": [[0.0, \"#0d0887\"], [0.1111111111111111, \"#46039f\"], [0.2222222222222222, \"#7201a8\"], [0.3333333333333333, \"#9c179e\"], [0.4444444444444444, \"#bd3786\"], [0.5555555555555556, \"#d8576b\"], [0.6666666666666666, \"#ed7953\"], [0.7777777777777778, \"#fb9f3a\"], [0.8888888888888888, \"#fdca26\"], [1.0, \"#f0f921\"]], \"type\": \"contour\"}], \"contourcarpet\": [{\"colorbar\": {\"outlinewidth\": 0, \"ticks\": \"\"}, \"type\": \"contourcarpet\"}], \"heatmap\": [{\"colorbar\": {\"outlinewidth\": 0, \"ticks\": \"\"}, \"colorscale\": [[0.0, \"#0d0887\"], [0.1111111111111111, \"#46039f\"], [0.2222222222222222, \"#7201a8\"], [0.3333333333333333, \"#9c179e\"], [0.4444444444444444, \"#bd3786\"], [0.5555555555555556, \"#d8576b\"], [0.6666666666666666, \"#ed7953\"], [0.7777777777777778, \"#fb9f3a\"], [0.8888888888888888, \"#fdca26\"], [1.0, \"#f0f921\"]], \"type\": \"heatmap\"}], \"heatmapgl\": [{\"colorbar\": {\"outlinewidth\": 0, \"ticks\": \"\"}, \"colorscale\": [[0.0, \"#0d0887\"], [0.1111111111111111, \"#46039f\"], [0.2222222222222222, \"#7201a8\"], [0.3333333333333333, \"#9c179e\"], [0.4444444444444444, \"#bd3786\"], [0.5555555555555556, \"#d8576b\"], [0.6666666666666666, \"#ed7953\"], [0.7777777777777778, \"#fb9f3a\"], [0.8888888888888888, \"#fdca26\"], [1.0, \"#f0f921\"]], \"type\": \"heatmapgl\"}], \"histogram\": [{\"marker\": {\"colorbar\": {\"outlinewidth\": 0, \"ticks\": \"\"}}, \"type\": \"histogram\"}], \"histogram2d\": [{\"colorbar\": {\"outlinewidth\": 0, \"ticks\": \"\"}, \"colorscale\": [[0.0, \"#0d0887\"], [0.1111111111111111, \"#46039f\"], [0.2222222222222222, \"#7201a8\"], [0.3333333333333333, \"#9c179e\"], [0.4444444444444444, \"#bd3786\"], [0.5555555555555556, \"#d8576b\"], [0.6666666666666666, \"#ed7953\"], [0.7777777777777778, \"#fb9f3a\"], [0.8888888888888888, \"#fdca26\"], [1.0, \"#f0f921\"]], \"type\": \"histogram2d\"}], \"histogram2dcontour\": [{\"colorbar\": {\"outlinewidth\": 0, \"ticks\": \"\"}, \"colorscale\": [[0.0, \"#0d0887\"], [0.1111111111111111, \"#46039f\"], [0.2222222222222222, \"#7201a8\"], [0.3333333333333333, \"#9c179e\"], [0.4444444444444444, \"#bd3786\"], [0.5555555555555556, \"#d8576b\"], [0.6666666666666666, \"#ed7953\"], [0.7777777777777778, \"#fb9f3a\"], [0.8888888888888888, \"#fdca26\"], [1.0, \"#f0f921\"]], \"type\": \"histogram2dcontour\"}], \"mesh3d\": [{\"colorbar\": {\"outlinewidth\": 0, \"ticks\": \"\"}, \"type\": \"mesh3d\"}], \"parcoords\": [{\"line\": {\"colorbar\": {\"outlinewidth\": 0, \"ticks\": \"\"}}, \"type\": \"parcoords\"}], \"pie\": [{\"automargin\": true, \"type\": \"pie\"}], \"scatter\": [{\"marker\": {\"colorbar\": {\"outlinewidth\": 0, \"ticks\": \"\"}}, \"type\": \"scatter\"}], \"scatter3d\": [{\"line\": {\"colorbar\": {\"outlinewidth\": 0, \"ticks\": \"\"}}, \"marker\": {\"colorbar\": {\"outlinewidth\": 0, \"ticks\": \"\"}}, \"type\": \"scatter3d\"}], \"scattercarpet\": [{\"marker\": {\"colorbar\": {\"outlinewidth\": 0, \"ticks\": \"\"}}, \"type\": \"scattercarpet\"}], \"scattergeo\": [{\"marker\": {\"colorbar\": {\"outlinewidth\": 0, \"ticks\": \"\"}}, \"type\": \"scattergeo\"}], \"scattergl\": [{\"marker\": {\"colorbar\": {\"outlinewidth\": 0, \"ticks\": \"\"}}, \"type\": \"scattergl\"}], \"scattermapbox\": [{\"marker\": {\"colorbar\": {\"outlinewidth\": 0, \"ticks\": \"\"}}, \"type\": \"scattermapbox\"}], \"scatterpolar\": [{\"marker\": {\"colorbar\": {\"outlinewidth\": 0, \"ticks\": \"\"}}, \"type\": \"scatterpolar\"}], \"scatterpolargl\": [{\"marker\": {\"colorbar\": {\"outlinewidth\": 0, \"ticks\": \"\"}}, \"type\": \"scatterpolargl\"}], \"scatterternary\": [{\"marker\": {\"colorbar\": {\"outlinewidth\": 0, \"ticks\": \"\"}}, \"type\": \"scatterternary\"}], \"surface\": [{\"colorbar\": {\"outlinewidth\": 0, \"ticks\": \"\"}, \"colorscale\": [[0.0, \"#0d0887\"], [0.1111111111111111, \"#46039f\"], [0.2222222222222222, \"#7201a8\"], [0.3333333333333333, \"#9c179e\"], [0.4444444444444444, \"#bd3786\"], [0.5555555555555556, \"#d8576b\"], [0.6666666666666666, \"#ed7953\"], [0.7777777777777778, \"#fb9f3a\"], [0.8888888888888888, \"#fdca26\"], [1.0, \"#f0f921\"]], \"type\": \"surface\"}], \"table\": [{\"cells\": {\"fill\": {\"color\": \"#EBF0F8\"}, \"line\": {\"color\": \"white\"}}, \"header\": {\"fill\": {\"color\": \"#C8D4E3\"}, \"line\": {\"color\": \"white\"}}, \"type\": \"table\"}]}, \"layout\": {\"annotationdefaults\": {\"arrowcolor\": \"#2a3f5f\", \"arrowhead\": 0, \"arrowwidth\": 1}, \"coloraxis\": {\"colorbar\": {\"outlinewidth\": 0, \"ticks\": \"\"}}, \"colorscale\": {\"diverging\": [[0, \"#8e0152\"], [0.1, \"#c51b7d\"], [0.2, \"#de77ae\"], [0.3, \"#f1b6da\"], [0.4, \"#fde0ef\"], [0.5, \"#f7f7f7\"], [0.6, \"#e6f5d0\"], [0.7, \"#b8e186\"], [0.8, \"#7fbc41\"], [0.9, \"#4d9221\"], [1, \"#276419\"]], \"sequential\": [[0.0, \"#0d0887\"], [0.1111111111111111, \"#46039f\"], [0.2222222222222222, \"#7201a8\"], [0.3333333333333333, \"#9c179e\"], [0.4444444444444444, \"#bd3786\"], [0.5555555555555556, \"#d8576b\"], [0.6666666666666666, \"#ed7953\"], [0.7777777777777778, \"#fb9f3a\"], [0.8888888888888888, \"#fdca26\"], [1.0, \"#f0f921\"]], \"sequentialminus\": [[0.0, \"#0d0887\"], [0.1111111111111111, \"#46039f\"], [0.2222222222222222, \"#7201a8\"], [0.3333333333333333, \"#9c179e\"], [0.4444444444444444, \"#bd3786\"], [0.5555555555555556, \"#d8576b\"], [0.6666666666666666, \"#ed7953\"], [0.7777777777777778, \"#fb9f3a\"], [0.8888888888888888, \"#fdca26\"], [1.0, \"#f0f921\"]]}, \"colorway\": [\"#636efa\", \"#EF553B\", \"#00cc96\", \"#ab63fa\", \"#FFA15A\", \"#19d3f3\", \"#FF6692\", \"#B6E880\", \"#FF97FF\", \"#FECB52\"], \"font\": {\"color\": \"#2a3f5f\"}, \"geo\": {\"bgcolor\": \"white\", \"lakecolor\": \"white\", \"landcolor\": \"#E5ECF6\", \"showlakes\": true, \"showland\": true, \"subunitcolor\": \"white\"}, \"hoverlabel\": {\"align\": \"left\"}, \"hovermode\": \"closest\", \"mapbox\": {\"style\": \"light\"}, \"paper_bgcolor\": \"white\", \"plot_bgcolor\": \"#E5ECF6\", \"polar\": {\"angularaxis\": {\"gridcolor\": \"white\", \"linecolor\": \"white\", \"ticks\": \"\"}, \"bgcolor\": \"#E5ECF6\", \"radialaxis\": {\"gridcolor\": \"white\", \"linecolor\": \"white\", \"ticks\": \"\"}}, \"scene\": {\"xaxis\": {\"backgroundcolor\": \"#E5ECF6\", \"gridcolor\": \"white\", \"gridwidth\": 2, \"linecolor\": \"white\", \"showbackground\": true, \"ticks\": \"\", \"zerolinecolor\": \"white\"}, \"yaxis\": {\"backgroundcolor\": \"#E5ECF6\", \"gridcolor\": \"white\", \"gridwidth\": 2, \"linecolor\": \"white\", \"showbackground\": true, \"ticks\": \"\", \"zerolinecolor\": \"white\"}, \"zaxis\": {\"backgroundcolor\": \"#E5ECF6\", \"gridcolor\": \"white\", \"gridwidth\": 2, \"linecolor\": \"white\", \"showbackground\": true, \"ticks\": \"\", \"zerolinecolor\": \"white\"}}, \"shapedefaults\": {\"line\": {\"color\": \"#2a3f5f\"}}, \"ternary\": {\"aaxis\": {\"gridcolor\": \"white\", \"linecolor\": \"white\", \"ticks\": \"\"}, \"baxis\": {\"gridcolor\": \"white\", \"linecolor\": \"white\", \"ticks\": \"\"}, \"bgcolor\": \"#E5ECF6\", \"caxis\": {\"gridcolor\": \"white\", \"linecolor\": \"white\", \"ticks\": \"\"}}, \"title\": {\"x\": 0.05}, \"xaxis\": {\"automargin\": true, \"gridcolor\": \"white\", \"linecolor\": \"white\", \"ticks\": \"\", \"title\": {\"standoff\": 15}, \"zerolinecolor\": \"white\", \"zerolinewidth\": 2}, \"yaxis\": {\"automargin\": true, \"gridcolor\": \"white\", \"linecolor\": \"white\", \"ticks\": \"\", \"title\": {\"standoff\": 15}, \"zerolinecolor\": \"white\", \"zerolinewidth\": 2}}}, \"title\": {\"text\": \"5 Numbers Summary according to Family using box plot\"}, \"xaxis\": {\"anchor\": \"y\", \"domain\": [0.0, 1.0]}, \"yaxis\": {\"anchor\": \"x\", \"domain\": [0.0, 1.0], \"title\": {\"text\": \"Family\"}}},\n",
              "                        {\"responsive\": true}\n",
              "                    ).then(function(){\n",
              "                            \n",
              "var gd = document.getElementById('506f74ce-2853-4fab-ae49-72f9fbe15327');\n",
              "var x = new MutationObserver(function (mutations, observer) {{\n",
              "        var display = window.getComputedStyle(gd).display;\n",
              "        if (!display || display === 'none') {{\n",
              "            console.log([gd, 'removed!']);\n",
              "            Plotly.purge(gd);\n",
              "            observer.disconnect();\n",
              "        }}\n",
              "}});\n",
              "\n",
              "// Listen for the removal of the full notebook cells\n",
              "var notebookContainer = gd.closest('#notebook-container');\n",
              "if (notebookContainer) {{\n",
              "    x.observe(notebookContainer, {childList: true});\n",
              "}}\n",
              "\n",
              "// Listen for the clearing of the current output cell\n",
              "var outputEl = gd.closest('.output');\n",
              "if (outputEl) {{\n",
              "    x.observe(outputEl, {childList: true});\n",
              "}}\n",
              "\n",
              "                        })\n",
              "                };\n",
              "                \n",
              "            </script>\n",
              "        </div>\n",
              "</body>\n",
              "</html>"
            ]
          },
          "metadata": {}
        }
      ]
    },
    {
      "cell_type": "markdown",
      "source": [
        "**Skewness**\n",
        "\n",
        "skewness is a measure of asymmetry of the probability distribution about its mean and helps describe the shape of the probability distribution.\n",
        "\n",
        "- Positive – observed when the distribution has a thicker right tail and  mode<median<mean.\n",
        "- Negative – observed when the distribution has a thicker left tail and mode>median>mean.\n",
        "- Zero (or nearly zero) – observed when the distribution is symmetric about its mean and approximately mode=median=mean.\n",
        "\n",
        "![1_nj-Ch3AUFmkd0JUSOW_bTQ.jpeg](data:image/jpeg;base64,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)"
      ],
      "metadata": {
        "id": "1kniRgFvhXXv"
      }
    },
    {
      "cell_type": "code",
      "source": [
        "df.skew()"
      ],
      "metadata": {
        "colab": {
          "base_uri": "https://localhost:8080/"
        },
        "id": "4eKbs2xohG2e",
        "outputId": "019edd9b-3cad-47db-91a8-3d875abeb32f"
      },
      "execution_count": 9,
      "outputs": [
        {
          "output_type": "execute_result",
          "data": {
            "text/plain": [
              "Age                  -0.029341\n",
              "Experience           -0.026325\n",
              "Income                0.841339\n",
              "Family                0.155221\n",
              "CCAvg                 1.598457\n",
              "Education             0.227093\n",
              "Mortgage              2.104002\n",
              "Personal Loan         2.743607\n",
              "Securities Account    2.588268\n",
              "CD Account            3.691714\n",
              "Online               -0.394785\n",
              "CreditCard            0.904589\n",
              "dtype: float64"
            ]
          },
          "metadata": {},
          "execution_count": 9
        }
      ]
    },
    {
      "cell_type": "markdown",
      "source": [
        "**3.1 Detecting & Solving negtive numbers in Experience column**"
      ],
      "metadata": {
        "id": "WRy9ilDISczE"
      }
    },
    {
      "cell_type": "code",
      "source": [
        "px.box(df, y='Experience')"
      ],
      "metadata": {
        "colab": {
          "base_uri": "https://localhost:8080/",
          "height": 542
        },
        "id": "umK7buXPS5go",
        "outputId": "32100ff6-e55c-465e-e4f9-51e77d21c014"
      },
      "execution_count": 10,
      "outputs": [
        {
          "output_type": "display_data",
          "data": {
            "text/html": [
              "<html>\n",
              "<head><meta charset=\"utf-8\" /></head>\n",
              "<body>\n",
              "    <div>\n",
              "            <script src=\"https://cdnjs.cloudflare.com/ajax/libs/mathjax/2.7.5/MathJax.js?config=TeX-AMS-MML_SVG\"></script><script type=\"text/javascript\">if (window.MathJax) {MathJax.Hub.Config({SVG: {font: \"STIX-Web\"}});}</script>\n",
              "                <script type=\"text/javascript\">window.PlotlyConfig = {MathJaxConfig: 'local'};</script>\n",
              "        <script src=\"https://cdn.plot.ly/plotly-latest.min.js\"></script>    \n",
              "            <div id=\"e654798a-4f32-4987-8d8d-c238aff1d040\" class=\"plotly-graph-div\" style=\"height:525px; width:100%;\"></div>\n",
              "            <script type=\"text/javascript\">\n",
              "                \n",
              "                    window.PLOTLYENV=window.PLOTLYENV || {};\n",
              "                    \n",
              "                if (document.getElementById(\"e654798a-4f32-4987-8d8d-c238aff1d040\")) {\n",
              "                    Plotly.newPlot(\n",
              "                        'e654798a-4f32-4987-8d8d-c238aff1d040',\n",
              "                        [{\"alignmentgroup\": \"True\", \"hoverlabel\": {\"namelength\": 0}, \"hovertemplate\": \"Experience=%{y}\", \"legendgroup\": \"\", \"marker\": {\"color\": \"#636efa\"}, \"name\": \"\", \"notched\": false, \"offsetgroup\": \"\", \"orientation\": \"v\", \"showlegend\": false, \"type\": \"box\", \"x0\": \" \", \"xaxis\": \"x\", \"y\": [1, 19, 15, 9, 8, 13, 27, 24, 10, 9, 39, 5, 23, 32, 41, 30, 14, 18, 21, 28, 31, 27, 5, 18, 11, 19, 16, 20, 30, 13, 35, 16, 28, 6, 5, 24, 35, 25, 18, 13, 32, 9, 7, 15, 20, 31, 14, 12, 26, 16, 8, 37, 6, 26, 5, 17, 30, 31, 2, 5, 24, 21, 18, 17, 23, 35, 36, 23, 21, 29, 18, 29, 20, 16, 3, 7, 32, 20, 30, 26, 36, 22, 16, 9, 22, 2, 16, 22, 41, -1, 30, 10, 19, 34, 39, 12, 15, 28, 23, 41, 23, 36, 23, 18, 32, 0, 17, 18, 7, 17, 14, 38, 15, 34, 14, 40, 29, 33, 16, 7, 29, 26, 32, 13, 15, 35, 5, 8, 14, 16, 4, 34, 1, 4, 29, 33, 32, 25, 34, 35, 25, 11, 9, 1, 23, 35, 19, 25, 28, 22, 22, 0, 32, 36, 29, 0, 0, 17, 6, 35, 0, 35, 12, 4, 27, 1, 1, 9, 26, 1, 1, 28, 13, 34, 17, 20, 25, 3, 29, 37, 27, 12, 0, 3, 26, 14, 23, 21, 40, 29, 36, 25, 23, 24, 29, 10, 24, 31, 3, 11, 6, 9, 3, 34, 31, 12, 25, 10, 16, 39, 26, 18, 22, 33, 28, 14, 3, 14, 20, 30, 6, 19, 2, 25, 27, 13, -1, 23, 22, 24, 22, 10, 19, 37, 1, 8, 18, 38, 32, 3, 26, 22, 16, 39, 17, 11, 14, 29, 29, 1, 6, 28, 40, 21, 41, 40, 0, 41, 9, 30, 27, 16, 23, 1, 19, 23, 38, 22, 39, 13, 36, 14, 3, 16, 5, 24, 5, 2, 26, 14, 8, 31, 9, 36, 19, 13, 25, 12, 19, 15, 25, 16, 5, 19, 9, 34, 9, 25, 19, 15, 9, 39, 21, 25, 23, 35, 29, 18, 8, 38, 32, 26, 6, 9, 37, -2, 31, 16, 2, 39, 34, 20, 39, 34, 30, 28, 27, 32, 35, 4, 30, 6, 33, 38, 23, 32, 12, 27, 3, 13, 34, 6, 19, 5, 24, 27, 19, 0, 15, 2, 14, 4, 28, 29, 20, 19, 30, 14, 6, 6, 10, 19, 32, 0, 24, 32, 24, 8, 37, 6, 12, 34, 30, 25, 5, 7, 21, 5, 23, 0, 33, 29, 41, 18, 25, 9, 5, 5, 30, 20, 19, 32, 29, 28, 9, 35, 24, 2, 30, 3, 10, 2, 28, 30, 36, 11, 19, 40, 36, 22, 23, 36, 20, 7, 28, 8, 15, 29, 0, 33, 22, 3, 20, 19, 30, 3, 18, 7, 38, 13, 26, 13, 17, 28, 6, 26, 35, 9, 32, 23, 39, 27, 28, 24, 40, 32, 23, 23, 4, 37, 25, -2, 13, 28, 24, 4, 39, 3, 24, 10, 36, 30, 4, 22, 19, 42, 0, 20, 10, 23, 6, 24, 19, 39, 34, 19, 34, 39, 20, 36, 29, 9, 32, 5, 1, 34, 30, 13, 13, 28, 10, 18, 36, 24, 17, 0, 24, 22, 8, 25, 33, 26, 19, 5, 10, 12, 25, 40, 22, 28, 26, 5, 14, 6, 1, 16, 27, 27, 4, 9, 37, 24, 11, 31, -1, 38, 2, 8, 39, 15, 30, 6, 37, 2, 28, 25, -1, 20, 5, 32, -1, 6, 14, 38, 10, 19, 2, 14, 23, 36, 34, 34, 3, 28, 2, 8, 34, 15, 5, 25, 18, 33, 3, 27, 7, 29, 28, 8, 9, 14, 25, 9, 15, 28, 5, 30, -1, 28, 19, 33, 22, 3, 18, -1, 16, 4, 14, 24, 17, 7, 3, 5, 20, 7, 26, 18, 22, -2, 31, 4, 30, 32, 5, 38, 3, 31, 8, 3, 2, 11, 28, 23, 40, 35, 12, 37, 14, 20, 37, 27, 8, 17, 17, 19, 6, 28, 6, 19, 24, 19, 7, 18, 32, 31, 31, 35, 16, 28, 16, 36, 18, 10, 24, 21, 27, 9, 33, 38, 25, -1, 22, 4, 9, 23, 29, 25, 11, 8, 26, 39, 14, 38, 41, 20, 30, 24, 26, 39, 41, 29, -1, 41, 27, 10, 23, 2, 23, 21, 27, 31, 36, 9, 34, 16, 17, 8, -1, 22, 20, 30, 34, 18, 2, 15, 7, 4, 27, 17, 38, 20, 11, 19, 9, 17, 32, 36, 34, 20, 10, 4, 17, 37, 16, 9, 23, 23, 5, 34, 31, 35, 32, 24, 21, 24, 38, 15, 33, 37, 20, 28, 18, 3, 1, 24, 42, 7, 35, 37, 10, 23, 27, 37, 6, 37, 20, 4, 37, 32, 17, 34, 5, 28, 39, 23, 14, 30, 31, 28, 39, 28, 3, 24, 6, 28, 13, 21, 12, 39, 19, 6, 2, 18, 28, 16, 29, 39, 26, 31, 36, 28, 7, 32, 30, 20, 22, 22, 21, 15, 34, 3, 30, 29, 16, -2, 29, 32, 6, 17, 2, 3, 7, 23, 12, 27, 28, 29, 27, 27, 39, 29, 6, 33, 10, 25, 8, 38, 23, 15, 27, 30, 25, 13, 35, 9, 15, 11, 21, 37, 9, 30, 5, 31, 10, 35, 12, 33, 17, 4, 20, 15, 3, 33, 10, 39, 23, 17, 27, 14, 32, 8, 20, 16, 7, 2, 28, 33, 38, 25, 19, 37, 31, 30, 23, 30, 2, 34, 20, 35, 15, 30, 19, 28, 7, 0, 4, 36, 14, 11, 3, 37, 31, 19, 25, 26, 13, 5, 29, 16, 33, -2, 29, 6, 12, 32, 4, 17, 24, 37, 32, 3, 4, 33, 33, 18, 2, 22, 3, 40, 36, -1, 36, 21, 10, 32, 41, 28, 20, 20, 16, 27, 1, 5, 6, 30, 30, 18, 9, 40, 10, 30, 4, 3, 27, 23, 33, 20, 32, 13, 37, 32, 36, 13, 29, 4, 15, 32, 11, 29, 4, 16, 6, 34, 20, 26, 12, 35, 11, 32, 29, 24, 22, 9, 21, 14, 1, 36, 32, 30, 31, 15, 32, 19, 16, 18, 38, 38, 30, 30, 26, 26, 13, 12, 33, 22, 25, 22, 27, 36, 39, 16, 10, 14, 9, 15, 8, 3, 6, 20, 27, 35, 35, 32, 20, 1, 23, 12, 38, 19, 24, 3, 3, 27, 25, 13, 26, 34, 5, 5, 15, 3, 29, 8, 3, 20, 33, 37, 4, 7, 4, 17, 35, 32, 12, 34, 23, 17, 28, 11, 30, 16, 6, 32, 34, 27, 24, 18, 26, 31, 37, 10, 27, 7, 17, 32, 38, 6, 6, 0, 34, 2, 34, 22, 21, 30, 17, 1, 5, 24, 9, 18, 9, 14, 24, 8, 14, 15, 13, 3, 27, 30, 22, 28, 5, 3, 35, 26, 37, 13, 35, 29, 5, 17, 1, 3, 24, 25, 18, 24, 20, 6, 16, 17, 3, 14, 25, 10, 13, 21, 29, 41, 33, 28, 28, 2, 8, 24, 18, 18, 17, 16, 8, 6, 7, 20, 12, 13, 8, 9, 5, 4, 32, 27, 9, 4, 14, 33, 21, 26, 6, 28, 6, 7, 20, 7, 24, 6, 7, 13, 15, 32, 31, 23, 37, 30, 35, 16, 25, 23, 16, 26, 1, 11, 14, 9, 17, 19, 5, 12, 37, 16, 10, 40, 24, -1, 10, 4, 3, 3, 7, 11, 17, 0, 2, 25, 9, 19, 38, 36, 19, 17, 15, 5, 20, 32, 3, 7, 13, 23, 14, 4, 12, 8, 11, 37, 1, 7, 37, 12, 26, 21, 24, 36, 8, 2, 36, 20, 25, 20, 36, 18, 17, 5, 37, 19, 35, 6, 36, 13, 30, 32, 1, 41, 19, 29, 18, 28, 6, 13, 2, 26, 27, 38, 4, 10, 8, 21, 22, 28, 19, 27, 20, 13, 17, 33, 12, 1, 7, 37, 8, 27, 31, 39, 1, 5, 33, 2, 39, 23, 9, 11, 18, 4, 39, 35, 37, 2, 16, 20, 10, 22, 40, 15, 26, 6, 40, 13, 3, 18, 38, 21, 38, 34, 30, 31, 10, 17, 6, 35, 14, 25, 36, 17, 16, 5, 26, 6, 9, 2, 24, 14, 36, 11, 21, 27, 6, 25, 3, 30, 26, 6, 7, 3, 5, 26, 28, 24, 5, 35, 36, 4, 9, 7, 5, 38, 22, 24, 12, 0, 27, 25, 11, 16, 12, 17, 25, 32, 20, 34, 14, 2, 2, 35, 27, 25, 10, 37, 16, 29, 25, 40, 28, 26, 5, 8, 19, 35, 34, 38, 21, 33, 5, 32, 13, 35, 34, 26, 39, 3, 29, 37, 34, 12, 8, 41, 31, 31, 3, 10, 28, 15, 3, 18, 23, 37, 27, 23, 18, 41, 18, 16, 8, 15, 29, 6, 28, 22, 23, 39, 14, 17, 35, 39, 33, 24, 33, 8, 15, 18, 41, 4, 4, 17, 8, 30, 3, 38, 11, 5, -1, 5, 7, 34, 2, 25, 41, 17, 21, 3, 37, 29, 15, 33, 13, 12, 33, 21, 4, 28, 16, 37, 34, 20, 28, 5, 25, 39, 11, 16, 25, 20, 16, 28, 21, 10, 4, 19, 9, 36, 18, 35, 28, 26, 8, 35, 23, 19, 37, 14, 39, 4, 42, 9, 35, 32, 30, 9, 9, 4, 12, 38, 4, 12, 8, 34, 35, 28, 12, 21, 23, 26, 28, 4, 39, 8, 6, 25, 27, 18, 10, 26, 32, 32, 28, 21, 20, 28, 17, 26, 17, 38, 30, 8, -1, 16, 16, 18, 10, 33, 9, 14, 21, 13, 20, 37, 34, 37, 12, 34, 30, 5, 8, 35, 20, 26, 15, 29, 9, 21, 32, 31, 14, 25, 5, 22, 15, 33, 1, 25, 10, 35, 10, 20, 9, 29, 40, 9, 35, 39, 33, 27, 16, 13, 40, 20, 37, 26, 18, 8, 13, 5, 14, 29, 19, 36, 20, 31, 33, 28, 3, 32, 23, 13, 31, 38, 12, 26, 20, 41, 15, 24, 36, 7, 14, 6, 29, 28, 10, 29, 10, 41, 14, 32, 17, 34, 23, 36, 23, 36, 3, 21, 14, 6, 14, 38, 2, 30, 6, 20, 18, 29, 17, 36, 5, 38, 34, 24, 39, 6, 7, 31, 10, 34, 3, 16, 35, 32, 26, 5, 21, 4, 6, 36, 18, 1, 34, 11, 15, 5, 25, 7, 11, 14, 38, 32, 35, 12, 25, 20, 37, 18, 14, 9, 23, 5, 11, 35, 20, 10, 30, 31, 36, 8, 26, 29, 34, 16, 38, 39, 34, 34, 1, 32, 32, 31, 23, 6, 21, 38, 20, 25, 16, 3, 30, 41, 22, 24, 31, 37, 20, 34, 5, 3, 20, 20, 27, 13, 8, 7, 16, 12, 28, 29, 2, 15, 19, 32, 33, 26, 26, 20, 17, 19, 0, 16, 10, 36, 31, 19, 36, 7, 20, 21, 38, 24, 3, 12, 36, 5, 23, 22, 34, 31, 8, 29, 24, 3, 17, 9, 14, 6, 16, 27, 35, 24, 21, 0, 38, 14, 18, 36, 37, 21, 11, 5, 18, 22, 26, 27, 3, 9, 24, 26, 11, 27, 29, 3, 11, 6, 13, 20, 20, 22, 20, 9, 32, 24, 32, 10, 20, 14, 33, 10, 3, 32, 16, 26, 36, 20, 31, 10, 34, 3, 19, 36, 22, 39, 19, 11, 20, 34, 22, 7, 23, 8, 23, 32, 33, 30, 4, 29, 13, 22, 29, 9, 16, 23, 19, 18, 7, 2, 25, 17, 29, 6, 40, 18, 32, 0, 10, 26, 10, 8, 6, 25, 25, 39, 24, 13, 11, 41, 6, 38, 17, 22, 36, 6, 24, 39, 1, 30, 37, 5, 17, 4, 11, 3, 38, 24, 30, 30, 19, 19, 32, 30, 33, 6, 41, 7, 10, 30, 27, 18, 30, 24, 25, 2, 7, 29, 24, 33, 36, 19, 14, 26, 14, -1, 17, 18, 26, 30, 18, 35, 16, 33, 24, 11, 32, 32, 9, 13, 28, 21, 15, 19, 38, 19, 6, 10, 34, 19, 29, 2, 39, 39, 20, 9, 24, 25, 4, 31, 33, 19, 36, 23, 28, 33, 23, 28, 15, 34, 12, 21, 5, 25, 20, 17, 18, 4, 2, 24, 19, 26, 4, 38, 10, 20, 26, 18, 24, 38, 3, 17, 2, 22, 13, 3, 13, 15, 11, 17, 19, 26, 33, 5, 1, 7, 17, 31, 28, 35, 8, 22, 28, 5, 8, 11, 24, 30, 32, 22, 2, 17, 4, 20, 4, 23, 39, 21, 38, 0, 36, 21, 31, 15, 19, 5, 17, 15, 39, 17, 34, 20, 3, 29, 12, 20, 33, 12, 17, 3, 38, 35, 37, 23, 33, 10, 19, 8, 24, 25, 16, 20, 17, 32, 25, 28, 16, 38, 4, 18, 15, 8, 3, 32, 15, 23, 8, 12, 7, 3, 29, 38, 31, 30, 29, 5, 16, 32, 37, 4, 37, 28, 3, 20, 27, 16, 23, 9, 11, 2, 40, 27, 7, 7, 9, 24, 12, 27, 9, 29, 25, 4, 23, 23, 31, 21, 29, 11, 35, 29, 6, 5, -1, 13, 14, 5, 38, 17, 32, 23, 4, 34, 2, 33, 36, 31, 17, 7, 5, 13, 17, 17, 29, 2, 9, 20, 19, 14, 40, 10, 31, 31, 35, 15, 24, 15, 26, 40, 11, 32, 27, 4, 31, 31, 6, 32, 3, 3, 30, 22, 38, 16, 38, 14, 8, 38, 11, 0, 25, 35, 17, 28, 13, 3, 3, 0, 8, 40, 29, 27, 13, 11, 15, 10, 5, 12, 14, 7, 13, 23, 33, 15, 14, 8, 36, 30, 2, 30, 4, 23, 3, 18, 1, 19, 9, 27, 24, 35, 35, 24, 25, 16, 24, 25, 37, 37, 7, 12, 40, 10, 33, 14, 22, 37, 27, 3, 40, 24, 13, 22, 40, 33, 20, 28, 12, 24, 1, 35, 23, 22, 11, 20, 33, 35, 12, 37, 24, 5, 22, 29, 17, 0, 17, 28, 31, 28, 11, 34, 37, 14, 22, 5, 32, 35, 22, 9, 31, 23, 33, 0, 14, 3, 29, 21, 11, 23, 13, 13, 3, 18, 2, 34, 3, 1, 15, 16, 3, 6, 4, 23, 7, 32, 14, 28, 23, 22, 36, 6, 11, 35, 13, 23, 33, 17, 15, 23, 3, 35, 24, 37, 41, 13, 17, 21, 2, 7, 13, 31, 13, 12, 6, 37, 22, 32, 2, 26, 30, 5, 34, 9, 22, 15, 37, 7, 11, 30, 19, 25, 2, 4, 5, 37, 16, 21, 21, 13, 8, 16, 18, 31, 9, 10, 37, 34, 40, 40, 26, 39, 25, 35, 28, 31, 19, 36, 9, 31, 5, 19, 27, 12, 1, 12, 15, 13, 35, 18, 4, 1, 22, 24, 7, 6, 10, 9, 5, 30, 33, 23, 5, 18, 16, 9, 20, 39, 37, 17, 5, 2, 39, 1, 9, 12, 20, 28, 18, 17, 10, 22, 29, 36, 36, 17, 21, 13, 15, 32, 7, 15, 22, 31, 4, 22, 36, 34, 10, 21, 35, 0, 17, 37, 39, 19, 32, 25, 12, 30, 36, 5, 12, 7, -1, 31, 30, 11, 12, 9, 29, 40, 37, 25, 5, 38, 15, 3, 35, 23, 1, 19, 26, 7, 7, 25, 1, 19, 29, 8, 30, 17, 20, 37, 5, 5, 28, 9, 36, 34, -2, 16, 23, 18, 7, 11, 36, 32, 38, 26, 28, 14, 5, 30, 13, 30, 4, 18, 21, 36, 36, 20, 14, 3, 28, 14, 3, 9, 9, 22, 37, 9, 14, 27, 2, 18, 31, 14, 24, 7, 42, 34, 15, 11, 38, 27, 32, 26, 16, 5, 3, 31, 37, 36, 29, 23, 37, 23, 25, 8, 1, 1, 31, 5, 30, 35, 28, 29, 30, 25, 25, 27, 12, 7, 23, 8, 30, 39, 34, -1, 25, 13, 24, 15, 8, 22, 15, 15, 39, 32, 4, 11, 19, 12, 18, 5, 21, 13, 16, 15, 5, 33, 21, 10, 4, 8, 32, 34, 18, 16, 36, 29, 21, 27, 7, 34, 9, 11, 34, 26, 23, 33, 36, 40, 20, 7, 32, 23, 23, 10, 8, 23, 20, 20, 18, 24, 26, 27, 10, 40, 22, 33, 35, 18, 16, 8, 26, 26, 11, 32, 31, 20, -3, 8, 22, 18, 28, 17, 21, 36, 27, 30, 6, 18, 37, 20, 24, 25, 9, 14, 13, 26, 4, 26, 13, 5, 29, 38, 14, 12, 20, 37, 0, 8, 40, 17, 0, 5, 36, 26, 15, 6, 4, 35, 14, 41, 41, 28, 29, 9, 7, 39, 35, 18, 33, 37, 5, 30, 6, 1, 20, 8, 38, 32, 30, 11, 27, 25, 5, 2, 24, 27, 30, 16, 38, 36, 20, 29, 19, 15, 37, 32, 14, 11, 5, 26, 18, 27, 13, 26, 17, 9, 24, 4, 27, 14, 7, 18, 20, 18, 17, -2, 33, 21, 23, 33, 34, 29, 24, 38, 37, 19, 13, 34, 30, 5, 9, 29, 31, 12, 29, 31, 9, 18, 29, 3, 14, 8, 27, 25, 29, 12, 7, 37, 33, 23, 25, 27, 1, 11, 0, 38, 36, 33, 7, 8, 31, 31, 5, 29, 32, 24, 22, 9, 6, 16, 31, 37, 29, 13, 20, 33, 31, 35, 13, 21, 22, 26, 9, 9, 10, 34, 20, 3, 22, 20, 30, 33, 26, 25, 32, 39, 33, 39, 26, 34, 22, 18, 32, 12, 27, 2, 27, 16, 34, 12, 28, 22, 28, 1, 26, 7, 9, 37, 4, 32, 5, 7, 36, 10, 11, 11, 10, 9, 35, 27, 21, 22, 16, 16, 1, 14, 6, 33, 15, 11, 11, 3, 34, 36, 43, 18, -1, 21, 34, 36, 29, 3, 24, 11, 10, 8, 11, 11, 2, 18, 39, 5, 41, 33, 22, 33, 26, 35, 17, 39, 26, 23, 25, 33, -2, 32, 19, 15, 40, 25, 31, 14, 2, 31, 25, 16, 28, 29, 24, 33, 32, 14, 25, 36, 28, 2, 1, 18, 28, 30, 30, 34, 32, 40, 8, 20, 32, 8, 22, 4, 20, 12, 18, 9, 20, 31, 3, 10, 35, 24, 26, 27, 26, 35, 28, 17, 6, 6, 17, 4, 16, 22, 13, 23, 22, 36, 9, 24, 3, 35, 5, 32, 30, 19, 9, 21, 18, 11, 16, 2, 8, 36, 7, 29, 38, 36, 41, 12, 29, 36, -2, 3, 10, 27, 7, 14, 18, 18, 30, 25, 7, 22, 18, 33, 8, 10, 30, 32, -1, 28, 33, 32, 28, 23, 30, 7, 21, 18, 25, 17, 21, 40, 24, 24, 18, 33, 35, 34, 14, 7, 13, 28, 7, 36, 37, 37, 25, 9, 1, 31, 3, 21, 34, 18, 23, 32, 32, 33, 20, 28, 33, 37, 35, 32, 20, 29, 39, 17, 26, 25, 22, 19, 21, 24, 9, 2, 8, 9, 2, 5, 26, 22, 16, 32, 12, 33, 39, 35, 25, 35, 30, 4, 21, 2, 29, 18, 4, 36, 38, 13, 14, 29, 33, 15, 33, 5, 26, 20, 3, 8, 30, 5, 15, 0, -1, 21, 13, 31, 22, 10, 13, 16, 0, 29, 35, 33, 31, 5, 31, 32, 18, 5, 23, 25, 18, 32, 16, 40, 27, 31, 25, 22, 31, 4, 10, 17, 15, 34, 20, 9, 32, 5, 4, 5, 10, 16, 39, 36, 11, 2, 14, 17, 20, 20, 32, 14, 12, 14, -2, 22, 7, 5, 30, 0, 34, 36, 11, 26, 7, 31, 8, 24, 18, 10, 1, 0, 22, 25, 22, 19, 15, 5, 1, 29, 30, -1, 28, 33, 15, 4, 7, 27, 4, 37, 4, 38, 25, 28, 16, 12, 9, 10, 24, 18, 24, 4, 21, 17, 3, 15, 33, 17, 15, 10, 16, 18, 25, 6, 26, 5, 39, 7, 15, 29, 7, 10, 9, 9, 23, 3, 4, 20, 35, 33, 7, 32, 29, 16, 19, 9, 35, 9, 37, 15, 8, 39, 16, 15, 35, 16, 23, 18, 21, 28, 8, 7, 2, 9, 40, 37, 25, 20, 12, 35, 14, 9, 28, 4, 36, 15, 14, 26, 24, 22, 17, 20, 6, 25, 11, 26, 38, 30, 37, 7, 9, 35, 17, 8, 30, 40, 19, 8, 41, 14, 31, 35, 17, 34, 23, 27, 9, 15, 5, 8, 31, 19, 6, -1, 33, 25, 21, 30, -1, 13, 36, 13, 30, 25, 27, 28, -1, 20, 12, 16, 37, 32, 32, 34, 38, 22, 11, 29, 17, 13, 22, 10, 23, 27, 29, 25, 22, 24, 13, 22, 26, 41, 20, 35, 25, 15, 16, 35, 31, 23, 27, 18, 20, 10, 9, 42, 9, 13, 14, 10, 34, 29, 9, 1, 3, 9, 13, 37, 19, 11, 15, 41, 35, 25, 3, 26, 4, 23, 18, 23, 23, 6, 35, 19, 24, 5, 4, 34, 15, 8, 9, 27, 18, 10, 13, 18, 29, 2, 31, 18, 21, 10, 0, 41, 38, 15, 36, 22, 11, 17, 10, 37, 21, 3, 3, 29, 7, 11, -1, 16, 28, 6, 14, 29, 22, 15, 40, 29, 14, 30, 12, 32, 21, 5, 11, 37, 29, 24, 36, 12, 37, 12, 31, 10, 41, 23, 23, 35, 19, -1, 5, 15, 21, 14, 38, 38, 23, 9, 31, 8, 29, 31, 17, 17, 1, 40, 18, 18, 35, 13, 32, 29, 18, 32, 4, 30, 37, 3, 21, 19, 22, 31, 23, 1, 37, 27, 33, 3, 37, 41, 6, 37, 19, 2, 31, 25, 27, 34, 24, 30, 39, 10, 6, 6, 39, 26, 33, 36, 18, 13, 1, 4, 15, 12, 9, 27, 9, 28, 2, 8, 13, 31, 6, 23, 26, 39, 8, 3, 20, 39, 1, 23, 9, 12, 11, 11, 20, 4, 9, 26, 21, 6, 36, 5, 35, 10, 40, 4, 33, 34, 33, 10, 17, 7, 28, 12, 12, 32, 10, 27, 24, 34, 0, 30, 15, 20, 5, 11, 19, 22, 40, 20, 16, 7, 10, 35, 27, 16, 13, 9, 11, 20, 34, 25, 5, 6, 8, 27, 7, 15, 33, 26, 4, 15, 29, 18, 6, 36, 30, 38, 30, 9, 5, 2, 16, 4, 25, 3, 37, 18, 15, 4, 38, 12, 7, 32, 3, 34, 8, 14, 20, 26, 11, 19, 20, 13, 21, 25, 38, 31, 18, 15, 35, 5, 6, 39, 25, 11, 10, 34, 15, 11, 8, 20, 29, 27, 29, 3, 28, 21, -3, 1, 18, 26, 16, 21, 20, 25, 35, 33, 11, 14, 22, 26, 34, 35, 29, 32, 33, 17, 9, 14, 13, 29, 21, 23, 9, 27, 28, 22, 8, 26, 35, 7, 12, 4, 9, 2, 24, 19, 35, 3, 13, 15, 14, 25, 13, 9, 16, 34, 37, 33, 25, 23, 11, 9, 17, 27, 31, 27, 35, 10, 26, 12, 39, 13, 33, 27, 8, 35, 5, 13, 12, 22, 22, 33, 25, 41, 11, 4, 33, 18, 1, 11, 22, 1, 25, 20, 23, 5, 29, 37, 19, 8, 39, 6, 17, 27, 20, 6, 13, 30, 3, 17, 6, 8, 1, 32, 19, 14, 30, 19, 28, 14, 35, 29, 8, 14, 29, 3, 39, 0, 7, 19, 32, 2, 30, 4, 37, 25, 11, 21, 23, 4, 26, 24, 27, 36, 37, 0, 35, 16, 16, 4, 16, 7, 10, 36, 26, 6, 3, 37, 41, 27, 25, 40, 5, 34, 6, 28, 28, 12, 7, 27, 22, 17, 36, 28, 27, 25, -2, 35, 25, 11, 38, 8, 7, 18, 22, 5, 8, 11, 10, 2, 24, 23, 13, 37, 9, 19, 30, 40, 0, 27, 7, 9, 33, 25, -1, 6, 19, 14, 6, 39, 8, 12, 38, 9, 22, 9, 19, 19, 11, 5, 31, 4, 35, 7, 27, 1, 5, 18, 32, 18, 23, 21, 7, 21, 6, 18, 30, 39, 18, 24, 6, 40, 34, 10, 32, 30, 25, 19, 16, 16, 0, 16, 29, 30, 12, 2, 11, 4, 11, 4, 24, 20, 7, 16, 1, 2, 43, -2, 18, 0, 17, 40, 33, 5, 6, 12, 24, 31, 20, 34, 27, 10, 21, 23, 5, 28, 35, 14, 0, 7, 8, 26, 14, 20, 3, 13, 26, 15, 34, 34, 8, 6, 4, 15, 37, 18, 23, 34, 33, 13, 27, 27, 2, 14, 11, 33, 18, 15, 24, 23, 17, 33, 17, 36, 26, 3, -1, 8, 12, 5, 14, 14, 36, 26, 7, 36, 37, 15, 34, 19, 37, 22, 5, 32, 18, 15, 7, 15, 3, 11, 40, 11, 5, 35, 21, 23, 33, 27, 18, 14, 22, 39, 0, 13, 8, 40, 14, 36, 35, 25, 32, 38, 22, 6, 18, 28, 24, 38, 10, 21, 37, 35, 34, 21, 39, 32, 32, 7, 31, 18, 19, 21, 6, 38, 32, -1, 28, 0, 35, 36, 32, 14, 5, 25, 15, 27, 1, 21, 20, 5, 32, 18, 35, 24, 11, 9, 21, 28, 30, 9, 32, 19, 3, 23, 11, 31, 0, 17, 2, 28, 26, 29, 19, 11, 34, 18, 25, 32, 15, 27, 6, 3, 14, 21, 39, 19, 37, 28, 34, 32, 33, 6, 17, 27, 35, 4, 23, 0, 12, 40, 0, 35, 6, 20, 36, 2, 26, 28, -1, 4, 18, 6, 15, 24, 23, 17, 14, 34, 3, 35, 2, 21, 16, 20, 14, 15, 22, 22, 39, 0, 41, 17, 9, 2, 28, 20, -2, 14, 16, 5, 23, 27, 30, 24, 29, 34, 33, 19, 21, 3, 30, 23, 36, 17, 11, 23, 19, 12, 22, 3, 38, 19, 32, 31, 23, 34, 28, 35, 22, 15, 20, 18, 18, 26, 25, 30, 12, 10, 34, 20, 4, 8, 37, 28, 10, 38, 40, 24, 34, 17, 7, 31, 42, 9, 14, 17, 18, 23, 35, 3, 6, 22, 29, 17, 25, 2, 9, 5, 4, 19, 16, 15, 26, 37, 37, 19, 25, 25, 36, 19, 19, 36, 9, 33, 16, 36, 23, 11, 32, 9, 8, 16, 23, 25, 22, 40, 35, 21, 27, 34, 30, 22, 25, 26, 27, 18, 13, 7, 10, 24, 36, 32, 15, 7, 24, 1, 12, 34, 19, 36, 14, 9, 21, 22, 26, 20, 35, 39, 33, 12, 28, 16, 29, 28, 27, 35, 17, 17, 26, 26, 31, 28, 33, 33, 31, 2, 16, 26, 23, 23, 19, 1, 22, 19, 3, 38, 24, 16, 31, 15, 18, 1, 0, 32, 13, -3, 29, 28, 17, 28, 42, 21, 37, 38, 34, 41, 9, 9, 19, 5, 37, 24, 27, 21, 39, 1, 11, 19, 20, 8, 41, 8, 15, 28, 9, 26, 6, 33, 23, 38, 15, 0, 14, 28, 24, 35, 8, 4, 38, 33, 37, 37, 26, 26, 29, 10, 19, 2, 30, 11, 10, 3, 7, 14, 28, 1, 21, 33, 33, 18, 39, 3, 16, 36, 16, 10, 19, 14, 11, 12, 43, 30, 2, 4, 35, 2, 28, 15, 7, 25, 3, 39, 10, 6, 15, 10, 15, 8, 12, 17, 13, 8, 34, 4, 20, 32, 27, 12, 21, 32, 26, 22, 27, 0, 31, 41, 5, 23, 37, 23, 10, 35, 25, 24, 5, 35, 25, 13, 40, 19, 14, -2, 10, 2, 8, 35, 25, 28, 34, 17, 38, 38, 31, 36, 10, 0, 8, 7, 27, 29, 12, 12, 27, 38, 9, 21, 35, 38, 18, 7, 19, 36, 23, 14, 10, 25, 35, 22, 34, 6, 20, 41, 35, 11, 24, 31, 3, 29, 22, 8, 22, 21, 7, 13, 35, 15, 10, 30, 42, 14, 20, 30, 25, 5, 41, 18, 32, 9, 9, 8, 30, -2, 14, 28, 11, 9, 19, 14, 4, 13, 9, 16, 26, 28, 4, 14, 25, 21, 26, 26, 26, 33, 32, 21, 1, 15, 13, 1, 2, 30, 39, 17, 22, 19, -3, 3, 32, 18, 28, 21, 7, 31, 5, 4, 24, 11, 9, 16, 23, 0, 9, 7, 22, 34, 17, 18, 37, 36, 24, 24, 32, 38, 29, 38, 4, 35, 24, 25, 33, 29, 40, 0, 23, 25, 16, 19, 29, 9, 19, 20, 18, 33, 40, 2, 32, 8, 0, 20, 0, 21, 6, 28, 7, 20, 11, 27, 30, 37, 20, 32, 24, 13, -1, 26, 0, 11, 32, 11, 10, 7, 34, 16, 18, 30, 27, 7, 13, 10, 26, 25, 24, 12, 32, 12, 7, 22, 20, 23, 19, 28, 13, 7, 6, 38, 30, 12, 41, 13, 9, 36, 26, 32, 20, 25, 11, 21, 34, 1, 1, 24, 21, 8, 29, 5, 17, 5, 16, 19, 13, 25, 6, 11, 40, 7, 34, 10, 13, 35, 11, 35, 23, 24, 12, 10, 17, 7, 21, 16, 11, 4, 35, 19, 31, 3, 37, 16, 9, 28, 14, 1, 26, 14, 26, 23, 14, 11, 13, 0, 7, 0, 21, 3, 25, 28, 34, 39, 35, 34, 3, 27, 34, 17, 35, 28, 13, 19, 35, 22, 22, 36, 7, 16, 5, 27, 28, 37, 36, 35, 37, 1, 17, 40, 0, 1, 3, 39, 34, 5, 6, 8, 15, 26, 16, 15, 8, 8, 10, 17, 35, 14, 27, 11, 13, 23, 39, 9, 25, 36, 32, 38, 30, 32, 33, 26, 20, 23, 7, 25, 18, 5, 41, 17, 14, 21, 33, 35, 4, 2, 21, 41, 25, 35, 7, 25, 32, 34, 15, 9, 14, 2, 5, 11, 2, 28, 32, 14, 23, 8, 27, 14, 20, 9, 0, 19, 28, 5, 12, 22, 10, 34, 11, 35, 10, 21, 30, 21, 0, 11, 20, 20, 7, 10, 11, 24, 32, 6, 37, 14, 16, 19, 34, 12, 4, 23, 34, 32, 24, 22, 19, 6, 17, 6, 36, 21, 6, 32, 31, 6, 28, 7, 12, 6, 4, 24, 23, 39, 24, 10, 30, 8, 9, 35, 23, 34, 6, 21, 10, 11, 32, 25, 39, 31, 12, 19, 20, 32, 31, 13, 24, 8, 25, 24, 7, 35, 16, 24, 17, 12, 27, 39, 30, 22, 3, 35, 0, 36, 19, 29, 9, 15, 32, 32, 19, 13, 34, 30, 26, 15, 1, 28, 35, 31, 19, 12, 22, 20, 15, 18, 26, 29, 1, 0, 8, 15, 40, 37, 28, 9, 16, 16, 22, 22, 26, 4, 39, 24, 5, 10, 25, 16, 16, 11, 5, 15, 12, 39, 13, 19, 33, 36, 38, 27, 35, 23, 0, 33, 20, 8, 35, 29, 22, 4, 26, 0, 24, 18, 26, 13, 20, 5, 23, 27, 3, 21, 19, 37, 13, -1, 26, 27, 28, 14, 20, 6, 27, 5, 17, 16, 32, 19, 13, 28, 32, 1, 33, 11, 5, 15, 27, 26, 5, 9, 10, 26, 1, 23, 6, 23, 8, 0, 25, 25, 5, 21, 40, 3, 4, 39, 40, 4], \"y0\": \" \", \"yaxis\": \"y\"}],\n",
              "                        {\"boxmode\": \"group\", \"legend\": {\"tracegroupgap\": 0}, \"margin\": {\"t\": 60}, \"template\": {\"data\": {\"bar\": [{\"error_x\": {\"color\": \"#2a3f5f\"}, \"error_y\": {\"color\": \"#2a3f5f\"}, \"marker\": {\"line\": {\"color\": \"#E5ECF6\", \"width\": 0.5}}, \"type\": \"bar\"}], \"barpolar\": [{\"marker\": {\"line\": {\"color\": \"#E5ECF6\", \"width\": 0.5}}, \"type\": \"barpolar\"}], \"carpet\": [{\"aaxis\": {\"endlinecolor\": \"#2a3f5f\", \"gridcolor\": \"white\", \"linecolor\": \"white\", \"minorgridcolor\": \"white\", \"startlinecolor\": \"#2a3f5f\"}, \"baxis\": {\"endlinecolor\": \"#2a3f5f\", \"gridcolor\": \"white\", \"linecolor\": \"white\", \"minorgridcolor\": \"white\", \"startlinecolor\": \"#2a3f5f\"}, \"type\": \"carpet\"}], \"choropleth\": [{\"colorbar\": {\"outlinewidth\": 0, \"ticks\": \"\"}, \"type\": \"choropleth\"}], \"contour\": [{\"colorbar\": {\"outlinewidth\": 0, \"ticks\": \"\"}, \"colorscale\": [[0.0, \"#0d0887\"], [0.1111111111111111, \"#46039f\"], [0.2222222222222222, \"#7201a8\"], [0.3333333333333333, \"#9c179e\"], [0.4444444444444444, \"#bd3786\"], [0.5555555555555556, \"#d8576b\"], [0.6666666666666666, \"#ed7953\"], [0.7777777777777778, \"#fb9f3a\"], [0.8888888888888888, \"#fdca26\"], [1.0, \"#f0f921\"]], \"type\": \"contour\"}], \"contourcarpet\": [{\"colorbar\": {\"outlinewidth\": 0, \"ticks\": \"\"}, \"type\": \"contourcarpet\"}], \"heatmap\": [{\"colorbar\": {\"outlinewidth\": 0, \"ticks\": \"\"}, \"colorscale\": [[0.0, \"#0d0887\"], [0.1111111111111111, \"#46039f\"], [0.2222222222222222, \"#7201a8\"], [0.3333333333333333, \"#9c179e\"], [0.4444444444444444, \"#bd3786\"], [0.5555555555555556, \"#d8576b\"], [0.6666666666666666, \"#ed7953\"], [0.7777777777777778, \"#fb9f3a\"], [0.8888888888888888, \"#fdca26\"], [1.0, \"#f0f921\"]], \"type\": \"heatmap\"}], \"heatmapgl\": [{\"colorbar\": {\"outlinewidth\": 0, \"ticks\": \"\"}, \"colorscale\": [[0.0, \"#0d0887\"], [0.1111111111111111, \"#46039f\"], [0.2222222222222222, \"#7201a8\"], [0.3333333333333333, \"#9c179e\"], [0.4444444444444444, \"#bd3786\"], [0.5555555555555556, \"#d8576b\"], [0.6666666666666666, \"#ed7953\"], [0.7777777777777778, \"#fb9f3a\"], [0.8888888888888888, \"#fdca26\"], [1.0, \"#f0f921\"]], \"type\": \"heatmapgl\"}], \"histogram\": [{\"marker\": {\"colorbar\": {\"outlinewidth\": 0, \"ticks\": \"\"}}, \"type\": \"histogram\"}], \"histogram2d\": [{\"colorbar\": {\"outlinewidth\": 0, \"ticks\": \"\"}, \"colorscale\": [[0.0, \"#0d0887\"], [0.1111111111111111, \"#46039f\"], [0.2222222222222222, \"#7201a8\"], [0.3333333333333333, \"#9c179e\"], [0.4444444444444444, \"#bd3786\"], [0.5555555555555556, \"#d8576b\"], [0.6666666666666666, \"#ed7953\"], [0.7777777777777778, \"#fb9f3a\"], [0.8888888888888888, \"#fdca26\"], [1.0, \"#f0f921\"]], \"type\": \"histogram2d\"}], \"histogram2dcontour\": [{\"colorbar\": {\"outlinewidth\": 0, \"ticks\": \"\"}, \"colorscale\": [[0.0, \"#0d0887\"], [0.1111111111111111, \"#46039f\"], [0.2222222222222222, \"#7201a8\"], [0.3333333333333333, \"#9c179e\"], [0.4444444444444444, \"#bd3786\"], [0.5555555555555556, \"#d8576b\"], [0.6666666666666666, \"#ed7953\"], [0.7777777777777778, \"#fb9f3a\"], [0.8888888888888888, \"#fdca26\"], [1.0, \"#f0f921\"]], \"type\": \"histogram2dcontour\"}], \"mesh3d\": [{\"colorbar\": {\"outlinewidth\": 0, \"ticks\": \"\"}, \"type\": \"mesh3d\"}], \"parcoords\": [{\"line\": {\"colorbar\": {\"outlinewidth\": 0, \"ticks\": \"\"}}, \"type\": \"parcoords\"}], \"pie\": [{\"automargin\": true, \"type\": \"pie\"}], \"scatter\": [{\"marker\": {\"colorbar\": {\"outlinewidth\": 0, \"ticks\": \"\"}}, \"type\": \"scatter\"}], \"scatter3d\": [{\"line\": {\"colorbar\": {\"outlinewidth\": 0, \"ticks\": \"\"}}, \"marker\": {\"colorbar\": {\"outlinewidth\": 0, \"ticks\": \"\"}}, \"type\": \"scatter3d\"}], \"scattercarpet\": [{\"marker\": {\"colorbar\": {\"outlinewidth\": 0, \"ticks\": \"\"}}, \"type\": \"scattercarpet\"}], \"scattergeo\": [{\"marker\": {\"colorbar\": {\"outlinewidth\": 0, \"ticks\": \"\"}}, \"type\": \"scattergeo\"}], \"scattergl\": [{\"marker\": {\"colorbar\": {\"outlinewidth\": 0, \"ticks\": \"\"}}, \"type\": \"scattergl\"}], \"scattermapbox\": [{\"marker\": {\"colorbar\": {\"outlinewidth\": 0, \"ticks\": \"\"}}, \"type\": \"scattermapbox\"}], \"scatterpolar\": [{\"marker\": {\"colorbar\": {\"outlinewidth\": 0, \"ticks\": \"\"}}, \"type\": \"scatterpolar\"}], \"scatterpolargl\": [{\"marker\": {\"colorbar\": {\"outlinewidth\": 0, \"ticks\": \"\"}}, \"type\": \"scatterpolargl\"}], \"scatterternary\": [{\"marker\": {\"colorbar\": {\"outlinewidth\": 0, \"ticks\": \"\"}}, \"type\": \"scatterternary\"}], \"surface\": [{\"colorbar\": {\"outlinewidth\": 0, \"ticks\": \"\"}, \"colorscale\": [[0.0, \"#0d0887\"], [0.1111111111111111, \"#46039f\"], [0.2222222222222222, \"#7201a8\"], [0.3333333333333333, \"#9c179e\"], [0.4444444444444444, \"#bd3786\"], [0.5555555555555556, \"#d8576b\"], [0.6666666666666666, \"#ed7953\"], [0.7777777777777778, \"#fb9f3a\"], [0.8888888888888888, \"#fdca26\"], [1.0, \"#f0f921\"]], \"type\": \"surface\"}], \"table\": [{\"cells\": {\"fill\": {\"color\": \"#EBF0F8\"}, \"line\": {\"color\": \"white\"}}, \"header\": {\"fill\": {\"color\": \"#C8D4E3\"}, \"line\": {\"color\": \"white\"}}, \"type\": \"table\"}]}, \"layout\": {\"annotationdefaults\": {\"arrowcolor\": \"#2a3f5f\", \"arrowhead\": 0, \"arrowwidth\": 1}, \"coloraxis\": {\"colorbar\": {\"outlinewidth\": 0, \"ticks\": \"\"}}, \"colorscale\": {\"diverging\": [[0, \"#8e0152\"], [0.1, \"#c51b7d\"], [0.2, \"#de77ae\"], [0.3, \"#f1b6da\"], [0.4, \"#fde0ef\"], [0.5, \"#f7f7f7\"], [0.6, \"#e6f5d0\"], [0.7, \"#b8e186\"], [0.8, \"#7fbc41\"], [0.9, \"#4d9221\"], [1, \"#276419\"]], \"sequential\": [[0.0, \"#0d0887\"], [0.1111111111111111, \"#46039f\"], [0.2222222222222222, \"#7201a8\"], [0.3333333333333333, \"#9c179e\"], [0.4444444444444444, \"#bd3786\"], [0.5555555555555556, \"#d8576b\"], [0.6666666666666666, \"#ed7953\"], [0.7777777777777778, \"#fb9f3a\"], [0.8888888888888888, \"#fdca26\"], [1.0, \"#f0f921\"]], \"sequentialminus\": [[0.0, \"#0d0887\"], [0.1111111111111111, \"#46039f\"], [0.2222222222222222, \"#7201a8\"], [0.3333333333333333, \"#9c179e\"], [0.4444444444444444, \"#bd3786\"], [0.5555555555555556, \"#d8576b\"], [0.6666666666666666, \"#ed7953\"], [0.7777777777777778, \"#fb9f3a\"], [0.8888888888888888, \"#fdca26\"], [1.0, \"#f0f921\"]]}, \"colorway\": [\"#636efa\", \"#EF553B\", \"#00cc96\", \"#ab63fa\", \"#FFA15A\", \"#19d3f3\", \"#FF6692\", \"#B6E880\", \"#FF97FF\", \"#FECB52\"], \"font\": {\"color\": \"#2a3f5f\"}, \"geo\": {\"bgcolor\": \"white\", \"lakecolor\": \"white\", \"landcolor\": \"#E5ECF6\", \"showlakes\": true, \"showland\": true, \"subunitcolor\": \"white\"}, \"hoverlabel\": {\"align\": \"left\"}, \"hovermode\": \"closest\", \"mapbox\": {\"style\": \"light\"}, \"paper_bgcolor\": \"white\", \"plot_bgcolor\": \"#E5ECF6\", \"polar\": {\"angularaxis\": {\"gridcolor\": \"white\", \"linecolor\": \"white\", \"ticks\": \"\"}, \"bgcolor\": \"#E5ECF6\", \"radialaxis\": {\"gridcolor\": \"white\", \"linecolor\": \"white\", \"ticks\": \"\"}}, \"scene\": {\"xaxis\": {\"backgroundcolor\": \"#E5ECF6\", \"gridcolor\": \"white\", \"gridwidth\": 2, \"linecolor\": \"white\", \"showbackground\": true, \"ticks\": \"\", \"zerolinecolor\": \"white\"}, \"yaxis\": {\"backgroundcolor\": \"#E5ECF6\", \"gridcolor\": \"white\", \"gridwidth\": 2, \"linecolor\": \"white\", \"showbackground\": true, \"ticks\": \"\", \"zerolinecolor\": \"white\"}, \"zaxis\": {\"backgroundcolor\": \"#E5ECF6\", \"gridcolor\": \"white\", \"gridwidth\": 2, \"linecolor\": \"white\", \"showbackground\": true, \"ticks\": \"\", \"zerolinecolor\": \"white\"}}, \"shapedefaults\": {\"line\": {\"color\": \"#2a3f5f\"}}, \"ternary\": {\"aaxis\": {\"gridcolor\": \"white\", \"linecolor\": \"white\", \"ticks\": \"\"}, \"baxis\": {\"gridcolor\": \"white\", \"linecolor\": \"white\", \"ticks\": \"\"}, \"bgcolor\": \"#E5ECF6\", \"caxis\": {\"gridcolor\": \"white\", \"linecolor\": \"white\", \"ticks\": \"\"}}, \"title\": {\"x\": 0.05}, \"xaxis\": {\"automargin\": true, \"gridcolor\": \"white\", \"linecolor\": \"white\", \"ticks\": \"\", \"title\": {\"standoff\": 15}, \"zerolinecolor\": \"white\", \"zerolinewidth\": 2}, \"yaxis\": {\"automargin\": true, \"gridcolor\": \"white\", \"linecolor\": \"white\", \"ticks\": \"\", \"title\": {\"standoff\": 15}, \"zerolinecolor\": \"white\", \"zerolinewidth\": 2}}}, \"xaxis\": {\"anchor\": \"y\", \"domain\": [0.0, 1.0]}, \"yaxis\": {\"anchor\": \"x\", \"domain\": [0.0, 1.0], \"title\": {\"text\": \"Experience\"}}},\n",
              "                        {\"responsive\": true}\n",
              "                    ).then(function(){\n",
              "                            \n",
              "var gd = document.getElementById('e654798a-4f32-4987-8d8d-c238aff1d040');\n",
              "var x = new MutationObserver(function (mutations, observer) {{\n",
              "        var display = window.getComputedStyle(gd).display;\n",
              "        if (!display || display === 'none') {{\n",
              "            console.log([gd, 'removed!']);\n",
              "            Plotly.purge(gd);\n",
              "            observer.disconnect();\n",
              "        }}\n",
              "}});\n",
              "\n",
              "// Listen for the removal of the full notebook cells\n",
              "var notebookContainer = gd.closest('#notebook-container');\n",
              "if (notebookContainer) {{\n",
              "    x.observe(notebookContainer, {childList: true});\n",
              "}}\n",
              "\n",
              "// Listen for the clearing of the current output cell\n",
              "var outputEl = gd.closest('.output');\n",
              "if (outputEl) {{\n",
              "    x.observe(outputEl, {childList: true});\n",
              "}}\n",
              "\n",
              "                        })\n",
              "                };\n",
              "                \n",
              "            </script>\n",
              "        </div>\n",
              "</body>\n",
              "</html>"
            ]
          },
          "metadata": {}
        }
      ]
    },
    {
      "cell_type": "code",
      "source": [
        "df['Experience'].mean()"
      ],
      "metadata": {
        "colab": {
          "base_uri": "https://localhost:8080/"
        },
        "id": "RdAa-xu9oHFy",
        "outputId": "1dc5f62b-f1d2-4553-f660-536e60fdca0f"
      },
      "execution_count": 11,
      "outputs": [
        {
          "output_type": "execute_result",
          "data": {
            "text/plain": [
              "20.1046"
            ]
          },
          "metadata": {},
          "execution_count": 11
        }
      ]
    },
    {
      "cell_type": "code",
      "source": [
        "negtive_exp = df[df['Experience']<0]\n",
        "negtive_exp"
      ],
      "metadata": {
        "colab": {
          "base_uri": "https://localhost:8080/",
          "height": 1000
        },
        "id": "bDXehTDPoMDR",
        "outputId": "6a8c4e82-360c-4e8a-ddd3-3e0f4392552d"
      },
      "execution_count": 12,
      "outputs": [
        {
          "output_type": "execute_result",
          "data": {
            "text/html": [
              "\n",
              "  <div id=\"df-54959c3a-8d50-4d33-9af5-8f20583c006b\">\n",
              "    <div class=\"colab-df-container\">\n",
              "      <div>\n",
              "<style scoped>\n",
              "    .dataframe tbody tr th:only-of-type {\n",
              "        vertical-align: middle;\n",
              "    }\n",
              "\n",
              "    .dataframe tbody tr th {\n",
              "        vertical-align: top;\n",
              "    }\n",
              "\n",
              "    .dataframe thead th {\n",
              "        text-align: right;\n",
              "    }\n",
              "</style>\n",
              "<table border=\"1\" class=\"dataframe\">\n",
              "  <thead>\n",
              "    <tr style=\"text-align: right;\">\n",
              "      <th></th>\n",
              "      <th>Age</th>\n",
              "      <th>Experience</th>\n",
              "      <th>Income</th>\n",
              "      <th>Family</th>\n",
              "      <th>CCAvg</th>\n",
              "      <th>Education</th>\n",
              "      <th>Mortgage</th>\n",
              "      <th>Personal Loan</th>\n",
              "      <th>Securities Account</th>\n",
              "      <th>CD Account</th>\n",
              "      <th>Online</th>\n",
              "      <th>CreditCard</th>\n",
              "    </tr>\n",
              "  </thead>\n",
              "  <tbody>\n",
              "    <tr>\n",
              "      <th>89</th>\n",
              "      <td>25</td>\n",
              "      <td>-1</td>\n",
              "      <td>113</td>\n",
              "      <td>4</td>\n",
              "      <td>2.300000</td>\n",
              "      <td>3</td>\n",
              "      <td>0</td>\n",
              "      <td>0</td>\n",
              "      <td>0</td>\n",
              "      <td>0</td>\n",
              "      <td>0</td>\n",
              "      <td>1</td>\n",
              "    </tr>\n",
              "    <tr>\n",
              "      <th>226</th>\n",
              "      <td>24</td>\n",
              "      <td>-1</td>\n",
              "      <td>39</td>\n",
              "      <td>2</td>\n",
              "      <td>1.700000</td>\n",
              "      <td>2</td>\n",
              "      <td>0</td>\n",
              "      <td>0</td>\n",
              "      <td>0</td>\n",
              "      <td>0</td>\n",
              "      <td>0</td>\n",
              "      <td>0</td>\n",
              "    </tr>\n",
              "    <tr>\n",
              "      <th>315</th>\n",
              "      <td>24</td>\n",
              "      <td>-2</td>\n",
              "      <td>51</td>\n",
              "      <td>3</td>\n",
              "      <td>0.300000</td>\n",
              "      <td>3</td>\n",
              "      <td>0</td>\n",
              "      <td>0</td>\n",
              "      <td>0</td>\n",
              "      <td>0</td>\n",
              "      <td>1</td>\n",
              "      <td>0</td>\n",
              "    </tr>\n",
              "    <tr>\n",
              "      <th>451</th>\n",
              "      <td>28</td>\n",
              "      <td>-2</td>\n",
              "      <td>48</td>\n",
              "      <td>2</td>\n",
              "      <td>1.750000</td>\n",
              "      <td>3</td>\n",
              "      <td>89</td>\n",
              "      <td>0</td>\n",
              "      <td>0</td>\n",
              "      <td>0</td>\n",
              "      <td>1</td>\n",
              "      <td>0</td>\n",
              "    </tr>\n",
              "    <tr>\n",
              "      <th>524</th>\n",
              "      <td>24</td>\n",
              "      <td>-1</td>\n",
              "      <td>75</td>\n",
              "      <td>4</td>\n",
              "      <td>0.200000</td>\n",
              "      <td>1</td>\n",
              "      <td>0</td>\n",
              "      <td>0</td>\n",
              "      <td>0</td>\n",
              "      <td>0</td>\n",
              "      <td>1</td>\n",
              "      <td>0</td>\n",
              "    </tr>\n",
              "    <tr>\n",
              "      <th>536</th>\n",
              "      <td>25</td>\n",
              "      <td>-1</td>\n",
              "      <td>43</td>\n",
              "      <td>3</td>\n",
              "      <td>2.400000</td>\n",
              "      <td>2</td>\n",
              "      <td>176</td>\n",
              "      <td>0</td>\n",
              "      <td>0</td>\n",
              "      <td>0</td>\n",
              "      <td>1</td>\n",
              "      <td>0</td>\n",
              "    </tr>\n",
              "    <tr>\n",
              "      <th>540</th>\n",
              "      <td>25</td>\n",
              "      <td>-1</td>\n",
              "      <td>109</td>\n",
              "      <td>4</td>\n",
              "      <td>2.300000</td>\n",
              "      <td>3</td>\n",
              "      <td>314</td>\n",
              "      <td>0</td>\n",
              "      <td>0</td>\n",
              "      <td>0</td>\n",
              "      <td>1</td>\n",
              "      <td>0</td>\n",
              "    </tr>\n",
              "    <tr>\n",
              "      <th>576</th>\n",
              "      <td>25</td>\n",
              "      <td>-1</td>\n",
              "      <td>48</td>\n",
              "      <td>3</td>\n",
              "      <td>0.300000</td>\n",
              "      <td>3</td>\n",
              "      <td>0</td>\n",
              "      <td>0</td>\n",
              "      <td>0</td>\n",
              "      <td>0</td>\n",
              "      <td>0</td>\n",
              "      <td>1</td>\n",
              "    </tr>\n",
              "    <tr>\n",
              "      <th>583</th>\n",
              "      <td>24</td>\n",
              "      <td>-1</td>\n",
              "      <td>38</td>\n",
              "      <td>2</td>\n",
              "      <td>1.700000</td>\n",
              "      <td>2</td>\n",
              "      <td>0</td>\n",
              "      <td>0</td>\n",
              "      <td>0</td>\n",
              "      <td>0</td>\n",
              "      <td>1</td>\n",
              "      <td>0</td>\n",
              "    </tr>\n",
              "    <tr>\n",
              "      <th>597</th>\n",
              "      <td>24</td>\n",
              "      <td>-2</td>\n",
              "      <td>125</td>\n",
              "      <td>2</td>\n",
              "      <td>7.200000</td>\n",
              "      <td>1</td>\n",
              "      <td>0</td>\n",
              "      <td>0</td>\n",
              "      <td>1</td>\n",
              "      <td>0</td>\n",
              "      <td>0</td>\n",
              "      <td>1</td>\n",
              "    </tr>\n",
              "    <tr>\n",
              "      <th>649</th>\n",
              "      <td>25</td>\n",
              "      <td>-1</td>\n",
              "      <td>82</td>\n",
              "      <td>4</td>\n",
              "      <td>2.100000</td>\n",
              "      <td>3</td>\n",
              "      <td>0</td>\n",
              "      <td>0</td>\n",
              "      <td>0</td>\n",
              "      <td>0</td>\n",
              "      <td>1</td>\n",
              "      <td>0</td>\n",
              "    </tr>\n",
              "    <tr>\n",
              "      <th>670</th>\n",
              "      <td>23</td>\n",
              "      <td>-1</td>\n",
              "      <td>61</td>\n",
              "      <td>4</td>\n",
              "      <td>2.600000</td>\n",
              "      <td>1</td>\n",
              "      <td>239</td>\n",
              "      <td>0</td>\n",
              "      <td>0</td>\n",
              "      <td>0</td>\n",
              "      <td>1</td>\n",
              "      <td>0</td>\n",
              "    </tr>\n",
              "    <tr>\n",
              "      <th>686</th>\n",
              "      <td>24</td>\n",
              "      <td>-1</td>\n",
              "      <td>38</td>\n",
              "      <td>4</td>\n",
              "      <td>0.600000</td>\n",
              "      <td>2</td>\n",
              "      <td>0</td>\n",
              "      <td>0</td>\n",
              "      <td>0</td>\n",
              "      <td>0</td>\n",
              "      <td>1</td>\n",
              "      <td>0</td>\n",
              "    </tr>\n",
              "    <tr>\n",
              "      <th>793</th>\n",
              "      <td>24</td>\n",
              "      <td>-2</td>\n",
              "      <td>150</td>\n",
              "      <td>2</td>\n",
              "      <td>2.000000</td>\n",
              "      <td>1</td>\n",
              "      <td>0</td>\n",
              "      <td>0</td>\n",
              "      <td>0</td>\n",
              "      <td>0</td>\n",
              "      <td>1</td>\n",
              "      <td>0</td>\n",
              "    </tr>\n",
              "    <tr>\n",
              "      <th>889</th>\n",
              "      <td>24</td>\n",
              "      <td>-2</td>\n",
              "      <td>82</td>\n",
              "      <td>2</td>\n",
              "      <td>1.600000</td>\n",
              "      <td>3</td>\n",
              "      <td>0</td>\n",
              "      <td>0</td>\n",
              "      <td>0</td>\n",
              "      <td>0</td>\n",
              "      <td>1</td>\n",
              "      <td>1</td>\n",
              "    </tr>\n",
              "    <tr>\n",
              "      <th>909</th>\n",
              "      <td>23</td>\n",
              "      <td>-1</td>\n",
              "      <td>149</td>\n",
              "      <td>1</td>\n",
              "      <td>6.333333</td>\n",
              "      <td>1</td>\n",
              "      <td>305</td>\n",
              "      <td>0</td>\n",
              "      <td>0</td>\n",
              "      <td>0</td>\n",
              "      <td>0</td>\n",
              "      <td>1</td>\n",
              "    </tr>\n",
              "    <tr>\n",
              "      <th>1173</th>\n",
              "      <td>24</td>\n",
              "      <td>-1</td>\n",
              "      <td>35</td>\n",
              "      <td>2</td>\n",
              "      <td>1.700000</td>\n",
              "      <td>2</td>\n",
              "      <td>0</td>\n",
              "      <td>0</td>\n",
              "      <td>0</td>\n",
              "      <td>0</td>\n",
              "      <td>0</td>\n",
              "      <td>0</td>\n",
              "    </tr>\n",
              "    <tr>\n",
              "      <th>1428</th>\n",
              "      <td>25</td>\n",
              "      <td>-1</td>\n",
              "      <td>21</td>\n",
              "      <td>4</td>\n",
              "      <td>0.400000</td>\n",
              "      <td>1</td>\n",
              "      <td>90</td>\n",
              "      <td>0</td>\n",
              "      <td>0</td>\n",
              "      <td>0</td>\n",
              "      <td>1</td>\n",
              "      <td>0</td>\n",
              "    </tr>\n",
              "    <tr>\n",
              "      <th>1522</th>\n",
              "      <td>25</td>\n",
              "      <td>-1</td>\n",
              "      <td>101</td>\n",
              "      <td>4</td>\n",
              "      <td>2.300000</td>\n",
              "      <td>3</td>\n",
              "      <td>256</td>\n",
              "      <td>0</td>\n",
              "      <td>0</td>\n",
              "      <td>0</td>\n",
              "      <td>0</td>\n",
              "      <td>1</td>\n",
              "    </tr>\n",
              "    <tr>\n",
              "      <th>1905</th>\n",
              "      <td>25</td>\n",
              "      <td>-1</td>\n",
              "      <td>112</td>\n",
              "      <td>2</td>\n",
              "      <td>2.000000</td>\n",
              "      <td>1</td>\n",
              "      <td>241</td>\n",
              "      <td>0</td>\n",
              "      <td>0</td>\n",
              "      <td>0</td>\n",
              "      <td>1</td>\n",
              "      <td>0</td>\n",
              "    </tr>\n",
              "    <tr>\n",
              "      <th>2102</th>\n",
              "      <td>25</td>\n",
              "      <td>-1</td>\n",
              "      <td>81</td>\n",
              "      <td>2</td>\n",
              "      <td>1.600000</td>\n",
              "      <td>3</td>\n",
              "      <td>0</td>\n",
              "      <td>0</td>\n",
              "      <td>0</td>\n",
              "      <td>0</td>\n",
              "      <td>1</td>\n",
              "      <td>1</td>\n",
              "    </tr>\n",
              "    <tr>\n",
              "      <th>2430</th>\n",
              "      <td>23</td>\n",
              "      <td>-1</td>\n",
              "      <td>73</td>\n",
              "      <td>4</td>\n",
              "      <td>2.600000</td>\n",
              "      <td>1</td>\n",
              "      <td>0</td>\n",
              "      <td>0</td>\n",
              "      <td>0</td>\n",
              "      <td>0</td>\n",
              "      <td>1</td>\n",
              "      <td>0</td>\n",
              "    </tr>\n",
              "    <tr>\n",
              "      <th>2466</th>\n",
              "      <td>24</td>\n",
              "      <td>-2</td>\n",
              "      <td>80</td>\n",
              "      <td>2</td>\n",
              "      <td>1.600000</td>\n",
              "      <td>3</td>\n",
              "      <td>0</td>\n",
              "      <td>0</td>\n",
              "      <td>0</td>\n",
              "      <td>0</td>\n",
              "      <td>1</td>\n",
              "      <td>0</td>\n",
              "    </tr>\n",
              "    <tr>\n",
              "      <th>2545</th>\n",
              "      <td>25</td>\n",
              "      <td>-1</td>\n",
              "      <td>39</td>\n",
              "      <td>3</td>\n",
              "      <td>2.400000</td>\n",
              "      <td>2</td>\n",
              "      <td>0</td>\n",
              "      <td>0</td>\n",
              "      <td>0</td>\n",
              "      <td>0</td>\n",
              "      <td>1</td>\n",
              "      <td>0</td>\n",
              "    </tr>\n",
              "    <tr>\n",
              "      <th>2618</th>\n",
              "      <td>23</td>\n",
              "      <td>-3</td>\n",
              "      <td>55</td>\n",
              "      <td>3</td>\n",
              "      <td>2.400000</td>\n",
              "      <td>2</td>\n",
              "      <td>145</td>\n",
              "      <td>0</td>\n",
              "      <td>0</td>\n",
              "      <td>0</td>\n",
              "      <td>1</td>\n",
              "      <td>0</td>\n",
              "    </tr>\n",
              "    <tr>\n",
              "      <th>2717</th>\n",
              "      <td>23</td>\n",
              "      <td>-2</td>\n",
              "      <td>45</td>\n",
              "      <td>4</td>\n",
              "      <td>0.600000</td>\n",
              "      <td>2</td>\n",
              "      <td>0</td>\n",
              "      <td>0</td>\n",
              "      <td>0</td>\n",
              "      <td>0</td>\n",
              "      <td>1</td>\n",
              "      <td>1</td>\n",
              "    </tr>\n",
              "    <tr>\n",
              "      <th>2848</th>\n",
              "      <td>24</td>\n",
              "      <td>-1</td>\n",
              "      <td>78</td>\n",
              "      <td>2</td>\n",
              "      <td>1.800000</td>\n",
              "      <td>2</td>\n",
              "      <td>0</td>\n",
              "      <td>0</td>\n",
              "      <td>0</td>\n",
              "      <td>0</td>\n",
              "      <td>0</td>\n",
              "      <td>0</td>\n",
              "    </tr>\n",
              "    <tr>\n",
              "      <th>2876</th>\n",
              "      <td>24</td>\n",
              "      <td>-2</td>\n",
              "      <td>80</td>\n",
              "      <td>2</td>\n",
              "      <td>1.600000</td>\n",
              "      <td>3</td>\n",
              "      <td>238</td>\n",
              "      <td>0</td>\n",
              "      <td>0</td>\n",
              "      <td>0</td>\n",
              "      <td>0</td>\n",
              "      <td>0</td>\n",
              "    </tr>\n",
              "    <tr>\n",
              "      <th>2962</th>\n",
              "      <td>23</td>\n",
              "      <td>-2</td>\n",
              "      <td>81</td>\n",
              "      <td>2</td>\n",
              "      <td>1.800000</td>\n",
              "      <td>2</td>\n",
              "      <td>0</td>\n",
              "      <td>0</td>\n",
              "      <td>0</td>\n",
              "      <td>0</td>\n",
              "      <td>0</td>\n",
              "      <td>0</td>\n",
              "    </tr>\n",
              "    <tr>\n",
              "      <th>2980</th>\n",
              "      <td>25</td>\n",
              "      <td>-1</td>\n",
              "      <td>53</td>\n",
              "      <td>3</td>\n",
              "      <td>2.400000</td>\n",
              "      <td>2</td>\n",
              "      <td>0</td>\n",
              "      <td>0</td>\n",
              "      <td>0</td>\n",
              "      <td>0</td>\n",
              "      <td>0</td>\n",
              "      <td>0</td>\n",
              "    </tr>\n",
              "    <tr>\n",
              "      <th>3076</th>\n",
              "      <td>29</td>\n",
              "      <td>-1</td>\n",
              "      <td>62</td>\n",
              "      <td>2</td>\n",
              "      <td>1.750000</td>\n",
              "      <td>3</td>\n",
              "      <td>0</td>\n",
              "      <td>0</td>\n",
              "      <td>0</td>\n",
              "      <td>0</td>\n",
              "      <td>0</td>\n",
              "      <td>1</td>\n",
              "    </tr>\n",
              "    <tr>\n",
              "      <th>3130</th>\n",
              "      <td>23</td>\n",
              "      <td>-2</td>\n",
              "      <td>82</td>\n",
              "      <td>2</td>\n",
              "      <td>1.800000</td>\n",
              "      <td>2</td>\n",
              "      <td>0</td>\n",
              "      <td>0</td>\n",
              "      <td>1</td>\n",
              "      <td>0</td>\n",
              "      <td>0</td>\n",
              "      <td>1</td>\n",
              "    </tr>\n",
              "    <tr>\n",
              "      <th>3157</th>\n",
              "      <td>23</td>\n",
              "      <td>-1</td>\n",
              "      <td>13</td>\n",
              "      <td>4</td>\n",
              "      <td>1.000000</td>\n",
              "      <td>1</td>\n",
              "      <td>84</td>\n",
              "      <td>0</td>\n",
              "      <td>0</td>\n",
              "      <td>0</td>\n",
              "      <td>1</td>\n",
              "      <td>0</td>\n",
              "    </tr>\n",
              "    <tr>\n",
              "      <th>3279</th>\n",
              "      <td>26</td>\n",
              "      <td>-1</td>\n",
              "      <td>44</td>\n",
              "      <td>1</td>\n",
              "      <td>2.000000</td>\n",
              "      <td>2</td>\n",
              "      <td>0</td>\n",
              "      <td>0</td>\n",
              "      <td>0</td>\n",
              "      <td>0</td>\n",
              "      <td>0</td>\n",
              "      <td>0</td>\n",
              "    </tr>\n",
              "    <tr>\n",
              "      <th>3284</th>\n",
              "      <td>25</td>\n",
              "      <td>-1</td>\n",
              "      <td>101</td>\n",
              "      <td>4</td>\n",
              "      <td>2.100000</td>\n",
              "      <td>3</td>\n",
              "      <td>0</td>\n",
              "      <td>0</td>\n",
              "      <td>0</td>\n",
              "      <td>0</td>\n",
              "      <td>0</td>\n",
              "      <td>1</td>\n",
              "    </tr>\n",
              "    <tr>\n",
              "      <th>3292</th>\n",
              "      <td>25</td>\n",
              "      <td>-1</td>\n",
              "      <td>13</td>\n",
              "      <td>4</td>\n",
              "      <td>0.400000</td>\n",
              "      <td>1</td>\n",
              "      <td>0</td>\n",
              "      <td>0</td>\n",
              "      <td>1</td>\n",
              "      <td>0</td>\n",
              "      <td>0</td>\n",
              "      <td>0</td>\n",
              "    </tr>\n",
              "    <tr>\n",
              "      <th>3394</th>\n",
              "      <td>25</td>\n",
              "      <td>-1</td>\n",
              "      <td>113</td>\n",
              "      <td>4</td>\n",
              "      <td>2.100000</td>\n",
              "      <td>3</td>\n",
              "      <td>0</td>\n",
              "      <td>0</td>\n",
              "      <td>0</td>\n",
              "      <td>0</td>\n",
              "      <td>1</td>\n",
              "      <td>0</td>\n",
              "    </tr>\n",
              "    <tr>\n",
              "      <th>3425</th>\n",
              "      <td>23</td>\n",
              "      <td>-1</td>\n",
              "      <td>12</td>\n",
              "      <td>4</td>\n",
              "      <td>1.000000</td>\n",
              "      <td>1</td>\n",
              "      <td>90</td>\n",
              "      <td>0</td>\n",
              "      <td>0</td>\n",
              "      <td>0</td>\n",
              "      <td>1</td>\n",
              "      <td>0</td>\n",
              "    </tr>\n",
              "    <tr>\n",
              "      <th>3626</th>\n",
              "      <td>24</td>\n",
              "      <td>-3</td>\n",
              "      <td>28</td>\n",
              "      <td>4</td>\n",
              "      <td>1.000000</td>\n",
              "      <td>3</td>\n",
              "      <td>0</td>\n",
              "      <td>0</td>\n",
              "      <td>0</td>\n",
              "      <td>0</td>\n",
              "      <td>0</td>\n",
              "      <td>0</td>\n",
              "    </tr>\n",
              "    <tr>\n",
              "      <th>3796</th>\n",
              "      <td>24</td>\n",
              "      <td>-2</td>\n",
              "      <td>50</td>\n",
              "      <td>3</td>\n",
              "      <td>2.400000</td>\n",
              "      <td>2</td>\n",
              "      <td>0</td>\n",
              "      <td>0</td>\n",
              "      <td>1</td>\n",
              "      <td>0</td>\n",
              "      <td>0</td>\n",
              "      <td>0</td>\n",
              "    </tr>\n",
              "    <tr>\n",
              "      <th>3824</th>\n",
              "      <td>23</td>\n",
              "      <td>-1</td>\n",
              "      <td>12</td>\n",
              "      <td>4</td>\n",
              "      <td>1.000000</td>\n",
              "      <td>1</td>\n",
              "      <td>0</td>\n",
              "      <td>0</td>\n",
              "      <td>1</td>\n",
              "      <td>0</td>\n",
              "      <td>0</td>\n",
              "      <td>1</td>\n",
              "    </tr>\n",
              "    <tr>\n",
              "      <th>3887</th>\n",
              "      <td>24</td>\n",
              "      <td>-2</td>\n",
              "      <td>118</td>\n",
              "      <td>2</td>\n",
              "      <td>7.200000</td>\n",
              "      <td>1</td>\n",
              "      <td>0</td>\n",
              "      <td>0</td>\n",
              "      <td>1</td>\n",
              "      <td>0</td>\n",
              "      <td>1</td>\n",
              "      <td>0</td>\n",
              "    </tr>\n",
              "    <tr>\n",
              "      <th>3946</th>\n",
              "      <td>25</td>\n",
              "      <td>-1</td>\n",
              "      <td>40</td>\n",
              "      <td>3</td>\n",
              "      <td>2.400000</td>\n",
              "      <td>2</td>\n",
              "      <td>0</td>\n",
              "      <td>0</td>\n",
              "      <td>0</td>\n",
              "      <td>0</td>\n",
              "      <td>1</td>\n",
              "      <td>0</td>\n",
              "    </tr>\n",
              "    <tr>\n",
              "      <th>4015</th>\n",
              "      <td>25</td>\n",
              "      <td>-1</td>\n",
              "      <td>139</td>\n",
              "      <td>2</td>\n",
              "      <td>2.000000</td>\n",
              "      <td>1</td>\n",
              "      <td>0</td>\n",
              "      <td>0</td>\n",
              "      <td>0</td>\n",
              "      <td>0</td>\n",
              "      <td>0</td>\n",
              "      <td>1</td>\n",
              "    </tr>\n",
              "    <tr>\n",
              "      <th>4088</th>\n",
              "      <td>29</td>\n",
              "      <td>-1</td>\n",
              "      <td>71</td>\n",
              "      <td>2</td>\n",
              "      <td>1.750000</td>\n",
              "      <td>3</td>\n",
              "      <td>0</td>\n",
              "      <td>0</td>\n",
              "      <td>0</td>\n",
              "      <td>0</td>\n",
              "      <td>0</td>\n",
              "      <td>0</td>\n",
              "    </tr>\n",
              "    <tr>\n",
              "      <th>4116</th>\n",
              "      <td>24</td>\n",
              "      <td>-2</td>\n",
              "      <td>135</td>\n",
              "      <td>2</td>\n",
              "      <td>7.200000</td>\n",
              "      <td>1</td>\n",
              "      <td>0</td>\n",
              "      <td>0</td>\n",
              "      <td>0</td>\n",
              "      <td>0</td>\n",
              "      <td>1</td>\n",
              "      <td>0</td>\n",
              "    </tr>\n",
              "    <tr>\n",
              "      <th>4285</th>\n",
              "      <td>23</td>\n",
              "      <td>-3</td>\n",
              "      <td>149</td>\n",
              "      <td>2</td>\n",
              "      <td>7.200000</td>\n",
              "      <td>1</td>\n",
              "      <td>0</td>\n",
              "      <td>0</td>\n",
              "      <td>0</td>\n",
              "      <td>0</td>\n",
              "      <td>1</td>\n",
              "      <td>0</td>\n",
              "    </tr>\n",
              "    <tr>\n",
              "      <th>4411</th>\n",
              "      <td>23</td>\n",
              "      <td>-2</td>\n",
              "      <td>75</td>\n",
              "      <td>2</td>\n",
              "      <td>1.800000</td>\n",
              "      <td>2</td>\n",
              "      <td>0</td>\n",
              "      <td>0</td>\n",
              "      <td>0</td>\n",
              "      <td>0</td>\n",
              "      <td>1</td>\n",
              "      <td>1</td>\n",
              "    </tr>\n",
              "    <tr>\n",
              "      <th>4481</th>\n",
              "      <td>25</td>\n",
              "      <td>-2</td>\n",
              "      <td>35</td>\n",
              "      <td>4</td>\n",
              "      <td>1.000000</td>\n",
              "      <td>3</td>\n",
              "      <td>0</td>\n",
              "      <td>0</td>\n",
              "      <td>0</td>\n",
              "      <td>0</td>\n",
              "      <td>1</td>\n",
              "      <td>0</td>\n",
              "    </tr>\n",
              "    <tr>\n",
              "      <th>4514</th>\n",
              "      <td>24</td>\n",
              "      <td>-3</td>\n",
              "      <td>41</td>\n",
              "      <td>4</td>\n",
              "      <td>1.000000</td>\n",
              "      <td>3</td>\n",
              "      <td>0</td>\n",
              "      <td>0</td>\n",
              "      <td>0</td>\n",
              "      <td>0</td>\n",
              "      <td>1</td>\n",
              "      <td>0</td>\n",
              "    </tr>\n",
              "    <tr>\n",
              "      <th>4582</th>\n",
              "      <td>25</td>\n",
              "      <td>-1</td>\n",
              "      <td>69</td>\n",
              "      <td>3</td>\n",
              "      <td>0.300000</td>\n",
              "      <td>3</td>\n",
              "      <td>0</td>\n",
              "      <td>0</td>\n",
              "      <td>0</td>\n",
              "      <td>0</td>\n",
              "      <td>1</td>\n",
              "      <td>0</td>\n",
              "    </tr>\n",
              "    <tr>\n",
              "      <th>4957</th>\n",
              "      <td>29</td>\n",
              "      <td>-1</td>\n",
              "      <td>50</td>\n",
              "      <td>2</td>\n",
              "      <td>1.750000</td>\n",
              "      <td>3</td>\n",
              "      <td>0</td>\n",
              "      <td>0</td>\n",
              "      <td>0</td>\n",
              "      <td>0</td>\n",
              "      <td>0</td>\n",
              "      <td>1</td>\n",
              "    </tr>\n",
              "  </tbody>\n",
              "</table>\n",
              "</div>\n",
              "      <button class=\"colab-df-convert\" onclick=\"convertToInteractive('df-54959c3a-8d50-4d33-9af5-8f20583c006b')\"\n",
              "              title=\"Convert this dataframe to an interactive table.\"\n",
              "              style=\"display:none;\">\n",
              "        \n",
              "  <svg xmlns=\"http://www.w3.org/2000/svg\" height=\"24px\"viewBox=\"0 0 24 24\"\n",
              "       width=\"24px\">\n",
              "    <path d=\"M0 0h24v24H0V0z\" fill=\"none\"/>\n",
              "    <path d=\"M18.56 5.44l.94 2.06.94-2.06 2.06-.94-2.06-.94-.94-2.06-.94 2.06-2.06.94zm-11 1L8.5 8.5l.94-2.06 2.06-.94-2.06-.94L8.5 2.5l-.94 2.06-2.06.94zm10 10l.94 2.06.94-2.06 2.06-.94-2.06-.94-.94-2.06-.94 2.06-2.06.94z\"/><path d=\"M17.41 7.96l-1.37-1.37c-.4-.4-.92-.59-1.43-.59-.52 0-1.04.2-1.43.59L10.3 9.45l-7.72 7.72c-.78.78-.78 2.05 0 2.83L4 21.41c.39.39.9.59 1.41.59.51 0 1.02-.2 1.41-.59l7.78-7.78 2.81-2.81c.8-.78.8-2.07 0-2.86zM5.41 20L4 18.59l7.72-7.72 1.47 1.35L5.41 20z\"/>\n",
              "  </svg>\n",
              "      </button>\n",
              "      \n",
              "  <style>\n",
              "    .colab-df-container {\n",
              "      display:flex;\n",
              "      flex-wrap:wrap;\n",
              "      gap: 12px;\n",
              "    }\n",
              "\n",
              "    .colab-df-convert {\n",
              "      background-color: #E8F0FE;\n",
              "      border: none;\n",
              "      border-radius: 50%;\n",
              "      cursor: pointer;\n",
              "      display: none;\n",
              "      fill: #1967D2;\n",
              "      height: 32px;\n",
              "      padding: 0 0 0 0;\n",
              "      width: 32px;\n",
              "    }\n",
              "\n",
              "    .colab-df-convert:hover {\n",
              "      background-color: #E2EBFA;\n",
              "      box-shadow: 0px 1px 2px rgba(60, 64, 67, 0.3), 0px 1px 3px 1px rgba(60, 64, 67, 0.15);\n",
              "      fill: #174EA6;\n",
              "    }\n",
              "\n",
              "    [theme=dark] .colab-df-convert {\n",
              "      background-color: #3B4455;\n",
              "      fill: #D2E3FC;\n",
              "    }\n",
              "\n",
              "    [theme=dark] .colab-df-convert:hover {\n",
              "      background-color: #434B5C;\n",
              "      box-shadow: 0px 1px 3px 1px rgba(0, 0, 0, 0.15);\n",
              "      filter: drop-shadow(0px 1px 2px rgba(0, 0, 0, 0.3));\n",
              "      fill: #FFFFFF;\n",
              "    }\n",
              "  </style>\n",
              "\n",
              "      <script>\n",
              "        const buttonEl =\n",
              "          document.querySelector('#df-54959c3a-8d50-4d33-9af5-8f20583c006b button.colab-df-convert');\n",
              "        buttonEl.style.display =\n",
              "          google.colab.kernel.accessAllowed ? 'block' : 'none';\n",
              "\n",
              "        async function convertToInteractive(key) {\n",
              "          const element = document.querySelector('#df-54959c3a-8d50-4d33-9af5-8f20583c006b');\n",
              "          const dataTable =\n",
              "            await google.colab.kernel.invokeFunction('convertToInteractive',\n",
              "                                                     [key], {});\n",
              "          if (!dataTable) return;\n",
              "\n",
              "          const docLinkHtml = 'Like what you see? Visit the ' +\n",
              "            '<a target=\"_blank\" href=https://colab.research.google.com/notebooks/data_table.ipynb>data table notebook</a>'\n",
              "            + ' to learn more about interactive tables.';\n",
              "          element.innerHTML = '';\n",
              "          dataTable['output_type'] = 'display_data';\n",
              "          await google.colab.output.renderOutput(dataTable, element);\n",
              "          const docLink = document.createElement('div');\n",
              "          docLink.innerHTML = docLinkHtml;\n",
              "          element.appendChild(docLink);\n",
              "        }\n",
              "      </script>\n",
              "    </div>\n",
              "  </div>\n",
              "  "
            ],
            "text/plain": [
              "      Age  Experience  Income  ...  CD Account  Online  CreditCard\n",
              "89     25          -1     113  ...           0       0           1\n",
              "226    24          -1      39  ...           0       0           0\n",
              "315    24          -2      51  ...           0       1           0\n",
              "451    28          -2      48  ...           0       1           0\n",
              "524    24          -1      75  ...           0       1           0\n",
              "536    25          -1      43  ...           0       1           0\n",
              "540    25          -1     109  ...           0       1           0\n",
              "576    25          -1      48  ...           0       0           1\n",
              "583    24          -1      38  ...           0       1           0\n",
              "597    24          -2     125  ...           0       0           1\n",
              "649    25          -1      82  ...           0       1           0\n",
              "670    23          -1      61  ...           0       1           0\n",
              "686    24          -1      38  ...           0       1           0\n",
              "793    24          -2     150  ...           0       1           0\n",
              "889    24          -2      82  ...           0       1           1\n",
              "909    23          -1     149  ...           0       0           1\n",
              "1173   24          -1      35  ...           0       0           0\n",
              "1428   25          -1      21  ...           0       1           0\n",
              "1522   25          -1     101  ...           0       0           1\n",
              "1905   25          -1     112  ...           0       1           0\n",
              "2102   25          -1      81  ...           0       1           1\n",
              "2430   23          -1      73  ...           0       1           0\n",
              "2466   24          -2      80  ...           0       1           0\n",
              "2545   25          -1      39  ...           0       1           0\n",
              "2618   23          -3      55  ...           0       1           0\n",
              "2717   23          -2      45  ...           0       1           1\n",
              "2848   24          -1      78  ...           0       0           0\n",
              "2876   24          -2      80  ...           0       0           0\n",
              "2962   23          -2      81  ...           0       0           0\n",
              "2980   25          -1      53  ...           0       0           0\n",
              "3076   29          -1      62  ...           0       0           1\n",
              "3130   23          -2      82  ...           0       0           1\n",
              "3157   23          -1      13  ...           0       1           0\n",
              "3279   26          -1      44  ...           0       0           0\n",
              "3284   25          -1     101  ...           0       0           1\n",
              "3292   25          -1      13  ...           0       0           0\n",
              "3394   25          -1     113  ...           0       1           0\n",
              "3425   23          -1      12  ...           0       1           0\n",
              "3626   24          -3      28  ...           0       0           0\n",
              "3796   24          -2      50  ...           0       0           0\n",
              "3824   23          -1      12  ...           0       0           1\n",
              "3887   24          -2     118  ...           0       1           0\n",
              "3946   25          -1      40  ...           0       1           0\n",
              "4015   25          -1     139  ...           0       0           1\n",
              "4088   29          -1      71  ...           0       0           0\n",
              "4116   24          -2     135  ...           0       1           0\n",
              "4285   23          -3     149  ...           0       1           0\n",
              "4411   23          -2      75  ...           0       1           1\n",
              "4481   25          -2      35  ...           0       1           0\n",
              "4514   24          -3      41  ...           0       1           0\n",
              "4582   25          -1      69  ...           0       1           0\n",
              "4957   29          -1      50  ...           0       0           1\n",
              "\n",
              "[52 rows x 12 columns]"
            ]
          },
          "metadata": {},
          "execution_count": 12
        }
      ]
    },
    {
      "cell_type": "code",
      "source": [
        "#the insight how range of age 23 To 29 Years has no experience so it's Outlier\n",
        "px.box(negtive_exp, y='Age')"
      ],
      "metadata": {
        "colab": {
          "base_uri": "https://localhost:8080/",
          "height": 542
        },
        "id": "UNMQH7uuocv7",
        "outputId": "a4b993d2-c315-487a-cfdf-996d4d750b2e"
      },
      "execution_count": 13,
      "outputs": [
        {
          "output_type": "display_data",
          "data": {
            "text/html": [
              "<html>\n",
              "<head><meta charset=\"utf-8\" /></head>\n",
              "<body>\n",
              "    <div>\n",
              "            <script src=\"https://cdnjs.cloudflare.com/ajax/libs/mathjax/2.7.5/MathJax.js?config=TeX-AMS-MML_SVG\"></script><script type=\"text/javascript\">if (window.MathJax) {MathJax.Hub.Config({SVG: {font: \"STIX-Web\"}});}</script>\n",
              "                <script type=\"text/javascript\">window.PlotlyConfig = {MathJaxConfig: 'local'};</script>\n",
              "        <script src=\"https://cdn.plot.ly/plotly-latest.min.js\"></script>    \n",
              "            <div id=\"761ab280-972b-42d3-8627-7e5e69ee7960\" class=\"plotly-graph-div\" style=\"height:525px; width:100%;\"></div>\n",
              "            <script type=\"text/javascript\">\n",
              "                \n",
              "                    window.PLOTLYENV=window.PLOTLYENV || {};\n",
              "                    \n",
              "                if (document.getElementById(\"761ab280-972b-42d3-8627-7e5e69ee7960\")) {\n",
              "                    Plotly.newPlot(\n",
              "                        '761ab280-972b-42d3-8627-7e5e69ee7960',\n",
              "                        [{\"alignmentgroup\": \"True\", \"hoverlabel\": {\"namelength\": 0}, \"hovertemplate\": \"Age=%{y}\", \"legendgroup\": \"\", \"marker\": {\"color\": \"#636efa\"}, \"name\": \"\", \"notched\": false, \"offsetgroup\": \"\", \"orientation\": \"v\", \"showlegend\": false, \"type\": \"box\", \"x0\": \" \", \"xaxis\": \"x\", \"y\": [25, 24, 24, 28, 24, 25, 25, 25, 24, 24, 25, 23, 24, 24, 24, 23, 24, 25, 25, 25, 25, 23, 24, 25, 23, 23, 24, 24, 23, 25, 29, 23, 23, 26, 25, 25, 25, 23, 24, 24, 23, 24, 25, 25, 29, 24, 23, 23, 25, 24, 25, 29], \"y0\": \" \", \"yaxis\": \"y\"}],\n",
              "                        {\"boxmode\": \"group\", \"legend\": {\"tracegroupgap\": 0}, \"margin\": {\"t\": 60}, \"template\": {\"data\": {\"bar\": [{\"error_x\": {\"color\": \"#2a3f5f\"}, \"error_y\": {\"color\": \"#2a3f5f\"}, \"marker\": {\"line\": {\"color\": \"#E5ECF6\", \"width\": 0.5}}, \"type\": \"bar\"}], \"barpolar\": [{\"marker\": {\"line\": {\"color\": \"#E5ECF6\", \"width\": 0.5}}, \"type\": \"barpolar\"}], \"carpet\": [{\"aaxis\": {\"endlinecolor\": \"#2a3f5f\", \"gridcolor\": \"white\", \"linecolor\": \"white\", \"minorgridcolor\": \"white\", \"startlinecolor\": \"#2a3f5f\"}, \"baxis\": {\"endlinecolor\": \"#2a3f5f\", \"gridcolor\": \"white\", \"linecolor\": \"white\", \"minorgridcolor\": \"white\", \"startlinecolor\": \"#2a3f5f\"}, \"type\": \"carpet\"}], \"choropleth\": [{\"colorbar\": {\"outlinewidth\": 0, \"ticks\": \"\"}, \"type\": \"choropleth\"}], \"contour\": [{\"colorbar\": {\"outlinewidth\": 0, \"ticks\": \"\"}, \"colorscale\": [[0.0, \"#0d0887\"], [0.1111111111111111, \"#46039f\"], [0.2222222222222222, \"#7201a8\"], [0.3333333333333333, \"#9c179e\"], [0.4444444444444444, \"#bd3786\"], [0.5555555555555556, \"#d8576b\"], [0.6666666666666666, \"#ed7953\"], [0.7777777777777778, \"#fb9f3a\"], [0.8888888888888888, \"#fdca26\"], [1.0, \"#f0f921\"]], \"type\": \"contour\"}], \"contourcarpet\": [{\"colorbar\": {\"outlinewidth\": 0, \"ticks\": \"\"}, \"type\": \"contourcarpet\"}], \"heatmap\": [{\"colorbar\": {\"outlinewidth\": 0, \"ticks\": \"\"}, \"colorscale\": [[0.0, \"#0d0887\"], [0.1111111111111111, \"#46039f\"], [0.2222222222222222, \"#7201a8\"], [0.3333333333333333, \"#9c179e\"], [0.4444444444444444, \"#bd3786\"], [0.5555555555555556, \"#d8576b\"], [0.6666666666666666, \"#ed7953\"], [0.7777777777777778, \"#fb9f3a\"], [0.8888888888888888, \"#fdca26\"], [1.0, \"#f0f921\"]], \"type\": \"heatmap\"}], \"heatmapgl\": [{\"colorbar\": {\"outlinewidth\": 0, \"ticks\": \"\"}, \"colorscale\": [[0.0, \"#0d0887\"], [0.1111111111111111, \"#46039f\"], [0.2222222222222222, \"#7201a8\"], [0.3333333333333333, \"#9c179e\"], [0.4444444444444444, \"#bd3786\"], [0.5555555555555556, \"#d8576b\"], [0.6666666666666666, \"#ed7953\"], [0.7777777777777778, \"#fb9f3a\"], [0.8888888888888888, \"#fdca26\"], [1.0, \"#f0f921\"]], \"type\": \"heatmapgl\"}], \"histogram\": [{\"marker\": {\"colorbar\": {\"outlinewidth\": 0, \"ticks\": \"\"}}, \"type\": \"histogram\"}], \"histogram2d\": [{\"colorbar\": {\"outlinewidth\": 0, \"ticks\": \"\"}, \"colorscale\": [[0.0, \"#0d0887\"], [0.1111111111111111, \"#46039f\"], [0.2222222222222222, \"#7201a8\"], [0.3333333333333333, \"#9c179e\"], [0.4444444444444444, \"#bd3786\"], [0.5555555555555556, \"#d8576b\"], [0.6666666666666666, \"#ed7953\"], [0.7777777777777778, \"#fb9f3a\"], [0.8888888888888888, \"#fdca26\"], [1.0, \"#f0f921\"]], \"type\": \"histogram2d\"}], \"histogram2dcontour\": [{\"colorbar\": {\"outlinewidth\": 0, \"ticks\": \"\"}, \"colorscale\": [[0.0, \"#0d0887\"], [0.1111111111111111, \"#46039f\"], [0.2222222222222222, \"#7201a8\"], [0.3333333333333333, \"#9c179e\"], [0.4444444444444444, \"#bd3786\"], [0.5555555555555556, \"#d8576b\"], [0.6666666666666666, \"#ed7953\"], [0.7777777777777778, \"#fb9f3a\"], [0.8888888888888888, \"#fdca26\"], [1.0, \"#f0f921\"]], \"type\": \"histogram2dcontour\"}], \"mesh3d\": [{\"colorbar\": {\"outlinewidth\": 0, \"ticks\": \"\"}, \"type\": \"mesh3d\"}], \"parcoords\": [{\"line\": {\"colorbar\": {\"outlinewidth\": 0, \"ticks\": \"\"}}, \"type\": \"parcoords\"}], \"pie\": [{\"automargin\": true, \"type\": \"pie\"}], \"scatter\": [{\"marker\": {\"colorbar\": {\"outlinewidth\": 0, \"ticks\": \"\"}}, \"type\": \"scatter\"}], \"scatter3d\": [{\"line\": {\"colorbar\": {\"outlinewidth\": 0, \"ticks\": \"\"}}, \"marker\": {\"colorbar\": {\"outlinewidth\": 0, \"ticks\": \"\"}}, \"type\": \"scatter3d\"}], \"scattercarpet\": [{\"marker\": {\"colorbar\": {\"outlinewidth\": 0, \"ticks\": \"\"}}, \"type\": \"scattercarpet\"}], \"scattergeo\": [{\"marker\": {\"colorbar\": {\"outlinewidth\": 0, \"ticks\": \"\"}}, \"type\": \"scattergeo\"}], \"scattergl\": [{\"marker\": {\"colorbar\": {\"outlinewidth\": 0, \"ticks\": \"\"}}, \"type\": \"scattergl\"}], \"scattermapbox\": [{\"marker\": {\"colorbar\": {\"outlinewidth\": 0, \"ticks\": \"\"}}, \"type\": \"scattermapbox\"}], \"scatterpolar\": [{\"marker\": {\"colorbar\": {\"outlinewidth\": 0, \"ticks\": \"\"}}, \"type\": \"scatterpolar\"}], \"scatterpolargl\": [{\"marker\": {\"colorbar\": {\"outlinewidth\": 0, \"ticks\": \"\"}}, \"type\": \"scatterpolargl\"}], \"scatterternary\": [{\"marker\": {\"colorbar\": {\"outlinewidth\": 0, \"ticks\": \"\"}}, \"type\": \"scatterternary\"}], \"surface\": [{\"colorbar\": {\"outlinewidth\": 0, \"ticks\": \"\"}, \"colorscale\": [[0.0, \"#0d0887\"], [0.1111111111111111, \"#46039f\"], [0.2222222222222222, \"#7201a8\"], [0.3333333333333333, \"#9c179e\"], [0.4444444444444444, \"#bd3786\"], [0.5555555555555556, \"#d8576b\"], [0.6666666666666666, \"#ed7953\"], [0.7777777777777778, \"#fb9f3a\"], [0.8888888888888888, \"#fdca26\"], [1.0, \"#f0f921\"]], \"type\": \"surface\"}], \"table\": [{\"cells\": {\"fill\": {\"color\": \"#EBF0F8\"}, \"line\": {\"color\": \"white\"}}, \"header\": {\"fill\": {\"color\": \"#C8D4E3\"}, \"line\": {\"color\": \"white\"}}, \"type\": \"table\"}]}, \"layout\": {\"annotationdefaults\": {\"arrowcolor\": \"#2a3f5f\", \"arrowhead\": 0, \"arrowwidth\": 1}, \"coloraxis\": {\"colorbar\": {\"outlinewidth\": 0, \"ticks\": \"\"}}, \"colorscale\": {\"diverging\": [[0, \"#8e0152\"], [0.1, \"#c51b7d\"], [0.2, \"#de77ae\"], [0.3, \"#f1b6da\"], [0.4, \"#fde0ef\"], [0.5, \"#f7f7f7\"], [0.6, \"#e6f5d0\"], [0.7, \"#b8e186\"], [0.8, \"#7fbc41\"], [0.9, \"#4d9221\"], [1, \"#276419\"]], \"sequential\": [[0.0, \"#0d0887\"], [0.1111111111111111, \"#46039f\"], [0.2222222222222222, \"#7201a8\"], [0.3333333333333333, \"#9c179e\"], [0.4444444444444444, \"#bd3786\"], [0.5555555555555556, \"#d8576b\"], [0.6666666666666666, \"#ed7953\"], [0.7777777777777778, \"#fb9f3a\"], [0.8888888888888888, \"#fdca26\"], [1.0, \"#f0f921\"]], \"sequentialminus\": [[0.0, \"#0d0887\"], [0.1111111111111111, \"#46039f\"], [0.2222222222222222, \"#7201a8\"], [0.3333333333333333, \"#9c179e\"], [0.4444444444444444, \"#bd3786\"], [0.5555555555555556, \"#d8576b\"], [0.6666666666666666, \"#ed7953\"], [0.7777777777777778, \"#fb9f3a\"], [0.8888888888888888, \"#fdca26\"], [1.0, \"#f0f921\"]]}, \"colorway\": [\"#636efa\", \"#EF553B\", \"#00cc96\", \"#ab63fa\", \"#FFA15A\", \"#19d3f3\", \"#FF6692\", \"#B6E880\", \"#FF97FF\", \"#FECB52\"], \"font\": {\"color\": \"#2a3f5f\"}, \"geo\": {\"bgcolor\": \"white\", \"lakecolor\": \"white\", \"landcolor\": \"#E5ECF6\", \"showlakes\": true, \"showland\": true, \"subunitcolor\": \"white\"}, \"hoverlabel\": {\"align\": \"left\"}, \"hovermode\": \"closest\", \"mapbox\": {\"style\": \"light\"}, \"paper_bgcolor\": \"white\", \"plot_bgcolor\": \"#E5ECF6\", \"polar\": {\"angularaxis\": {\"gridcolor\": \"white\", \"linecolor\": \"white\", \"ticks\": \"\"}, \"bgcolor\": \"#E5ECF6\", \"radialaxis\": {\"gridcolor\": \"white\", \"linecolor\": \"white\", \"ticks\": \"\"}}, \"scene\": {\"xaxis\": {\"backgroundcolor\": \"#E5ECF6\", \"gridcolor\": \"white\", \"gridwidth\": 2, \"linecolor\": \"white\", \"showbackground\": true, \"ticks\": \"\", \"zerolinecolor\": \"white\"}, \"yaxis\": {\"backgroundcolor\": \"#E5ECF6\", \"gridcolor\": \"white\", \"gridwidth\": 2, \"linecolor\": \"white\", \"showbackground\": true, \"ticks\": \"\", \"zerolinecolor\": \"white\"}, \"zaxis\": {\"backgroundcolor\": \"#E5ECF6\", \"gridcolor\": \"white\", \"gridwidth\": 2, \"linecolor\": \"white\", \"showbackground\": true, \"ticks\": \"\", \"zerolinecolor\": \"white\"}}, \"shapedefaults\": {\"line\": {\"color\": \"#2a3f5f\"}}, \"ternary\": {\"aaxis\": {\"gridcolor\": \"white\", \"linecolor\": \"white\", \"ticks\": \"\"}, \"baxis\": {\"gridcolor\": \"white\", \"linecolor\": \"white\", \"ticks\": \"\"}, \"bgcolor\": \"#E5ECF6\", \"caxis\": {\"gridcolor\": \"white\", \"linecolor\": \"white\", \"ticks\": \"\"}}, \"title\": {\"x\": 0.05}, \"xaxis\": {\"automargin\": true, \"gridcolor\": \"white\", \"linecolor\": \"white\", \"ticks\": \"\", \"title\": {\"standoff\": 15}, \"zerolinecolor\": \"white\", \"zerolinewidth\": 2}, \"yaxis\": {\"automargin\": true, \"gridcolor\": \"white\", \"linecolor\": \"white\", \"ticks\": \"\", \"title\": {\"standoff\": 15}, \"zerolinecolor\": \"white\", \"zerolinewidth\": 2}}}, \"xaxis\": {\"anchor\": \"y\", \"domain\": [0.0, 1.0]}, \"yaxis\": {\"anchor\": \"x\", \"domain\": [0.0, 1.0], \"title\": {\"text\": \"Age\"}}},\n",
              "                        {\"responsive\": true}\n",
              "                    ).then(function(){\n",
              "                            \n",
              "var gd = document.getElementById('761ab280-972b-42d3-8627-7e5e69ee7960');\n",
              "var x = new MutationObserver(function (mutations, observer) {{\n",
              "        var display = window.getComputedStyle(gd).display;\n",
              "        if (!display || display === 'none') {{\n",
              "            console.log([gd, 'removed!']);\n",
              "            Plotly.purge(gd);\n",
              "            observer.disconnect();\n",
              "        }}\n",
              "}});\n",
              "\n",
              "// Listen for the removal of the full notebook cells\n",
              "var notebookContainer = gd.closest('#notebook-container');\n",
              "if (notebookContainer) {{\n",
              "    x.observe(notebookContainer, {childList: true});\n",
              "}}\n",
              "\n",
              "// Listen for the clearing of the current output cell\n",
              "var outputEl = gd.closest('.output');\n",
              "if (outputEl) {{\n",
              "    x.observe(outputEl, {childList: true});\n",
              "}}\n",
              "\n",
              "                        })\n",
              "                };\n",
              "                \n",
              "            </script>\n",
              "        </div>\n",
              "</body>\n",
              "</html>"
            ]
          },
          "metadata": {}
        }
      ]
    },
    {
      "cell_type": "code",
      "source": [
        "negtive_exp.size"
      ],
      "metadata": {
        "colab": {
          "base_uri": "https://localhost:8080/"
        },
        "id": "jrO9q1ILqWij",
        "outputId": "044052bc-841a-4d63-ba2e-6748bd050d84"
      },
      "execution_count": 14,
      "outputs": [
        {
          "output_type": "execute_result",
          "data": {
            "text/plain": [
              "624"
            ]
          },
          "metadata": {},
          "execution_count": 14
        }
      ]
    },
    {
      "cell_type": "code",
      "source": [
        "print('There are {} records with negtive experience and aprox {}% of all data'.format(negtive_exp.size, ((negtive_exp.size/df.size)*100)))"
      ],
      "metadata": {
        "colab": {
          "base_uri": "https://localhost:8080/"
        },
        "id": "jBGdooh1rF9P",
        "outputId": "4bb9b26b-3710-4b34-9b66-509040cf2637"
      },
      "execution_count": 15,
      "outputs": [
        {
          "output_type": "stream",
          "name": "stdout",
          "text": [
            "There are 624 records with negtive experience and aprox 1.04% of all data\n"
          ]
        }
      ]
    },
    {
      "cell_type": "code",
      "source": [
        "#replace negtive values with positive\n",
        "df['Experience'] =  np.where(df['Experience']<0, df['Experience']*-1, df['Experience'])"
      ],
      "metadata": {
        "id": "E5OCG2gVsOO_"
      },
      "execution_count": 16,
      "outputs": []
    },
    {
      "cell_type": "code",
      "source": [
        "#checking there are no negtive experience\n",
        "df[df['Experience']<0]"
      ],
      "metadata": {
        "colab": {
          "base_uri": "https://localhost:8080/",
          "height": 110
        },
        "id": "vj9DWceYsvt0",
        "outputId": "b36d6ca0-71a7-4ec7-87f1-318df80035e8"
      },
      "execution_count": 17,
      "outputs": [
        {
          "output_type": "execute_result",
          "data": {
            "text/html": [
              "\n",
              "  <div id=\"df-60f94461-4261-4dc3-b322-23de3e7c1dea\">\n",
              "    <div class=\"colab-df-container\">\n",
              "      <div>\n",
              "<style scoped>\n",
              "    .dataframe tbody tr th:only-of-type {\n",
              "        vertical-align: middle;\n",
              "    }\n",
              "\n",
              "    .dataframe tbody tr th {\n",
              "        vertical-align: top;\n",
              "    }\n",
              "\n",
              "    .dataframe thead th {\n",
              "        text-align: right;\n",
              "    }\n",
              "</style>\n",
              "<table border=\"1\" class=\"dataframe\">\n",
              "  <thead>\n",
              "    <tr style=\"text-align: right;\">\n",
              "      <th></th>\n",
              "      <th>Age</th>\n",
              "      <th>Experience</th>\n",
              "      <th>Income</th>\n",
              "      <th>Family</th>\n",
              "      <th>CCAvg</th>\n",
              "      <th>Education</th>\n",
              "      <th>Mortgage</th>\n",
              "      <th>Personal Loan</th>\n",
              "      <th>Securities Account</th>\n",
              "      <th>CD Account</th>\n",
              "      <th>Online</th>\n",
              "      <th>CreditCard</th>\n",
              "    </tr>\n",
              "  </thead>\n",
              "  <tbody>\n",
              "  </tbody>\n",
              "</table>\n",
              "</div>\n",
              "      <button class=\"colab-df-convert\" onclick=\"convertToInteractive('df-60f94461-4261-4dc3-b322-23de3e7c1dea')\"\n",
              "              title=\"Convert this dataframe to an interactive table.\"\n",
              "              style=\"display:none;\">\n",
              "        \n",
              "  <svg xmlns=\"http://www.w3.org/2000/svg\" height=\"24px\"viewBox=\"0 0 24 24\"\n",
              "       width=\"24px\">\n",
              "    <path d=\"M0 0h24v24H0V0z\" fill=\"none\"/>\n",
              "    <path d=\"M18.56 5.44l.94 2.06.94-2.06 2.06-.94-2.06-.94-.94-2.06-.94 2.06-2.06.94zm-11 1L8.5 8.5l.94-2.06 2.06-.94-2.06-.94L8.5 2.5l-.94 2.06-2.06.94zm10 10l.94 2.06.94-2.06 2.06-.94-2.06-.94-.94-2.06-.94 2.06-2.06.94z\"/><path d=\"M17.41 7.96l-1.37-1.37c-.4-.4-.92-.59-1.43-.59-.52 0-1.04.2-1.43.59L10.3 9.45l-7.72 7.72c-.78.78-.78 2.05 0 2.83L4 21.41c.39.39.9.59 1.41.59.51 0 1.02-.2 1.41-.59l7.78-7.78 2.81-2.81c.8-.78.8-2.07 0-2.86zM5.41 20L4 18.59l7.72-7.72 1.47 1.35L5.41 20z\"/>\n",
              "  </svg>\n",
              "      </button>\n",
              "      \n",
              "  <style>\n",
              "    .colab-df-container {\n",
              "      display:flex;\n",
              "      flex-wrap:wrap;\n",
              "      gap: 12px;\n",
              "    }\n",
              "\n",
              "    .colab-df-convert {\n",
              "      background-color: #E8F0FE;\n",
              "      border: none;\n",
              "      border-radius: 50%;\n",
              "      cursor: pointer;\n",
              "      display: none;\n",
              "      fill: #1967D2;\n",
              "      height: 32px;\n",
              "      padding: 0 0 0 0;\n",
              "      width: 32px;\n",
              "    }\n",
              "\n",
              "    .colab-df-convert:hover {\n",
              "      background-color: #E2EBFA;\n",
              "      box-shadow: 0px 1px 2px rgba(60, 64, 67, 0.3), 0px 1px 3px 1px rgba(60, 64, 67, 0.15);\n",
              "      fill: #174EA6;\n",
              "    }\n",
              "\n",
              "    [theme=dark] .colab-df-convert {\n",
              "      background-color: #3B4455;\n",
              "      fill: #D2E3FC;\n",
              "    }\n",
              "\n",
              "    [theme=dark] .colab-df-convert:hover {\n",
              "      background-color: #434B5C;\n",
              "      box-shadow: 0px 1px 3px 1px rgba(0, 0, 0, 0.15);\n",
              "      filter: drop-shadow(0px 1px 2px rgba(0, 0, 0, 0.3));\n",
              "      fill: #FFFFFF;\n",
              "    }\n",
              "  </style>\n",
              "\n",
              "      <script>\n",
              "        const buttonEl =\n",
              "          document.querySelector('#df-60f94461-4261-4dc3-b322-23de3e7c1dea button.colab-df-convert');\n",
              "        buttonEl.style.display =\n",
              "          google.colab.kernel.accessAllowed ? 'block' : 'none';\n",
              "\n",
              "        async function convertToInteractive(key) {\n",
              "          const element = document.querySelector('#df-60f94461-4261-4dc3-b322-23de3e7c1dea');\n",
              "          const dataTable =\n",
              "            await google.colab.kernel.invokeFunction('convertToInteractive',\n",
              "                                                     [key], {});\n",
              "          if (!dataTable) return;\n",
              "\n",
              "          const docLinkHtml = 'Like what you see? Visit the ' +\n",
              "            '<a target=\"_blank\" href=https://colab.research.google.com/notebooks/data_table.ipynb>data table notebook</a>'\n",
              "            + ' to learn more about interactive tables.';\n",
              "          element.innerHTML = '';\n",
              "          dataTable['output_type'] = 'display_data';\n",
              "          await google.colab.output.renderOutput(dataTable, element);\n",
              "          const docLink = document.createElement('div');\n",
              "          docLink.innerHTML = docLinkHtml;\n",
              "          element.appendChild(docLink);\n",
              "        }\n",
              "      </script>\n",
              "    </div>\n",
              "  </div>\n",
              "  "
            ],
            "text/plain": [
              "Empty DataFrame\n",
              "Columns: [Age, Experience, Income, Family, CCAvg, Education, Mortgage, Personal Loan, Securities Account, CD Account, Online, CreditCard]\n",
              "Index: []"
            ]
          },
          "metadata": {},
          "execution_count": 17
        }
      ]
    },
    {
      "cell_type": "markdown",
      "source": [
        "**3.2 Detecting & Solving the ouliers in Income column**"
      ],
      "metadata": {
        "id": "oY_GvvocSdAm"
      }
    },
    {
      "cell_type": "code",
      "source": [
        "px.box(data_frame=df, y='Income')"
      ],
      "metadata": {
        "colab": {
          "base_uri": "https://localhost:8080/",
          "height": 542
        },
        "id": "UTqAozi3C0Ia",
        "outputId": "45e9e674-67a0-4597-85ca-0fc6f9881a73"
      },
      "execution_count": 18,
      "outputs": [
        {
          "output_type": "display_data",
          "data": {
            "text/html": [
              "<html>\n",
              "<head><meta charset=\"utf-8\" /></head>\n",
              "<body>\n",
              "    <div>\n",
              "            <script src=\"https://cdnjs.cloudflare.com/ajax/libs/mathjax/2.7.5/MathJax.js?config=TeX-AMS-MML_SVG\"></script><script type=\"text/javascript\">if (window.MathJax) {MathJax.Hub.Config({SVG: {font: \"STIX-Web\"}});}</script>\n",
              "                <script type=\"text/javascript\">window.PlotlyConfig = {MathJaxConfig: 'local'};</script>\n",
              "        <script src=\"https://cdn.plot.ly/plotly-latest.min.js\"></script>    \n",
              "            <div id=\"a7a1f10a-fd6f-4ea6-8e0e-5dafece4f6b2\" class=\"plotly-graph-div\" style=\"height:525px; width:100%;\"></div>\n",
              "            <script type=\"text/javascript\">\n",
              "                \n",
              "                    window.PLOTLYENV=window.PLOTLYENV || {};\n",
              "                    \n",
              "                if (document.getElementById(\"a7a1f10a-fd6f-4ea6-8e0e-5dafece4f6b2\")) {\n",
              "                    Plotly.newPlot(\n",
              "                        'a7a1f10a-fd6f-4ea6-8e0e-5dafece4f6b2',\n",
              "                        [{\"alignmentgroup\": \"True\", \"hoverlabel\": {\"namelength\": 0}, \"hovertemplate\": \"Income=%{y}\", \"legendgroup\": \"\", \"marker\": {\"color\": \"#636efa\"}, \"name\": \"\", \"notched\": false, \"offsetgroup\": \"\", \"orientation\": \"v\", \"showlegend\": false, \"type\": \"box\", \"x0\": \" \", \"xaxis\": \"x\", \"y\": [49, 34, 11, 100, 45, 29, 72, 22, 81, 180, 105, 45, 114, 40, 112, 22, 130, 81, 193, 21, 25, 63, 62, 43, 152, 29, 83, 158, 48, 119, 35, 29, 41, 18, 50, 81, 121, 71, 141, 80, 84, 60, 132, 45, 104, 52, 43, 194, 81, 49, 8, 131, 72, 190, 44, 139, 29, 131, 93, 188, 39, 125, 22, 32, 105, 131, 105, 45, 60, 20, 115, 69, 130, 85, 135, 135, 12, 29, 133, 19, 41, 40, 82, 50, 18, 109, 42, 78, 51, 113, 118, 29, 34, 64, 121, 48, 80, 161, 94, 15, 74, 30, 44, 22, 38, 35, 69, 43, 32, 49, 9, 45, 82, 92, 39, 81, 35, 61, 73, 112, 12, 38, 73, 84, 78, 80, 115, 82, 74, 70, 81, 149, 51, 39, 98, 45, 49, 128, 42, 18, 31, 58, 48, 54, 70, 124, 84, 83, 163, 42, 118, 132, 24, 22, 58, 60, 15, 83, 79, 41, 134, 80, 52, 70, 92, 43, 21, 23, 13, 112, 138, 11, 171, 42, 168, 85, 44, 65, 24, 11, 38, 10, 135, 148, 63, 115, 45, 159, 169, 112, 93, 29, 85, 21, 144, 13, 165, 9, 59, 158, 29, 20, 68, 65, 61, 91, 31, 71, 73, 172, 20, 55, 69, 155, 94, 92, 125, 74, 72, 61, 25, 83, 104, 41, 58, 93, 39, 148, 53, 71, 92, 61, 38, 58, 80, 71, 89, 83, 28, 52, 70, 71, 75, 170, 78, 25, 60, 120, 99, 55, 29, 170, 53, 138, 134, 42, 99, 18, 24, 55, 58, 111, 33, 74, 38, 23, 61, 81, 129, 33, 63, 70, 45, 65, 74, 50, 22, 30, 21, 155, 64, 65, 71, 40, 69, 69, 45, 62, 172, 24, 80, 8, 38, 93, 55, 64, 122, 70, 81, 159, 70, 150, 152, 195, 22, 22, 79, 33, 128, 91, 39, 121, 21, 41, 45, 51, 165, 119, 110, 20, 64, 101, 101, 99, 158, 89, 80, 114, 49, 191, 78, 28, 42, 140, 45, 122, 65, 68, 153, 89, 91, 55, 118, 22, 63, 12, 50, 43, 173, 60, 113, 155, 91, 55, 173, 71, 24, 42, 141, 32, 55, 153, 113, 30, 29, 174, 35, 98, 30, 58, 25, 19, 44, 20, 98, 90, 61, 40, 38, 28, 34, 73, 133, 53, 21, 40, 41, 82, 100, 155, 45, 9, 48, 18, 80, 64, 29, 48, 23, 84, 179, 30, 93, 39, 60, 133, 125, 58, 89, 82, 110, 54, 89, 42, 41, 38, 85, 83, 33, 50, 58, 115, 145, 161, 38, 28, 75, 35, 24, 78, 113, 75, 91, 31, 45, 80, 50, 31, 113, 29, 59, 43, 122, 29, 91, 65, 22, 71, 60, 60, 69, 48, 21, 53, 29, 60, 42, 69, 20, 200, 141, 81, 183, 149, 83, 35, 13, 39, 21, 10, 84, 30, 31, 182, 114, 152, 53, 24, 150, 132, 68, 53, 173, 30, 113, 15, 84, 88, 43, 43, 90, 34, 38, 173, 160, 44, 83, 94, 43, 42, 34, 39, 70, 39, 44, 69, 44, 32, 15, 118, 62, 82, 54, 48, 74, 113, 81, 43, 34, 48, 54, 75, 72, 39, 75, 79, 205, 65, 122, 82, 21, 50, 39, 101, 41, 132, 43, 131, 11, 21, 109, 141, 81, 54, 164, 28, 68, 44, 61, 35, 54, 14, 52, 101, 149, 35, 21, 118, 38, 24, 59, 41, 85, 12, 32, 79, 175, 28, 41, 70, 161, 53, 128, 50, 80, 93, 48, 149, 49, 88, 22, 55, 72, 38, 114, 83, 101, 94, 40, 128, 39, 51, 79, 48, 85, 41, 152, 125, 11, 103, 141, 38, 135, 28, 70, 41, 81, 170, 55, 24, 81, 32, 129, 108, 180, 139, 33, 74, 42, 73, 115, 114, 92, 34, 54, 64, 42, 70, 51, 71, 35, 40, 165, 18, 32, 35, 120, 31, 35, 32, 85, 139, 103, 152, 33, 84, 61, 64, 34, 82, 122, 58, 92, 78, 129, 13, 81, 23, 35, 79, 165, 52, 185, 49, 64, 61, 112, 72, 18, 41, 61, 105, 23, 22, 59, 33, 11, 204, 61, 103, 51, 164, 12, 82, 164, 48, 38, 65, 71, 18, 52, 48, 30, 40, 112, 115, 63, 85, 59, 68, 84, 62, 109, 141, 129, 30, 148, 25, 21, 72, 59, 83, 10, 84, 98, 32, 31, 94, 21, 110, 38, 39, 132, 61, 92, 119, 53, 18, 114, 90, 140, 90, 85, 80, 53, 49, 152, 138, 80, 82, 195, 22, 81, 40, 154, 49, 85, 21, 14, 60, 138, 98, 22, 49, 102, 45, 82, 81, 35, 59, 52, 84, 85, 65, 89, 109, 81, 38, 72, 78, 172, 71, 165, 120, 39, 23, 135, 12, 92, 192, 42, 158, 194, 160, 98, 164, 42, 202, 10, 31, 58, 65, 98, 150, 44, 15, 82, 61, 38, 39, 173, 8, 51, 62, 34, 132, 44, 162, 64, 111, 41, 52, 65, 130, 45, 35, 65, 38, 42, 45, 145, 33, 60, 45, 72, 34, 23, 45, 28, 81, 72, 49, 31, 63, 150, 142, 74, 24, 29, 79, 94, 121, 54, 73, 71, 29, 93, 73, 19, 58, 39, 23, 29, 155, 90, 113, 42, 30, 19, 124, 30, 28, 15, 70, 10, 22, 70, 61, 161, 29, 35, 48, 44, 88, 40, 21, 58, 59, 74, 84, 58, 154, 185, 78, 55, 30, 74, 118, 182, 82, 29, 120, 53, 43, 59, 84, 161, 21, 63, 172, 51, 24, 95, 59, 51, 28, 154, 15, 55, 149, 79, 68, 78, 34, 195, 184, 85, 200, 64, 88, 42, 91, 38, 28, 32, 31, 22, 95, 74, 22, 43, 43, 112, 9, 81, 131, 19, 62, 19, 8, 193, 129, 30, 80, 22, 33, 64, 60, 81, 45, 112, 83, 180, 28, 169, 14, 43, 88, 78, 68, 144, 30, 120, 24, 78, 135, 44, 73, 90, 58, 75, 174, 50, 85, 54, 83, 24, 45, 68, 48, 114, 142, 52, 142, 15, 118, 101, 84, 32, 64, 81, 28, 93, 185, 42, 45, 49, 69, 94, 18, 8, 55, 85, 62, 65, 138, 103, 99, 152, 25, 98, 39, 40, 58, 192, 62, 69, 40, 61, 30, 29, 41, 118, 109, 122, 50, 43, 108, 110, 20, 112, 25, 42, 29, 84, 81, 55, 40, 145, 175, 78, 51, 50, 21, 79, 84, 34, 73, 90, 23, 145, 54, 49, 51, 8, 62, 25, 63, 24, 11, 23, 33, 83, 39, 138, 113, 125, 195, 105, 75, 40, 61, 75, 122, 75, 59, 24, 175, 39, 145, 24, 20, 85, 65, 191, 11, 40, 54, 95, 94, 79, 48, 70, 40, 44, 43, 29, 188, 114, 52, 13, 95, 84, 49, 181, 182, 70, 79, 61, 121, 34, 183, 51, 70, 39, 84, 122, 145, 98, 79, 38, 49, 38, 91, 29, 172, 104, 58, 171, 73, 191, 90, 55, 28, 42, 9, 65, 134, 83, 38, 13, 143, 75, 120, 91, 99, 71, 111, 108, 158, 81, 12, 21, 55, 42, 81, 13, 132, 99, 23, 40, 181, 112, 138, 94, 113, 112, 190, 38, 32, 104, 43, 45, 35, 42, 58, 103, 71, 14, 98, 90, 65, 19, 35, 71, 31, 43, 24, 58, 115, 168, 128, 138, 81, 41, 123, 71, 8, 42, 62, 22, 38, 24, 50, 190, 94, 165, 43, 48, 52, 84, 131, 44, 78, 15, 38, 84, 122, 98, 80, 165, 121, 20, 11, 45, 118, 14, 30, 45, 80, 25, 144, 84, 22, 33, 60, 81, 169, 63, 12, 15, 39, 44, 110, 130, 41, 59, 39, 35, 80, 81, 31, 93, 45, 40, 80, 20, 41, 31, 35, 40, 84, 53, 85, 138, 71, 113, 23, 62, 14, 60, 94, 83, 130, 61, 92, 20, 194, 74, 84, 98, 52, 55, 64, 128, 113, 50, 54, 129, 82, 100, 44, 164, 81, 71, 28, 80, 90, 74, 14, 23, 153, 38, 112, 145, 28, 31, 195, 50, 71, 21, 35, 42, 78, 73, 53, 51, 40, 178, 35, 192, 123, 48, 45, 15, 79, 63, 30, 145, 32, 64, 84, 21, 99, 35, 180, 42, 179, 42, 180, 82, 55, 79, 48, 93, 23, 50, 85, 35, 171, 29, 84, 20, 14, 179, 48, 74, 53, 83, 171, 85, 38, 85, 79, 69, 43, 33, 42, 40, 43, 20, 65, 139, 135, 84, 179, 45, 109, 34, 162, 105, 22, 82, 105, 62, 82, 72, 38, 25, 20, 80, 84, 33, 55, 33, 190, 43, 45, 141, 69, 78, 84, 172, 51, 75, 183, 20, 101, 129, 63, 44, 184, 100, 12, 68, 48, 82, 52, 154, 39, 40, 54, 32, 64, 92, 40, 60, 85, 21, 35, 52, 128, 195, 68, 55, 55, 80, 123, 90, 61, 41, 43, 71, 25, 154, 141, 22, 145, 49, 109, 80, 82, 52, 85, 148, 160, 39, 25, 33, 38, 85, 48, 15, 94, 120, 60, 145, 29, 78, 59, 80, 180, 8, 23, 79, 78, 64, 64, 160, 43, 32, 179, 8, 63, 40, 99, 141, 159, 39, 99, 18, 38, 133, 84, 60, 178, 18, 73, 125, 91, 74, 35, 113, 52, 191, 18, 25, 50, 75, 92, 33, 65, 44, 183, 175, 28, 49, 45, 64, 22, 120, 175, 101, 104, 155, 58, 80, 45, 134, 58, 20, 25, 55, 155, 30, 39, 73, 41, 34, 21, 11, 154, 19, 101, 24, 131, 105, 52, 21, 45, 39, 192, 195, 83, 34, 49, 60, 41, 72, 102, 31, 73, 89, 19, 63, 104, 40, 92, 72, 44, 114, 73, 63, 69, 42, 88, 98, 65, 12, 122, 12, 24, 170, 184, 25, 131, 50, 21, 55, 124, 58, 72, 192, 83, 93, 38, 55, 11, 85, 124, 129, 180, 74, 138, 111, 83, 33, 21, 35, 105, 103, 75, 33, 52, 89, 63, 84, 44, 29, 29, 22, 53, 24, 153, 31, 21, 180, 82, 90, 154, 99, 153, 93, 53, 18, 70, 100, 193, 125, 68, 55, 152, 84, 13, 33, 89, 93, 68, 85, 73, 83, 158, 182, 24, 102, 53, 175, 28, 14, 139, 34, 64, 84, 42, 63, 100, 190, 22, 20, 21, 25, 20, 173, 81, 139, 119, 74, 42, 73, 114, 44, 141, 14, 33, 83, 89, 39, 83, 108, 21, 102, 48, 32, 43, 35, 184, 140, 32, 149, 15, 71, 108, 122, 40, 198, 79, 84, 31, 12, 88, 29, 201, 20, 15, 155, 25, 200, 101, 19, 188, 8, 59, 72, 55, 24, 19, 71, 54, 28, 25, 51, 125, 88, 125, 79, 31, 131, 70, 38, 83, 59, 121, 42, 32, 29, 40, 25, 21, 79, 52, 61, 25, 155, 25, 80, 55, 23, 60, 54, 44, 33, 45, 55, 134, 44, 149, 22, 74, 128, 62, 9, 9, 15, 28, 83, 73, 42, 34, 32, 68, 82, 19, 60, 192, 119, 190, 34, 44, 23, 171, 43, 139, 118, 113, 98, 70, 42, 143, 185, 28, 45, 78, 121, 59, 64, 15, 10, 61, 50, 79, 35, 11, 128, 55, 79, 18, 91, 9, 62, 59, 25, 54, 112, 125, 194, 161, 35, 113, 25, 45, 119, 30, 79, 178, 23, 171, 74, 103, 99, 43, 23, 91, 93, 154, 21, 65, 15, 52, 30, 42, 20, 60, 54, 60, 41, 30, 21, 105, 65, 20, 179, 161, 82, 43, 61, 90, 90, 21, 118, 44, 110, 99, 98, 69, 82, 112, 123, 78, 59, 78, 49, 82, 125, 185, 163, 19, 115, 81, 93, 111, 184, 50, 55, 13, 29, 72, 83, 98, 43, 34, 10, 201, 85, 50, 91, 112, 98, 115, 22, 101, 83, 52, 191, 134, 54, 69, 64, 53, 118, 19, 31, 63, 25, 22, 78, 81, 41, 62, 35, 30, 51, 140, 73, 40, 69, 191, 82, 181, 38, 23, 55, 58, 29, 39, 39, 30, 58, 62, 62, 19, 38, 84, 78, 22, 81, 32, 89, 121, 42, 130, 30, 114, 155, 50, 34, 94, 114, 89, 49, 115, 148, 72, 114, 11, 63, 113, 80, 54, 32, 11, 141, 84, 18, 20, 55, 31, 114, 52, 18, 55, 29, 30, 38, 122, 183, 41, 38, 61, 103, 80, 22, 128, 142, 124, 44, 170, 75, 78, 31, 99, 41, 39, 51, 52, 169, 141, 93, 14, 160, 44, 33, 103, 71, 55, 113, 79, 80, 179, 9, 61, 111, 80, 32, 83, 91, 29, 19, 52, 150, 32, 91, 180, 121, 25, 102, 44, 161, 134, 43, 94, 29, 38, 120, 85, 89, 25, 20, 125, 18, 173, 34, 159, 55, 32, 65, 83, 30, 180, 13, 35, 95, 83, 39, 54, 81, 53, 119, 160, 21, 40, 69, 45, 55, 38, 44, 45, 84, 188, 29, 95, 79, 41, 19, 75, 64, 174, 54, 14, 94, 10, 145, 203, 81, 153, 58, 49, 132, 85, 85, 178, 104, 40, 103, 25, 69, 30, 70, 15, 125, 50, 44, 38, 64, 9, 44, 93, 83, 179, 40, 58, 74, 15, 11, 41, 68, 28, 115, 83, 40, 113, 89, 38, 62, 65, 168, 40, 30, 20, 58, 150, 54, 19, 30, 123, 45, 154, 93, 71, 83, 99, 55, 38, 74, 69, 104, 38, 25, 162, 64, 30, 52, 42, 79, 34, 123, 160, 51, 108, 158, 68, 42, 32, 22, 29, 183, 69, 92, 40, 9, 128, 110, 171, 13, 25, 123, 33, 189, 34, 58, 51, 29, 111, 43, 130, 20, 101, 48, 180, 92, 33, 51, 31, 83, 45, 89, 193, 89, 162, 9, 58, 80, 73, 41, 74, 29, 25, 98, 59, 43, 72, 183, 134, 140, 39, 35, 141, 23, 134, 35, 42, 81, 14, 45, 79, 53, 33, 190, 60, 8, 38, 154, 54, 41, 25, 53, 79, 13, 130, 93, 82, 15, 150, 131, 28, 9, 88, 143, 168, 105, 62, 51, 101, 90, 83, 21, 115, 172, 32, 204, 34, 30, 31, 90, 79, 22, 114, 42, 29, 72, 68, 78, 90, 170, 14, 129, 39, 82, 31, 9, 15, 70, 84, 155, 89, 170, 185, 82, 60, 58, 29, 32, 115, 83, 54, 112, 182, 112, 129, 23, 198, 84, 39, 129, 113, 35, 85, 73, 70, 130, 39, 72, 68, 35, 61, 69, 59, 99, 201, 130, 72, 44, 91, 92, 55, 20, 89, 59, 8, 85, 94, 22, 74, 59, 12, 8, 74, 184, 34, 63, 123, 85, 109, 31, 61, 88, 22, 63, 80, 78, 45, 51, 111, 45, 184, 41, 69, 23, 160, 61, 110, 50, 49, 185, 52, 53, 125, 72, 51, 23, 41, 41, 138, 138, 14, 145, 25, 43, 93, 90, 41, 169, 63, 23, 140, 75, 13, 10, 100, 85, 73, 130, 65, 59, 31, 134, 11, 32, 53, 28, 44, 40, 40, 163, 82, 89, 78, 55, 34, 108, 58, 73, 54, 45, 123, 93, 102, 39, 114, 29, 30, 22, 38, 41, 161, 38, 25, 70, 201, 42, 64, 28, 119, 28, 60, 23, 164, 39, 19, 72, 41, 32, 69, 23, 44, 32, 25, 80, 83, 133, 89, 81, 44, 119, 39, 40, 79, 30, 179, 178, 82, 50, 64, 129, 68, 30, 48, 130, 40, 105, 41, 168, 80, 134, 49, 63, 70, 32, 14, 111, 38, 121, 90, 178, 20, 61, 43, 39, 60, 63, 8, 52, 92, 111, 71, 25, 34, 74, 120, 50, 10, 45, 29, 145, 100, 24, 60, 50, 43, 79, 44, 31, 14, 19, 111, 90, 21, 104, 75, 175, 98, 41, 171, 79, 24, 90, 39, 9, 15, 80, 63, 20, 43, 65, 91, 53, 110, 82, 23, 172, 88, 71, 180, 39, 94, 25, 10, 42, 142, 34, 139, 154, 40, 33, 80, 10, 41, 30, 78, 164, 23, 149, 25, 42, 71, 114, 70, 149, 55, 29, 123, 152, 8, 69, 161, 79, 105, 39, 163, 9, 71, 51, 32, 161, 60, 35, 41, 73, 49, 79, 120, 60, 78, 40, 110, 160, 68, 49, 65, 55, 62, 152, 42, 39, 111, 82, 108, 59, 61, 78, 18, 113, 62, 81, 13, 75, 33, 179, 69, 45, 59, 81, 133, 81, 14, 28, 93, 191, 155, 155, 68, 52, 51, 44, 121, 49, 42, 144, 72, 44, 43, 74, 145, 158, 78, 154, 105, 100, 58, 113, 10, 142, 128, 131, 88, 101, 70, 122, 70, 148, 43, 31, 35, 81, 19, 98, 101, 81, 135, 34, 104, 29, 119, 82, 62, 85, 8, 78, 44, 122, 22, 39, 55, 144, 71, 191, 22, 158, 131, 75, 69, 39, 34, 32, 129, 158, 54, 34, 45, 68, 53, 32, 173, 31, 72, 30, 138, 18, 69, 58, 63, 43, 28, 38, 72, 64, 70, 12, 159, 103, 42, 48, 49, 89, 22, 10, 38, 49, 30, 82, 82, 24, 32, 34, 195, 61, 22, 40, 50, 35, 64, 49, 44, 65, 13, 84, 28, 108, 59, 163, 183, 69, 115, 130, 185, 118, 163, 140, 91, 61, 168, 69, 22, 53, 25, 115, 31, 83, 152, 30, 34, 44, 182, 44, 122, 35, 91, 30, 53, 28, 85, 28, 41, 154, 41, 33, 182, 59, 129, 35, 185, 45, 62, 183, 14, 53, 48, 128, 105, 40, 10, 102, 31, 30, 21, 44, 48, 21, 84, 64, 82, 39, 45, 133, 152, 12, 32, 74, 54, 181, 75, 95, 190, 90, 20, 64, 85, 105, 21, 78, 158, 125, 81, 183, 54, 79, 38, 172, 184, 158, 188, 20, 60, 113, 70, 84, 23, 141, 110, 31, 22, 91, 82, 23, 35, 114, 18, 80, 74, 122, 73, 40, 55, 69, 92, 48, 113, 58, 109, 39, 33, 18, 63, 43, 70, 19, 39, 81, 34, 140, 114, 55, 21, 50, 41, 190, 8, 55, 40, 22, 44, 102, 54, 130, 75, 42, 133, 40, 34, 142, 64, 44, 95, 49, 12, 98, 42, 44, 124, 175, 22, 78, 54, 154, 42, 195, 80, 81, 89, 61, 25, 43, 122, 160, 83, 79, 30, 145, 151, 14, 19, 55, 132, 182, 78, 42, 44, 195, 53, 65, 43, 38, 50, 81, 41, 73, 31, 84, 95, 162, 60, 121, 43, 38, 82, 52, 43, 82, 161, 24, 102, 53, 85, 111, 90, 94, 63, 153, 39, 205, 142, 163, 113, 64, 20, 179, 91, 103, 80, 38, 44, 164, 81, 95, 44, 88, 148, 169, 11, 92, 74, 72, 63, 172, 183, 40, 68, 78, 68, 49, 39, 151, 159, 89, 105, 78, 128, 81, 50, 38, 119, 110, 29, 19, 130, 38, 31, 14, 158, 39, 141, 33, 92, 78, 42, 15, 48, 63, 149, 49, 125, 58, 48, 75, 114, 134, 111, 62, 45, 113, 128, 168, 81, 75, 21, 83, 121, 40, 101, 90, 68, 74, 74, 51, 149, 31, 85, 62, 44, 63, 23, 40, 78, 40, 78, 129, 71, 23, 15, 28, 23, 19, 42, 113, 34, 19, 43, 179, 44, 21, 115, 81, 91, 30, 55, 48, 23, 21, 55, 21, 40, 30, 78, 65, 50, 55, 111, 21, 65, 114, 54, 75, 13, 54, 22, 198, 18, 74, 61, 64, 10, 82, 61, 83, 73, 22, 91, 65, 13, 103, 95, 31, 131, 175, 38, 104, 114, 38, 30, 19, 25, 124, 20, 83, 18, 99, 62, 24, 13, 64, 62, 158, 88, 28, 52, 82, 140, 80, 58, 180, 55, 65, 62, 23, 35, 35, 74, 14, 83, 71, 53, 103, 109, 60, 12, 141, 128, 98, 41, 90, 31, 74, 83, 35, 140, 65, 35, 73, 29, 55, 20, 70, 81, 25, 119, 49, 38, 80, 84, 61, 173, 60, 83, 59, 32, 33, 19, 14, 94, 154, 33, 28, 44, 81, 29, 58, 38, 82, 18, 45, 64, 48, 24, 65, 111, 114, 39, 19, 22, 49, 40, 63, 55, 33, 31, 24, 81, 81, 113, 92, 81, 101, 78, 78, 35, 9, 82, 41, 84, 42, 54, 84, 131, 85, 84, 114, 61, 39, 21, 111, 68, 179, 93, 85, 180, 110, 65, 159, 81, 132, 44, 98, 62, 91, 29, 101, 65, 58, 32, 140, 44, 113, 38, 13, 62, 29, 141, 132, 23, 11, 90, 43, 59, 28, 28, 108, 78, 65, 25, 108, 43, 95, 24, 190, 24, 41, 80, 63, 79, 105, 153, 114, 120, 104, 20, 41, 35, 174, 164, 22, 132, 32, 21, 49, 79, 30, 118, 11, 61, 43, 141, 54, 33, 84, 125, 110, 14, 65, 78, 18, 95, 95, 191, 19, 19, 39, 93, 115, 112, 40, 45, 133, 85, 18, 54, 41, 21, 152, 53, 163, 84, 59, 33, 81, 182, 61, 88, 170, 83, 44, 83, 21, 143, 103, 135, 162, 73, 142, 25, 115, 88, 73, 94, 58, 81, 113, 35, 65, 170, 62, 54, 39, 28, 95, 82, 21, 50, 34, 19, 71, 113, 9, 118, 79, 72, 18, 93, 62, 23, 40, 34, 114, 125, 41, 38, 45, 12, 115, 175, 24, 28, 32, 63, 32, 60, 53, 58, 42, 39, 72, 80, 39, 18, 30, 54, 128, 38, 120, 25, 85, 135, 14, 70, 23, 31, 132, 28, 125, 91, 191, 88, 84, 64, 28, 149, 172, 42, 53, 149, 113, 79, 175, 38, 120, 52, 42, 13, 141, 131, 133, 64, 49, 34, 91, 195, 53, 39, 20, 104, 51, 154, 38, 12, 28, 33, 31, 44, 49, 134, 182, 114, 90, 105, 58, 53, 15, 103, 58, 83, 125, 61, 69, 89, 70, 39, 41, 148, 38, 95, 129, 84, 29, 30, 90, 150, 15, 13, 9, 24, 41, 25, 49, 58, 141, 50, 61, 65, 112, 19, 23, 60, 30, 144, 118, 194, 109, 174, 34, 84, 41, 92, 19, 55, 22, 155, 72, 81, 30, 54, 60, 68, 65, 31, 169, 139, 29, 43, 80, 43, 194, 24, 32, 153, 30, 165, 64, 15, 70, 32, 128, 84, 62, 33, 65, 33, 15, 45, 132, 29, 65, 52, 64, 73, 20, 44, 79, 104, 88, 51, 61, 23, 38, 75, 42, 45, 59, 130, 9, 62, 202, 162, 93, 145, 99, 148, 154, 149, 69, 30, 48, 42, 132, 81, 60, 45, 70, 71, 28, 83, 131, 82, 79, 51, 111, 93, 73, 24, 64, 104, 38, 191, 53, 74, 21, 80, 41, 79, 141, 32, 38, 85, 93, 140, 69, 32, 61, 125, 30, 104, 24, 22, 59, 120, 164, 60, 43, 70, 51, 59, 129, 22, 29, 18, 65, 65, 38, 110, 22, 43, 30, 134, 32, 139, 45, 62, 51, 93, 122, 45, 179, 64, 41, 58, 64, 28, 21, 60, 78, 59, 59, 83, 128, 95, 160, 78, 184, 30, 51, 35, 74, 43, 23, 20, 112, 74, 65, 124, 65, 73, 8, 53, 131, 13, 60, 45, 39, 78, 43, 31, 118, 82, 112, 10, 18, 72, 72, 78, 78, 30, 45, 80, 174, 51, 181, 78, 79, 119, 49, 83, 100, 70, 52, 12, 82, 34, 112, 42, 83, 142, 199, 29, 70, 25, 84, 81, 15, 54, 108, 83, 62, 134, 75, 109, 152, 83, 52, 31, 135, 98, 14, 64, 109, 118, 80, 51, 115, 83, 90, 28, 82, 24, 71, 80, 109, 140, 39, 39, 50, 31, 35, 44, 35, 20, 10, 83, 203, 84, 41, 164, 152, 62, 12, 28, 52, 19, 35, 28, 70, 140, 102, 50, 61, 188, 178, 44, 12, 69, 132, 128, 44, 44, 34, 132, 158, 83, 28, 131, 31, 40, 71, 42, 35, 81, 91, 129, 75, 54, 43, 94, 84, 34, 15, 99, 15, 83, 83, 143, 81, 39, 158, 62, 64, 29, 64, 21, 142, 64, 40, 61, 44, 78, 25, 125, 63, 54, 92, 119, 40, 41, 81, 101, 25, 55, 43, 98, 112, 69, 79, 118, 81, 19, 139, 63, 102, 40, 44, 59, 224, 64, 129, 43, 12, 53, 39, 65, 18, 55, 60, 42, 44, 111, 62, 44, 69, 62, 35, 91, 12, 89, 65, 179, 82, 48, 20, 91, 122, 22, 43, 38, 61, 33, 145, 170, 55, 40, 68, 53, 63, 123, 13, 12, 53, 79, 89, 188, 62, 123, 40, 119, 123, 23, 62, 69, 124, 52, 134, 58, 45, 75, 23, 123, 48, 145, 31, 38, 78, 94, 84, 22, 78, 75, 71, 24, 112, 53, 41, 25, 42, 51, 19, 90, 89, 22, 119, 93, 18, 32, 182, 19, 85, 90, 59, 84, 95, 13, 88, 34, 11, 80, 41, 90, 93, 81, 60, 39, 22, 32, 28, 35, 154, 189, 40, 88, 124, 23, 23, 139, 173, 42, 161, 28, 191, 42, 81, 175, 82, 53, 142, 42, 64, 90, 44, 29, 93, 69, 82, 180, 13, 72, 54, 104, 44, 40, 190, 64, 9, 38, 72, 82, 48, 82, 14, 162, 54, 90, 64, 65, 113, 38, 65, 39, 174, 59, 43, 24, 50, 68, 61, 21, 21, 31, 70, 25, 78, 19, 23, 40, 22, 71, 58, 75, 40, 155, 83, 99, 59, 53, 11, 179, 71, 85, 49, 122, 171, 138, 8, 59, 49, 92, 75, 60, 41, 40, 81, 52, 25, 139, 54, 81, 73, 30, 59, 21, 65, 41, 52, 84, 135, 18, 34, 85, 23, 65, 195, 40, 141, 95, 23, 82, 53, 10, 75, 23, 133, 129, 85, 168, 83, 52, 114, 81, 32, 63, 70, 20, 138, 63, 85, 180, 80, 53, 72, 123, 91, 148, 163, 28, 193, 22, 74, 70, 11, 61, 41, 108, 23, 135, 30, 144, 139, 143, 44, 49, 75, 43, 59, 154, 75, 75, 88, 91, 11, 22, 49, 140, 99, 82, 10, 109, 45, 93, 89, 39, 21, 31, 31, 52, 13, 21, 50, 81, 74, 89, 82, 88, 61, 139, 29, 51, 58, 21, 43, 104, 9, 39, 89, 21, 173, 29, 43, 30, 39, 83, 58, 8, 39, 204, 45, 111, 83, 83, 115, 60, 53, 134, 91, 91, 128, 78, 161, 60, 161, 40, 68, 74, 55, 145, 24, 10, 138, 63, 54, 62, 81, 61, 68, 78, 165, 48, 155, 158, 52, 18, 42, 18, 40, 44, 11, 194, 108, 12, 19, 150, 89, 83, 79, 102, 155, 138, 51, 80, 135, 34, 195, 62, 173, 149, 20, 42, 28, 95, 95, 34, 191, 41, 150, 91, 84, 73, 122, 73, 20, 130, 85, 134, 98, 54, 41, 128, 132, 188, 170, 14, 93, 79, 79, 62, 95, 60, 75, 85, 143, 34, 44, 31, 13, 52, 42, 102, 143, 10, 44, 158, 12, 59, 92, 82, 44, 182, 121, 38, 92, 53, 45, 63, 181, 184, 33, 22, 99, 44, 101, 32, 59, 25, 140, 29, 35, 141, 75, 58, 41, 42, 55, 18, 75, 85, 43, 149, 25, 19, 18, 13, 41, 139, 62, 51, 71, 145, 45, 53, 64, 39, 38, 85, 61, 23, 122, 72, 123, 40, 62, 113, 81, 59, 25, 25, 14, 19, 61, 21, 44, 42, 52, 112, 34, 83, 24, 71, 181, 75, 153, 75, 19, 31, 178, 65, 8, 92, 145, 85, 149, 9, 164, 40, 54, 164, 140, 18, 12, 140, 24, 60, 50, 44, 51, 34, 33, 63, 22, 104, 75, 75, 62, 48, 73, 135, 61, 78, 40, 44, 45, 18, 53, 11, 38, 28, 35, 81, 90, 115, 78, 30, 39, 69, 29, 54, 60, 99, 51, 53, 111, 79, 90, 18, 73, 59, 40, 41, 53, 128, 145, 35, 28, 155, 195, 50, 48, 81, 50, 21, 142, 64, 91, 74, 182, 82, 45, 85, 133, 22, 24, 38, 80, 33, 41, 90, 89, 8, 85, 53, 20, 9, 25, 114, 41, 49, 12, 50, 30, 32, 41, 25, 29, 50, 79, 110, 40, 18, 48, 40, 19, 35, 133, 19, 83, 39, 38, 63, 85, 14, 64, 124, 20, 33, 80, 35, 74, 32, 73, 41, 18, 28, 64, 44, 109, 71, 79, 30, 82, 101, 13, 59, 64, 188, 28, 120, 131, 19, 44, 49, 99, 95, 81, 73, 193, 115, 41, 80, 90, 41, 102, 59, 69, 83, 49, 180, 61, 59, 85, 13, 151, 44, 53, 133, 31, 101, 61, 68, 21, 149, 75, 55, 81, 179, 81, 42, 199, 18, 28, 80, 79, 52, 18, 52, 15, 84, 114, 41, 29, 23, 84, 60, 13, 45, 83, 102, 58, 134, 130, 148, 92, 142, 62, 50, 29, 85, 78, 85, 89, 33, 42, 31, 143, 35, 22, 45, 119, 43, 75, 121, 63, 58, 184, 155, 69, 188, 38, 9, 69, 199, 38, 129, 59, 115, 83, 65, 72, 72, 63, 64, 194, 104, 180, 18, 93, 32, 68, 38, 115, 161, 154, 68, 44, 149, 103, 41, 113, 48, 69, 43, 19, 65, 32, 20, 25, 70, 70, 103, 162, 61, 170, 49, 108, 62, 102, 141, 8, 91, 10, 35, 71, 59, 14, 122, 81, 35, 83, 121, 35, 140, 88, 70, 63, 125, 21, 75, 38, 58, 31, 18, 29, 29, 69, 121, 64, 84, 65, 85, 44, 174, 178, 55, 25, 21, 72, 129, 18, 91, 38, 21, 38, 154, 178, 85, 93, 151, 78, 135, 40, 80, 18, 74, 94, 173, 88, 82, 54, 45, 39, 20, 93, 85, 95, 48, 22, 33, 40, 30, 22, 20, 49, 25, 150, 32, 9, 23, 18, 42, 39, 84, 101, 43, 28, 59, 29, 39, 42, 24, 62, 33, 73, 88, 58, 48, 40, 160, 39, 53, 32, 32, 11, 123, 184, 60, 41, 99, 83, 134, 85, 41, 44, 62, 149, 115, 25, 84, 81, 181, 62, 11, 60, 42, 83, 109, 70, 25, 72, 183, 44, 52, 18, 40, 174, 41, 81, 128, 135, 65, 145, 65, 119, 124, 33, 41, 105, 130, 80, 115, 62, 165, 34, 18, 44, 25, 52, 133, 71, 61, 62, 33, 28, 53, 69, 165, 75, 54, 142, 53, 41, 43, 79, 24, 73, 129, 50, 28, 64, 49, 121, 58, 51, 61, 35, 39, 74, 201, 81, 44, 19, 85, 74, 54, 58, 18, 88, 19, 49, 101, 138, 25, 120, 153, 28, 110, 94, 48, 123, 33, 42, 68, 28, 42, 28, 73, 89, 82, 83, 121, 28, 39, 110, 55, 111, 94, 85, 81, 94, 162, 80, 70, 19, 112, 109, 12, 33, 49, 42, 41, 43, 64, 19, 65, 53, 32, 22, 39, 59, 50, 19, 55, 81, 108, 122, 98, 110, 33, 34, 69, 41, 60, 95, 73, 41, 68, 64, 29, 31, 54, 63, 92, 135, 195, 45, 72, 98, 30, 78, 43, 85, 38, 58, 92, 13, 218, 75, 40, 15, 24, 49, 83], \"y0\": \" \", \"yaxis\": \"y\"}],\n",
              "                        {\"boxmode\": \"group\", \"legend\": {\"tracegroupgap\": 0}, \"margin\": {\"t\": 60}, \"template\": {\"data\": {\"bar\": [{\"error_x\": {\"color\": \"#2a3f5f\"}, \"error_y\": {\"color\": \"#2a3f5f\"}, \"marker\": {\"line\": {\"color\": \"#E5ECF6\", \"width\": 0.5}}, \"type\": \"bar\"}], \"barpolar\": [{\"marker\": {\"line\": {\"color\": \"#E5ECF6\", \"width\": 0.5}}, \"type\": \"barpolar\"}], \"carpet\": [{\"aaxis\": {\"endlinecolor\": \"#2a3f5f\", \"gridcolor\": \"white\", \"linecolor\": \"white\", \"minorgridcolor\": \"white\", \"startlinecolor\": \"#2a3f5f\"}, \"baxis\": {\"endlinecolor\": \"#2a3f5f\", \"gridcolor\": \"white\", \"linecolor\": \"white\", \"minorgridcolor\": \"white\", \"startlinecolor\": \"#2a3f5f\"}, \"type\": \"carpet\"}], \"choropleth\": [{\"colorbar\": {\"outlinewidth\": 0, \"ticks\": \"\"}, \"type\": \"choropleth\"}], \"contour\": [{\"colorbar\": {\"outlinewidth\": 0, \"ticks\": \"\"}, \"colorscale\": [[0.0, \"#0d0887\"], [0.1111111111111111, \"#46039f\"], [0.2222222222222222, \"#7201a8\"], [0.3333333333333333, \"#9c179e\"], [0.4444444444444444, \"#bd3786\"], [0.5555555555555556, \"#d8576b\"], [0.6666666666666666, \"#ed7953\"], [0.7777777777777778, \"#fb9f3a\"], [0.8888888888888888, \"#fdca26\"], [1.0, \"#f0f921\"]], \"type\": \"contour\"}], \"contourcarpet\": [{\"colorbar\": {\"outlinewidth\": 0, \"ticks\": \"\"}, \"type\": \"contourcarpet\"}], \"heatmap\": [{\"colorbar\": {\"outlinewidth\": 0, \"ticks\": \"\"}, \"colorscale\": [[0.0, \"#0d0887\"], [0.1111111111111111, \"#46039f\"], [0.2222222222222222, \"#7201a8\"], [0.3333333333333333, \"#9c179e\"], [0.4444444444444444, \"#bd3786\"], [0.5555555555555556, \"#d8576b\"], [0.6666666666666666, \"#ed7953\"], [0.7777777777777778, \"#fb9f3a\"], [0.8888888888888888, \"#fdca26\"], [1.0, \"#f0f921\"]], \"type\": \"heatmap\"}], \"heatmapgl\": [{\"colorbar\": {\"outlinewidth\": 0, \"ticks\": \"\"}, \"colorscale\": [[0.0, \"#0d0887\"], [0.1111111111111111, \"#46039f\"], [0.2222222222222222, \"#7201a8\"], [0.3333333333333333, \"#9c179e\"], [0.4444444444444444, \"#bd3786\"], [0.5555555555555556, \"#d8576b\"], [0.6666666666666666, \"#ed7953\"], [0.7777777777777778, \"#fb9f3a\"], [0.8888888888888888, \"#fdca26\"], [1.0, \"#f0f921\"]], \"type\": \"heatmapgl\"}], \"histogram\": [{\"marker\": {\"colorbar\": {\"outlinewidth\": 0, \"ticks\": \"\"}}, \"type\": \"histogram\"}], \"histogram2d\": [{\"colorbar\": {\"outlinewidth\": 0, \"ticks\": \"\"}, \"colorscale\": [[0.0, \"#0d0887\"], [0.1111111111111111, \"#46039f\"], [0.2222222222222222, \"#7201a8\"], [0.3333333333333333, \"#9c179e\"], [0.4444444444444444, \"#bd3786\"], [0.5555555555555556, \"#d8576b\"], [0.6666666666666666, \"#ed7953\"], [0.7777777777777778, \"#fb9f3a\"], [0.8888888888888888, \"#fdca26\"], [1.0, \"#f0f921\"]], \"type\": \"histogram2d\"}], \"histogram2dcontour\": [{\"colorbar\": {\"outlinewidth\": 0, \"ticks\": \"\"}, \"colorscale\": [[0.0, \"#0d0887\"], [0.1111111111111111, \"#46039f\"], [0.2222222222222222, \"#7201a8\"], [0.3333333333333333, \"#9c179e\"], [0.4444444444444444, \"#bd3786\"], [0.5555555555555556, \"#d8576b\"], [0.6666666666666666, \"#ed7953\"], [0.7777777777777778, \"#fb9f3a\"], [0.8888888888888888, \"#fdca26\"], [1.0, \"#f0f921\"]], \"type\": \"histogram2dcontour\"}], \"mesh3d\": [{\"colorbar\": {\"outlinewidth\": 0, \"ticks\": \"\"}, \"type\": \"mesh3d\"}], \"parcoords\": [{\"line\": {\"colorbar\": {\"outlinewidth\": 0, \"ticks\": \"\"}}, \"type\": \"parcoords\"}], \"pie\": [{\"automargin\": true, \"type\": \"pie\"}], \"scatter\": [{\"marker\": {\"colorbar\": {\"outlinewidth\": 0, \"ticks\": \"\"}}, \"type\": \"scatter\"}], \"scatter3d\": [{\"line\": {\"colorbar\": {\"outlinewidth\": 0, \"ticks\": \"\"}}, \"marker\": {\"colorbar\": {\"outlinewidth\": 0, \"ticks\": \"\"}}, \"type\": \"scatter3d\"}], \"scattercarpet\": [{\"marker\": {\"colorbar\": {\"outlinewidth\": 0, \"ticks\": \"\"}}, \"type\": \"scattercarpet\"}], \"scattergeo\": [{\"marker\": {\"colorbar\": {\"outlinewidth\": 0, \"ticks\": \"\"}}, \"type\": \"scattergeo\"}], \"scattergl\": [{\"marker\": {\"colorbar\": {\"outlinewidth\": 0, \"ticks\": \"\"}}, \"type\": \"scattergl\"}], \"scattermapbox\": [{\"marker\": {\"colorbar\": {\"outlinewidth\": 0, \"ticks\": \"\"}}, \"type\": \"scattermapbox\"}], \"scatterpolar\": [{\"marker\": {\"colorbar\": {\"outlinewidth\": 0, \"ticks\": \"\"}}, \"type\": \"scatterpolar\"}], \"scatterpolargl\": [{\"marker\": {\"colorbar\": {\"outlinewidth\": 0, \"ticks\": \"\"}}, \"type\": \"scatterpolargl\"}], \"scatterternary\": [{\"marker\": {\"colorbar\": {\"outlinewidth\": 0, \"ticks\": \"\"}}, \"type\": \"scatterternary\"}], \"surface\": [{\"colorbar\": {\"outlinewidth\": 0, \"ticks\": \"\"}, \"colorscale\": [[0.0, \"#0d0887\"], [0.1111111111111111, \"#46039f\"], [0.2222222222222222, \"#7201a8\"], [0.3333333333333333, \"#9c179e\"], [0.4444444444444444, \"#bd3786\"], [0.5555555555555556, \"#d8576b\"], [0.6666666666666666, \"#ed7953\"], [0.7777777777777778, \"#fb9f3a\"], [0.8888888888888888, \"#fdca26\"], [1.0, \"#f0f921\"]], \"type\": \"surface\"}], \"table\": [{\"cells\": {\"fill\": {\"color\": \"#EBF0F8\"}, \"line\": {\"color\": \"white\"}}, \"header\": {\"fill\": {\"color\": \"#C8D4E3\"}, \"line\": {\"color\": \"white\"}}, \"type\": \"table\"}]}, \"layout\": {\"annotationdefaults\": {\"arrowcolor\": \"#2a3f5f\", \"arrowhead\": 0, \"arrowwidth\": 1}, \"coloraxis\": {\"colorbar\": {\"outlinewidth\": 0, \"ticks\": \"\"}}, \"colorscale\": {\"diverging\": [[0, \"#8e0152\"], [0.1, \"#c51b7d\"], [0.2, \"#de77ae\"], [0.3, \"#f1b6da\"], [0.4, \"#fde0ef\"], [0.5, \"#f7f7f7\"], [0.6, \"#e6f5d0\"], [0.7, \"#b8e186\"], [0.8, \"#7fbc41\"], [0.9, \"#4d9221\"], [1, \"#276419\"]], \"sequential\": [[0.0, \"#0d0887\"], [0.1111111111111111, \"#46039f\"], [0.2222222222222222, \"#7201a8\"], [0.3333333333333333, \"#9c179e\"], [0.4444444444444444, \"#bd3786\"], [0.5555555555555556, \"#d8576b\"], [0.6666666666666666, \"#ed7953\"], [0.7777777777777778, \"#fb9f3a\"], [0.8888888888888888, \"#fdca26\"], [1.0, \"#f0f921\"]], \"sequentialminus\": [[0.0, \"#0d0887\"], [0.1111111111111111, \"#46039f\"], [0.2222222222222222, \"#7201a8\"], [0.3333333333333333, \"#9c179e\"], [0.4444444444444444, \"#bd3786\"], [0.5555555555555556, \"#d8576b\"], [0.6666666666666666, \"#ed7953\"], [0.7777777777777778, \"#fb9f3a\"], [0.8888888888888888, \"#fdca26\"], [1.0, \"#f0f921\"]]}, \"colorway\": [\"#636efa\", \"#EF553B\", \"#00cc96\", \"#ab63fa\", \"#FFA15A\", \"#19d3f3\", \"#FF6692\", \"#B6E880\", \"#FF97FF\", \"#FECB52\"], \"font\": {\"color\": \"#2a3f5f\"}, \"geo\": {\"bgcolor\": \"white\", \"lakecolor\": \"white\", \"landcolor\": \"#E5ECF6\", \"showlakes\": true, \"showland\": true, \"subunitcolor\": \"white\"}, \"hoverlabel\": {\"align\": \"left\"}, \"hovermode\": \"closest\", \"mapbox\": {\"style\": \"light\"}, \"paper_bgcolor\": \"white\", \"plot_bgcolor\": \"#E5ECF6\", \"polar\": {\"angularaxis\": {\"gridcolor\": \"white\", \"linecolor\": \"white\", \"ticks\": \"\"}, \"bgcolor\": \"#E5ECF6\", \"radialaxis\": {\"gridcolor\": \"white\", \"linecolor\": \"white\", \"ticks\": \"\"}}, \"scene\": {\"xaxis\": {\"backgroundcolor\": \"#E5ECF6\", \"gridcolor\": \"white\", \"gridwidth\": 2, \"linecolor\": \"white\", \"showbackground\": true, \"ticks\": \"\", \"zerolinecolor\": \"white\"}, \"yaxis\": {\"backgroundcolor\": \"#E5ECF6\", \"gridcolor\": \"white\", \"gridwidth\": 2, \"linecolor\": \"white\", \"showbackground\": true, \"ticks\": \"\", \"zerolinecolor\": \"white\"}, \"zaxis\": {\"backgroundcolor\": \"#E5ECF6\", \"gridcolor\": \"white\", \"gridwidth\": 2, \"linecolor\": \"white\", \"showbackground\": true, \"ticks\": \"\", \"zerolinecolor\": \"white\"}}, \"shapedefaults\": {\"line\": {\"color\": \"#2a3f5f\"}}, \"ternary\": {\"aaxis\": {\"gridcolor\": \"white\", \"linecolor\": \"white\", \"ticks\": \"\"}, \"baxis\": {\"gridcolor\": \"white\", \"linecolor\": \"white\", \"ticks\": \"\"}, \"bgcolor\": \"#E5ECF6\", \"caxis\": {\"gridcolor\": \"white\", \"linecolor\": \"white\", \"ticks\": \"\"}}, \"title\": {\"x\": 0.05}, \"xaxis\": {\"automargin\": true, \"gridcolor\": \"white\", \"linecolor\": \"white\", \"ticks\": \"\", \"title\": {\"standoff\": 15}, \"zerolinecolor\": \"white\", \"zerolinewidth\": 2}, \"yaxis\": {\"automargin\": true, \"gridcolor\": \"white\", \"linecolor\": \"white\", \"ticks\": \"\", \"title\": {\"standoff\": 15}, \"zerolinecolor\": \"white\", \"zerolinewidth\": 2}}}, \"xaxis\": {\"anchor\": \"y\", \"domain\": [0.0, 1.0]}, \"yaxis\": {\"anchor\": \"x\", \"domain\": [0.0, 1.0], \"title\": {\"text\": \"Income\"}}},\n",
              "                        {\"responsive\": true}\n",
              "                    ).then(function(){\n",
              "                            \n",
              "var gd = document.getElementById('a7a1f10a-fd6f-4ea6-8e0e-5dafece4f6b2');\n",
              "var x = new MutationObserver(function (mutations, observer) {{\n",
              "        var display = window.getComputedStyle(gd).display;\n",
              "        if (!display || display === 'none') {{\n",
              "            console.log([gd, 'removed!']);\n",
              "            Plotly.purge(gd);\n",
              "            observer.disconnect();\n",
              "        }}\n",
              "}});\n",
              "\n",
              "// Listen for the removal of the full notebook cells\n",
              "var notebookContainer = gd.closest('#notebook-container');\n",
              "if (notebookContainer) {{\n",
              "    x.observe(notebookContainer, {childList: true});\n",
              "}}\n",
              "\n",
              "// Listen for the clearing of the current output cell\n",
              "var outputEl = gd.closest('.output');\n",
              "if (outputEl) {{\n",
              "    x.observe(outputEl, {childList: true});\n",
              "}}\n",
              "\n",
              "                        })\n",
              "                };\n",
              "                \n",
              "            </script>\n",
              "        </div>\n",
              "</body>\n",
              "</html>"
            ]
          },
          "metadata": {}
        }
      ]
    },
    {
      "cell_type": "code",
      "source": [
        "Q1 = np.percentile(df['Income'], 25,\n",
        "                   interpolation = 'midpoint')\n",
        " \n",
        "Q3 = np.percentile(df['Income'], 75,\n",
        "                   interpolation = 'midpoint')\n",
        "IQR = Q3 - Q1\n",
        "IQR"
      ],
      "metadata": {
        "colab": {
          "base_uri": "https://localhost:8080/"
        },
        "id": "iMvgYQsbSbq3",
        "outputId": "141ad0aa-555f-4200-b84d-6b9164c35b0f"
      },
      "execution_count": 19,
      "outputs": [
        {
          "output_type": "execute_result",
          "data": {
            "text/plain": [
              "59.0"
            ]
          },
          "metadata": {},
          "execution_count": 19
        }
      ]
    },
    {
      "cell_type": "code",
      "source": [
        "upper = Q3 + 1.5*IQR\n",
        "upper"
      ],
      "metadata": {
        "colab": {
          "base_uri": "https://localhost:8080/"
        },
        "id": "A1434-8KCb89",
        "outputId": "84758289-e84c-418d-a613-b651c58ba6a2"
      },
      "execution_count": 20,
      "outputs": [
        {
          "output_type": "execute_result",
          "data": {
            "text/plain": [
              "186.5"
            ]
          },
          "metadata": {},
          "execution_count": 20
        }
      ]
    },
    {
      "cell_type": "code",
      "source": [
        "df[df['Income']>upper]"
      ],
      "metadata": {
        "colab": {
          "base_uri": "https://localhost:8080/",
          "height": 485
        },
        "id": "CMJ7eKiEDJxS",
        "outputId": "025b8135-606b-4a2e-efef-f5d88367e81c"
      },
      "execution_count": 21,
      "outputs": [
        {
          "output_type": "execute_result",
          "data": {
            "text/html": [
              "\n",
              "  <div id=\"df-e1a7c1b9-54df-4060-ac46-8f109099ec19\">\n",
              "    <div class=\"colab-df-container\">\n",
              "      <div>\n",
              "<style scoped>\n",
              "    .dataframe tbody tr th:only-of-type {\n",
              "        vertical-align: middle;\n",
              "    }\n",
              "\n",
              "    .dataframe tbody tr th {\n",
              "        vertical-align: top;\n",
              "    }\n",
              "\n",
              "    .dataframe thead th {\n",
              "        text-align: right;\n",
              "    }\n",
              "</style>\n",
              "<table border=\"1\" class=\"dataframe\">\n",
              "  <thead>\n",
              "    <tr style=\"text-align: right;\">\n",
              "      <th></th>\n",
              "      <th>Age</th>\n",
              "      <th>Experience</th>\n",
              "      <th>Income</th>\n",
              "      <th>Family</th>\n",
              "      <th>CCAvg</th>\n",
              "      <th>Education</th>\n",
              "      <th>Mortgage</th>\n",
              "      <th>Personal Loan</th>\n",
              "      <th>Securities Account</th>\n",
              "      <th>CD Account</th>\n",
              "      <th>Online</th>\n",
              "      <th>CreditCard</th>\n",
              "    </tr>\n",
              "  </thead>\n",
              "  <tbody>\n",
              "    <tr>\n",
              "      <th>18</th>\n",
              "      <td>46</td>\n",
              "      <td>21</td>\n",
              "      <td>193</td>\n",
              "      <td>2</td>\n",
              "      <td>8.100000</td>\n",
              "      <td>3</td>\n",
              "      <td>0</td>\n",
              "      <td>1</td>\n",
              "      <td>0</td>\n",
              "      <td>0</td>\n",
              "      <td>0</td>\n",
              "      <td>0</td>\n",
              "    </tr>\n",
              "    <tr>\n",
              "      <th>47</th>\n",
              "      <td>37</td>\n",
              "      <td>12</td>\n",
              "      <td>194</td>\n",
              "      <td>4</td>\n",
              "      <td>0.200000</td>\n",
              "      <td>3</td>\n",
              "      <td>211</td>\n",
              "      <td>1</td>\n",
              "      <td>1</td>\n",
              "      <td>1</td>\n",
              "      <td>1</td>\n",
              "      <td>1</td>\n",
              "    </tr>\n",
              "    <tr>\n",
              "      <th>53</th>\n",
              "      <td>50</td>\n",
              "      <td>26</td>\n",
              "      <td>190</td>\n",
              "      <td>3</td>\n",
              "      <td>2.100000</td>\n",
              "      <td>3</td>\n",
              "      <td>240</td>\n",
              "      <td>1</td>\n",
              "      <td>0</td>\n",
              "      <td>0</td>\n",
              "      <td>1</td>\n",
              "      <td>0</td>\n",
              "    </tr>\n",
              "    <tr>\n",
              "      <th>59</th>\n",
              "      <td>31</td>\n",
              "      <td>5</td>\n",
              "      <td>188</td>\n",
              "      <td>2</td>\n",
              "      <td>4.500000</td>\n",
              "      <td>1</td>\n",
              "      <td>455</td>\n",
              "      <td>0</td>\n",
              "      <td>0</td>\n",
              "      <td>0</td>\n",
              "      <td>0</td>\n",
              "      <td>0</td>\n",
              "    </tr>\n",
              "    <tr>\n",
              "      <th>303</th>\n",
              "      <td>49</td>\n",
              "      <td>25</td>\n",
              "      <td>195</td>\n",
              "      <td>4</td>\n",
              "      <td>3.000000</td>\n",
              "      <td>1</td>\n",
              "      <td>617</td>\n",
              "      <td>1</td>\n",
              "      <td>0</td>\n",
              "      <td>0</td>\n",
              "      <td>0</td>\n",
              "      <td>0</td>\n",
              "    </tr>\n",
              "    <tr>\n",
              "      <th>...</th>\n",
              "      <td>...</td>\n",
              "      <td>...</td>\n",
              "      <td>...</td>\n",
              "      <td>...</td>\n",
              "      <td>...</td>\n",
              "      <td>...</td>\n",
              "      <td>...</td>\n",
              "      <td>...</td>\n",
              "      <td>...</td>\n",
              "      <td>...</td>\n",
              "      <td>...</td>\n",
              "      <td>...</td>\n",
              "    </tr>\n",
              "    <tr>\n",
              "      <th>4659</th>\n",
              "      <td>28</td>\n",
              "      <td>4</td>\n",
              "      <td>199</td>\n",
              "      <td>1</td>\n",
              "      <td>6.333333</td>\n",
              "      <td>1</td>\n",
              "      <td>0</td>\n",
              "      <td>0</td>\n",
              "      <td>0</td>\n",
              "      <td>0</td>\n",
              "      <td>0</td>\n",
              "      <td>0</td>\n",
              "    </tr>\n",
              "    <tr>\n",
              "      <th>4670</th>\n",
              "      <td>52</td>\n",
              "      <td>26</td>\n",
              "      <td>194</td>\n",
              "      <td>1</td>\n",
              "      <td>1.700000</td>\n",
              "      <td>1</td>\n",
              "      <td>0</td>\n",
              "      <td>0</td>\n",
              "      <td>0</td>\n",
              "      <td>0</td>\n",
              "      <td>1</td>\n",
              "      <td>0</td>\n",
              "    </tr>\n",
              "    <tr>\n",
              "      <th>4895</th>\n",
              "      <td>45</td>\n",
              "      <td>20</td>\n",
              "      <td>201</td>\n",
              "      <td>2</td>\n",
              "      <td>2.800000</td>\n",
              "      <td>1</td>\n",
              "      <td>0</td>\n",
              "      <td>0</td>\n",
              "      <td>0</td>\n",
              "      <td>0</td>\n",
              "      <td>1</td>\n",
              "      <td>1</td>\n",
              "    </tr>\n",
              "    <tr>\n",
              "      <th>4981</th>\n",
              "      <td>34</td>\n",
              "      <td>9</td>\n",
              "      <td>195</td>\n",
              "      <td>2</td>\n",
              "      <td>3.000000</td>\n",
              "      <td>1</td>\n",
              "      <td>122</td>\n",
              "      <td>0</td>\n",
              "      <td>0</td>\n",
              "      <td>0</td>\n",
              "      <td>1</td>\n",
              "      <td>0</td>\n",
              "    </tr>\n",
              "    <tr>\n",
              "      <th>4993</th>\n",
              "      <td>45</td>\n",
              "      <td>21</td>\n",
              "      <td>218</td>\n",
              "      <td>2</td>\n",
              "      <td>6.666667</td>\n",
              "      <td>1</td>\n",
              "      <td>0</td>\n",
              "      <td>0</td>\n",
              "      <td>0</td>\n",
              "      <td>0</td>\n",
              "      <td>1</td>\n",
              "      <td>0</td>\n",
              "    </tr>\n",
              "  </tbody>\n",
              "</table>\n",
              "<p>96 rows × 12 columns</p>\n",
              "</div>\n",
              "      <button class=\"colab-df-convert\" onclick=\"convertToInteractive('df-e1a7c1b9-54df-4060-ac46-8f109099ec19')\"\n",
              "              title=\"Convert this dataframe to an interactive table.\"\n",
              "              style=\"display:none;\">\n",
              "        \n",
              "  <svg xmlns=\"http://www.w3.org/2000/svg\" height=\"24px\"viewBox=\"0 0 24 24\"\n",
              "       width=\"24px\">\n",
              "    <path d=\"M0 0h24v24H0V0z\" fill=\"none\"/>\n",
              "    <path d=\"M18.56 5.44l.94 2.06.94-2.06 2.06-.94-2.06-.94-.94-2.06-.94 2.06-2.06.94zm-11 1L8.5 8.5l.94-2.06 2.06-.94-2.06-.94L8.5 2.5l-.94 2.06-2.06.94zm10 10l.94 2.06.94-2.06 2.06-.94-2.06-.94-.94-2.06-.94 2.06-2.06.94z\"/><path d=\"M17.41 7.96l-1.37-1.37c-.4-.4-.92-.59-1.43-.59-.52 0-1.04.2-1.43.59L10.3 9.45l-7.72 7.72c-.78.78-.78 2.05 0 2.83L4 21.41c.39.39.9.59 1.41.59.51 0 1.02-.2 1.41-.59l7.78-7.78 2.81-2.81c.8-.78.8-2.07 0-2.86zM5.41 20L4 18.59l7.72-7.72 1.47 1.35L5.41 20z\"/>\n",
              "  </svg>\n",
              "      </button>\n",
              "      \n",
              "  <style>\n",
              "    .colab-df-container {\n",
              "      display:flex;\n",
              "      flex-wrap:wrap;\n",
              "      gap: 12px;\n",
              "    }\n",
              "\n",
              "    .colab-df-convert {\n",
              "      background-color: #E8F0FE;\n",
              "      border: none;\n",
              "      border-radius: 50%;\n",
              "      cursor: pointer;\n",
              "      display: none;\n",
              "      fill: #1967D2;\n",
              "      height: 32px;\n",
              "      padding: 0 0 0 0;\n",
              "      width: 32px;\n",
              "    }\n",
              "\n",
              "    .colab-df-convert:hover {\n",
              "      background-color: #E2EBFA;\n",
              "      box-shadow: 0px 1px 2px rgba(60, 64, 67, 0.3), 0px 1px 3px 1px rgba(60, 64, 67, 0.15);\n",
              "      fill: #174EA6;\n",
              "    }\n",
              "\n",
              "    [theme=dark] .colab-df-convert {\n",
              "      background-color: #3B4455;\n",
              "      fill: #D2E3FC;\n",
              "    }\n",
              "\n",
              "    [theme=dark] .colab-df-convert:hover {\n",
              "      background-color: #434B5C;\n",
              "      box-shadow: 0px 1px 3px 1px rgba(0, 0, 0, 0.15);\n",
              "      filter: drop-shadow(0px 1px 2px rgba(0, 0, 0, 0.3));\n",
              "      fill: #FFFFFF;\n",
              "    }\n",
              "  </style>\n",
              "\n",
              "      <script>\n",
              "        const buttonEl =\n",
              "          document.querySelector('#df-e1a7c1b9-54df-4060-ac46-8f109099ec19 button.colab-df-convert');\n",
              "        buttonEl.style.display =\n",
              "          google.colab.kernel.accessAllowed ? 'block' : 'none';\n",
              "\n",
              "        async function convertToInteractive(key) {\n",
              "          const element = document.querySelector('#df-e1a7c1b9-54df-4060-ac46-8f109099ec19');\n",
              "          const dataTable =\n",
              "            await google.colab.kernel.invokeFunction('convertToInteractive',\n",
              "                                                     [key], {});\n",
              "          if (!dataTable) return;\n",
              "\n",
              "          const docLinkHtml = 'Like what you see? Visit the ' +\n",
              "            '<a target=\"_blank\" href=https://colab.research.google.com/notebooks/data_table.ipynb>data table notebook</a>'\n",
              "            + ' to learn more about interactive tables.';\n",
              "          element.innerHTML = '';\n",
              "          dataTable['output_type'] = 'display_data';\n",
              "          await google.colab.output.renderOutput(dataTable, element);\n",
              "          const docLink = document.createElement('div');\n",
              "          docLink.innerHTML = docLinkHtml;\n",
              "          element.appendChild(docLink);\n",
              "        }\n",
              "      </script>\n",
              "    </div>\n",
              "  </div>\n",
              "  "
            ],
            "text/plain": [
              "      Age  Experience  Income  ...  CD Account  Online  CreditCard\n",
              "18     46          21     193  ...           0       0           0\n",
              "47     37          12     194  ...           1       1           1\n",
              "53     50          26     190  ...           0       1           0\n",
              "59     31           5     188  ...           0       0           0\n",
              "303    49          25     195  ...           0       0           0\n",
              "...   ...         ...     ...  ...         ...     ...         ...\n",
              "4659   28           4     199  ...           0       0           0\n",
              "4670   52          26     194  ...           0       1           0\n",
              "4895   45          20     201  ...           0       1           1\n",
              "4981   34           9     195  ...           0       1           0\n",
              "4993   45          21     218  ...           0       1           0\n",
              "\n",
              "[96 rows x 12 columns]"
            ]
          },
          "metadata": {},
          "execution_count": 21
        }
      ]
    },
    {
      "cell_type": "code",
      "source": [
        "#replace the upper outlier with Q3 + 1.5*IQR\n",
        "df['Income'] = np.where(df['Income']>upper, upper, df['Income'])"
      ],
      "metadata": {
        "id": "ikKtjvkYD0Ia"
      },
      "execution_count": 22,
      "outputs": []
    },
    {
      "cell_type": "code",
      "source": [
        "#check there is no upper outlier \n",
        "df[df['Income']>upper]"
      ],
      "metadata": {
        "colab": {
          "base_uri": "https://localhost:8080/",
          "height": 110
        },
        "id": "FJZw9VtsEVwJ",
        "outputId": "3341c33b-6361-4e0f-e574-ac063fee0647"
      },
      "execution_count": 23,
      "outputs": [
        {
          "output_type": "execute_result",
          "data": {
            "text/html": [
              "\n",
              "  <div id=\"df-fc11df0d-be7c-4a47-831b-6a237d87bcf3\">\n",
              "    <div class=\"colab-df-container\">\n",
              "      <div>\n",
              "<style scoped>\n",
              "    .dataframe tbody tr th:only-of-type {\n",
              "        vertical-align: middle;\n",
              "    }\n",
              "\n",
              "    .dataframe tbody tr th {\n",
              "        vertical-align: top;\n",
              "    }\n",
              "\n",
              "    .dataframe thead th {\n",
              "        text-align: right;\n",
              "    }\n",
              "</style>\n",
              "<table border=\"1\" class=\"dataframe\">\n",
              "  <thead>\n",
              "    <tr style=\"text-align: right;\">\n",
              "      <th></th>\n",
              "      <th>Age</th>\n",
              "      <th>Experience</th>\n",
              "      <th>Income</th>\n",
              "      <th>Family</th>\n",
              "      <th>CCAvg</th>\n",
              "      <th>Education</th>\n",
              "      <th>Mortgage</th>\n",
              "      <th>Personal Loan</th>\n",
              "      <th>Securities Account</th>\n",
              "      <th>CD Account</th>\n",
              "      <th>Online</th>\n",
              "      <th>CreditCard</th>\n",
              "    </tr>\n",
              "  </thead>\n",
              "  <tbody>\n",
              "  </tbody>\n",
              "</table>\n",
              "</div>\n",
              "      <button class=\"colab-df-convert\" onclick=\"convertToInteractive('df-fc11df0d-be7c-4a47-831b-6a237d87bcf3')\"\n",
              "              title=\"Convert this dataframe to an interactive table.\"\n",
              "              style=\"display:none;\">\n",
              "        \n",
              "  <svg xmlns=\"http://www.w3.org/2000/svg\" height=\"24px\"viewBox=\"0 0 24 24\"\n",
              "       width=\"24px\">\n",
              "    <path d=\"M0 0h24v24H0V0z\" fill=\"none\"/>\n",
              "    <path d=\"M18.56 5.44l.94 2.06.94-2.06 2.06-.94-2.06-.94-.94-2.06-.94 2.06-2.06.94zm-11 1L8.5 8.5l.94-2.06 2.06-.94-2.06-.94L8.5 2.5l-.94 2.06-2.06.94zm10 10l.94 2.06.94-2.06 2.06-.94-2.06-.94-.94-2.06-.94 2.06-2.06.94z\"/><path d=\"M17.41 7.96l-1.37-1.37c-.4-.4-.92-.59-1.43-.59-.52 0-1.04.2-1.43.59L10.3 9.45l-7.72 7.72c-.78.78-.78 2.05 0 2.83L4 21.41c.39.39.9.59 1.41.59.51 0 1.02-.2 1.41-.59l7.78-7.78 2.81-2.81c.8-.78.8-2.07 0-2.86zM5.41 20L4 18.59l7.72-7.72 1.47 1.35L5.41 20z\"/>\n",
              "  </svg>\n",
              "      </button>\n",
              "      \n",
              "  <style>\n",
              "    .colab-df-container {\n",
              "      display:flex;\n",
              "      flex-wrap:wrap;\n",
              "      gap: 12px;\n",
              "    }\n",
              "\n",
              "    .colab-df-convert {\n",
              "      background-color: #E8F0FE;\n",
              "      border: none;\n",
              "      border-radius: 50%;\n",
              "      cursor: pointer;\n",
              "      display: none;\n",
              "      fill: #1967D2;\n",
              "      height: 32px;\n",
              "      padding: 0 0 0 0;\n",
              "      width: 32px;\n",
              "    }\n",
              "\n",
              "    .colab-df-convert:hover {\n",
              "      background-color: #E2EBFA;\n",
              "      box-shadow: 0px 1px 2px rgba(60, 64, 67, 0.3), 0px 1px 3px 1px rgba(60, 64, 67, 0.15);\n",
              "      fill: #174EA6;\n",
              "    }\n",
              "\n",
              "    [theme=dark] .colab-df-convert {\n",
              "      background-color: #3B4455;\n",
              "      fill: #D2E3FC;\n",
              "    }\n",
              "\n",
              "    [theme=dark] .colab-df-convert:hover {\n",
              "      background-color: #434B5C;\n",
              "      box-shadow: 0px 1px 3px 1px rgba(0, 0, 0, 0.15);\n",
              "      filter: drop-shadow(0px 1px 2px rgba(0, 0, 0, 0.3));\n",
              "      fill: #FFFFFF;\n",
              "    }\n",
              "  </style>\n",
              "\n",
              "      <script>\n",
              "        const buttonEl =\n",
              "          document.querySelector('#df-fc11df0d-be7c-4a47-831b-6a237d87bcf3 button.colab-df-convert');\n",
              "        buttonEl.style.display =\n",
              "          google.colab.kernel.accessAllowed ? 'block' : 'none';\n",
              "\n",
              "        async function convertToInteractive(key) {\n",
              "          const element = document.querySelector('#df-fc11df0d-be7c-4a47-831b-6a237d87bcf3');\n",
              "          const dataTable =\n",
              "            await google.colab.kernel.invokeFunction('convertToInteractive',\n",
              "                                                     [key], {});\n",
              "          if (!dataTable) return;\n",
              "\n",
              "          const docLinkHtml = 'Like what you see? Visit the ' +\n",
              "            '<a target=\"_blank\" href=https://colab.research.google.com/notebooks/data_table.ipynb>data table notebook</a>'\n",
              "            + ' to learn more about interactive tables.';\n",
              "          element.innerHTML = '';\n",
              "          dataTable['output_type'] = 'display_data';\n",
              "          await google.colab.output.renderOutput(dataTable, element);\n",
              "          const docLink = document.createElement('div');\n",
              "          docLink.innerHTML = docLinkHtml;\n",
              "          element.appendChild(docLink);\n",
              "        }\n",
              "      </script>\n",
              "    </div>\n",
              "  </div>\n",
              "  "
            ],
            "text/plain": [
              "Empty DataFrame\n",
              "Columns: [Age, Experience, Income, Family, CCAvg, Education, Mortgage, Personal Loan, Securities Account, CD Account, Online, CreditCard]\n",
              "Index: []"
            ]
          },
          "metadata": {},
          "execution_count": 23
        }
      ]
    },
    {
      "cell_type": "code",
      "source": [
        "px.box(df, y='Income')"
      ],
      "metadata": {
        "colab": {
          "base_uri": "https://localhost:8080/",
          "height": 542
        },
        "id": "2KTUSarvE1Sy",
        "outputId": "0492c836-7b74-4943-cecc-2d5a505403d9"
      },
      "execution_count": 24,
      "outputs": [
        {
          "output_type": "display_data",
          "data": {
            "text/html": [
              "<html>\n",
              "<head><meta charset=\"utf-8\" /></head>\n",
              "<body>\n",
              "    <div>\n",
              "            <script src=\"https://cdnjs.cloudflare.com/ajax/libs/mathjax/2.7.5/MathJax.js?config=TeX-AMS-MML_SVG\"></script><script type=\"text/javascript\">if (window.MathJax) {MathJax.Hub.Config({SVG: {font: \"STIX-Web\"}});}</script>\n",
              "                <script type=\"text/javascript\">window.PlotlyConfig = {MathJaxConfig: 'local'};</script>\n",
              "        <script src=\"https://cdn.plot.ly/plotly-latest.min.js\"></script>    \n",
              "            <div id=\"4c937540-7422-497b-a7d5-1a6f7152a1ae\" class=\"plotly-graph-div\" style=\"height:525px; width:100%;\"></div>\n",
              "            <script type=\"text/javascript\">\n",
              "                \n",
              "                    window.PLOTLYENV=window.PLOTLYENV || {};\n",
              "                    \n",
              "                if (document.getElementById(\"4c937540-7422-497b-a7d5-1a6f7152a1ae\")) {\n",
              "                    Plotly.newPlot(\n",
              "                        '4c937540-7422-497b-a7d5-1a6f7152a1ae',\n",
              "                        [{\"alignmentgroup\": \"True\", \"hoverlabel\": {\"namelength\": 0}, \"hovertemplate\": \"Income=%{y}\", \"legendgroup\": \"\", \"marker\": {\"color\": \"#636efa\"}, \"name\": \"\", \"notched\": false, \"offsetgroup\": \"\", \"orientation\": \"v\", \"showlegend\": false, \"type\": \"box\", \"x0\": \" \", \"xaxis\": \"x\", \"y\": [49.0, 34.0, 11.0, 100.0, 45.0, 29.0, 72.0, 22.0, 81.0, 180.0, 105.0, 45.0, 114.0, 40.0, 112.0, 22.0, 130.0, 81.0, 186.5, 21.0, 25.0, 63.0, 62.0, 43.0, 152.0, 29.0, 83.0, 158.0, 48.0, 119.0, 35.0, 29.0, 41.0, 18.0, 50.0, 81.0, 121.0, 71.0, 141.0, 80.0, 84.0, 60.0, 132.0, 45.0, 104.0, 52.0, 43.0, 186.5, 81.0, 49.0, 8.0, 131.0, 72.0, 186.5, 44.0, 139.0, 29.0, 131.0, 93.0, 186.5, 39.0, 125.0, 22.0, 32.0, 105.0, 131.0, 105.0, 45.0, 60.0, 20.0, 115.0, 69.0, 130.0, 85.0, 135.0, 135.0, 12.0, 29.0, 133.0, 19.0, 41.0, 40.0, 82.0, 50.0, 18.0, 109.0, 42.0, 78.0, 51.0, 113.0, 118.0, 29.0, 34.0, 64.0, 121.0, 48.0, 80.0, 161.0, 94.0, 15.0, 74.0, 30.0, 44.0, 22.0, 38.0, 35.0, 69.0, 43.0, 32.0, 49.0, 9.0, 45.0, 82.0, 92.0, 39.0, 81.0, 35.0, 61.0, 73.0, 112.0, 12.0, 38.0, 73.0, 84.0, 78.0, 80.0, 115.0, 82.0, 74.0, 70.0, 81.0, 149.0, 51.0, 39.0, 98.0, 45.0, 49.0, 128.0, 42.0, 18.0, 31.0, 58.0, 48.0, 54.0, 70.0, 124.0, 84.0, 83.0, 163.0, 42.0, 118.0, 132.0, 24.0, 22.0, 58.0, 60.0, 15.0, 83.0, 79.0, 41.0, 134.0, 80.0, 52.0, 70.0, 92.0, 43.0, 21.0, 23.0, 13.0, 112.0, 138.0, 11.0, 171.0, 42.0, 168.0, 85.0, 44.0, 65.0, 24.0, 11.0, 38.0, 10.0, 135.0, 148.0, 63.0, 115.0, 45.0, 159.0, 169.0, 112.0, 93.0, 29.0, 85.0, 21.0, 144.0, 13.0, 165.0, 9.0, 59.0, 158.0, 29.0, 20.0, 68.0, 65.0, 61.0, 91.0, 31.0, 71.0, 73.0, 172.0, 20.0, 55.0, 69.0, 155.0, 94.0, 92.0, 125.0, 74.0, 72.0, 61.0, 25.0, 83.0, 104.0, 41.0, 58.0, 93.0, 39.0, 148.0, 53.0, 71.0, 92.0, 61.0, 38.0, 58.0, 80.0, 71.0, 89.0, 83.0, 28.0, 52.0, 70.0, 71.0, 75.0, 170.0, 78.0, 25.0, 60.0, 120.0, 99.0, 55.0, 29.0, 170.0, 53.0, 138.0, 134.0, 42.0, 99.0, 18.0, 24.0, 55.0, 58.0, 111.0, 33.0, 74.0, 38.0, 23.0, 61.0, 81.0, 129.0, 33.0, 63.0, 70.0, 45.0, 65.0, 74.0, 50.0, 22.0, 30.0, 21.0, 155.0, 64.0, 65.0, 71.0, 40.0, 69.0, 69.0, 45.0, 62.0, 172.0, 24.0, 80.0, 8.0, 38.0, 93.0, 55.0, 64.0, 122.0, 70.0, 81.0, 159.0, 70.0, 150.0, 152.0, 186.5, 22.0, 22.0, 79.0, 33.0, 128.0, 91.0, 39.0, 121.0, 21.0, 41.0, 45.0, 51.0, 165.0, 119.0, 110.0, 20.0, 64.0, 101.0, 101.0, 99.0, 158.0, 89.0, 80.0, 114.0, 49.0, 186.5, 78.0, 28.0, 42.0, 140.0, 45.0, 122.0, 65.0, 68.0, 153.0, 89.0, 91.0, 55.0, 118.0, 22.0, 63.0, 12.0, 50.0, 43.0, 173.0, 60.0, 113.0, 155.0, 91.0, 55.0, 173.0, 71.0, 24.0, 42.0, 141.0, 32.0, 55.0, 153.0, 113.0, 30.0, 29.0, 174.0, 35.0, 98.0, 30.0, 58.0, 25.0, 19.0, 44.0, 20.0, 98.0, 90.0, 61.0, 40.0, 38.0, 28.0, 34.0, 73.0, 133.0, 53.0, 21.0, 40.0, 41.0, 82.0, 100.0, 155.0, 45.0, 9.0, 48.0, 18.0, 80.0, 64.0, 29.0, 48.0, 23.0, 84.0, 179.0, 30.0, 93.0, 39.0, 60.0, 133.0, 125.0, 58.0, 89.0, 82.0, 110.0, 54.0, 89.0, 42.0, 41.0, 38.0, 85.0, 83.0, 33.0, 50.0, 58.0, 115.0, 145.0, 161.0, 38.0, 28.0, 75.0, 35.0, 24.0, 78.0, 113.0, 75.0, 91.0, 31.0, 45.0, 80.0, 50.0, 31.0, 113.0, 29.0, 59.0, 43.0, 122.0, 29.0, 91.0, 65.0, 22.0, 71.0, 60.0, 60.0, 69.0, 48.0, 21.0, 53.0, 29.0, 60.0, 42.0, 69.0, 20.0, 186.5, 141.0, 81.0, 183.0, 149.0, 83.0, 35.0, 13.0, 39.0, 21.0, 10.0, 84.0, 30.0, 31.0, 182.0, 114.0, 152.0, 53.0, 24.0, 150.0, 132.0, 68.0, 53.0, 173.0, 30.0, 113.0, 15.0, 84.0, 88.0, 43.0, 43.0, 90.0, 34.0, 38.0, 173.0, 160.0, 44.0, 83.0, 94.0, 43.0, 42.0, 34.0, 39.0, 70.0, 39.0, 44.0, 69.0, 44.0, 32.0, 15.0, 118.0, 62.0, 82.0, 54.0, 48.0, 74.0, 113.0, 81.0, 43.0, 34.0, 48.0, 54.0, 75.0, 72.0, 39.0, 75.0, 79.0, 186.5, 65.0, 122.0, 82.0, 21.0, 50.0, 39.0, 101.0, 41.0, 132.0, 43.0, 131.0, 11.0, 21.0, 109.0, 141.0, 81.0, 54.0, 164.0, 28.0, 68.0, 44.0, 61.0, 35.0, 54.0, 14.0, 52.0, 101.0, 149.0, 35.0, 21.0, 118.0, 38.0, 24.0, 59.0, 41.0, 85.0, 12.0, 32.0, 79.0, 175.0, 28.0, 41.0, 70.0, 161.0, 53.0, 128.0, 50.0, 80.0, 93.0, 48.0, 149.0, 49.0, 88.0, 22.0, 55.0, 72.0, 38.0, 114.0, 83.0, 101.0, 94.0, 40.0, 128.0, 39.0, 51.0, 79.0, 48.0, 85.0, 41.0, 152.0, 125.0, 11.0, 103.0, 141.0, 38.0, 135.0, 28.0, 70.0, 41.0, 81.0, 170.0, 55.0, 24.0, 81.0, 32.0, 129.0, 108.0, 180.0, 139.0, 33.0, 74.0, 42.0, 73.0, 115.0, 114.0, 92.0, 34.0, 54.0, 64.0, 42.0, 70.0, 51.0, 71.0, 35.0, 40.0, 165.0, 18.0, 32.0, 35.0, 120.0, 31.0, 35.0, 32.0, 85.0, 139.0, 103.0, 152.0, 33.0, 84.0, 61.0, 64.0, 34.0, 82.0, 122.0, 58.0, 92.0, 78.0, 129.0, 13.0, 81.0, 23.0, 35.0, 79.0, 165.0, 52.0, 185.0, 49.0, 64.0, 61.0, 112.0, 72.0, 18.0, 41.0, 61.0, 105.0, 23.0, 22.0, 59.0, 33.0, 11.0, 186.5, 61.0, 103.0, 51.0, 164.0, 12.0, 82.0, 164.0, 48.0, 38.0, 65.0, 71.0, 18.0, 52.0, 48.0, 30.0, 40.0, 112.0, 115.0, 63.0, 85.0, 59.0, 68.0, 84.0, 62.0, 109.0, 141.0, 129.0, 30.0, 148.0, 25.0, 21.0, 72.0, 59.0, 83.0, 10.0, 84.0, 98.0, 32.0, 31.0, 94.0, 21.0, 110.0, 38.0, 39.0, 132.0, 61.0, 92.0, 119.0, 53.0, 18.0, 114.0, 90.0, 140.0, 90.0, 85.0, 80.0, 53.0, 49.0, 152.0, 138.0, 80.0, 82.0, 186.5, 22.0, 81.0, 40.0, 154.0, 49.0, 85.0, 21.0, 14.0, 60.0, 138.0, 98.0, 22.0, 49.0, 102.0, 45.0, 82.0, 81.0, 35.0, 59.0, 52.0, 84.0, 85.0, 65.0, 89.0, 109.0, 81.0, 38.0, 72.0, 78.0, 172.0, 71.0, 165.0, 120.0, 39.0, 23.0, 135.0, 12.0, 92.0, 186.5, 42.0, 158.0, 186.5, 160.0, 98.0, 164.0, 42.0, 186.5, 10.0, 31.0, 58.0, 65.0, 98.0, 150.0, 44.0, 15.0, 82.0, 61.0, 38.0, 39.0, 173.0, 8.0, 51.0, 62.0, 34.0, 132.0, 44.0, 162.0, 64.0, 111.0, 41.0, 52.0, 65.0, 130.0, 45.0, 35.0, 65.0, 38.0, 42.0, 45.0, 145.0, 33.0, 60.0, 45.0, 72.0, 34.0, 23.0, 45.0, 28.0, 81.0, 72.0, 49.0, 31.0, 63.0, 150.0, 142.0, 74.0, 24.0, 29.0, 79.0, 94.0, 121.0, 54.0, 73.0, 71.0, 29.0, 93.0, 73.0, 19.0, 58.0, 39.0, 23.0, 29.0, 155.0, 90.0, 113.0, 42.0, 30.0, 19.0, 124.0, 30.0, 28.0, 15.0, 70.0, 10.0, 22.0, 70.0, 61.0, 161.0, 29.0, 35.0, 48.0, 44.0, 88.0, 40.0, 21.0, 58.0, 59.0, 74.0, 84.0, 58.0, 154.0, 185.0, 78.0, 55.0, 30.0, 74.0, 118.0, 182.0, 82.0, 29.0, 120.0, 53.0, 43.0, 59.0, 84.0, 161.0, 21.0, 63.0, 172.0, 51.0, 24.0, 95.0, 59.0, 51.0, 28.0, 154.0, 15.0, 55.0, 149.0, 79.0, 68.0, 78.0, 34.0, 186.5, 184.0, 85.0, 186.5, 64.0, 88.0, 42.0, 91.0, 38.0, 28.0, 32.0, 31.0, 22.0, 95.0, 74.0, 22.0, 43.0, 43.0, 112.0, 9.0, 81.0, 131.0, 19.0, 62.0, 19.0, 8.0, 186.5, 129.0, 30.0, 80.0, 22.0, 33.0, 64.0, 60.0, 81.0, 45.0, 112.0, 83.0, 180.0, 28.0, 169.0, 14.0, 43.0, 88.0, 78.0, 68.0, 144.0, 30.0, 120.0, 24.0, 78.0, 135.0, 44.0, 73.0, 90.0, 58.0, 75.0, 174.0, 50.0, 85.0, 54.0, 83.0, 24.0, 45.0, 68.0, 48.0, 114.0, 142.0, 52.0, 142.0, 15.0, 118.0, 101.0, 84.0, 32.0, 64.0, 81.0, 28.0, 93.0, 185.0, 42.0, 45.0, 49.0, 69.0, 94.0, 18.0, 8.0, 55.0, 85.0, 62.0, 65.0, 138.0, 103.0, 99.0, 152.0, 25.0, 98.0, 39.0, 40.0, 58.0, 186.5, 62.0, 69.0, 40.0, 61.0, 30.0, 29.0, 41.0, 118.0, 109.0, 122.0, 50.0, 43.0, 108.0, 110.0, 20.0, 112.0, 25.0, 42.0, 29.0, 84.0, 81.0, 55.0, 40.0, 145.0, 175.0, 78.0, 51.0, 50.0, 21.0, 79.0, 84.0, 34.0, 73.0, 90.0, 23.0, 145.0, 54.0, 49.0, 51.0, 8.0, 62.0, 25.0, 63.0, 24.0, 11.0, 23.0, 33.0, 83.0, 39.0, 138.0, 113.0, 125.0, 186.5, 105.0, 75.0, 40.0, 61.0, 75.0, 122.0, 75.0, 59.0, 24.0, 175.0, 39.0, 145.0, 24.0, 20.0, 85.0, 65.0, 186.5, 11.0, 40.0, 54.0, 95.0, 94.0, 79.0, 48.0, 70.0, 40.0, 44.0, 43.0, 29.0, 186.5, 114.0, 52.0, 13.0, 95.0, 84.0, 49.0, 181.0, 182.0, 70.0, 79.0, 61.0, 121.0, 34.0, 183.0, 51.0, 70.0, 39.0, 84.0, 122.0, 145.0, 98.0, 79.0, 38.0, 49.0, 38.0, 91.0, 29.0, 172.0, 104.0, 58.0, 171.0, 73.0, 186.5, 90.0, 55.0, 28.0, 42.0, 9.0, 65.0, 134.0, 83.0, 38.0, 13.0, 143.0, 75.0, 120.0, 91.0, 99.0, 71.0, 111.0, 108.0, 158.0, 81.0, 12.0, 21.0, 55.0, 42.0, 81.0, 13.0, 132.0, 99.0, 23.0, 40.0, 181.0, 112.0, 138.0, 94.0, 113.0, 112.0, 186.5, 38.0, 32.0, 104.0, 43.0, 45.0, 35.0, 42.0, 58.0, 103.0, 71.0, 14.0, 98.0, 90.0, 65.0, 19.0, 35.0, 71.0, 31.0, 43.0, 24.0, 58.0, 115.0, 168.0, 128.0, 138.0, 81.0, 41.0, 123.0, 71.0, 8.0, 42.0, 62.0, 22.0, 38.0, 24.0, 50.0, 186.5, 94.0, 165.0, 43.0, 48.0, 52.0, 84.0, 131.0, 44.0, 78.0, 15.0, 38.0, 84.0, 122.0, 98.0, 80.0, 165.0, 121.0, 20.0, 11.0, 45.0, 118.0, 14.0, 30.0, 45.0, 80.0, 25.0, 144.0, 84.0, 22.0, 33.0, 60.0, 81.0, 169.0, 63.0, 12.0, 15.0, 39.0, 44.0, 110.0, 130.0, 41.0, 59.0, 39.0, 35.0, 80.0, 81.0, 31.0, 93.0, 45.0, 40.0, 80.0, 20.0, 41.0, 31.0, 35.0, 40.0, 84.0, 53.0, 85.0, 138.0, 71.0, 113.0, 23.0, 62.0, 14.0, 60.0, 94.0, 83.0, 130.0, 61.0, 92.0, 20.0, 186.5, 74.0, 84.0, 98.0, 52.0, 55.0, 64.0, 128.0, 113.0, 50.0, 54.0, 129.0, 82.0, 100.0, 44.0, 164.0, 81.0, 71.0, 28.0, 80.0, 90.0, 74.0, 14.0, 23.0, 153.0, 38.0, 112.0, 145.0, 28.0, 31.0, 186.5, 50.0, 71.0, 21.0, 35.0, 42.0, 78.0, 73.0, 53.0, 51.0, 40.0, 178.0, 35.0, 186.5, 123.0, 48.0, 45.0, 15.0, 79.0, 63.0, 30.0, 145.0, 32.0, 64.0, 84.0, 21.0, 99.0, 35.0, 180.0, 42.0, 179.0, 42.0, 180.0, 82.0, 55.0, 79.0, 48.0, 93.0, 23.0, 50.0, 85.0, 35.0, 171.0, 29.0, 84.0, 20.0, 14.0, 179.0, 48.0, 74.0, 53.0, 83.0, 171.0, 85.0, 38.0, 85.0, 79.0, 69.0, 43.0, 33.0, 42.0, 40.0, 43.0, 20.0, 65.0, 139.0, 135.0, 84.0, 179.0, 45.0, 109.0, 34.0, 162.0, 105.0, 22.0, 82.0, 105.0, 62.0, 82.0, 72.0, 38.0, 25.0, 20.0, 80.0, 84.0, 33.0, 55.0, 33.0, 186.5, 43.0, 45.0, 141.0, 69.0, 78.0, 84.0, 172.0, 51.0, 75.0, 183.0, 20.0, 101.0, 129.0, 63.0, 44.0, 184.0, 100.0, 12.0, 68.0, 48.0, 82.0, 52.0, 154.0, 39.0, 40.0, 54.0, 32.0, 64.0, 92.0, 40.0, 60.0, 85.0, 21.0, 35.0, 52.0, 128.0, 186.5, 68.0, 55.0, 55.0, 80.0, 123.0, 90.0, 61.0, 41.0, 43.0, 71.0, 25.0, 154.0, 141.0, 22.0, 145.0, 49.0, 109.0, 80.0, 82.0, 52.0, 85.0, 148.0, 160.0, 39.0, 25.0, 33.0, 38.0, 85.0, 48.0, 15.0, 94.0, 120.0, 60.0, 145.0, 29.0, 78.0, 59.0, 80.0, 180.0, 8.0, 23.0, 79.0, 78.0, 64.0, 64.0, 160.0, 43.0, 32.0, 179.0, 8.0, 63.0, 40.0, 99.0, 141.0, 159.0, 39.0, 99.0, 18.0, 38.0, 133.0, 84.0, 60.0, 178.0, 18.0, 73.0, 125.0, 91.0, 74.0, 35.0, 113.0, 52.0, 186.5, 18.0, 25.0, 50.0, 75.0, 92.0, 33.0, 65.0, 44.0, 183.0, 175.0, 28.0, 49.0, 45.0, 64.0, 22.0, 120.0, 175.0, 101.0, 104.0, 155.0, 58.0, 80.0, 45.0, 134.0, 58.0, 20.0, 25.0, 55.0, 155.0, 30.0, 39.0, 73.0, 41.0, 34.0, 21.0, 11.0, 154.0, 19.0, 101.0, 24.0, 131.0, 105.0, 52.0, 21.0, 45.0, 39.0, 186.5, 186.5, 83.0, 34.0, 49.0, 60.0, 41.0, 72.0, 102.0, 31.0, 73.0, 89.0, 19.0, 63.0, 104.0, 40.0, 92.0, 72.0, 44.0, 114.0, 73.0, 63.0, 69.0, 42.0, 88.0, 98.0, 65.0, 12.0, 122.0, 12.0, 24.0, 170.0, 184.0, 25.0, 131.0, 50.0, 21.0, 55.0, 124.0, 58.0, 72.0, 186.5, 83.0, 93.0, 38.0, 55.0, 11.0, 85.0, 124.0, 129.0, 180.0, 74.0, 138.0, 111.0, 83.0, 33.0, 21.0, 35.0, 105.0, 103.0, 75.0, 33.0, 52.0, 89.0, 63.0, 84.0, 44.0, 29.0, 29.0, 22.0, 53.0, 24.0, 153.0, 31.0, 21.0, 180.0, 82.0, 90.0, 154.0, 99.0, 153.0, 93.0, 53.0, 18.0, 70.0, 100.0, 186.5, 125.0, 68.0, 55.0, 152.0, 84.0, 13.0, 33.0, 89.0, 93.0, 68.0, 85.0, 73.0, 83.0, 158.0, 182.0, 24.0, 102.0, 53.0, 175.0, 28.0, 14.0, 139.0, 34.0, 64.0, 84.0, 42.0, 63.0, 100.0, 186.5, 22.0, 20.0, 21.0, 25.0, 20.0, 173.0, 81.0, 139.0, 119.0, 74.0, 42.0, 73.0, 114.0, 44.0, 141.0, 14.0, 33.0, 83.0, 89.0, 39.0, 83.0, 108.0, 21.0, 102.0, 48.0, 32.0, 43.0, 35.0, 184.0, 140.0, 32.0, 149.0, 15.0, 71.0, 108.0, 122.0, 40.0, 186.5, 79.0, 84.0, 31.0, 12.0, 88.0, 29.0, 186.5, 20.0, 15.0, 155.0, 25.0, 186.5, 101.0, 19.0, 186.5, 8.0, 59.0, 72.0, 55.0, 24.0, 19.0, 71.0, 54.0, 28.0, 25.0, 51.0, 125.0, 88.0, 125.0, 79.0, 31.0, 131.0, 70.0, 38.0, 83.0, 59.0, 121.0, 42.0, 32.0, 29.0, 40.0, 25.0, 21.0, 79.0, 52.0, 61.0, 25.0, 155.0, 25.0, 80.0, 55.0, 23.0, 60.0, 54.0, 44.0, 33.0, 45.0, 55.0, 134.0, 44.0, 149.0, 22.0, 74.0, 128.0, 62.0, 9.0, 9.0, 15.0, 28.0, 83.0, 73.0, 42.0, 34.0, 32.0, 68.0, 82.0, 19.0, 60.0, 186.5, 119.0, 186.5, 34.0, 44.0, 23.0, 171.0, 43.0, 139.0, 118.0, 113.0, 98.0, 70.0, 42.0, 143.0, 185.0, 28.0, 45.0, 78.0, 121.0, 59.0, 64.0, 15.0, 10.0, 61.0, 50.0, 79.0, 35.0, 11.0, 128.0, 55.0, 79.0, 18.0, 91.0, 9.0, 62.0, 59.0, 25.0, 54.0, 112.0, 125.0, 186.5, 161.0, 35.0, 113.0, 25.0, 45.0, 119.0, 30.0, 79.0, 178.0, 23.0, 171.0, 74.0, 103.0, 99.0, 43.0, 23.0, 91.0, 93.0, 154.0, 21.0, 65.0, 15.0, 52.0, 30.0, 42.0, 20.0, 60.0, 54.0, 60.0, 41.0, 30.0, 21.0, 105.0, 65.0, 20.0, 179.0, 161.0, 82.0, 43.0, 61.0, 90.0, 90.0, 21.0, 118.0, 44.0, 110.0, 99.0, 98.0, 69.0, 82.0, 112.0, 123.0, 78.0, 59.0, 78.0, 49.0, 82.0, 125.0, 185.0, 163.0, 19.0, 115.0, 81.0, 93.0, 111.0, 184.0, 50.0, 55.0, 13.0, 29.0, 72.0, 83.0, 98.0, 43.0, 34.0, 10.0, 186.5, 85.0, 50.0, 91.0, 112.0, 98.0, 115.0, 22.0, 101.0, 83.0, 52.0, 186.5, 134.0, 54.0, 69.0, 64.0, 53.0, 118.0, 19.0, 31.0, 63.0, 25.0, 22.0, 78.0, 81.0, 41.0, 62.0, 35.0, 30.0, 51.0, 140.0, 73.0, 40.0, 69.0, 186.5, 82.0, 181.0, 38.0, 23.0, 55.0, 58.0, 29.0, 39.0, 39.0, 30.0, 58.0, 62.0, 62.0, 19.0, 38.0, 84.0, 78.0, 22.0, 81.0, 32.0, 89.0, 121.0, 42.0, 130.0, 30.0, 114.0, 155.0, 50.0, 34.0, 94.0, 114.0, 89.0, 49.0, 115.0, 148.0, 72.0, 114.0, 11.0, 63.0, 113.0, 80.0, 54.0, 32.0, 11.0, 141.0, 84.0, 18.0, 20.0, 55.0, 31.0, 114.0, 52.0, 18.0, 55.0, 29.0, 30.0, 38.0, 122.0, 183.0, 41.0, 38.0, 61.0, 103.0, 80.0, 22.0, 128.0, 142.0, 124.0, 44.0, 170.0, 75.0, 78.0, 31.0, 99.0, 41.0, 39.0, 51.0, 52.0, 169.0, 141.0, 93.0, 14.0, 160.0, 44.0, 33.0, 103.0, 71.0, 55.0, 113.0, 79.0, 80.0, 179.0, 9.0, 61.0, 111.0, 80.0, 32.0, 83.0, 91.0, 29.0, 19.0, 52.0, 150.0, 32.0, 91.0, 180.0, 121.0, 25.0, 102.0, 44.0, 161.0, 134.0, 43.0, 94.0, 29.0, 38.0, 120.0, 85.0, 89.0, 25.0, 20.0, 125.0, 18.0, 173.0, 34.0, 159.0, 55.0, 32.0, 65.0, 83.0, 30.0, 180.0, 13.0, 35.0, 95.0, 83.0, 39.0, 54.0, 81.0, 53.0, 119.0, 160.0, 21.0, 40.0, 69.0, 45.0, 55.0, 38.0, 44.0, 45.0, 84.0, 186.5, 29.0, 95.0, 79.0, 41.0, 19.0, 75.0, 64.0, 174.0, 54.0, 14.0, 94.0, 10.0, 145.0, 186.5, 81.0, 153.0, 58.0, 49.0, 132.0, 85.0, 85.0, 178.0, 104.0, 40.0, 103.0, 25.0, 69.0, 30.0, 70.0, 15.0, 125.0, 50.0, 44.0, 38.0, 64.0, 9.0, 44.0, 93.0, 83.0, 179.0, 40.0, 58.0, 74.0, 15.0, 11.0, 41.0, 68.0, 28.0, 115.0, 83.0, 40.0, 113.0, 89.0, 38.0, 62.0, 65.0, 168.0, 40.0, 30.0, 20.0, 58.0, 150.0, 54.0, 19.0, 30.0, 123.0, 45.0, 154.0, 93.0, 71.0, 83.0, 99.0, 55.0, 38.0, 74.0, 69.0, 104.0, 38.0, 25.0, 162.0, 64.0, 30.0, 52.0, 42.0, 79.0, 34.0, 123.0, 160.0, 51.0, 108.0, 158.0, 68.0, 42.0, 32.0, 22.0, 29.0, 183.0, 69.0, 92.0, 40.0, 9.0, 128.0, 110.0, 171.0, 13.0, 25.0, 123.0, 33.0, 186.5, 34.0, 58.0, 51.0, 29.0, 111.0, 43.0, 130.0, 20.0, 101.0, 48.0, 180.0, 92.0, 33.0, 51.0, 31.0, 83.0, 45.0, 89.0, 186.5, 89.0, 162.0, 9.0, 58.0, 80.0, 73.0, 41.0, 74.0, 29.0, 25.0, 98.0, 59.0, 43.0, 72.0, 183.0, 134.0, 140.0, 39.0, 35.0, 141.0, 23.0, 134.0, 35.0, 42.0, 81.0, 14.0, 45.0, 79.0, 53.0, 33.0, 186.5, 60.0, 8.0, 38.0, 154.0, 54.0, 41.0, 25.0, 53.0, 79.0, 13.0, 130.0, 93.0, 82.0, 15.0, 150.0, 131.0, 28.0, 9.0, 88.0, 143.0, 168.0, 105.0, 62.0, 51.0, 101.0, 90.0, 83.0, 21.0, 115.0, 172.0, 32.0, 186.5, 34.0, 30.0, 31.0, 90.0, 79.0, 22.0, 114.0, 42.0, 29.0, 72.0, 68.0, 78.0, 90.0, 170.0, 14.0, 129.0, 39.0, 82.0, 31.0, 9.0, 15.0, 70.0, 84.0, 155.0, 89.0, 170.0, 185.0, 82.0, 60.0, 58.0, 29.0, 32.0, 115.0, 83.0, 54.0, 112.0, 182.0, 112.0, 129.0, 23.0, 186.5, 84.0, 39.0, 129.0, 113.0, 35.0, 85.0, 73.0, 70.0, 130.0, 39.0, 72.0, 68.0, 35.0, 61.0, 69.0, 59.0, 99.0, 186.5, 130.0, 72.0, 44.0, 91.0, 92.0, 55.0, 20.0, 89.0, 59.0, 8.0, 85.0, 94.0, 22.0, 74.0, 59.0, 12.0, 8.0, 74.0, 184.0, 34.0, 63.0, 123.0, 85.0, 109.0, 31.0, 61.0, 88.0, 22.0, 63.0, 80.0, 78.0, 45.0, 51.0, 111.0, 45.0, 184.0, 41.0, 69.0, 23.0, 160.0, 61.0, 110.0, 50.0, 49.0, 185.0, 52.0, 53.0, 125.0, 72.0, 51.0, 23.0, 41.0, 41.0, 138.0, 138.0, 14.0, 145.0, 25.0, 43.0, 93.0, 90.0, 41.0, 169.0, 63.0, 23.0, 140.0, 75.0, 13.0, 10.0, 100.0, 85.0, 73.0, 130.0, 65.0, 59.0, 31.0, 134.0, 11.0, 32.0, 53.0, 28.0, 44.0, 40.0, 40.0, 163.0, 82.0, 89.0, 78.0, 55.0, 34.0, 108.0, 58.0, 73.0, 54.0, 45.0, 123.0, 93.0, 102.0, 39.0, 114.0, 29.0, 30.0, 22.0, 38.0, 41.0, 161.0, 38.0, 25.0, 70.0, 186.5, 42.0, 64.0, 28.0, 119.0, 28.0, 60.0, 23.0, 164.0, 39.0, 19.0, 72.0, 41.0, 32.0, 69.0, 23.0, 44.0, 32.0, 25.0, 80.0, 83.0, 133.0, 89.0, 81.0, 44.0, 119.0, 39.0, 40.0, 79.0, 30.0, 179.0, 178.0, 82.0, 50.0, 64.0, 129.0, 68.0, 30.0, 48.0, 130.0, 40.0, 105.0, 41.0, 168.0, 80.0, 134.0, 49.0, 63.0, 70.0, 32.0, 14.0, 111.0, 38.0, 121.0, 90.0, 178.0, 20.0, 61.0, 43.0, 39.0, 60.0, 63.0, 8.0, 52.0, 92.0, 111.0, 71.0, 25.0, 34.0, 74.0, 120.0, 50.0, 10.0, 45.0, 29.0, 145.0, 100.0, 24.0, 60.0, 50.0, 43.0, 79.0, 44.0, 31.0, 14.0, 19.0, 111.0, 90.0, 21.0, 104.0, 75.0, 175.0, 98.0, 41.0, 171.0, 79.0, 24.0, 90.0, 39.0, 9.0, 15.0, 80.0, 63.0, 20.0, 43.0, 65.0, 91.0, 53.0, 110.0, 82.0, 23.0, 172.0, 88.0, 71.0, 180.0, 39.0, 94.0, 25.0, 10.0, 42.0, 142.0, 34.0, 139.0, 154.0, 40.0, 33.0, 80.0, 10.0, 41.0, 30.0, 78.0, 164.0, 23.0, 149.0, 25.0, 42.0, 71.0, 114.0, 70.0, 149.0, 55.0, 29.0, 123.0, 152.0, 8.0, 69.0, 161.0, 79.0, 105.0, 39.0, 163.0, 9.0, 71.0, 51.0, 32.0, 161.0, 60.0, 35.0, 41.0, 73.0, 49.0, 79.0, 120.0, 60.0, 78.0, 40.0, 110.0, 160.0, 68.0, 49.0, 65.0, 55.0, 62.0, 152.0, 42.0, 39.0, 111.0, 82.0, 108.0, 59.0, 61.0, 78.0, 18.0, 113.0, 62.0, 81.0, 13.0, 75.0, 33.0, 179.0, 69.0, 45.0, 59.0, 81.0, 133.0, 81.0, 14.0, 28.0, 93.0, 186.5, 155.0, 155.0, 68.0, 52.0, 51.0, 44.0, 121.0, 49.0, 42.0, 144.0, 72.0, 44.0, 43.0, 74.0, 145.0, 158.0, 78.0, 154.0, 105.0, 100.0, 58.0, 113.0, 10.0, 142.0, 128.0, 131.0, 88.0, 101.0, 70.0, 122.0, 70.0, 148.0, 43.0, 31.0, 35.0, 81.0, 19.0, 98.0, 101.0, 81.0, 135.0, 34.0, 104.0, 29.0, 119.0, 82.0, 62.0, 85.0, 8.0, 78.0, 44.0, 122.0, 22.0, 39.0, 55.0, 144.0, 71.0, 186.5, 22.0, 158.0, 131.0, 75.0, 69.0, 39.0, 34.0, 32.0, 129.0, 158.0, 54.0, 34.0, 45.0, 68.0, 53.0, 32.0, 173.0, 31.0, 72.0, 30.0, 138.0, 18.0, 69.0, 58.0, 63.0, 43.0, 28.0, 38.0, 72.0, 64.0, 70.0, 12.0, 159.0, 103.0, 42.0, 48.0, 49.0, 89.0, 22.0, 10.0, 38.0, 49.0, 30.0, 82.0, 82.0, 24.0, 32.0, 34.0, 186.5, 61.0, 22.0, 40.0, 50.0, 35.0, 64.0, 49.0, 44.0, 65.0, 13.0, 84.0, 28.0, 108.0, 59.0, 163.0, 183.0, 69.0, 115.0, 130.0, 185.0, 118.0, 163.0, 140.0, 91.0, 61.0, 168.0, 69.0, 22.0, 53.0, 25.0, 115.0, 31.0, 83.0, 152.0, 30.0, 34.0, 44.0, 182.0, 44.0, 122.0, 35.0, 91.0, 30.0, 53.0, 28.0, 85.0, 28.0, 41.0, 154.0, 41.0, 33.0, 182.0, 59.0, 129.0, 35.0, 185.0, 45.0, 62.0, 183.0, 14.0, 53.0, 48.0, 128.0, 105.0, 40.0, 10.0, 102.0, 31.0, 30.0, 21.0, 44.0, 48.0, 21.0, 84.0, 64.0, 82.0, 39.0, 45.0, 133.0, 152.0, 12.0, 32.0, 74.0, 54.0, 181.0, 75.0, 95.0, 186.5, 90.0, 20.0, 64.0, 85.0, 105.0, 21.0, 78.0, 158.0, 125.0, 81.0, 183.0, 54.0, 79.0, 38.0, 172.0, 184.0, 158.0, 186.5, 20.0, 60.0, 113.0, 70.0, 84.0, 23.0, 141.0, 110.0, 31.0, 22.0, 91.0, 82.0, 23.0, 35.0, 114.0, 18.0, 80.0, 74.0, 122.0, 73.0, 40.0, 55.0, 69.0, 92.0, 48.0, 113.0, 58.0, 109.0, 39.0, 33.0, 18.0, 63.0, 43.0, 70.0, 19.0, 39.0, 81.0, 34.0, 140.0, 114.0, 55.0, 21.0, 50.0, 41.0, 186.5, 8.0, 55.0, 40.0, 22.0, 44.0, 102.0, 54.0, 130.0, 75.0, 42.0, 133.0, 40.0, 34.0, 142.0, 64.0, 44.0, 95.0, 49.0, 12.0, 98.0, 42.0, 44.0, 124.0, 175.0, 22.0, 78.0, 54.0, 154.0, 42.0, 186.5, 80.0, 81.0, 89.0, 61.0, 25.0, 43.0, 122.0, 160.0, 83.0, 79.0, 30.0, 145.0, 151.0, 14.0, 19.0, 55.0, 132.0, 182.0, 78.0, 42.0, 44.0, 186.5, 53.0, 65.0, 43.0, 38.0, 50.0, 81.0, 41.0, 73.0, 31.0, 84.0, 95.0, 162.0, 60.0, 121.0, 43.0, 38.0, 82.0, 52.0, 43.0, 82.0, 161.0, 24.0, 102.0, 53.0, 85.0, 111.0, 90.0, 94.0, 63.0, 153.0, 39.0, 186.5, 142.0, 163.0, 113.0, 64.0, 20.0, 179.0, 91.0, 103.0, 80.0, 38.0, 44.0, 164.0, 81.0, 95.0, 44.0, 88.0, 148.0, 169.0, 11.0, 92.0, 74.0, 72.0, 63.0, 172.0, 183.0, 40.0, 68.0, 78.0, 68.0, 49.0, 39.0, 151.0, 159.0, 89.0, 105.0, 78.0, 128.0, 81.0, 50.0, 38.0, 119.0, 110.0, 29.0, 19.0, 130.0, 38.0, 31.0, 14.0, 158.0, 39.0, 141.0, 33.0, 92.0, 78.0, 42.0, 15.0, 48.0, 63.0, 149.0, 49.0, 125.0, 58.0, 48.0, 75.0, 114.0, 134.0, 111.0, 62.0, 45.0, 113.0, 128.0, 168.0, 81.0, 75.0, 21.0, 83.0, 121.0, 40.0, 101.0, 90.0, 68.0, 74.0, 74.0, 51.0, 149.0, 31.0, 85.0, 62.0, 44.0, 63.0, 23.0, 40.0, 78.0, 40.0, 78.0, 129.0, 71.0, 23.0, 15.0, 28.0, 23.0, 19.0, 42.0, 113.0, 34.0, 19.0, 43.0, 179.0, 44.0, 21.0, 115.0, 81.0, 91.0, 30.0, 55.0, 48.0, 23.0, 21.0, 55.0, 21.0, 40.0, 30.0, 78.0, 65.0, 50.0, 55.0, 111.0, 21.0, 65.0, 114.0, 54.0, 75.0, 13.0, 54.0, 22.0, 186.5, 18.0, 74.0, 61.0, 64.0, 10.0, 82.0, 61.0, 83.0, 73.0, 22.0, 91.0, 65.0, 13.0, 103.0, 95.0, 31.0, 131.0, 175.0, 38.0, 104.0, 114.0, 38.0, 30.0, 19.0, 25.0, 124.0, 20.0, 83.0, 18.0, 99.0, 62.0, 24.0, 13.0, 64.0, 62.0, 158.0, 88.0, 28.0, 52.0, 82.0, 140.0, 80.0, 58.0, 180.0, 55.0, 65.0, 62.0, 23.0, 35.0, 35.0, 74.0, 14.0, 83.0, 71.0, 53.0, 103.0, 109.0, 60.0, 12.0, 141.0, 128.0, 98.0, 41.0, 90.0, 31.0, 74.0, 83.0, 35.0, 140.0, 65.0, 35.0, 73.0, 29.0, 55.0, 20.0, 70.0, 81.0, 25.0, 119.0, 49.0, 38.0, 80.0, 84.0, 61.0, 173.0, 60.0, 83.0, 59.0, 32.0, 33.0, 19.0, 14.0, 94.0, 154.0, 33.0, 28.0, 44.0, 81.0, 29.0, 58.0, 38.0, 82.0, 18.0, 45.0, 64.0, 48.0, 24.0, 65.0, 111.0, 114.0, 39.0, 19.0, 22.0, 49.0, 40.0, 63.0, 55.0, 33.0, 31.0, 24.0, 81.0, 81.0, 113.0, 92.0, 81.0, 101.0, 78.0, 78.0, 35.0, 9.0, 82.0, 41.0, 84.0, 42.0, 54.0, 84.0, 131.0, 85.0, 84.0, 114.0, 61.0, 39.0, 21.0, 111.0, 68.0, 179.0, 93.0, 85.0, 180.0, 110.0, 65.0, 159.0, 81.0, 132.0, 44.0, 98.0, 62.0, 91.0, 29.0, 101.0, 65.0, 58.0, 32.0, 140.0, 44.0, 113.0, 38.0, 13.0, 62.0, 29.0, 141.0, 132.0, 23.0, 11.0, 90.0, 43.0, 59.0, 28.0, 28.0, 108.0, 78.0, 65.0, 25.0, 108.0, 43.0, 95.0, 24.0, 186.5, 24.0, 41.0, 80.0, 63.0, 79.0, 105.0, 153.0, 114.0, 120.0, 104.0, 20.0, 41.0, 35.0, 174.0, 164.0, 22.0, 132.0, 32.0, 21.0, 49.0, 79.0, 30.0, 118.0, 11.0, 61.0, 43.0, 141.0, 54.0, 33.0, 84.0, 125.0, 110.0, 14.0, 65.0, 78.0, 18.0, 95.0, 95.0, 186.5, 19.0, 19.0, 39.0, 93.0, 115.0, 112.0, 40.0, 45.0, 133.0, 85.0, 18.0, 54.0, 41.0, 21.0, 152.0, 53.0, 163.0, 84.0, 59.0, 33.0, 81.0, 182.0, 61.0, 88.0, 170.0, 83.0, 44.0, 83.0, 21.0, 143.0, 103.0, 135.0, 162.0, 73.0, 142.0, 25.0, 115.0, 88.0, 73.0, 94.0, 58.0, 81.0, 113.0, 35.0, 65.0, 170.0, 62.0, 54.0, 39.0, 28.0, 95.0, 82.0, 21.0, 50.0, 34.0, 19.0, 71.0, 113.0, 9.0, 118.0, 79.0, 72.0, 18.0, 93.0, 62.0, 23.0, 40.0, 34.0, 114.0, 125.0, 41.0, 38.0, 45.0, 12.0, 115.0, 175.0, 24.0, 28.0, 32.0, 63.0, 32.0, 60.0, 53.0, 58.0, 42.0, 39.0, 72.0, 80.0, 39.0, 18.0, 30.0, 54.0, 128.0, 38.0, 120.0, 25.0, 85.0, 135.0, 14.0, 70.0, 23.0, 31.0, 132.0, 28.0, 125.0, 91.0, 186.5, 88.0, 84.0, 64.0, 28.0, 149.0, 172.0, 42.0, 53.0, 149.0, 113.0, 79.0, 175.0, 38.0, 120.0, 52.0, 42.0, 13.0, 141.0, 131.0, 133.0, 64.0, 49.0, 34.0, 91.0, 186.5, 53.0, 39.0, 20.0, 104.0, 51.0, 154.0, 38.0, 12.0, 28.0, 33.0, 31.0, 44.0, 49.0, 134.0, 182.0, 114.0, 90.0, 105.0, 58.0, 53.0, 15.0, 103.0, 58.0, 83.0, 125.0, 61.0, 69.0, 89.0, 70.0, 39.0, 41.0, 148.0, 38.0, 95.0, 129.0, 84.0, 29.0, 30.0, 90.0, 150.0, 15.0, 13.0, 9.0, 24.0, 41.0, 25.0, 49.0, 58.0, 141.0, 50.0, 61.0, 65.0, 112.0, 19.0, 23.0, 60.0, 30.0, 144.0, 118.0, 186.5, 109.0, 174.0, 34.0, 84.0, 41.0, 92.0, 19.0, 55.0, 22.0, 155.0, 72.0, 81.0, 30.0, 54.0, 60.0, 68.0, 65.0, 31.0, 169.0, 139.0, 29.0, 43.0, 80.0, 43.0, 186.5, 24.0, 32.0, 153.0, 30.0, 165.0, 64.0, 15.0, 70.0, 32.0, 128.0, 84.0, 62.0, 33.0, 65.0, 33.0, 15.0, 45.0, 132.0, 29.0, 65.0, 52.0, 64.0, 73.0, 20.0, 44.0, 79.0, 104.0, 88.0, 51.0, 61.0, 23.0, 38.0, 75.0, 42.0, 45.0, 59.0, 130.0, 9.0, 62.0, 186.5, 162.0, 93.0, 145.0, 99.0, 148.0, 154.0, 149.0, 69.0, 30.0, 48.0, 42.0, 132.0, 81.0, 60.0, 45.0, 70.0, 71.0, 28.0, 83.0, 131.0, 82.0, 79.0, 51.0, 111.0, 93.0, 73.0, 24.0, 64.0, 104.0, 38.0, 186.5, 53.0, 74.0, 21.0, 80.0, 41.0, 79.0, 141.0, 32.0, 38.0, 85.0, 93.0, 140.0, 69.0, 32.0, 61.0, 125.0, 30.0, 104.0, 24.0, 22.0, 59.0, 120.0, 164.0, 60.0, 43.0, 70.0, 51.0, 59.0, 129.0, 22.0, 29.0, 18.0, 65.0, 65.0, 38.0, 110.0, 22.0, 43.0, 30.0, 134.0, 32.0, 139.0, 45.0, 62.0, 51.0, 93.0, 122.0, 45.0, 179.0, 64.0, 41.0, 58.0, 64.0, 28.0, 21.0, 60.0, 78.0, 59.0, 59.0, 83.0, 128.0, 95.0, 160.0, 78.0, 184.0, 30.0, 51.0, 35.0, 74.0, 43.0, 23.0, 20.0, 112.0, 74.0, 65.0, 124.0, 65.0, 73.0, 8.0, 53.0, 131.0, 13.0, 60.0, 45.0, 39.0, 78.0, 43.0, 31.0, 118.0, 82.0, 112.0, 10.0, 18.0, 72.0, 72.0, 78.0, 78.0, 30.0, 45.0, 80.0, 174.0, 51.0, 181.0, 78.0, 79.0, 119.0, 49.0, 83.0, 100.0, 70.0, 52.0, 12.0, 82.0, 34.0, 112.0, 42.0, 83.0, 142.0, 186.5, 29.0, 70.0, 25.0, 84.0, 81.0, 15.0, 54.0, 108.0, 83.0, 62.0, 134.0, 75.0, 109.0, 152.0, 83.0, 52.0, 31.0, 135.0, 98.0, 14.0, 64.0, 109.0, 118.0, 80.0, 51.0, 115.0, 83.0, 90.0, 28.0, 82.0, 24.0, 71.0, 80.0, 109.0, 140.0, 39.0, 39.0, 50.0, 31.0, 35.0, 44.0, 35.0, 20.0, 10.0, 83.0, 186.5, 84.0, 41.0, 164.0, 152.0, 62.0, 12.0, 28.0, 52.0, 19.0, 35.0, 28.0, 70.0, 140.0, 102.0, 50.0, 61.0, 186.5, 178.0, 44.0, 12.0, 69.0, 132.0, 128.0, 44.0, 44.0, 34.0, 132.0, 158.0, 83.0, 28.0, 131.0, 31.0, 40.0, 71.0, 42.0, 35.0, 81.0, 91.0, 129.0, 75.0, 54.0, 43.0, 94.0, 84.0, 34.0, 15.0, 99.0, 15.0, 83.0, 83.0, 143.0, 81.0, 39.0, 158.0, 62.0, 64.0, 29.0, 64.0, 21.0, 142.0, 64.0, 40.0, 61.0, 44.0, 78.0, 25.0, 125.0, 63.0, 54.0, 92.0, 119.0, 40.0, 41.0, 81.0, 101.0, 25.0, 55.0, 43.0, 98.0, 112.0, 69.0, 79.0, 118.0, 81.0, 19.0, 139.0, 63.0, 102.0, 40.0, 44.0, 59.0, 186.5, 64.0, 129.0, 43.0, 12.0, 53.0, 39.0, 65.0, 18.0, 55.0, 60.0, 42.0, 44.0, 111.0, 62.0, 44.0, 69.0, 62.0, 35.0, 91.0, 12.0, 89.0, 65.0, 179.0, 82.0, 48.0, 20.0, 91.0, 122.0, 22.0, 43.0, 38.0, 61.0, 33.0, 145.0, 170.0, 55.0, 40.0, 68.0, 53.0, 63.0, 123.0, 13.0, 12.0, 53.0, 79.0, 89.0, 186.5, 62.0, 123.0, 40.0, 119.0, 123.0, 23.0, 62.0, 69.0, 124.0, 52.0, 134.0, 58.0, 45.0, 75.0, 23.0, 123.0, 48.0, 145.0, 31.0, 38.0, 78.0, 94.0, 84.0, 22.0, 78.0, 75.0, 71.0, 24.0, 112.0, 53.0, 41.0, 25.0, 42.0, 51.0, 19.0, 90.0, 89.0, 22.0, 119.0, 93.0, 18.0, 32.0, 182.0, 19.0, 85.0, 90.0, 59.0, 84.0, 95.0, 13.0, 88.0, 34.0, 11.0, 80.0, 41.0, 90.0, 93.0, 81.0, 60.0, 39.0, 22.0, 32.0, 28.0, 35.0, 154.0, 186.5, 40.0, 88.0, 124.0, 23.0, 23.0, 139.0, 173.0, 42.0, 161.0, 28.0, 186.5, 42.0, 81.0, 175.0, 82.0, 53.0, 142.0, 42.0, 64.0, 90.0, 44.0, 29.0, 93.0, 69.0, 82.0, 180.0, 13.0, 72.0, 54.0, 104.0, 44.0, 40.0, 186.5, 64.0, 9.0, 38.0, 72.0, 82.0, 48.0, 82.0, 14.0, 162.0, 54.0, 90.0, 64.0, 65.0, 113.0, 38.0, 65.0, 39.0, 174.0, 59.0, 43.0, 24.0, 50.0, 68.0, 61.0, 21.0, 21.0, 31.0, 70.0, 25.0, 78.0, 19.0, 23.0, 40.0, 22.0, 71.0, 58.0, 75.0, 40.0, 155.0, 83.0, 99.0, 59.0, 53.0, 11.0, 179.0, 71.0, 85.0, 49.0, 122.0, 171.0, 138.0, 8.0, 59.0, 49.0, 92.0, 75.0, 60.0, 41.0, 40.0, 81.0, 52.0, 25.0, 139.0, 54.0, 81.0, 73.0, 30.0, 59.0, 21.0, 65.0, 41.0, 52.0, 84.0, 135.0, 18.0, 34.0, 85.0, 23.0, 65.0, 186.5, 40.0, 141.0, 95.0, 23.0, 82.0, 53.0, 10.0, 75.0, 23.0, 133.0, 129.0, 85.0, 168.0, 83.0, 52.0, 114.0, 81.0, 32.0, 63.0, 70.0, 20.0, 138.0, 63.0, 85.0, 180.0, 80.0, 53.0, 72.0, 123.0, 91.0, 148.0, 163.0, 28.0, 186.5, 22.0, 74.0, 70.0, 11.0, 61.0, 41.0, 108.0, 23.0, 135.0, 30.0, 144.0, 139.0, 143.0, 44.0, 49.0, 75.0, 43.0, 59.0, 154.0, 75.0, 75.0, 88.0, 91.0, 11.0, 22.0, 49.0, 140.0, 99.0, 82.0, 10.0, 109.0, 45.0, 93.0, 89.0, 39.0, 21.0, 31.0, 31.0, 52.0, 13.0, 21.0, 50.0, 81.0, 74.0, 89.0, 82.0, 88.0, 61.0, 139.0, 29.0, 51.0, 58.0, 21.0, 43.0, 104.0, 9.0, 39.0, 89.0, 21.0, 173.0, 29.0, 43.0, 30.0, 39.0, 83.0, 58.0, 8.0, 39.0, 186.5, 45.0, 111.0, 83.0, 83.0, 115.0, 60.0, 53.0, 134.0, 91.0, 91.0, 128.0, 78.0, 161.0, 60.0, 161.0, 40.0, 68.0, 74.0, 55.0, 145.0, 24.0, 10.0, 138.0, 63.0, 54.0, 62.0, 81.0, 61.0, 68.0, 78.0, 165.0, 48.0, 155.0, 158.0, 52.0, 18.0, 42.0, 18.0, 40.0, 44.0, 11.0, 186.5, 108.0, 12.0, 19.0, 150.0, 89.0, 83.0, 79.0, 102.0, 155.0, 138.0, 51.0, 80.0, 135.0, 34.0, 186.5, 62.0, 173.0, 149.0, 20.0, 42.0, 28.0, 95.0, 95.0, 34.0, 186.5, 41.0, 150.0, 91.0, 84.0, 73.0, 122.0, 73.0, 20.0, 130.0, 85.0, 134.0, 98.0, 54.0, 41.0, 128.0, 132.0, 186.5, 170.0, 14.0, 93.0, 79.0, 79.0, 62.0, 95.0, 60.0, 75.0, 85.0, 143.0, 34.0, 44.0, 31.0, 13.0, 52.0, 42.0, 102.0, 143.0, 10.0, 44.0, 158.0, 12.0, 59.0, 92.0, 82.0, 44.0, 182.0, 121.0, 38.0, 92.0, 53.0, 45.0, 63.0, 181.0, 184.0, 33.0, 22.0, 99.0, 44.0, 101.0, 32.0, 59.0, 25.0, 140.0, 29.0, 35.0, 141.0, 75.0, 58.0, 41.0, 42.0, 55.0, 18.0, 75.0, 85.0, 43.0, 149.0, 25.0, 19.0, 18.0, 13.0, 41.0, 139.0, 62.0, 51.0, 71.0, 145.0, 45.0, 53.0, 64.0, 39.0, 38.0, 85.0, 61.0, 23.0, 122.0, 72.0, 123.0, 40.0, 62.0, 113.0, 81.0, 59.0, 25.0, 25.0, 14.0, 19.0, 61.0, 21.0, 44.0, 42.0, 52.0, 112.0, 34.0, 83.0, 24.0, 71.0, 181.0, 75.0, 153.0, 75.0, 19.0, 31.0, 178.0, 65.0, 8.0, 92.0, 145.0, 85.0, 149.0, 9.0, 164.0, 40.0, 54.0, 164.0, 140.0, 18.0, 12.0, 140.0, 24.0, 60.0, 50.0, 44.0, 51.0, 34.0, 33.0, 63.0, 22.0, 104.0, 75.0, 75.0, 62.0, 48.0, 73.0, 135.0, 61.0, 78.0, 40.0, 44.0, 45.0, 18.0, 53.0, 11.0, 38.0, 28.0, 35.0, 81.0, 90.0, 115.0, 78.0, 30.0, 39.0, 69.0, 29.0, 54.0, 60.0, 99.0, 51.0, 53.0, 111.0, 79.0, 90.0, 18.0, 73.0, 59.0, 40.0, 41.0, 53.0, 128.0, 145.0, 35.0, 28.0, 155.0, 186.5, 50.0, 48.0, 81.0, 50.0, 21.0, 142.0, 64.0, 91.0, 74.0, 182.0, 82.0, 45.0, 85.0, 133.0, 22.0, 24.0, 38.0, 80.0, 33.0, 41.0, 90.0, 89.0, 8.0, 85.0, 53.0, 20.0, 9.0, 25.0, 114.0, 41.0, 49.0, 12.0, 50.0, 30.0, 32.0, 41.0, 25.0, 29.0, 50.0, 79.0, 110.0, 40.0, 18.0, 48.0, 40.0, 19.0, 35.0, 133.0, 19.0, 83.0, 39.0, 38.0, 63.0, 85.0, 14.0, 64.0, 124.0, 20.0, 33.0, 80.0, 35.0, 74.0, 32.0, 73.0, 41.0, 18.0, 28.0, 64.0, 44.0, 109.0, 71.0, 79.0, 30.0, 82.0, 101.0, 13.0, 59.0, 64.0, 186.5, 28.0, 120.0, 131.0, 19.0, 44.0, 49.0, 99.0, 95.0, 81.0, 73.0, 186.5, 115.0, 41.0, 80.0, 90.0, 41.0, 102.0, 59.0, 69.0, 83.0, 49.0, 180.0, 61.0, 59.0, 85.0, 13.0, 151.0, 44.0, 53.0, 133.0, 31.0, 101.0, 61.0, 68.0, 21.0, 149.0, 75.0, 55.0, 81.0, 179.0, 81.0, 42.0, 186.5, 18.0, 28.0, 80.0, 79.0, 52.0, 18.0, 52.0, 15.0, 84.0, 114.0, 41.0, 29.0, 23.0, 84.0, 60.0, 13.0, 45.0, 83.0, 102.0, 58.0, 134.0, 130.0, 148.0, 92.0, 142.0, 62.0, 50.0, 29.0, 85.0, 78.0, 85.0, 89.0, 33.0, 42.0, 31.0, 143.0, 35.0, 22.0, 45.0, 119.0, 43.0, 75.0, 121.0, 63.0, 58.0, 184.0, 155.0, 69.0, 186.5, 38.0, 9.0, 69.0, 186.5, 38.0, 129.0, 59.0, 115.0, 83.0, 65.0, 72.0, 72.0, 63.0, 64.0, 186.5, 104.0, 180.0, 18.0, 93.0, 32.0, 68.0, 38.0, 115.0, 161.0, 154.0, 68.0, 44.0, 149.0, 103.0, 41.0, 113.0, 48.0, 69.0, 43.0, 19.0, 65.0, 32.0, 20.0, 25.0, 70.0, 70.0, 103.0, 162.0, 61.0, 170.0, 49.0, 108.0, 62.0, 102.0, 141.0, 8.0, 91.0, 10.0, 35.0, 71.0, 59.0, 14.0, 122.0, 81.0, 35.0, 83.0, 121.0, 35.0, 140.0, 88.0, 70.0, 63.0, 125.0, 21.0, 75.0, 38.0, 58.0, 31.0, 18.0, 29.0, 29.0, 69.0, 121.0, 64.0, 84.0, 65.0, 85.0, 44.0, 174.0, 178.0, 55.0, 25.0, 21.0, 72.0, 129.0, 18.0, 91.0, 38.0, 21.0, 38.0, 154.0, 178.0, 85.0, 93.0, 151.0, 78.0, 135.0, 40.0, 80.0, 18.0, 74.0, 94.0, 173.0, 88.0, 82.0, 54.0, 45.0, 39.0, 20.0, 93.0, 85.0, 95.0, 48.0, 22.0, 33.0, 40.0, 30.0, 22.0, 20.0, 49.0, 25.0, 150.0, 32.0, 9.0, 23.0, 18.0, 42.0, 39.0, 84.0, 101.0, 43.0, 28.0, 59.0, 29.0, 39.0, 42.0, 24.0, 62.0, 33.0, 73.0, 88.0, 58.0, 48.0, 40.0, 160.0, 39.0, 53.0, 32.0, 32.0, 11.0, 123.0, 184.0, 60.0, 41.0, 99.0, 83.0, 134.0, 85.0, 41.0, 44.0, 62.0, 149.0, 115.0, 25.0, 84.0, 81.0, 181.0, 62.0, 11.0, 60.0, 42.0, 83.0, 109.0, 70.0, 25.0, 72.0, 183.0, 44.0, 52.0, 18.0, 40.0, 174.0, 41.0, 81.0, 128.0, 135.0, 65.0, 145.0, 65.0, 119.0, 124.0, 33.0, 41.0, 105.0, 130.0, 80.0, 115.0, 62.0, 165.0, 34.0, 18.0, 44.0, 25.0, 52.0, 133.0, 71.0, 61.0, 62.0, 33.0, 28.0, 53.0, 69.0, 165.0, 75.0, 54.0, 142.0, 53.0, 41.0, 43.0, 79.0, 24.0, 73.0, 129.0, 50.0, 28.0, 64.0, 49.0, 121.0, 58.0, 51.0, 61.0, 35.0, 39.0, 74.0, 186.5, 81.0, 44.0, 19.0, 85.0, 74.0, 54.0, 58.0, 18.0, 88.0, 19.0, 49.0, 101.0, 138.0, 25.0, 120.0, 153.0, 28.0, 110.0, 94.0, 48.0, 123.0, 33.0, 42.0, 68.0, 28.0, 42.0, 28.0, 73.0, 89.0, 82.0, 83.0, 121.0, 28.0, 39.0, 110.0, 55.0, 111.0, 94.0, 85.0, 81.0, 94.0, 162.0, 80.0, 70.0, 19.0, 112.0, 109.0, 12.0, 33.0, 49.0, 42.0, 41.0, 43.0, 64.0, 19.0, 65.0, 53.0, 32.0, 22.0, 39.0, 59.0, 50.0, 19.0, 55.0, 81.0, 108.0, 122.0, 98.0, 110.0, 33.0, 34.0, 69.0, 41.0, 60.0, 95.0, 73.0, 41.0, 68.0, 64.0, 29.0, 31.0, 54.0, 63.0, 92.0, 135.0, 186.5, 45.0, 72.0, 98.0, 30.0, 78.0, 43.0, 85.0, 38.0, 58.0, 92.0, 13.0, 186.5, 75.0, 40.0, 15.0, 24.0, 49.0, 83.0], \"y0\": \" \", \"yaxis\": \"y\"}],\n",
              "                        {\"boxmode\": \"group\", \"legend\": {\"tracegroupgap\": 0}, \"margin\": {\"t\": 60}, \"template\": {\"data\": {\"bar\": [{\"error_x\": {\"color\": \"#2a3f5f\"}, \"error_y\": {\"color\": \"#2a3f5f\"}, \"marker\": {\"line\": {\"color\": \"#E5ECF6\", \"width\": 0.5}}, \"type\": \"bar\"}], \"barpolar\": [{\"marker\": {\"line\": {\"color\": \"#E5ECF6\", \"width\": 0.5}}, \"type\": \"barpolar\"}], \"carpet\": [{\"aaxis\": {\"endlinecolor\": \"#2a3f5f\", \"gridcolor\": \"white\", \"linecolor\": \"white\", \"minorgridcolor\": \"white\", \"startlinecolor\": \"#2a3f5f\"}, \"baxis\": {\"endlinecolor\": \"#2a3f5f\", \"gridcolor\": \"white\", \"linecolor\": \"white\", \"minorgridcolor\": \"white\", \"startlinecolor\": \"#2a3f5f\"}, \"type\": \"carpet\"}], \"choropleth\": [{\"colorbar\": {\"outlinewidth\": 0, \"ticks\": \"\"}, \"type\": \"choropleth\"}], \"contour\": [{\"colorbar\": {\"outlinewidth\": 0, \"ticks\": \"\"}, \"colorscale\": [[0.0, \"#0d0887\"], [0.1111111111111111, \"#46039f\"], [0.2222222222222222, \"#7201a8\"], [0.3333333333333333, \"#9c179e\"], [0.4444444444444444, \"#bd3786\"], [0.5555555555555556, \"#d8576b\"], [0.6666666666666666, \"#ed7953\"], [0.7777777777777778, \"#fb9f3a\"], [0.8888888888888888, \"#fdca26\"], [1.0, \"#f0f921\"]], \"type\": \"contour\"}], \"contourcarpet\": [{\"colorbar\": {\"outlinewidth\": 0, \"ticks\": \"\"}, \"type\": \"contourcarpet\"}], \"heatmap\": [{\"colorbar\": {\"outlinewidth\": 0, \"ticks\": \"\"}, \"colorscale\": [[0.0, \"#0d0887\"], [0.1111111111111111, \"#46039f\"], [0.2222222222222222, \"#7201a8\"], [0.3333333333333333, \"#9c179e\"], [0.4444444444444444, \"#bd3786\"], [0.5555555555555556, \"#d8576b\"], [0.6666666666666666, \"#ed7953\"], [0.7777777777777778, \"#fb9f3a\"], [0.8888888888888888, \"#fdca26\"], [1.0, \"#f0f921\"]], \"type\": \"heatmap\"}], \"heatmapgl\": [{\"colorbar\": {\"outlinewidth\": 0, \"ticks\": \"\"}, \"colorscale\": [[0.0, \"#0d0887\"], [0.1111111111111111, \"#46039f\"], [0.2222222222222222, \"#7201a8\"], [0.3333333333333333, \"#9c179e\"], [0.4444444444444444, \"#bd3786\"], [0.5555555555555556, \"#d8576b\"], [0.6666666666666666, \"#ed7953\"], [0.7777777777777778, \"#fb9f3a\"], [0.8888888888888888, \"#fdca26\"], [1.0, \"#f0f921\"]], \"type\": \"heatmapgl\"}], \"histogram\": [{\"marker\": {\"colorbar\": {\"outlinewidth\": 0, \"ticks\": \"\"}}, \"type\": \"histogram\"}], \"histogram2d\": [{\"colorbar\": {\"outlinewidth\": 0, \"ticks\": \"\"}, \"colorscale\": [[0.0, \"#0d0887\"], [0.1111111111111111, \"#46039f\"], [0.2222222222222222, \"#7201a8\"], [0.3333333333333333, \"#9c179e\"], [0.4444444444444444, \"#bd3786\"], [0.5555555555555556, \"#d8576b\"], [0.6666666666666666, \"#ed7953\"], [0.7777777777777778, \"#fb9f3a\"], [0.8888888888888888, \"#fdca26\"], [1.0, \"#f0f921\"]], \"type\": \"histogram2d\"}], \"histogram2dcontour\": [{\"colorbar\": {\"outlinewidth\": 0, \"ticks\": \"\"}, \"colorscale\": [[0.0, \"#0d0887\"], [0.1111111111111111, \"#46039f\"], [0.2222222222222222, \"#7201a8\"], [0.3333333333333333, \"#9c179e\"], [0.4444444444444444, \"#bd3786\"], [0.5555555555555556, \"#d8576b\"], [0.6666666666666666, \"#ed7953\"], [0.7777777777777778, \"#fb9f3a\"], [0.8888888888888888, \"#fdca26\"], [1.0, \"#f0f921\"]], \"type\": \"histogram2dcontour\"}], \"mesh3d\": [{\"colorbar\": {\"outlinewidth\": 0, \"ticks\": \"\"}, \"type\": \"mesh3d\"}], \"parcoords\": [{\"line\": {\"colorbar\": {\"outlinewidth\": 0, \"ticks\": \"\"}}, \"type\": \"parcoords\"}], \"pie\": [{\"automargin\": true, \"type\": \"pie\"}], \"scatter\": [{\"marker\": {\"colorbar\": {\"outlinewidth\": 0, \"ticks\": \"\"}}, \"type\": \"scatter\"}], \"scatter3d\": [{\"line\": {\"colorbar\": {\"outlinewidth\": 0, \"ticks\": \"\"}}, \"marker\": {\"colorbar\": {\"outlinewidth\": 0, \"ticks\": \"\"}}, \"type\": \"scatter3d\"}], \"scattercarpet\": [{\"marker\": {\"colorbar\": {\"outlinewidth\": 0, \"ticks\": \"\"}}, \"type\": \"scattercarpet\"}], \"scattergeo\": [{\"marker\": {\"colorbar\": {\"outlinewidth\": 0, \"ticks\": \"\"}}, \"type\": \"scattergeo\"}], \"scattergl\": [{\"marker\": {\"colorbar\": {\"outlinewidth\": 0, \"ticks\": \"\"}}, \"type\": \"scattergl\"}], \"scattermapbox\": [{\"marker\": {\"colorbar\": {\"outlinewidth\": 0, \"ticks\": \"\"}}, \"type\": \"scattermapbox\"}], \"scatterpolar\": [{\"marker\": {\"colorbar\": {\"outlinewidth\": 0, \"ticks\": \"\"}}, \"type\": \"scatterpolar\"}], \"scatterpolargl\": [{\"marker\": {\"colorbar\": {\"outlinewidth\": 0, \"ticks\": \"\"}}, \"type\": \"scatterpolargl\"}], \"scatterternary\": [{\"marker\": {\"colorbar\": {\"outlinewidth\": 0, \"ticks\": \"\"}}, \"type\": \"scatterternary\"}], \"surface\": [{\"colorbar\": {\"outlinewidth\": 0, \"ticks\": \"\"}, \"colorscale\": [[0.0, \"#0d0887\"], [0.1111111111111111, \"#46039f\"], [0.2222222222222222, \"#7201a8\"], [0.3333333333333333, \"#9c179e\"], [0.4444444444444444, \"#bd3786\"], [0.5555555555555556, \"#d8576b\"], [0.6666666666666666, \"#ed7953\"], [0.7777777777777778, \"#fb9f3a\"], [0.8888888888888888, \"#fdca26\"], [1.0, \"#f0f921\"]], \"type\": \"surface\"}], \"table\": [{\"cells\": {\"fill\": {\"color\": \"#EBF0F8\"}, \"line\": {\"color\": \"white\"}}, \"header\": {\"fill\": {\"color\": \"#C8D4E3\"}, \"line\": {\"color\": \"white\"}}, \"type\": \"table\"}]}, \"layout\": {\"annotationdefaults\": {\"arrowcolor\": \"#2a3f5f\", \"arrowhead\": 0, \"arrowwidth\": 1}, \"coloraxis\": {\"colorbar\": {\"outlinewidth\": 0, \"ticks\": \"\"}}, \"colorscale\": {\"diverging\": [[0, \"#8e0152\"], [0.1, \"#c51b7d\"], [0.2, \"#de77ae\"], [0.3, \"#f1b6da\"], [0.4, \"#fde0ef\"], [0.5, \"#f7f7f7\"], [0.6, \"#e6f5d0\"], [0.7, \"#b8e186\"], [0.8, \"#7fbc41\"], [0.9, \"#4d9221\"], [1, \"#276419\"]], \"sequential\": [[0.0, \"#0d0887\"], [0.1111111111111111, \"#46039f\"], [0.2222222222222222, \"#7201a8\"], [0.3333333333333333, \"#9c179e\"], [0.4444444444444444, \"#bd3786\"], [0.5555555555555556, \"#d8576b\"], [0.6666666666666666, \"#ed7953\"], [0.7777777777777778, \"#fb9f3a\"], [0.8888888888888888, \"#fdca26\"], [1.0, \"#f0f921\"]], \"sequentialminus\": [[0.0, \"#0d0887\"], [0.1111111111111111, \"#46039f\"], [0.2222222222222222, \"#7201a8\"], [0.3333333333333333, \"#9c179e\"], [0.4444444444444444, \"#bd3786\"], [0.5555555555555556, \"#d8576b\"], [0.6666666666666666, \"#ed7953\"], [0.7777777777777778, \"#fb9f3a\"], [0.8888888888888888, \"#fdca26\"], [1.0, \"#f0f921\"]]}, \"colorway\": [\"#636efa\", \"#EF553B\", \"#00cc96\", \"#ab63fa\", \"#FFA15A\", \"#19d3f3\", \"#FF6692\", \"#B6E880\", \"#FF97FF\", \"#FECB52\"], \"font\": {\"color\": \"#2a3f5f\"}, \"geo\": {\"bgcolor\": \"white\", \"lakecolor\": \"white\", \"landcolor\": \"#E5ECF6\", \"showlakes\": true, \"showland\": true, \"subunitcolor\": \"white\"}, \"hoverlabel\": {\"align\": \"left\"}, \"hovermode\": \"closest\", \"mapbox\": {\"style\": \"light\"}, \"paper_bgcolor\": \"white\", \"plot_bgcolor\": \"#E5ECF6\", \"polar\": {\"angularaxis\": {\"gridcolor\": \"white\", \"linecolor\": \"white\", \"ticks\": \"\"}, \"bgcolor\": \"#E5ECF6\", \"radialaxis\": {\"gridcolor\": \"white\", \"linecolor\": \"white\", \"ticks\": \"\"}}, \"scene\": {\"xaxis\": {\"backgroundcolor\": \"#E5ECF6\", \"gridcolor\": \"white\", \"gridwidth\": 2, \"linecolor\": \"white\", \"showbackground\": true, \"ticks\": \"\", \"zerolinecolor\": \"white\"}, \"yaxis\": {\"backgroundcolor\": \"#E5ECF6\", \"gridcolor\": \"white\", \"gridwidth\": 2, \"linecolor\": \"white\", \"showbackground\": true, \"ticks\": \"\", \"zerolinecolor\": \"white\"}, \"zaxis\": {\"backgroundcolor\": \"#E5ECF6\", \"gridcolor\": \"white\", \"gridwidth\": 2, \"linecolor\": \"white\", \"showbackground\": true, \"ticks\": \"\", \"zerolinecolor\": \"white\"}}, \"shapedefaults\": {\"line\": {\"color\": \"#2a3f5f\"}}, \"ternary\": {\"aaxis\": {\"gridcolor\": \"white\", \"linecolor\": \"white\", \"ticks\": \"\"}, \"baxis\": {\"gridcolor\": \"white\", \"linecolor\": \"white\", \"ticks\": \"\"}, \"bgcolor\": \"#E5ECF6\", \"caxis\": {\"gridcolor\": \"white\", \"linecolor\": \"white\", \"ticks\": \"\"}}, \"title\": {\"x\": 0.05}, \"xaxis\": {\"automargin\": true, \"gridcolor\": \"white\", \"linecolor\": \"white\", \"ticks\": \"\", \"title\": {\"standoff\": 15}, \"zerolinecolor\": \"white\", \"zerolinewidth\": 2}, \"yaxis\": {\"automargin\": true, \"gridcolor\": \"white\", \"linecolor\": \"white\", \"ticks\": \"\", \"title\": {\"standoff\": 15}, \"zerolinecolor\": \"white\", \"zerolinewidth\": 2}}}, \"xaxis\": {\"anchor\": \"y\", \"domain\": [0.0, 1.0]}, \"yaxis\": {\"anchor\": \"x\", \"domain\": [0.0, 1.0], \"title\": {\"text\": \"Income\"}}},\n",
              "                        {\"responsive\": true}\n",
              "                    ).then(function(){\n",
              "                            \n",
              "var gd = document.getElementById('4c937540-7422-497b-a7d5-1a6f7152a1ae');\n",
              "var x = new MutationObserver(function (mutations, observer) {{\n",
              "        var display = window.getComputedStyle(gd).display;\n",
              "        if (!display || display === 'none') {{\n",
              "            console.log([gd, 'removed!']);\n",
              "            Plotly.purge(gd);\n",
              "            observer.disconnect();\n",
              "        }}\n",
              "}});\n",
              "\n",
              "// Listen for the removal of the full notebook cells\n",
              "var notebookContainer = gd.closest('#notebook-container');\n",
              "if (notebookContainer) {{\n",
              "    x.observe(notebookContainer, {childList: true});\n",
              "}}\n",
              "\n",
              "// Listen for the clearing of the current output cell\n",
              "var outputEl = gd.closest('.output');\n",
              "if (outputEl) {{\n",
              "    x.observe(outputEl, {childList: true});\n",
              "}}\n",
              "\n",
              "                        })\n",
              "                };\n",
              "                \n",
              "            </script>\n",
              "        </div>\n",
              "</body>\n",
              "</html>"
            ]
          },
          "metadata": {}
        }
      ]
    },
    {
      "cell_type": "markdown",
      "source": [
        "# **4. Show correlations between features**\n",
        "- Positive value: positive correlation\n",
        "- Negative value: negative correlation\n",
        "- Zero value: no correlation"
      ],
      "metadata": {
        "id": "uVq1tO3F3Nlv"
      }
    },
    {
      "cell_type": "code",
      "source": [
        "df.corr()"
      ],
      "metadata": {
        "colab": {
          "base_uri": "https://localhost:8080/",
          "height": 559
        },
        "id": "wjpGnzvL01II",
        "outputId": "cd2bd18b-ef51-45db-8050-9d213e7a3799"
      },
      "execution_count": 25,
      "outputs": [
        {
          "output_type": "execute_result",
          "data": {
            "text/html": [
              "\n",
              "  <div id=\"df-1853bd63-249f-418f-bb9e-45877f15fed9\">\n",
              "    <div class=\"colab-df-container\">\n",
              "      <div>\n",
              "<style scoped>\n",
              "    .dataframe tbody tr th:only-of-type {\n",
              "        vertical-align: middle;\n",
              "    }\n",
              "\n",
              "    .dataframe tbody tr th {\n",
              "        vertical-align: top;\n",
              "    }\n",
              "\n",
              "    .dataframe thead th {\n",
              "        text-align: right;\n",
              "    }\n",
              "</style>\n",
              "<table border=\"1\" class=\"dataframe\">\n",
              "  <thead>\n",
              "    <tr style=\"text-align: right;\">\n",
              "      <th></th>\n",
              "      <th>Age</th>\n",
              "      <th>Experience</th>\n",
              "      <th>Income</th>\n",
              "      <th>Family</th>\n",
              "      <th>CCAvg</th>\n",
              "      <th>Education</th>\n",
              "      <th>Mortgage</th>\n",
              "      <th>Personal Loan</th>\n",
              "      <th>Securities Account</th>\n",
              "      <th>CD Account</th>\n",
              "      <th>Online</th>\n",
              "      <th>CreditCard</th>\n",
              "    </tr>\n",
              "  </thead>\n",
              "  <tbody>\n",
              "    <tr>\n",
              "      <th>Age</th>\n",
              "      <td>1.000000</td>\n",
              "      <td>0.993991</td>\n",
              "      <td>-0.054988</td>\n",
              "      <td>-0.046418</td>\n",
              "      <td>-0.052030</td>\n",
              "      <td>0.041334</td>\n",
              "      <td>-0.012539</td>\n",
              "      <td>-0.007726</td>\n",
              "      <td>-0.000436</td>\n",
              "      <td>0.008043</td>\n",
              "      <td>0.013702</td>\n",
              "      <td>0.007681</td>\n",
              "    </tr>\n",
              "    <tr>\n",
              "      <th>Experience</th>\n",
              "      <td>0.993991</td>\n",
              "      <td>1.000000</td>\n",
              "      <td>-0.046571</td>\n",
              "      <td>-0.051851</td>\n",
              "      <td>-0.049750</td>\n",
              "      <td>0.013919</td>\n",
              "      <td>-0.011097</td>\n",
              "      <td>-0.008304</td>\n",
              "      <td>-0.000989</td>\n",
              "      <td>0.009735</td>\n",
              "      <td>0.014051</td>\n",
              "      <td>0.008851</td>\n",
              "    </tr>\n",
              "    <tr>\n",
              "      <th>Income</th>\n",
              "      <td>-0.054988</td>\n",
              "      <td>-0.046571</td>\n",
              "      <td>1.000000</td>\n",
              "      <td>-0.157593</td>\n",
              "      <td>0.644574</td>\n",
              "      <td>-0.187403</td>\n",
              "      <td>0.206709</td>\n",
              "      <td>0.504559</td>\n",
              "      <td>-0.002549</td>\n",
              "      <td>0.170194</td>\n",
              "      <td>0.014099</td>\n",
              "      <td>-0.002474</td>\n",
              "    </tr>\n",
              "    <tr>\n",
              "      <th>Family</th>\n",
              "      <td>-0.046418</td>\n",
              "      <td>-0.051851</td>\n",
              "      <td>-0.157593</td>\n",
              "      <td>1.000000</td>\n",
              "      <td>-0.109285</td>\n",
              "      <td>0.064929</td>\n",
              "      <td>-0.020445</td>\n",
              "      <td>0.061367</td>\n",
              "      <td>0.019994</td>\n",
              "      <td>0.014110</td>\n",
              "      <td>0.010354</td>\n",
              "      <td>0.011588</td>\n",
              "    </tr>\n",
              "    <tr>\n",
              "      <th>CCAvg</th>\n",
              "      <td>-0.052030</td>\n",
              "      <td>-0.049750</td>\n",
              "      <td>0.644574</td>\n",
              "      <td>-0.109285</td>\n",
              "      <td>1.000000</td>\n",
              "      <td>-0.136138</td>\n",
              "      <td>0.109909</td>\n",
              "      <td>0.366891</td>\n",
              "      <td>0.015087</td>\n",
              "      <td>0.136537</td>\n",
              "      <td>-0.003620</td>\n",
              "      <td>-0.006686</td>\n",
              "    </tr>\n",
              "    <tr>\n",
              "      <th>Education</th>\n",
              "      <td>0.041334</td>\n",
              "      <td>0.013919</td>\n",
              "      <td>-0.187403</td>\n",
              "      <td>0.064929</td>\n",
              "      <td>-0.136138</td>\n",
              "      <td>1.000000</td>\n",
              "      <td>-0.033327</td>\n",
              "      <td>0.136722</td>\n",
              "      <td>-0.010812</td>\n",
              "      <td>0.013934</td>\n",
              "      <td>-0.015004</td>\n",
              "      <td>-0.011014</td>\n",
              "    </tr>\n",
              "    <tr>\n",
              "      <th>Mortgage</th>\n",
              "      <td>-0.012539</td>\n",
              "      <td>-0.011097</td>\n",
              "      <td>0.206709</td>\n",
              "      <td>-0.020445</td>\n",
              "      <td>0.109909</td>\n",
              "      <td>-0.033327</td>\n",
              "      <td>1.000000</td>\n",
              "      <td>0.142095</td>\n",
              "      <td>-0.005411</td>\n",
              "      <td>0.089311</td>\n",
              "      <td>-0.005995</td>\n",
              "      <td>-0.007231</td>\n",
              "    </tr>\n",
              "    <tr>\n",
              "      <th>Personal Loan</th>\n",
              "      <td>-0.007726</td>\n",
              "      <td>-0.008304</td>\n",
              "      <td>0.504559</td>\n",
              "      <td>0.061367</td>\n",
              "      <td>0.366891</td>\n",
              "      <td>0.136722</td>\n",
              "      <td>0.142095</td>\n",
              "      <td>1.000000</td>\n",
              "      <td>0.021954</td>\n",
              "      <td>0.316355</td>\n",
              "      <td>0.006278</td>\n",
              "      <td>0.002802</td>\n",
              "    </tr>\n",
              "    <tr>\n",
              "      <th>Securities Account</th>\n",
              "      <td>-0.000436</td>\n",
              "      <td>-0.000989</td>\n",
              "      <td>-0.002549</td>\n",
              "      <td>0.019994</td>\n",
              "      <td>0.015087</td>\n",
              "      <td>-0.010812</td>\n",
              "      <td>-0.005411</td>\n",
              "      <td>0.021954</td>\n",
              "      <td>1.000000</td>\n",
              "      <td>0.317034</td>\n",
              "      <td>0.012627</td>\n",
              "      <td>-0.015028</td>\n",
              "    </tr>\n",
              "    <tr>\n",
              "      <th>CD Account</th>\n",
              "      <td>0.008043</td>\n",
              "      <td>0.009735</td>\n",
              "      <td>0.170194</td>\n",
              "      <td>0.014110</td>\n",
              "      <td>0.136537</td>\n",
              "      <td>0.013934</td>\n",
              "      <td>0.089311</td>\n",
              "      <td>0.316355</td>\n",
              "      <td>0.317034</td>\n",
              "      <td>1.000000</td>\n",
              "      <td>0.175880</td>\n",
              "      <td>0.278644</td>\n",
              "    </tr>\n",
              "    <tr>\n",
              "      <th>Online</th>\n",
              "      <td>0.013702</td>\n",
              "      <td>0.014051</td>\n",
              "      <td>0.014099</td>\n",
              "      <td>0.010354</td>\n",
              "      <td>-0.003620</td>\n",
              "      <td>-0.015004</td>\n",
              "      <td>-0.005995</td>\n",
              "      <td>0.006278</td>\n",
              "      <td>0.012627</td>\n",
              "      <td>0.175880</td>\n",
              "      <td>1.000000</td>\n",
              "      <td>0.004210</td>\n",
              "    </tr>\n",
              "    <tr>\n",
              "      <th>CreditCard</th>\n",
              "      <td>0.007681</td>\n",
              "      <td>0.008851</td>\n",
              "      <td>-0.002474</td>\n",
              "      <td>0.011588</td>\n",
              "      <td>-0.006686</td>\n",
              "      <td>-0.011014</td>\n",
              "      <td>-0.007231</td>\n",
              "      <td>0.002802</td>\n",
              "      <td>-0.015028</td>\n",
              "      <td>0.278644</td>\n",
              "      <td>0.004210</td>\n",
              "      <td>1.000000</td>\n",
              "    </tr>\n",
              "  </tbody>\n",
              "</table>\n",
              "</div>\n",
              "      <button class=\"colab-df-convert\" onclick=\"convertToInteractive('df-1853bd63-249f-418f-bb9e-45877f15fed9')\"\n",
              "              title=\"Convert this dataframe to an interactive table.\"\n",
              "              style=\"display:none;\">\n",
              "        \n",
              "  <svg xmlns=\"http://www.w3.org/2000/svg\" height=\"24px\"viewBox=\"0 0 24 24\"\n",
              "       width=\"24px\">\n",
              "    <path d=\"M0 0h24v24H0V0z\" fill=\"none\"/>\n",
              "    <path d=\"M18.56 5.44l.94 2.06.94-2.06 2.06-.94-2.06-.94-.94-2.06-.94 2.06-2.06.94zm-11 1L8.5 8.5l.94-2.06 2.06-.94-2.06-.94L8.5 2.5l-.94 2.06-2.06.94zm10 10l.94 2.06.94-2.06 2.06-.94-2.06-.94-.94-2.06-.94 2.06-2.06.94z\"/><path d=\"M17.41 7.96l-1.37-1.37c-.4-.4-.92-.59-1.43-.59-.52 0-1.04.2-1.43.59L10.3 9.45l-7.72 7.72c-.78.78-.78 2.05 0 2.83L4 21.41c.39.39.9.59 1.41.59.51 0 1.02-.2 1.41-.59l7.78-7.78 2.81-2.81c.8-.78.8-2.07 0-2.86zM5.41 20L4 18.59l7.72-7.72 1.47 1.35L5.41 20z\"/>\n",
              "  </svg>\n",
              "      </button>\n",
              "      \n",
              "  <style>\n",
              "    .colab-df-container {\n",
              "      display:flex;\n",
              "      flex-wrap:wrap;\n",
              "      gap: 12px;\n",
              "    }\n",
              "\n",
              "    .colab-df-convert {\n",
              "      background-color: #E8F0FE;\n",
              "      border: none;\n",
              "      border-radius: 50%;\n",
              "      cursor: pointer;\n",
              "      display: none;\n",
              "      fill: #1967D2;\n",
              "      height: 32px;\n",
              "      padding: 0 0 0 0;\n",
              "      width: 32px;\n",
              "    }\n",
              "\n",
              "    .colab-df-convert:hover {\n",
              "      background-color: #E2EBFA;\n",
              "      box-shadow: 0px 1px 2px rgba(60, 64, 67, 0.3), 0px 1px 3px 1px rgba(60, 64, 67, 0.15);\n",
              "      fill: #174EA6;\n",
              "    }\n",
              "\n",
              "    [theme=dark] .colab-df-convert {\n",
              "      background-color: #3B4455;\n",
              "      fill: #D2E3FC;\n",
              "    }\n",
              "\n",
              "    [theme=dark] .colab-df-convert:hover {\n",
              "      background-color: #434B5C;\n",
              "      box-shadow: 0px 1px 3px 1px rgba(0, 0, 0, 0.15);\n",
              "      filter: drop-shadow(0px 1px 2px rgba(0, 0, 0, 0.3));\n",
              "      fill: #FFFFFF;\n",
              "    }\n",
              "  </style>\n",
              "\n",
              "      <script>\n",
              "        const buttonEl =\n",
              "          document.querySelector('#df-1853bd63-249f-418f-bb9e-45877f15fed9 button.colab-df-convert');\n",
              "        buttonEl.style.display =\n",
              "          google.colab.kernel.accessAllowed ? 'block' : 'none';\n",
              "\n",
              "        async function convertToInteractive(key) {\n",
              "          const element = document.querySelector('#df-1853bd63-249f-418f-bb9e-45877f15fed9');\n",
              "          const dataTable =\n",
              "            await google.colab.kernel.invokeFunction('convertToInteractive',\n",
              "                                                     [key], {});\n",
              "          if (!dataTable) return;\n",
              "\n",
              "          const docLinkHtml = 'Like what you see? Visit the ' +\n",
              "            '<a target=\"_blank\" href=https://colab.research.google.com/notebooks/data_table.ipynb>data table notebook</a>'\n",
              "            + ' to learn more about interactive tables.';\n",
              "          element.innerHTML = '';\n",
              "          dataTable['output_type'] = 'display_data';\n",
              "          await google.colab.output.renderOutput(dataTable, element);\n",
              "          const docLink = document.createElement('div');\n",
              "          docLink.innerHTML = docLinkHtml;\n",
              "          element.appendChild(docLink);\n",
              "        }\n",
              "      </script>\n",
              "    </div>\n",
              "  </div>\n",
              "  "
            ],
            "text/plain": [
              "                         Age  Experience  ...    Online  CreditCard\n",
              "Age                 1.000000    0.993991  ...  0.013702    0.007681\n",
              "Experience          0.993991    1.000000  ...  0.014051    0.008851\n",
              "Income             -0.054988   -0.046571  ...  0.014099   -0.002474\n",
              "Family             -0.046418   -0.051851  ...  0.010354    0.011588\n",
              "CCAvg              -0.052030   -0.049750  ... -0.003620   -0.006686\n",
              "Education           0.041334    0.013919  ... -0.015004   -0.011014\n",
              "Mortgage           -0.012539   -0.011097  ... -0.005995   -0.007231\n",
              "Personal Loan      -0.007726   -0.008304  ...  0.006278    0.002802\n",
              "Securities Account -0.000436   -0.000989  ...  0.012627   -0.015028\n",
              "CD Account          0.008043    0.009735  ...  0.175880    0.278644\n",
              "Online              0.013702    0.014051  ...  1.000000    0.004210\n",
              "CreditCard          0.007681    0.008851  ...  0.004210    1.000000\n",
              "\n",
              "[12 rows x 12 columns]"
            ]
          },
          "metadata": {},
          "execution_count": 25
        }
      ]
    },
    {
      "cell_type": "code",
      "source": [
        "plt.figure(figsize=(10,6))\n",
        "sns.heatmap(df.corr(), annot=True)"
      ],
      "metadata": {
        "colab": {
          "base_uri": "https://localhost:8080/",
          "height": 478
        },
        "id": "VaZhZw571exD",
        "outputId": "12b6f9d2-4d01-4f18-9d02-9a9fe28d9461"
      },
      "execution_count": 26,
      "outputs": [
        {
          "output_type": "execute_result",
          "data": {
            "text/plain": [
              "<matplotlib.axes._subplots.AxesSubplot at 0x7f5d9298cbd0>"
            ]
          },
          "metadata": {},
          "execution_count": 26
        },
        {
          "output_type": "display_data",
          "data": {
            "image/png": "[encoded data removed]",
            "text/plain": [
              "<Figure size 720x432 with 2 Axes>"
            ]
          },
          "metadata": {
            "needs_background": "light"
          }
        }
      ]
    },
    {
      "cell_type": "markdown",
      "source": [
        "The insight from above heatmap: the Age & Experience have the same correlations with other features\n",
        "- So we will drop one of them"
      ],
      "metadata": {
        "id": "w70yDx2v2QdC"
      }
    },
    {
      "cell_type": "code",
      "source": [
        "df.drop(['Experience'], axis=1, inplace=True)"
      ],
      "metadata": {
        "id": "niY7a05O2LqK"
      },
      "execution_count": 27,
      "outputs": []
    },
    {
      "cell_type": "code",
      "source": [
        "df.columns"
      ],
      "metadata": {
        "colab": {
          "base_uri": "https://localhost:8080/"
        },
        "id": "MapXSQze3GKj",
        "outputId": "fb4fff83-b064-4ebf-cb6c-f7d3be15b60a"
      },
      "execution_count": 28,
      "outputs": [
        {
          "output_type": "execute_result",
          "data": {
            "text/plain": [
              "Index(['Age', 'Income', 'Family', 'CCAvg', 'Education', 'Mortgage',\n",
              "       'Personal Loan', 'Securities Account', 'CD Account', 'Online',\n",
              "       'CreditCard'],\n",
              "      dtype='object')"
            ]
          },
          "metadata": {},
          "execution_count": 28
        }
      ]
    },
    {
      "cell_type": "markdown",
      "source": [
        "# **5. Analysis Data**"
      ],
      "metadata": {
        "id": "HBHVj9Z44AA9"
      }
    },
    {
      "cell_type": "markdown",
      "source": [
        "**5.1 Analysis Education status of customers**"
      ],
      "metadata": {
        "id": "zyObnr346PSV"
      }
    },
    {
      "cell_type": "code",
      "source": [
        "df['Education'].unique()"
      ],
      "metadata": {
        "colab": {
          "base_uri": "https://localhost:8080/"
        },
        "id": "SUEqfGCk6ONo",
        "outputId": "f6456eed-0445-46d8-f3b5-9fda853d9343"
      },
      "execution_count": 29,
      "outputs": [
        {
          "output_type": "execute_result",
          "data": {
            "text/plain": [
              "array([1, 2, 3])"
            ]
          },
          "metadata": {},
          "execution_count": 29
        }
      ]
    },
    {
      "cell_type": "code",
      "source": [
        "def mark(x):\n",
        "  if x==1:\n",
        "    return 'Undergraduate'\n",
        "  elif x==2:\n",
        "    return 'Graduate'\n",
        "  else:\n",
        "    return 'Advanced/Professional'"
      ],
      "metadata": {
        "id": "6TS_Ljru6FuZ"
      },
      "execution_count": 30,
      "outputs": []
    },
    {
      "cell_type": "code",
      "source": [
        "df['Education Mark'] = df['Education'].apply(mark)"
      ],
      "metadata": {
        "id": "Br8j81Ss62Lz"
      },
      "execution_count": 31,
      "outputs": []
    },
    {
      "cell_type": "code",
      "source": [
        "df.head()"
      ],
      "metadata": {
        "colab": {
          "base_uri": "https://localhost:8080/",
          "height": 268
        },
        "id": "BpbXY-Hw7G1_",
        "outputId": "97f7c68d-43a4-4ec4-f35f-40b77f9535d6"
      },
      "execution_count": 32,
      "outputs": [
        {
          "output_type": "execute_result",
          "data": {
            "text/html": [
              "\n",
              "  <div id=\"df-9a42a8ab-56d7-420d-9b31-d93adebde203\">\n",
              "    <div class=\"colab-df-container\">\n",
              "      <div>\n",
              "<style scoped>\n",
              "    .dataframe tbody tr th:only-of-type {\n",
              "        vertical-align: middle;\n",
              "    }\n",
              "\n",
              "    .dataframe tbody tr th {\n",
              "        vertical-align: top;\n",
              "    }\n",
              "\n",
              "    .dataframe thead th {\n",
              "        text-align: right;\n",
              "    }\n",
              "</style>\n",
              "<table border=\"1\" class=\"dataframe\">\n",
              "  <thead>\n",
              "    <tr style=\"text-align: right;\">\n",
              "      <th></th>\n",
              "      <th>Age</th>\n",
              "      <th>Income</th>\n",
              "      <th>Family</th>\n",
              "      <th>CCAvg</th>\n",
              "      <th>Education</th>\n",
              "      <th>Mortgage</th>\n",
              "      <th>Personal Loan</th>\n",
              "      <th>Securities Account</th>\n",
              "      <th>CD Account</th>\n",
              "      <th>Online</th>\n",
              "      <th>CreditCard</th>\n",
              "      <th>Education Mark</th>\n",
              "    </tr>\n",
              "  </thead>\n",
              "  <tbody>\n",
              "    <tr>\n",
              "      <th>0</th>\n",
              "      <td>25</td>\n",
              "      <td>49.0</td>\n",
              "      <td>4</td>\n",
              "      <td>1.6</td>\n",
              "      <td>1</td>\n",
              "      <td>0</td>\n",
              "      <td>0</td>\n",
              "      <td>1</td>\n",
              "      <td>0</td>\n",
              "      <td>0</td>\n",
              "      <td>0</td>\n",
              "      <td>Undergraduate</td>\n",
              "    </tr>\n",
              "    <tr>\n",
              "      <th>1</th>\n",
              "      <td>45</td>\n",
              "      <td>34.0</td>\n",
              "      <td>3</td>\n",
              "      <td>1.5</td>\n",
              "      <td>1</td>\n",
              "      <td>0</td>\n",
              "      <td>0</td>\n",
              "      <td>1</td>\n",
              "      <td>0</td>\n",
              "      <td>0</td>\n",
              "      <td>0</td>\n",
              "      <td>Undergraduate</td>\n",
              "    </tr>\n",
              "    <tr>\n",
              "      <th>2</th>\n",
              "      <td>39</td>\n",
              "      <td>11.0</td>\n",
              "      <td>1</td>\n",
              "      <td>1.0</td>\n",
              "      <td>1</td>\n",
              "      <td>0</td>\n",
              "      <td>0</td>\n",
              "      <td>0</td>\n",
              "      <td>0</td>\n",
              "      <td>0</td>\n",
              "      <td>0</td>\n",
              "      <td>Undergraduate</td>\n",
              "    </tr>\n",
              "    <tr>\n",
              "      <th>3</th>\n",
              "      <td>35</td>\n",
              "      <td>100.0</td>\n",
              "      <td>1</td>\n",
              "      <td>2.7</td>\n",
              "      <td>2</td>\n",
              "      <td>0</td>\n",
              "      <td>0</td>\n",
              "      <td>0</td>\n",
              "      <td>0</td>\n",
              "      <td>0</td>\n",
              "      <td>0</td>\n",
              "      <td>Graduate</td>\n",
              "    </tr>\n",
              "    <tr>\n",
              "      <th>4</th>\n",
              "      <td>35</td>\n",
              "      <td>45.0</td>\n",
              "      <td>4</td>\n",
              "      <td>1.0</td>\n",
              "      <td>2</td>\n",
              "      <td>0</td>\n",
              "      <td>0</td>\n",
              "      <td>0</td>\n",
              "      <td>0</td>\n",
              "      <td>0</td>\n",
              "      <td>1</td>\n",
              "      <td>Graduate</td>\n",
              "    </tr>\n",
              "  </tbody>\n",
              "</table>\n",
              "</div>\n",
              "      <button class=\"colab-df-convert\" onclick=\"convertToInteractive('df-9a42a8ab-56d7-420d-9b31-d93adebde203')\"\n",
              "              title=\"Convert this dataframe to an interactive table.\"\n",
              "              style=\"display:none;\">\n",
              "        \n",
              "  <svg xmlns=\"http://www.w3.org/2000/svg\" height=\"24px\"viewBox=\"0 0 24 24\"\n",
              "       width=\"24px\">\n",
              "    <path d=\"M0 0h24v24H0V0z\" fill=\"none\"/>\n",
              "    <path d=\"M18.56 5.44l.94 2.06.94-2.06 2.06-.94-2.06-.94-.94-2.06-.94 2.06-2.06.94zm-11 1L8.5 8.5l.94-2.06 2.06-.94-2.06-.94L8.5 2.5l-.94 2.06-2.06.94zm10 10l.94 2.06.94-2.06 2.06-.94-2.06-.94-.94-2.06-.94 2.06-2.06.94z\"/><path d=\"M17.41 7.96l-1.37-1.37c-.4-.4-.92-.59-1.43-.59-.52 0-1.04.2-1.43.59L10.3 9.45l-7.72 7.72c-.78.78-.78 2.05 0 2.83L4 21.41c.39.39.9.59 1.41.59.51 0 1.02-.2 1.41-.59l7.78-7.78 2.81-2.81c.8-.78.8-2.07 0-2.86zM5.41 20L4 18.59l7.72-7.72 1.47 1.35L5.41 20z\"/>\n",
              "  </svg>\n",
              "      </button>\n",
              "      \n",
              "  <style>\n",
              "    .colab-df-container {\n",
              "      display:flex;\n",
              "      flex-wrap:wrap;\n",
              "      gap: 12px;\n",
              "    }\n",
              "\n",
              "    .colab-df-convert {\n",
              "      background-color: #E8F0FE;\n",
              "      border: none;\n",
              "      border-radius: 50%;\n",
              "      cursor: pointer;\n",
              "      display: none;\n",
              "      fill: #1967D2;\n",
              "      height: 32px;\n",
              "      padding: 0 0 0 0;\n",
              "      width: 32px;\n",
              "    }\n",
              "\n",
              "    .colab-df-convert:hover {\n",
              "      background-color: #E2EBFA;\n",
              "      box-shadow: 0px 1px 2px rgba(60, 64, 67, 0.3), 0px 1px 3px 1px rgba(60, 64, 67, 0.15);\n",
              "      fill: #174EA6;\n",
              "    }\n",
              "\n",
              "    [theme=dark] .colab-df-convert {\n",
              "      background-color: #3B4455;\n",
              "      fill: #D2E3FC;\n",
              "    }\n",
              "\n",
              "    [theme=dark] .colab-df-convert:hover {\n",
              "      background-color: #434B5C;\n",
              "      box-shadow: 0px 1px 3px 1px rgba(0, 0, 0, 0.15);\n",
              "      filter: drop-shadow(0px 1px 2px rgba(0, 0, 0, 0.3));\n",
              "      fill: #FFFFFF;\n",
              "    }\n",
              "  </style>\n",
              "\n",
              "      <script>\n",
              "        const buttonEl =\n",
              "          document.querySelector('#df-9a42a8ab-56d7-420d-9b31-d93adebde203 button.colab-df-convert');\n",
              "        buttonEl.style.display =\n",
              "          google.colab.kernel.accessAllowed ? 'block' : 'none';\n",
              "\n",
              "        async function convertToInteractive(key) {\n",
              "          const element = document.querySelector('#df-9a42a8ab-56d7-420d-9b31-d93adebde203');\n",
              "          const dataTable =\n",
              "            await google.colab.kernel.invokeFunction('convertToInteractive',\n",
              "                                                     [key], {});\n",
              "          if (!dataTable) return;\n",
              "\n",
              "          const docLinkHtml = 'Like what you see? Visit the ' +\n",
              "            '<a target=\"_blank\" href=https://colab.research.google.com/notebooks/data_table.ipynb>data table notebook</a>'\n",
              "            + ' to learn more about interactive tables.';\n",
              "          element.innerHTML = '';\n",
              "          dataTable['output_type'] = 'display_data';\n",
              "          await google.colab.output.renderOutput(dataTable, element);\n",
              "          const docLink = document.createElement('div');\n",
              "          docLink.innerHTML = docLinkHtml;\n",
              "          element.appendChild(docLink);\n",
              "        }\n",
              "      </script>\n",
              "    </div>\n",
              "  </div>\n",
              "  "
            ],
            "text/plain": [
              "   Age  Income  Family  CCAvg  ...  CD Account  Online  CreditCard  Education Mark\n",
              "0   25    49.0       4    1.6  ...           0       0           0   Undergraduate\n",
              "1   45    34.0       3    1.5  ...           0       0           0   Undergraduate\n",
              "2   39    11.0       1    1.0  ...           0       0           0   Undergraduate\n",
              "3   35   100.0       1    2.7  ...           0       0           0        Graduate\n",
              "4   35    45.0       4    1.0  ...           0       0           1        Graduate\n",
              "\n",
              "[5 rows x 12 columns]"
            ]
          },
          "metadata": {},
          "execution_count": 32
        }
      ]
    },
    {
      "cell_type": "code",
      "source": [
        "values = df.groupby(['Education Mark'])['Age'].count()\n",
        "names = values.index"
      ],
      "metadata": {
        "id": "fumm2bIj7W_j"
      },
      "execution_count": 33,
      "outputs": []
    },
    {
      "cell_type": "code",
      "source": [
        "px.pie(df, names=names, values=values)"
      ],
      "metadata": {
        "colab": {
          "base_uri": "https://localhost:8080/",
          "height": 542
        },
        "id": "XjdUGf558CNY",
        "outputId": "2339e78b-e1ce-479c-96c4-4f63fcd3af05"
      },
      "execution_count": 34,
      "outputs": [
        {
          "output_type": "display_data",
          "data": {
            "text/html": [
              "<html>\n",
              "<head><meta charset=\"utf-8\" /></head>\n",
              "<body>\n",
              "    <div>\n",
              "            <script src=\"https://cdnjs.cloudflare.com/ajax/libs/mathjax/2.7.5/MathJax.js?config=TeX-AMS-MML_SVG\"></script><script type=\"text/javascript\">if (window.MathJax) {MathJax.Hub.Config({SVG: {font: \"STIX-Web\"}});}</script>\n",
              "                <script type=\"text/javascript\">window.PlotlyConfig = {MathJaxConfig: 'local'};</script>\n",
              "        <script src=\"https://cdn.plot.ly/plotly-latest.min.js\"></script>    \n",
              "            <div id=\"c62748ed-1f5c-414f-a3ad-f976bb4986c5\" class=\"plotly-graph-div\" style=\"height:525px; width:100%;\"></div>\n",
              "            <script type=\"text/javascript\">\n",
              "                \n",
              "                    window.PLOTLYENV=window.PLOTLYENV || {};\n",
              "                    \n",
              "                if (document.getElementById(\"c62748ed-1f5c-414f-a3ad-f976bb4986c5\")) {\n",
              "                    Plotly.newPlot(\n",
              "                        'c62748ed-1f5c-414f-a3ad-f976bb4986c5',\n",
              "                        [{\"domain\": {\"x\": [0.0, 1.0], \"y\": [0.0, 1.0]}, \"hoverlabel\": {\"namelength\": 0}, \"hovertemplate\": \"label=%{label}<br>value=%{value}\", \"labels\": [\"Advanced/Professional\", \"Graduate\", \"Undergraduate\"], \"legendgroup\": \"\", \"name\": \"\", \"showlegend\": true, \"type\": \"pie\", \"values\": [1501, 1403, 2096]}],\n",
              "                        {\"legend\": {\"tracegroupgap\": 0}, \"margin\": {\"t\": 60}, \"template\": {\"data\": {\"bar\": [{\"error_x\": {\"color\": \"#2a3f5f\"}, \"error_y\": {\"color\": \"#2a3f5f\"}, \"marker\": {\"line\": {\"color\": \"#E5ECF6\", \"width\": 0.5}}, \"type\": \"bar\"}], \"barpolar\": [{\"marker\": {\"line\": {\"color\": \"#E5ECF6\", \"width\": 0.5}}, \"type\": \"barpolar\"}], \"carpet\": [{\"aaxis\": {\"endlinecolor\": \"#2a3f5f\", \"gridcolor\": \"white\", \"linecolor\": \"white\", \"minorgridcolor\": \"white\", \"startlinecolor\": \"#2a3f5f\"}, \"baxis\": {\"endlinecolor\": \"#2a3f5f\", \"gridcolor\": \"white\", \"linecolor\": \"white\", \"minorgridcolor\": \"white\", \"startlinecolor\": \"#2a3f5f\"}, \"type\": \"carpet\"}], \"choropleth\": [{\"colorbar\": {\"outlinewidth\": 0, \"ticks\": \"\"}, \"type\": \"choropleth\"}], \"contour\": [{\"colorbar\": {\"outlinewidth\": 0, \"ticks\": \"\"}, \"colorscale\": [[0.0, \"#0d0887\"], [0.1111111111111111, \"#46039f\"], [0.2222222222222222, \"#7201a8\"], [0.3333333333333333, \"#9c179e\"], [0.4444444444444444, \"#bd3786\"], [0.5555555555555556, \"#d8576b\"], [0.6666666666666666, \"#ed7953\"], [0.7777777777777778, \"#fb9f3a\"], [0.8888888888888888, \"#fdca26\"], [1.0, \"#f0f921\"]], \"type\": \"contour\"}], \"contourcarpet\": [{\"colorbar\": {\"outlinewidth\": 0, \"ticks\": \"\"}, \"type\": \"contourcarpet\"}], \"heatmap\": [{\"colorbar\": {\"outlinewidth\": 0, \"ticks\": \"\"}, \"colorscale\": [[0.0, \"#0d0887\"], [0.1111111111111111, \"#46039f\"], [0.2222222222222222, \"#7201a8\"], [0.3333333333333333, \"#9c179e\"], [0.4444444444444444, \"#bd3786\"], [0.5555555555555556, \"#d8576b\"], [0.6666666666666666, \"#ed7953\"], [0.7777777777777778, \"#fb9f3a\"], [0.8888888888888888, \"#fdca26\"], [1.0, \"#f0f921\"]], \"type\": \"heatmap\"}], \"heatmapgl\": [{\"colorbar\": {\"outlinewidth\": 0, \"ticks\": \"\"}, \"colorscale\": [[0.0, \"#0d0887\"], [0.1111111111111111, \"#46039f\"], [0.2222222222222222, \"#7201a8\"], [0.3333333333333333, \"#9c179e\"], [0.4444444444444444, \"#bd3786\"], [0.5555555555555556, \"#d8576b\"], [0.6666666666666666, \"#ed7953\"], [0.7777777777777778, \"#fb9f3a\"], [0.8888888888888888, \"#fdca26\"], [1.0, \"#f0f921\"]], \"type\": \"heatmapgl\"}], \"histogram\": [{\"marker\": {\"colorbar\": {\"outlinewidth\": 0, \"ticks\": \"\"}}, \"type\": \"histogram\"}], \"histogram2d\": [{\"colorbar\": {\"outlinewidth\": 0, \"ticks\": \"\"}, \"colorscale\": [[0.0, \"#0d0887\"], [0.1111111111111111, \"#46039f\"], [0.2222222222222222, \"#7201a8\"], [0.3333333333333333, \"#9c179e\"], [0.4444444444444444, \"#bd3786\"], [0.5555555555555556, \"#d8576b\"], [0.6666666666666666, \"#ed7953\"], [0.7777777777777778, \"#fb9f3a\"], [0.8888888888888888, \"#fdca26\"], [1.0, \"#f0f921\"]], \"type\": \"histogram2d\"}], \"histogram2dcontour\": [{\"colorbar\": {\"outlinewidth\": 0, \"ticks\": \"\"}, \"colorscale\": [[0.0, \"#0d0887\"], [0.1111111111111111, \"#46039f\"], [0.2222222222222222, \"#7201a8\"], [0.3333333333333333, \"#9c179e\"], [0.4444444444444444, \"#bd3786\"], [0.5555555555555556, \"#d8576b\"], [0.6666666666666666, \"#ed7953\"], [0.7777777777777778, \"#fb9f3a\"], [0.8888888888888888, \"#fdca26\"], [1.0, \"#f0f921\"]], \"type\": \"histogram2dcontour\"}], \"mesh3d\": [{\"colorbar\": {\"outlinewidth\": 0, \"ticks\": \"\"}, \"type\": \"mesh3d\"}], \"parcoords\": [{\"line\": {\"colorbar\": {\"outlinewidth\": 0, \"ticks\": \"\"}}, \"type\": \"parcoords\"}], \"pie\": [{\"automargin\": true, \"type\": \"pie\"}], \"scatter\": [{\"marker\": {\"colorbar\": {\"outlinewidth\": 0, \"ticks\": \"\"}}, \"type\": \"scatter\"}], \"scatter3d\": [{\"line\": {\"colorbar\": {\"outlinewidth\": 0, \"ticks\": \"\"}}, \"marker\": {\"colorbar\": {\"outlinewidth\": 0, \"ticks\": \"\"}}, \"type\": \"scatter3d\"}], \"scattercarpet\": [{\"marker\": {\"colorbar\": {\"outlinewidth\": 0, \"ticks\": \"\"}}, \"type\": \"scattercarpet\"}], \"scattergeo\": [{\"marker\": {\"colorbar\": {\"outlinewidth\": 0, \"ticks\": \"\"}}, \"type\": \"scattergeo\"}], \"scattergl\": [{\"marker\": {\"colorbar\": {\"outlinewidth\": 0, \"ticks\": \"\"}}, \"type\": \"scattergl\"}], \"scattermapbox\": [{\"marker\": {\"colorbar\": {\"outlinewidth\": 0, \"ticks\": \"\"}}, \"type\": \"scattermapbox\"}], \"scatterpolar\": [{\"marker\": {\"colorbar\": {\"outlinewidth\": 0, \"ticks\": \"\"}}, \"type\": \"scatterpolar\"}], \"scatterpolargl\": [{\"marker\": {\"colorbar\": {\"outlinewidth\": 0, \"ticks\": \"\"}}, \"type\": \"scatterpolargl\"}], \"scatterternary\": [{\"marker\": {\"colorbar\": {\"outlinewidth\": 0, \"ticks\": \"\"}}, \"type\": \"scatterternary\"}], \"surface\": [{\"colorbar\": {\"outlinewidth\": 0, \"ticks\": \"\"}, \"colorscale\": [[0.0, \"#0d0887\"], [0.1111111111111111, \"#46039f\"], [0.2222222222222222, \"#7201a8\"], [0.3333333333333333, \"#9c179e\"], [0.4444444444444444, \"#bd3786\"], [0.5555555555555556, \"#d8576b\"], [0.6666666666666666, \"#ed7953\"], [0.7777777777777778, \"#fb9f3a\"], [0.8888888888888888, \"#fdca26\"], [1.0, \"#f0f921\"]], \"type\": \"surface\"}], \"table\": [{\"cells\": {\"fill\": {\"color\": \"#EBF0F8\"}, \"line\": {\"color\": \"white\"}}, \"header\": {\"fill\": {\"color\": \"#C8D4E3\"}, \"line\": {\"color\": \"white\"}}, \"type\": \"table\"}]}, \"layout\": {\"annotationdefaults\": {\"arrowcolor\": \"#2a3f5f\", \"arrowhead\": 0, \"arrowwidth\": 1}, \"coloraxis\": {\"colorbar\": {\"outlinewidth\": 0, \"ticks\": \"\"}}, \"colorscale\": {\"diverging\": [[0, \"#8e0152\"], [0.1, \"#c51b7d\"], [0.2, \"#de77ae\"], [0.3, \"#f1b6da\"], [0.4, \"#fde0ef\"], [0.5, \"#f7f7f7\"], [0.6, \"#e6f5d0\"], [0.7, \"#b8e186\"], [0.8, \"#7fbc41\"], [0.9, \"#4d9221\"], [1, \"#276419\"]], \"sequential\": [[0.0, \"#0d0887\"], [0.1111111111111111, \"#46039f\"], [0.2222222222222222, \"#7201a8\"], [0.3333333333333333, \"#9c179e\"], [0.4444444444444444, \"#bd3786\"], [0.5555555555555556, \"#d8576b\"], [0.6666666666666666, \"#ed7953\"], [0.7777777777777778, \"#fb9f3a\"], [0.8888888888888888, \"#fdca26\"], [1.0, \"#f0f921\"]], \"sequentialminus\": [[0.0, \"#0d0887\"], [0.1111111111111111, \"#46039f\"], [0.2222222222222222, \"#7201a8\"], [0.3333333333333333, \"#9c179e\"], [0.4444444444444444, \"#bd3786\"], [0.5555555555555556, \"#d8576b\"], [0.6666666666666666, \"#ed7953\"], [0.7777777777777778, \"#fb9f3a\"], [0.8888888888888888, \"#fdca26\"], [1.0, \"#f0f921\"]]}, \"colorway\": [\"#636efa\", \"#EF553B\", \"#00cc96\", \"#ab63fa\", \"#FFA15A\", \"#19d3f3\", \"#FF6692\", \"#B6E880\", \"#FF97FF\", \"#FECB52\"], \"font\": {\"color\": \"#2a3f5f\"}, \"geo\": {\"bgcolor\": \"white\", \"lakecolor\": \"white\", \"landcolor\": \"#E5ECF6\", \"showlakes\": true, \"showland\": true, \"subunitcolor\": \"white\"}, \"hoverlabel\": {\"align\": \"left\"}, \"hovermode\": \"closest\", \"mapbox\": {\"style\": \"light\"}, \"paper_bgcolor\": \"white\", \"plot_bgcolor\": \"#E5ECF6\", \"polar\": {\"angularaxis\": {\"gridcolor\": \"white\", \"linecolor\": \"white\", \"ticks\": \"\"}, \"bgcolor\": \"#E5ECF6\", \"radialaxis\": {\"gridcolor\": \"white\", \"linecolor\": \"white\", \"ticks\": \"\"}}, \"scene\": {\"xaxis\": {\"backgroundcolor\": \"#E5ECF6\", \"gridcolor\": \"white\", \"gridwidth\": 2, \"linecolor\": \"white\", \"showbackground\": true, \"ticks\": \"\", \"zerolinecolor\": \"white\"}, \"yaxis\": {\"backgroundcolor\": \"#E5ECF6\", \"gridcolor\": \"white\", \"gridwidth\": 2, \"linecolor\": \"white\", \"showbackground\": true, \"ticks\": \"\", \"zerolinecolor\": \"white\"}, \"zaxis\": {\"backgroundcolor\": \"#E5ECF6\", \"gridcolor\": \"white\", \"gridwidth\": 2, \"linecolor\": \"white\", \"showbackground\": true, \"ticks\": \"\", \"zerolinecolor\": \"white\"}}, \"shapedefaults\": {\"line\": {\"color\": \"#2a3f5f\"}}, \"ternary\": {\"aaxis\": {\"gridcolor\": \"white\", \"linecolor\": \"white\", \"ticks\": \"\"}, \"baxis\": {\"gridcolor\": \"white\", \"linecolor\": \"white\", \"ticks\": \"\"}, \"bgcolor\": \"#E5ECF6\", \"caxis\": {\"gridcolor\": \"white\", \"linecolor\": \"white\", \"ticks\": \"\"}}, \"title\": {\"x\": 0.05}, \"xaxis\": {\"automargin\": true, \"gridcolor\": \"white\", \"linecolor\": \"white\", \"ticks\": \"\", \"title\": {\"standoff\": 15}, \"zerolinecolor\": \"white\", \"zerolinewidth\": 2}, \"yaxis\": {\"automargin\": true, \"gridcolor\": \"white\", \"linecolor\": \"white\", \"ticks\": \"\", \"title\": {\"standoff\": 15}, \"zerolinecolor\": \"white\", \"zerolinewidth\": 2}}}},\n",
              "                        {\"responsive\": true}\n",
              "                    ).then(function(){\n",
              "                            \n",
              "var gd = document.getElementById('c62748ed-1f5c-414f-a3ad-f976bb4986c5');\n",
              "var x = new MutationObserver(function (mutations, observer) {{\n",
              "        var display = window.getComputedStyle(gd).display;\n",
              "        if (!display || display === 'none') {{\n",
              "            console.log([gd, 'removed!']);\n",
              "            Plotly.purge(gd);\n",
              "            observer.disconnect();\n",
              "        }}\n",
              "}});\n",
              "\n",
              "// Listen for the removal of the full notebook cells\n",
              "var notebookContainer = gd.closest('#notebook-container');\n",
              "if (notebookContainer) {{\n",
              "    x.observe(notebookContainer, {childList: true});\n",
              "}}\n",
              "\n",
              "// Listen for the clearing of the current output cell\n",
              "var outputEl = gd.closest('.output');\n",
              "if (outputEl) {{\n",
              "    x.observe(outputEl, {childList: true});\n",
              "}}\n",
              "\n",
              "                        })\n",
              "                };\n",
              "                \n",
              "            </script>\n",
              "        </div>\n",
              "</body>\n",
              "</html>"
            ]
          },
          "metadata": {}
        }
      ]
    },
    {
      "cell_type": "markdown",
      "source": [
        "**5.2 Explore Acount Holder (customers have Securities Account or\tCD Account (certificate deposite account))**"
      ],
      "metadata": {
        "id": "GZnQC2Z0CPeh"
      }
    },
    {
      "cell_type": "code",
      "source": [
        "df.columns"
      ],
      "metadata": {
        "colab": {
          "base_uri": "https://localhost:8080/"
        },
        "id": "2bu4dNhJC2lk",
        "outputId": "d0dd1ce1-33f7-4f77-a2af-a5001915a09d"
      },
      "execution_count": 35,
      "outputs": [
        {
          "output_type": "execute_result",
          "data": {
            "text/plain": [
              "Index(['Age', 'Income', 'Family', 'CCAvg', 'Education', 'Mortgage',\n",
              "       'Personal Loan', 'Securities Account', 'CD Account', 'Online',\n",
              "       'CreditCard', 'Education Mark'],\n",
              "      dtype='object')"
            ]
          },
          "metadata": {},
          "execution_count": 35
        }
      ]
    },
    {
      "cell_type": "code",
      "source": [
        "def holder_acc(row):\n",
        "  if((row['Securities Account']==1) & (row['CD Account']==1)):\n",
        "    return 'Holds Securities & Deposit'\n",
        "\n",
        "  elif ((row['Securities Account']==1) & (row['CD Account']==0)):\n",
        "    return 'Holds only Securities'\n",
        "\n",
        "  elif ((row['Securities Account']==0) & (row['CD Account']==1)):\n",
        "    return 'Holds only Deposit'\n",
        "\n",
        "  else:\n",
        "    return 'Not hold Securities & Deposit'"
      ],
      "metadata": {
        "id": "o8DmA5J8Cky8"
      },
      "execution_count": 36,
      "outputs": []
    },
    {
      "cell_type": "code",
      "source": [
        "df['Account Holder Category'] = df.apply(holder_acc, axis=1)"
      ],
      "metadata": {
        "id": "6VZty9tdEBip"
      },
      "execution_count": 37,
      "outputs": []
    },
    {
      "cell_type": "code",
      "source": [
        "df.head()"
      ],
      "metadata": {
        "colab": {
          "base_uri": "https://localhost:8080/",
          "height": 424
        },
        "id": "ZzJQV9GnEzFE",
        "outputId": "84813167-ace0-4615-f268-71b720f2780b"
      },
      "execution_count": 38,
      "outputs": [
        {
          "output_type": "execute_result",
          "data": {
            "text/html": [
              "\n",
              "  <div id=\"df-ef47020e-e314-442f-a7d8-29c9182bf1f4\">\n",
              "    <div class=\"colab-df-container\">\n",
              "      <div>\n",
              "<style scoped>\n",
              "    .dataframe tbody tr th:only-of-type {\n",
              "        vertical-align: middle;\n",
              "    }\n",
              "\n",
              "    .dataframe tbody tr th {\n",
              "        vertical-align: top;\n",
              "    }\n",
              "\n",
              "    .dataframe thead th {\n",
              "        text-align: right;\n",
              "    }\n",
              "</style>\n",
              "<table border=\"1\" class=\"dataframe\">\n",
              "  <thead>\n",
              "    <tr style=\"text-align: right;\">\n",
              "      <th></th>\n",
              "      <th>Age</th>\n",
              "      <th>Income</th>\n",
              "      <th>Family</th>\n",
              "      <th>CCAvg</th>\n",
              "      <th>Education</th>\n",
              "      <th>Mortgage</th>\n",
              "      <th>Personal Loan</th>\n",
              "      <th>Securities Account</th>\n",
              "      <th>CD Account</th>\n",
              "      <th>Online</th>\n",
              "      <th>CreditCard</th>\n",
              "      <th>Education Mark</th>\n",
              "      <th>Account Holder Category</th>\n",
              "    </tr>\n",
              "  </thead>\n",
              "  <tbody>\n",
              "    <tr>\n",
              "      <th>0</th>\n",
              "      <td>25</td>\n",
              "      <td>49.0</td>\n",
              "      <td>4</td>\n",
              "      <td>1.6</td>\n",
              "      <td>1</td>\n",
              "      <td>0</td>\n",
              "      <td>0</td>\n",
              "      <td>1</td>\n",
              "      <td>0</td>\n",
              "      <td>0</td>\n",
              "      <td>0</td>\n",
              "      <td>Undergraduate</td>\n",
              "      <td>Holds only Securities</td>\n",
              "    </tr>\n",
              "    <tr>\n",
              "      <th>1</th>\n",
              "      <td>45</td>\n",
              "      <td>34.0</td>\n",
              "      <td>3</td>\n",
              "      <td>1.5</td>\n",
              "      <td>1</td>\n",
              "      <td>0</td>\n",
              "      <td>0</td>\n",
              "      <td>1</td>\n",
              "      <td>0</td>\n",
              "      <td>0</td>\n",
              "      <td>0</td>\n",
              "      <td>Undergraduate</td>\n",
              "      <td>Holds only Securities</td>\n",
              "    </tr>\n",
              "    <tr>\n",
              "      <th>2</th>\n",
              "      <td>39</td>\n",
              "      <td>11.0</td>\n",
              "      <td>1</td>\n",
              "      <td>1.0</td>\n",
              "      <td>1</td>\n",
              "      <td>0</td>\n",
              "      <td>0</td>\n",
              "      <td>0</td>\n",
              "      <td>0</td>\n",
              "      <td>0</td>\n",
              "      <td>0</td>\n",
              "      <td>Undergraduate</td>\n",
              "      <td>Not hold Securities &amp; Deposit</td>\n",
              "    </tr>\n",
              "    <tr>\n",
              "      <th>3</th>\n",
              "      <td>35</td>\n",
              "      <td>100.0</td>\n",
              "      <td>1</td>\n",
              "      <td>2.7</td>\n",
              "      <td>2</td>\n",
              "      <td>0</td>\n",
              "      <td>0</td>\n",
              "      <td>0</td>\n",
              "      <td>0</td>\n",
              "      <td>0</td>\n",
              "      <td>0</td>\n",
              "      <td>Graduate</td>\n",
              "      <td>Not hold Securities &amp; Deposit</td>\n",
              "    </tr>\n",
              "    <tr>\n",
              "      <th>4</th>\n",
              "      <td>35</td>\n",
              "      <td>45.0</td>\n",
              "      <td>4</td>\n",
              "      <td>1.0</td>\n",
              "      <td>2</td>\n",
              "      <td>0</td>\n",
              "      <td>0</td>\n",
              "      <td>0</td>\n",
              "      <td>0</td>\n",
              "      <td>0</td>\n",
              "      <td>1</td>\n",
              "      <td>Graduate</td>\n",
              "      <td>Not hold Securities &amp; Deposit</td>\n",
              "    </tr>\n",
              "  </tbody>\n",
              "</table>\n",
              "</div>\n",
              "      <button class=\"colab-df-convert\" onclick=\"convertToInteractive('df-ef47020e-e314-442f-a7d8-29c9182bf1f4')\"\n",
              "              title=\"Convert this dataframe to an interactive table.\"\n",
              "              style=\"display:none;\">\n",
              "        \n",
              "  <svg xmlns=\"http://www.w3.org/2000/svg\" height=\"24px\"viewBox=\"0 0 24 24\"\n",
              "       width=\"24px\">\n",
              "    <path d=\"M0 0h24v24H0V0z\" fill=\"none\"/>\n",
              "    <path d=\"M18.56 5.44l.94 2.06.94-2.06 2.06-.94-2.06-.94-.94-2.06-.94 2.06-2.06.94zm-11 1L8.5 8.5l.94-2.06 2.06-.94-2.06-.94L8.5 2.5l-.94 2.06-2.06.94zm10 10l.94 2.06.94-2.06 2.06-.94-2.06-.94-.94-2.06-.94 2.06-2.06.94z\"/><path d=\"M17.41 7.96l-1.37-1.37c-.4-.4-.92-.59-1.43-.59-.52 0-1.04.2-1.43.59L10.3 9.45l-7.72 7.72c-.78.78-.78 2.05 0 2.83L4 21.41c.39.39.9.59 1.41.59.51 0 1.02-.2 1.41-.59l7.78-7.78 2.81-2.81c.8-.78.8-2.07 0-2.86zM5.41 20L4 18.59l7.72-7.72 1.47 1.35L5.41 20z\"/>\n",
              "  </svg>\n",
              "      </button>\n",
              "      \n",
              "  <style>\n",
              "    .colab-df-container {\n",
              "      display:flex;\n",
              "      flex-wrap:wrap;\n",
              "      gap: 12px;\n",
              "    }\n",
              "\n",
              "    .colab-df-convert {\n",
              "      background-color: #E8F0FE;\n",
              "      border: none;\n",
              "      border-radius: 50%;\n",
              "      cursor: pointer;\n",
              "      display: none;\n",
              "      fill: #1967D2;\n",
              "      height: 32px;\n",
              "      padding: 0 0 0 0;\n",
              "      width: 32px;\n",
              "    }\n",
              "\n",
              "    .colab-df-convert:hover {\n",
              "      background-color: #E2EBFA;\n",
              "      box-shadow: 0px 1px 2px rgba(60, 64, 67, 0.3), 0px 1px 3px 1px rgba(60, 64, 67, 0.15);\n",
              "      fill: #174EA6;\n",
              "    }\n",
              "\n",
              "    [theme=dark] .colab-df-convert {\n",
              "      background-color: #3B4455;\n",
              "      fill: #D2E3FC;\n",
              "    }\n",
              "\n",
              "    [theme=dark] .colab-df-convert:hover {\n",
              "      background-color: #434B5C;\n",
              "      box-shadow: 0px 1px 3px 1px rgba(0, 0, 0, 0.15);\n",
              "      filter: drop-shadow(0px 1px 2px rgba(0, 0, 0, 0.3));\n",
              "      fill: #FFFFFF;\n",
              "    }\n",
              "  </style>\n",
              "\n",
              "      <script>\n",
              "        const buttonEl =\n",
              "          document.querySelector('#df-ef47020e-e314-442f-a7d8-29c9182bf1f4 button.colab-df-convert');\n",
              "        buttonEl.style.display =\n",
              "          google.colab.kernel.accessAllowed ? 'block' : 'none';\n",
              "\n",
              "        async function convertToInteractive(key) {\n",
              "          const element = document.querySelector('#df-ef47020e-e314-442f-a7d8-29c9182bf1f4');\n",
              "          const dataTable =\n",
              "            await google.colab.kernel.invokeFunction('convertToInteractive',\n",
              "                                                     [key], {});\n",
              "          if (!dataTable) return;\n",
              "\n",
              "          const docLinkHtml = 'Like what you see? Visit the ' +\n",
              "            '<a target=\"_blank\" href=https://colab.research.google.com/notebooks/data_table.ipynb>data table notebook</a>'\n",
              "            + ' to learn more about interactive tables.';\n",
              "          element.innerHTML = '';\n",
              "          dataTable['output_type'] = 'display_data';\n",
              "          await google.colab.output.renderOutput(dataTable, element);\n",
              "          const docLink = document.createElement('div');\n",
              "          docLink.innerHTML = docLinkHtml;\n",
              "          element.appendChild(docLink);\n",
              "        }\n",
              "      </script>\n",
              "    </div>\n",
              "  </div>\n",
              "  "
            ],
            "text/plain": [
              "   Age  Income  ...  Education Mark        Account Holder Category\n",
              "0   25    49.0  ...   Undergraduate          Holds only Securities\n",
              "1   45    34.0  ...   Undergraduate          Holds only Securities\n",
              "2   39    11.0  ...   Undergraduate  Not hold Securities & Deposit\n",
              "3   35   100.0  ...        Graduate  Not hold Securities & Deposit\n",
              "4   35    45.0  ...        Graduate  Not hold Securities & Deposit\n",
              "\n",
              "[5 rows x 13 columns]"
            ]
          },
          "metadata": {},
          "execution_count": 38
        }
      ]
    },
    {
      "cell_type": "code",
      "source": [
        "values = df['Account Holder Category'].value_counts()\n",
        "names = values.index\n",
        "names"
      ],
      "metadata": {
        "colab": {
          "base_uri": "https://localhost:8080/"
        },
        "id": "tm3UAInyFbLT",
        "outputId": "42ef31e8-207b-4fe7-910d-c142adc66de4"
      },
      "execution_count": 39,
      "outputs": [
        {
          "output_type": "execute_result",
          "data": {
            "text/plain": [
              "Index(['Not hold Securities & Deposit', 'Holds only Securities',\n",
              "       'Holds only Deposit', 'Holds Securities & Deposit'],\n",
              "      dtype='object')"
            ]
          },
          "metadata": {},
          "execution_count": 39
        }
      ]
    },
    {
      "cell_type": "code",
      "source": [
        "px.pie(df, names=names, values=values)"
      ],
      "metadata": {
        "colab": {
          "base_uri": "https://localhost:8080/",
          "height": 542
        },
        "id": "Shpxxmi5FyWS",
        "outputId": "f3625e45-40e6-4fbb-ad65-3055189dd173"
      },
      "execution_count": 40,
      "outputs": [
        {
          "output_type": "display_data",
          "data": {
            "text/html": [
              "<html>\n",
              "<head><meta charset=\"utf-8\" /></head>\n",
              "<body>\n",
              "    <div>\n",
              "            <script src=\"https://cdnjs.cloudflare.com/ajax/libs/mathjax/2.7.5/MathJax.js?config=TeX-AMS-MML_SVG\"></script><script type=\"text/javascript\">if (window.MathJax) {MathJax.Hub.Config({SVG: {font: \"STIX-Web\"}});}</script>\n",
              "                <script type=\"text/javascript\">window.PlotlyConfig = {MathJaxConfig: 'local'};</script>\n",
              "        <script src=\"https://cdn.plot.ly/plotly-latest.min.js\"></script>    \n",
              "            <div id=\"9ef4c940-236e-4059-ad80-5557a7822f40\" class=\"plotly-graph-div\" style=\"height:525px; width:100%;\"></div>\n",
              "            <script type=\"text/javascript\">\n",
              "                \n",
              "                    window.PLOTLYENV=window.PLOTLYENV || {};\n",
              "                    \n",
              "                if (document.getElementById(\"9ef4c940-236e-4059-ad80-5557a7822f40\")) {\n",
              "                    Plotly.newPlot(\n",
              "                        '9ef4c940-236e-4059-ad80-5557a7822f40',\n",
              "                        [{\"domain\": {\"x\": [0.0, 1.0], \"y\": [0.0, 1.0]}, \"hoverlabel\": {\"namelength\": 0}, \"hovertemplate\": \"label=%{label}<br>value=%{value}\", \"labels\": [\"Not hold Securities & Deposit\", \"Holds only Securities\", \"Holds only Deposit\", \"Holds Securities & Deposit\"], \"legendgroup\": \"\", \"name\": \"\", \"showlegend\": true, \"type\": \"pie\", \"values\": [4323, 375, 155, 147]}],\n",
              "                        {\"legend\": {\"tracegroupgap\": 0}, \"margin\": {\"t\": 60}, \"template\": {\"data\": {\"bar\": [{\"error_x\": {\"color\": \"#2a3f5f\"}, \"error_y\": {\"color\": \"#2a3f5f\"}, \"marker\": {\"line\": {\"color\": \"#E5ECF6\", \"width\": 0.5}}, \"type\": \"bar\"}], \"barpolar\": [{\"marker\": {\"line\": {\"color\": \"#E5ECF6\", \"width\": 0.5}}, \"type\": \"barpolar\"}], \"carpet\": [{\"aaxis\": {\"endlinecolor\": \"#2a3f5f\", \"gridcolor\": \"white\", \"linecolor\": \"white\", \"minorgridcolor\": \"white\", \"startlinecolor\": \"#2a3f5f\"}, \"baxis\": {\"endlinecolor\": \"#2a3f5f\", \"gridcolor\": \"white\", \"linecolor\": \"white\", \"minorgridcolor\": \"white\", \"startlinecolor\": \"#2a3f5f\"}, \"type\": \"carpet\"}], \"choropleth\": [{\"colorbar\": {\"outlinewidth\": 0, \"ticks\": \"\"}, \"type\": \"choropleth\"}], \"contour\": [{\"colorbar\": {\"outlinewidth\": 0, \"ticks\": \"\"}, \"colorscale\": [[0.0, \"#0d0887\"], [0.1111111111111111, \"#46039f\"], [0.2222222222222222, \"#7201a8\"], [0.3333333333333333, \"#9c179e\"], [0.4444444444444444, \"#bd3786\"], [0.5555555555555556, \"#d8576b\"], [0.6666666666666666, \"#ed7953\"], [0.7777777777777778, \"#fb9f3a\"], [0.8888888888888888, \"#fdca26\"], [1.0, \"#f0f921\"]], \"type\": \"contour\"}], \"contourcarpet\": [{\"colorbar\": {\"outlinewidth\": 0, \"ticks\": \"\"}, \"type\": \"contourcarpet\"}], \"heatmap\": [{\"colorbar\": {\"outlinewidth\": 0, \"ticks\": \"\"}, \"colorscale\": [[0.0, \"#0d0887\"], [0.1111111111111111, \"#46039f\"], [0.2222222222222222, \"#7201a8\"], [0.3333333333333333, \"#9c179e\"], [0.4444444444444444, \"#bd3786\"], [0.5555555555555556, \"#d8576b\"], [0.6666666666666666, \"#ed7953\"], [0.7777777777777778, \"#fb9f3a\"], [0.8888888888888888, \"#fdca26\"], [1.0, \"#f0f921\"]], \"type\": \"heatmap\"}], \"heatmapgl\": [{\"colorbar\": {\"outlinewidth\": 0, \"ticks\": \"\"}, \"colorscale\": [[0.0, \"#0d0887\"], [0.1111111111111111, \"#46039f\"], [0.2222222222222222, \"#7201a8\"], [0.3333333333333333, \"#9c179e\"], [0.4444444444444444, \"#bd3786\"], [0.5555555555555556, \"#d8576b\"], [0.6666666666666666, \"#ed7953\"], [0.7777777777777778, \"#fb9f3a\"], [0.8888888888888888, \"#fdca26\"], [1.0, \"#f0f921\"]], \"type\": \"heatmapgl\"}], \"histogram\": [{\"marker\": {\"colorbar\": {\"outlinewidth\": 0, \"ticks\": \"\"}}, \"type\": \"histogram\"}], \"histogram2d\": [{\"colorbar\": {\"outlinewidth\": 0, \"ticks\": \"\"}, \"colorscale\": [[0.0, \"#0d0887\"], [0.1111111111111111, \"#46039f\"], [0.2222222222222222, \"#7201a8\"], [0.3333333333333333, \"#9c179e\"], [0.4444444444444444, \"#bd3786\"], [0.5555555555555556, \"#d8576b\"], [0.6666666666666666, \"#ed7953\"], [0.7777777777777778, \"#fb9f3a\"], [0.8888888888888888, \"#fdca26\"], [1.0, \"#f0f921\"]], \"type\": \"histogram2d\"}], \"histogram2dcontour\": [{\"colorbar\": {\"outlinewidth\": 0, \"ticks\": \"\"}, \"colorscale\": [[0.0, \"#0d0887\"], [0.1111111111111111, \"#46039f\"], [0.2222222222222222, \"#7201a8\"], [0.3333333333333333, \"#9c179e\"], [0.4444444444444444, \"#bd3786\"], [0.5555555555555556, \"#d8576b\"], [0.6666666666666666, \"#ed7953\"], [0.7777777777777778, \"#fb9f3a\"], [0.8888888888888888, \"#fdca26\"], [1.0, \"#f0f921\"]], \"type\": \"histogram2dcontour\"}], \"mesh3d\": [{\"colorbar\": {\"outlinewidth\": 0, \"ticks\": \"\"}, \"type\": \"mesh3d\"}], \"parcoords\": [{\"line\": {\"colorbar\": {\"outlinewidth\": 0, \"ticks\": \"\"}}, \"type\": \"parcoords\"}], \"pie\": [{\"automargin\": true, \"type\": \"pie\"}], \"scatter\": [{\"marker\": {\"colorbar\": {\"outlinewidth\": 0, \"ticks\": \"\"}}, \"type\": \"scatter\"}], \"scatter3d\": [{\"line\": {\"colorbar\": {\"outlinewidth\": 0, \"ticks\": \"\"}}, \"marker\": {\"colorbar\": {\"outlinewidth\": 0, \"ticks\": \"\"}}, \"type\": \"scatter3d\"}], \"scattercarpet\": [{\"marker\": {\"colorbar\": {\"outlinewidth\": 0, \"ticks\": \"\"}}, \"type\": \"scattercarpet\"}], \"scattergeo\": [{\"marker\": {\"colorbar\": {\"outlinewidth\": 0, \"ticks\": \"\"}}, \"type\": \"scattergeo\"}], \"scattergl\": [{\"marker\": {\"colorbar\": {\"outlinewidth\": 0, \"ticks\": \"\"}}, \"type\": \"scattergl\"}], \"scattermapbox\": [{\"marker\": {\"colorbar\": {\"outlinewidth\": 0, \"ticks\": \"\"}}, \"type\": \"scattermapbox\"}], \"scatterpolar\": [{\"marker\": {\"colorbar\": {\"outlinewidth\": 0, \"ticks\": \"\"}}, \"type\": \"scatterpolar\"}], \"scatterpolargl\": [{\"marker\": {\"colorbar\": {\"outlinewidth\": 0, \"ticks\": \"\"}}, \"type\": \"scatterpolargl\"}], \"scatterternary\": [{\"marker\": {\"colorbar\": {\"outlinewidth\": 0, \"ticks\": \"\"}}, \"type\": \"scatterternary\"}], \"surface\": [{\"colorbar\": {\"outlinewidth\": 0, \"ticks\": \"\"}, \"colorscale\": [[0.0, \"#0d0887\"], [0.1111111111111111, \"#46039f\"], [0.2222222222222222, \"#7201a8\"], [0.3333333333333333, \"#9c179e\"], [0.4444444444444444, \"#bd3786\"], [0.5555555555555556, \"#d8576b\"], [0.6666666666666666, \"#ed7953\"], [0.7777777777777778, \"#fb9f3a\"], [0.8888888888888888, \"#fdca26\"], [1.0, \"#f0f921\"]], \"type\": \"surface\"}], \"table\": [{\"cells\": {\"fill\": {\"color\": \"#EBF0F8\"}, \"line\": {\"color\": \"white\"}}, \"header\": {\"fill\": {\"color\": \"#C8D4E3\"}, \"line\": {\"color\": \"white\"}}, \"type\": \"table\"}]}, \"layout\": {\"annotationdefaults\": {\"arrowcolor\": \"#2a3f5f\", \"arrowhead\": 0, \"arrowwidth\": 1}, \"coloraxis\": {\"colorbar\": {\"outlinewidth\": 0, \"ticks\": \"\"}}, \"colorscale\": {\"diverging\": [[0, \"#8e0152\"], [0.1, \"#c51b7d\"], [0.2, \"#de77ae\"], [0.3, \"#f1b6da\"], [0.4, \"#fde0ef\"], [0.5, \"#f7f7f7\"], [0.6, \"#e6f5d0\"], [0.7, \"#b8e186\"], [0.8, \"#7fbc41\"], [0.9, \"#4d9221\"], [1, \"#276419\"]], \"sequential\": [[0.0, \"#0d0887\"], [0.1111111111111111, \"#46039f\"], [0.2222222222222222, \"#7201a8\"], [0.3333333333333333, \"#9c179e\"], [0.4444444444444444, \"#bd3786\"], [0.5555555555555556, \"#d8576b\"], [0.6666666666666666, \"#ed7953\"], [0.7777777777777778, \"#fb9f3a\"], [0.8888888888888888, \"#fdca26\"], [1.0, \"#f0f921\"]], \"sequentialminus\": [[0.0, \"#0d0887\"], [0.1111111111111111, \"#46039f\"], [0.2222222222222222, \"#7201a8\"], [0.3333333333333333, \"#9c179e\"], [0.4444444444444444, \"#bd3786\"], [0.5555555555555556, \"#d8576b\"], [0.6666666666666666, \"#ed7953\"], [0.7777777777777778, \"#fb9f3a\"], [0.8888888888888888, \"#fdca26\"], [1.0, \"#f0f921\"]]}, \"colorway\": [\"#636efa\", \"#EF553B\", \"#00cc96\", \"#ab63fa\", \"#FFA15A\", \"#19d3f3\", \"#FF6692\", \"#B6E880\", \"#FF97FF\", \"#FECB52\"], \"font\": {\"color\": \"#2a3f5f\"}, \"geo\": {\"bgcolor\": \"white\", \"lakecolor\": \"white\", \"landcolor\": \"#E5ECF6\", \"showlakes\": true, \"showland\": true, \"subunitcolor\": \"white\"}, \"hoverlabel\": {\"align\": \"left\"}, \"hovermode\": \"closest\", \"mapbox\": {\"style\": \"light\"}, \"paper_bgcolor\": \"white\", \"plot_bgcolor\": \"#E5ECF6\", \"polar\": {\"angularaxis\": {\"gridcolor\": \"white\", \"linecolor\": \"white\", \"ticks\": \"\"}, \"bgcolor\": \"#E5ECF6\", \"radialaxis\": {\"gridcolor\": \"white\", \"linecolor\": \"white\", \"ticks\": \"\"}}, \"scene\": {\"xaxis\": {\"backgroundcolor\": \"#E5ECF6\", \"gridcolor\": \"white\", \"gridwidth\": 2, \"linecolor\": \"white\", \"showbackground\": true, \"ticks\": \"\", \"zerolinecolor\": \"white\"}, \"yaxis\": {\"backgroundcolor\": \"#E5ECF6\", \"gridcolor\": \"white\", \"gridwidth\": 2, \"linecolor\": \"white\", \"showbackground\": true, \"ticks\": \"\", \"zerolinecolor\": \"white\"}, \"zaxis\": {\"backgroundcolor\": \"#E5ECF6\", \"gridcolor\": \"white\", \"gridwidth\": 2, \"linecolor\": \"white\", \"showbackground\": true, \"ticks\": \"\", \"zerolinecolor\": \"white\"}}, \"shapedefaults\": {\"line\": {\"color\": \"#2a3f5f\"}}, \"ternary\": {\"aaxis\": {\"gridcolor\": \"white\", \"linecolor\": \"white\", \"ticks\": \"\"}, \"baxis\": {\"gridcolor\": \"white\", \"linecolor\": \"white\", \"ticks\": \"\"}, \"bgcolor\": \"#E5ECF6\", \"caxis\": {\"gridcolor\": \"white\", \"linecolor\": \"white\", \"ticks\": \"\"}}, \"title\": {\"x\": 0.05}, \"xaxis\": {\"automargin\": true, \"gridcolor\": \"white\", \"linecolor\": \"white\", \"ticks\": \"\", \"title\": {\"standoff\": 15}, \"zerolinecolor\": \"white\", \"zerolinewidth\": 2}, \"yaxis\": {\"automargin\": true, \"gridcolor\": \"white\", \"linecolor\": \"white\", \"ticks\": \"\", \"title\": {\"standoff\": 15}, \"zerolinecolor\": \"white\", \"zerolinewidth\": 2}}}},\n",
              "                        {\"responsive\": true}\n",
              "                    ).then(function(){\n",
              "                            \n",
              "var gd = document.getElementById('9ef4c940-236e-4059-ad80-5557a7822f40');\n",
              "var x = new MutationObserver(function (mutations, observer) {{\n",
              "        var display = window.getComputedStyle(gd).display;\n",
              "        if (!display || display === 'none') {{\n",
              "            console.log([gd, 'removed!']);\n",
              "            Plotly.purge(gd);\n",
              "            observer.disconnect();\n",
              "        }}\n",
              "}});\n",
              "\n",
              "// Listen for the removal of the full notebook cells\n",
              "var notebookContainer = gd.closest('#notebook-container');\n",
              "if (notebookContainer) {{\n",
              "    x.observe(notebookContainer, {childList: true});\n",
              "}}\n",
              "\n",
              "// Listen for the clearing of the current output cell\n",
              "var outputEl = gd.closest('.output');\n",
              "if (outputEl) {{\n",
              "    x.observe(outputEl, {childList: true});\n",
              "}}\n",
              "\n",
              "                        })\n",
              "                };\n",
              "                \n",
              "            </script>\n",
              "        </div>\n",
              "</body>\n",
              "</html>"
            ]
          },
          "metadata": {}
        }
      ]
    },
    {
      "cell_type": "markdown",
      "source": [
        "**5.3 Analysis customer basic on Education, Income & personal loan**"
      ],
      "metadata": {
        "id": "SOBNSpmlD9Fq"
      }
    },
    {
      "cell_type": "code",
      "source": [
        "df.columns"
      ],
      "metadata": {
        "colab": {
          "base_uri": "https://localhost:8080/"
        },
        "id": "qRobBc9nETx9",
        "outputId": "ac82c81f-9e54-4839-843c-fd944b4943a9"
      },
      "execution_count": 41,
      "outputs": [
        {
          "output_type": "execute_result",
          "data": {
            "text/plain": [
              "Index(['Age', 'Income', 'Family', 'CCAvg', 'Education', 'Mortgage',\n",
              "       'Personal Loan', 'Securities Account', 'CD Account', 'Online',\n",
              "       'CreditCard', 'Education Mark', 'Account Holder Category'],\n",
              "      dtype='object')"
            ]
          },
          "metadata": {},
          "execution_count": 41
        }
      ]
    },
    {
      "cell_type": "code",
      "source": [
        "px.box(df, x='Education Mark', y='Income', facet_col='Personal Loan')"
      ],
      "metadata": {
        "colab": {
          "base_uri": "https://localhost:8080/",
          "height": 542
        },
        "id": "fUn4s09wENZq",
        "outputId": "558941fc-022c-4411-f8af-b3e6c65fdc6d"
      },
      "execution_count": 42,
      "outputs": [
        {
          "output_type": "display_data",
          "data": {
            "text/html": [
              "<html>\n",
              "<head><meta charset=\"utf-8\" /></head>\n",
              "<body>\n",
              "    <div>\n",
              "            <script src=\"https://cdnjs.cloudflare.com/ajax/libs/mathjax/2.7.5/MathJax.js?config=TeX-AMS-MML_SVG\"></script><script type=\"text/javascript\">if (window.MathJax) {MathJax.Hub.Config({SVG: {font: \"STIX-Web\"}});}</script>\n",
              "                <script type=\"text/javascript\">window.PlotlyConfig = {MathJaxConfig: 'local'};</script>\n",
              "        <script src=\"https://cdn.plot.ly/plotly-latest.min.js\"></script>    \n",
              "            <div id=\"65fa2efe-2f7a-470d-bacf-04002a88830e\" class=\"plotly-graph-div\" style=\"height:525px; width:100%;\"></div>\n",
              "            <script type=\"text/javascript\">\n",
              "                \n",
              "                    window.PLOTLYENV=window.PLOTLYENV || {};\n",
              "                    \n",
              "                if (document.getElementById(\"65fa2efe-2f7a-470d-bacf-04002a88830e\")) {\n",
              "                    Plotly.newPlot(\n",
              "                        '65fa2efe-2f7a-470d-bacf-04002a88830e',\n",
              "                        [{\"alignmentgroup\": \"True\", \"hoverlabel\": {\"namelength\": 0}, \"hovertemplate\": \"Personal Loan=0<br>Education Mark=%{x}<br>Income=%{y}\", \"legendgroup\": \"\", \"marker\": {\"color\": \"#636efa\"}, \"name\": \"\", \"notched\": false, \"offsetgroup\": \"\", \"orientation\": \"v\", \"showlegend\": false, \"type\": \"box\", \"x\": [\"Undergraduate\", \"Undergraduate\", \"Undergraduate\", \"Graduate\", \"Graduate\", \"Graduate\", \"Graduate\", \"Advanced/Professional\", \"Graduate\", \"Advanced/Professional\", \"Graduate\", \"Advanced/Professional\", \"Graduate\", \"Undergraduate\", \"Advanced/Professional\", \"Undergraduate\", \"Graduate\", \"Graduate\", \"Advanced/Professional\", \"Undergraduate\", \"Undergraduate\", \"Undergraduate\", \"Undergraduate\", \"Advanced/Professional\", \"Undergraduate\", \"Advanced/Professional\", \"Advanced/Professional\", \"Graduate\", \"Advanced/Professional\", \"Advanced/Professional\", \"Advanced/Professional\", \"Undergraduate\", \"Undergraduate\", \"Advanced/Professional\", \"Advanced/Professional\", \"Advanced/Professional\", \"Undergraduate\", \"Undergraduate\", \"Undergraduate\", \"Undergraduate\", \"Graduate\", \"Advanced/Professional\", \"Undergraduate\", \"Graduate\", \"Undergraduate\", \"Undergraduate\", \"Advanced/Professional\", \"Undergraduate\", \"Graduate\", \"Undergraduate\", \"Undergraduate\", \"Graduate\", \"Undergraduate\", \"Undergraduate\", \"Graduate\", \"Undergraduate\", \"Undergraduate\", \"Undergraduate\", \"Advanced/Professional\", \"Undergraduate\", \"Undergraduate\", \"Undergraduate\", \"Graduate\", \"Undergraduate\", \"Advanced/Professional\", \"Undergraduate\", \"Advanced/Professional\", \"Graduate\", \"Undergraduate\", \"Undergraduate\", \"Graduate\", \"Advanced/Professional\", \"Graduate\", \"Advanced/Professional\", \"Advanced/Professional\", \"Graduate\", \"Undergraduate\", \"Undergraduate\", \"Advanced/Professional\", \"Advanced/Professional\", \"Graduate\", \"Advanced/Professional\", \"Undergraduate\", \"Advanced/Professional\", \"Undergraduate\", \"Undergraduate\", \"Undergraduate\", \"Advanced/Professional\", \"Undergraduate\", \"Graduate\", \"Advanced/Professional\", \"Graduate\", \"Undergraduate\", \"Graduate\", \"Undergraduate\", \"Undergraduate\", \"Advanced/Professional\", \"Undergraduate\", \"Graduate\", \"Graduate\", \"Undergraduate\", \"Undergraduate\", \"Advanced/Professional\", \"Graduate\", \"Graduate\", \"Advanced/Professional\", \"Undergraduate\", \"Undergraduate\", \"Advanced/Professional\", \"Advanced/Professional\", \"Graduate\", \"Graduate\", \"Undergraduate\", \"Undergraduate\", \"Undergraduate\", \"Graduate\", \"Undergraduate\", \"Advanced/Professional\", \"Undergraduate\", \"Advanced/Professional\", \"Graduate\", \"Graduate\", \"Undergraduate\", \"Graduate\", \"Undergraduate\", \"Undergraduate\", \"Advanced/Professional\", \"Advanced/Professional\", \"Undergraduate\", \"Advanced/Professional\", \"Undergraduate\", \"Graduate\", \"Undergraduate\", \"Graduate\", \"Advanced/Professional\", \"Undergraduate\", \"Graduate\", \"Undergraduate\", \"Undergraduate\", \"Undergraduate\", \"Advanced/Professional\", \"Undergraduate\", \"Undergraduate\", \"Undergraduate\", \"Advanced/Professional\", \"Graduate\", \"Undergraduate\", \"Undergraduate\", \"Undergraduate\", \"Undergraduate\", \"Undergraduate\", \"Graduate\", \"Advanced/Professional\", \"Undergraduate\", \"Advanced/Professional\", \"Undergraduate\", \"Undergraduate\", \"Undergraduate\", \"Undergraduate\", \"Graduate\", \"Graduate\", \"Graduate\", \"Undergraduate\", \"Undergraduate\", \"Advanced/Professional\", \"Graduate\", \"Undergraduate\", \"Graduate\", \"Advanced/Professional\", \"Undergraduate\", \"Undergraduate\", \"Undergraduate\", \"Undergraduate\", \"Advanced/Professional\", \"Graduate\", \"Undergraduate\", \"Undergraduate\", \"Undergraduate\", \"Undergraduate\", \"Undergraduate\", \"Undergraduate\", \"Advanced/Professional\", \"Advanced/Professional\", \"Graduate\", \"Undergraduate\", \"Graduate\", \"Graduate\", \"Undergraduate\", \"Graduate\", \"Undergraduate\", \"Undergraduate\", \"Undergraduate\", \"Undergraduate\", \"Undergraduate\", \"Graduate\", \"Undergraduate\", \"Undergraduate\", \"Undergraduate\", \"Advanced/Professional\", \"Advanced/Professional\", \"Undergraduate\", \"Graduate\", \"Undergraduate\", \"Advanced/Professional\", \"Advanced/Professional\", \"Advanced/Professional\", \"Graduate\", \"Undergraduate\", \"Advanced/Professional\", \"Undergraduate\", \"Graduate\", \"Advanced/Professional\", \"Graduate\", \"Undergraduate\", \"Graduate\", \"Advanced/Professional\", \"Advanced/Professional\", \"Advanced/Professional\", \"Undergraduate\", \"Graduate\", \"Undergraduate\", \"Advanced/Professional\", \"Advanced/Professional\", \"Undergraduate\", \"Graduate\", \"Advanced/Professional\", \"Undergraduate\", \"Advanced/Professional\", \"Graduate\", \"Undergraduate\", \"Undergraduate\", \"Advanced/Professional\", \"Advanced/Professional\", \"Undergraduate\", \"Undergraduate\", \"Undergraduate\", \"Undergraduate\", \"Advanced/Professional\", \"Graduate\", \"Undergraduate\", \"Advanced/Professional\", \"Undergraduate\", \"Undergraduate\", \"Undergraduate\", \"Advanced/Professional\", \"Undergraduate\", \"Graduate\", \"Undergraduate\", \"Advanced/Professional\", \"Undergraduate\", \"Advanced/Professional\", \"Advanced/Professional\", \"Advanced/Professional\", \"Undergraduate\", \"Undergraduate\", \"Advanced/Professional\", \"Advanced/Professional\", \"Advanced/Professional\", \"Graduate\", \"Advanced/Professional\", \"Graduate\", \"Graduate\", \"Graduate\", \"Graduate\", \"Undergraduate\", \"Graduate\", \"Undergraduate\", \"Advanced/Professional\", \"Undergraduate\", \"Advanced/Professional\", \"Undergraduate\", \"Advanced/Professional\", \"Undergraduate\", \"Undergraduate\", \"Undergraduate\", \"Undergraduate\", \"Undergraduate\", \"Undergraduate\", \"Undergraduate\", \"Advanced/Professional\", \"Undergraduate\", \"Undergraduate\", \"Undergraduate\", \"Undergraduate\", \"Advanced/Professional\", \"Undergraduate\", \"Advanced/Professional\", \"Advanced/Professional\", \"Advanced/Professional\", \"Graduate\", \"Graduate\", \"Graduate\", \"Advanced/Professional\", \"Undergraduate\", \"Graduate\", \"Undergraduate\", \"Graduate\", \"Undergraduate\", \"Graduate\", \"Undergraduate\", \"Graduate\", \"Undergraduate\", \"Graduate\", \"Advanced/Professional\", \"Undergraduate\", \"Graduate\", \"Undergraduate\", \"Graduate\", \"Undergraduate\", \"Advanced/Professional\", \"Advanced/Professional\", \"Graduate\", \"Graduate\", \"Advanced/Professional\", \"Advanced/Professional\", \"Graduate\", \"Graduate\", \"Undergraduate\", \"Advanced/Professional\", \"Advanced/Professional\", \"Graduate\", \"Undergraduate\", \"Advanced/Professional\", \"Undergraduate\", \"Undergraduate\", \"Undergraduate\", \"Graduate\", \"Advanced/Professional\", \"Advanced/Professional\", \"Graduate\", \"Advanced/Professional\", \"Undergraduate\", \"Undergraduate\", \"Undergraduate\", \"Graduate\", \"Undergraduate\", \"Undergraduate\", \"Undergraduate\", \"Undergraduate\", \"Graduate\", \"Advanced/Professional\", \"Graduate\", \"Advanced/Professional\", \"Advanced/Professional\", \"Undergraduate\", \"Advanced/Professional\", \"Undergraduate\", \"Graduate\", \"Graduate\", \"Undergraduate\", \"Undergraduate\", \"Advanced/Professional\", \"Advanced/Professional\", \"Advanced/Professional\", \"Undergraduate\", \"Undergraduate\", \"Undergraduate\", \"Graduate\", \"Undergraduate\", \"Undergraduate\", \"Graduate\", \"Undergraduate\", \"Graduate\", \"Graduate\", \"Undergraduate\", \"Undergraduate\", \"Advanced/Professional\", \"Undergraduate\", \"Graduate\", \"Undergraduate\", \"Advanced/Professional\", \"Advanced/Professional\", \"Undergraduate\", \"Graduate\", \"Graduate\", \"Undergraduate\", \"Graduate\", \"Advanced/Professional\", \"Undergraduate\", \"Advanced/Professional\", \"Undergraduate\", \"Undergraduate\", \"Undergraduate\", \"Undergraduate\", \"Undergraduate\", \"Undergraduate\", \"Undergraduate\", \"Graduate\", \"Advanced/Professional\", \"Undergraduate\", \"Undergraduate\", \"Undergraduate\", \"Graduate\", \"Undergraduate\", \"Advanced/Professional\", \"Graduate\", \"Undergraduate\", \"Undergraduate\", \"Graduate\", \"Undergraduate\", \"Advanced/Professional\", \"Advanced/Professional\", \"Undergraduate\", \"Advanced/Professional\", \"Graduate\", \"Advanced/Professional\", \"Undergraduate\", \"Advanced/Professional\", \"Graduate\", \"Graduate\", \"Advanced/Professional\", \"Graduate\", \"Graduate\", \"Advanced/Professional\", \"Undergraduate\", \"Undergraduate\", \"Undergraduate\", \"Undergraduate\", \"Graduate\", \"Advanced/Professional\", \"Undergraduate\", \"Advanced/Professional\", \"Advanced/Professional\", \"Graduate\", \"Undergraduate\", \"Undergraduate\", \"Undergraduate\", \"Graduate\", \"Graduate\", \"Undergraduate\", \"Undergraduate\", \"Advanced/Professional\", \"Undergraduate\", \"Graduate\", \"Undergraduate\", \"Graduate\", \"Undergraduate\", \"Graduate\", \"Undergraduate\", \"Advanced/Professional\", \"Undergraduate\", \"Undergraduate\", \"Undergraduate\", \"Undergraduate\", \"Undergraduate\", \"Graduate\", \"Advanced/Professional\", \"Advanced/Professional\", \"Advanced/Professional\", \"Graduate\", \"Undergraduate\", \"Graduate\", \"Graduate\", \"Advanced/Professional\", \"Advanced/Professional\", \"Advanced/Professional\", \"Advanced/Professional\", \"Advanced/Professional\", \"Undergraduate\", \"Graduate\", \"Graduate\", \"Undergraduate\", \"Advanced/Professional\", \"Advanced/Professional\", \"Advanced/Professional\", \"Graduate\", \"Graduate\", \"Graduate\", \"Advanced/Professional\", \"Graduate\", \"Graduate\", \"Undergraduate\", \"Undergraduate\", \"Undergraduate\", \"Undergraduate\", \"Undergraduate\", \"Undergraduate\", \"Graduate\", \"Undergraduate\", \"Advanced/Professional\", \"Undergraduate\", \"Undergraduate\", \"Advanced/Professional\", \"Undergraduate\", \"Graduate\", \"Graduate\", \"Advanced/Professional\", \"Advanced/Professional\", \"Undergraduate\", \"Undergraduate\", \"Undergraduate\", \"Undergraduate\", \"Undergraduate\", \"Advanced/Professional\", \"Advanced/Professional\", \"Advanced/Professional\", \"Graduate\", \"Graduate\", \"Undergraduate\", \"Undergraduate\", \"Undergraduate\", \"Undergraduate\", \"Undergraduate\", \"Advanced/Professional\", \"Undergraduate\", \"Graduate\", \"Undergraduate\", \"Advanced/Professional\", \"Advanced/Professional\", \"Graduate\", \"Undergraduate\", \"Advanced/Professional\", \"Undergraduate\", \"Undergraduate\", \"Undergraduate\", \"Undergraduate\", \"Graduate\", \"Undergraduate\", \"Graduate\", \"Graduate\", \"Graduate\", \"Advanced/Professional\", \"Undergraduate\", \"Graduate\", \"Graduate\", \"Advanced/Professional\", \"Undergraduate\", \"Advanced/Professional\", \"Graduate\", \"Undergraduate\", \"Advanced/Professional\", \"Undergraduate\", \"Undergraduate\", \"Undergraduate\", \"Undergraduate\", \"Advanced/Professional\", \"Undergraduate\", \"Advanced/Professional\", \"Graduate\", \"Undergraduate\", \"Undergraduate\", \"Undergraduate\", \"Advanced/Professional\", \"Undergraduate\", \"Undergraduate\", \"Undergraduate\", \"Undergraduate\", \"Graduate\", \"Undergraduate\", \"Undergraduate\", \"Graduate\", \"Graduate\", \"Advanced/Professional\", \"Graduate\", \"Undergraduate\", \"Undergraduate\", \"Undergraduate\", \"Undergraduate\", \"Undergraduate\", \"Advanced/Professional\", \"Advanced/Professional\", \"Advanced/Professional\", \"Advanced/Professional\", \"Graduate\", \"Undergraduate\", \"Advanced/Professional\", \"Graduate\", \"Advanced/Professional\", \"Advanced/Professional\", \"Undergraduate\", \"Graduate\", \"Undergraduate\", \"Undergraduate\", \"Graduate\", \"Advanced/Professional\", \"Undergraduate\", \"Undergraduate\", \"Undergraduate\", \"Advanced/Professional\", \"Undergraduate\", \"Advanced/Professional\", \"Advanced/Professional\", \"Undergraduate\", \"Undergraduate\", \"Undergraduate\", \"Graduate\", \"Graduate\", \"Undergraduate\", \"Undergraduate\", \"Graduate\", \"Advanced/Professional\", \"Undergraduate\", \"Undergraduate\", \"Graduate\", \"Advanced/Professional\", \"Advanced/Professional\", \"Advanced/Professional\", \"Advanced/Professional\", \"Graduate\", \"Undergraduate\", \"Undergraduate\", \"Graduate\", \"Advanced/Professional\", \"Advanced/Professional\", \"Undergraduate\", \"Advanced/Professional\", \"Undergraduate\", \"Graduate\", \"Undergraduate\", \"Undergraduate\", \"Advanced/Professional\", \"Undergraduate\", \"Graduate\", \"Advanced/Professional\", \"Undergraduate\", \"Advanced/Professional\", \"Graduate\", \"Undergraduate\", \"Graduate\", \"Graduate\", \"Undergraduate\", \"Graduate\", \"Graduate\", \"Graduate\", \"Undergraduate\", \"Undergraduate\", \"Advanced/Professional\", \"Graduate\", \"Advanced/Professional\", \"Advanced/Professional\", \"Undergraduate\", \"Undergraduate\", \"Advanced/Professional\", \"Advanced/Professional\", \"Advanced/Professional\", \"Advanced/Professional\", \"Undergraduate\", \"Advanced/Professional\", \"Undergraduate\", \"Undergraduate\", \"Graduate\", \"Undergraduate\", \"Graduate\", \"Undergraduate\", \"Undergraduate\", \"Advanced/Professional\", \"Graduate\", \"Graduate\", \"Graduate\", \"Graduate\", \"Undergraduate\", \"Graduate\", \"Undergraduate\", \"Advanced/Professional\", \"Undergraduate\", \"Advanced/Professional\", \"Advanced/Professional\", \"Undergraduate\", \"Undergraduate\", \"Undergraduate\", \"Undergraduate\", \"Graduate\", \"Advanced/Professional\", \"Undergraduate\", \"Undergraduate\", \"Undergraduate\", \"Undergraduate\", \"Undergraduate\", \"Graduate\", \"Graduate\", \"Graduate\", \"Undergraduate\", \"Advanced/Professional\", \"Undergraduate\", \"Undergraduate\", \"Undergraduate\", \"Graduate\", \"Graduate\", \"Graduate\", \"Undergraduate\", \"Graduate\", \"Undergraduate\", \"Advanced/Professional\", \"Graduate\", \"Graduate\", \"Undergraduate\", \"Graduate\", \"Advanced/Professional\", \"Graduate\", \"Graduate\", \"Graduate\", \"Graduate\", \"Undergraduate\", \"Graduate\", \"Undergraduate\", \"Graduate\", \"Undergraduate\", \"Advanced/Professional\", \"Undergraduate\", \"Graduate\", \"Undergraduate\", \"Undergraduate\", \"Undergraduate\", \"Graduate\", \"Undergraduate\", \"Graduate\", \"Undergraduate\", \"Undergraduate\", \"Undergraduate\", \"Undergraduate\", \"Undergraduate\", \"Undergraduate\", \"Graduate\", \"Undergraduate\", \"Graduate\", \"Advanced/Professional\", \"Undergraduate\", \"Advanced/Professional\", \"Advanced/Professional\", \"Undergraduate\", \"Advanced/Professional\", \"Graduate\", \"Advanced/Professional\", \"Undergraduate\", \"Undergraduate\", \"Undergraduate\", \"Advanced/Professional\", \"Graduate\", \"Advanced/Professional\", \"Undergraduate\", \"Undergraduate\", \"Advanced/Professional\", \"Advanced/Professional\", \"Advanced/Professional\", \"Graduate\", \"Undergraduate\", \"Graduate\", \"Graduate\", \"Undergraduate\", \"Graduate\", \"Advanced/Professional\", \"Undergraduate\", \"Advanced/Professional\", \"Advanced/Professional\", \"Undergraduate\", \"Undergraduate\", \"Graduate\", \"Graduate\", \"Advanced/Professional\", \"Undergraduate\", \"Graduate\", \"Graduate\", \"Advanced/Professional\", \"Graduate\", \"Advanced/Professional\", \"Undergraduate\", \"Undergraduate\", \"Graduate\", \"Advanced/Professional\", \"Undergraduate\", \"Undergraduate\", \"Undergraduate\", \"Undergraduate\", \"Undergraduate\", \"Advanced/Professional\", \"Graduate\", \"Undergraduate\", \"Advanced/Professional\", \"Graduate\", \"Undergraduate\", \"Undergraduate\", \"Graduate\", \"Advanced/Professional\", \"Undergraduate\", \"Graduate\", \"Undergraduate\", \"Advanced/Professional\", \"Undergraduate\", \"Graduate\", \"Graduate\", \"Advanced/Professional\", \"Graduate\", \"Advanced/Professional\", \"Graduate\", \"Advanced/Professional\", \"Undergraduate\", \"Undergraduate\", \"Undergraduate\", \"Undergraduate\", \"Undergraduate\", \"Graduate\", \"Undergraduate\", \"Undergraduate\", \"Advanced/Professional\", \"Graduate\", \"Undergraduate\", \"Graduate\", \"Advanced/Professional\", \"Graduate\", \"Undergraduate\", \"Undergraduate\", \"Undergraduate\", \"Undergraduate\", \"Graduate\", \"Graduate\", \"Graduate\", \"Undergraduate\", \"Advanced/Professional\", \"Advanced/Professional\", \"Graduate\", \"Undergraduate\", \"Undergraduate\", \"Advanced/Professional\", \"Graduate\", \"Undergraduate\", \"Undergraduate\", \"Undergraduate\", \"Undergraduate\", \"Undergraduate\", \"Graduate\", \"Undergraduate\", \"Undergraduate\", \"Advanced/Professional\", \"Advanced/Professional\", \"Undergraduate\", \"Advanced/Professional\", \"Advanced/Professional\", \"Graduate\", \"Graduate\", \"Undergraduate\", \"Undergraduate\", \"Undergraduate\", \"Advanced/Professional\", \"Graduate\", \"Graduate\", \"Undergraduate\", \"Undergraduate\", \"Graduate\", \"Advanced/Professional\", \"Advanced/Professional\", \"Graduate\", \"Undergraduate\", \"Graduate\", \"Graduate\", \"Advanced/Professional\", \"Graduate\", \"Graduate\", \"Advanced/Professional\", \"Undergraduate\", \"Advanced/Professional\", \"Graduate\", \"Graduate\", \"Undergraduate\", \"Graduate\", \"Graduate\", \"Advanced/Professional\", \"Graduate\", \"Advanced/Professional\", \"Advanced/Professional\", \"Advanced/Professional\", \"Graduate\", \"Graduate\", \"Undergraduate\", \"Graduate\", \"Undergraduate\", \"Undergraduate\", \"Undergraduate\", \"Advanced/Professional\", \"Graduate\", \"Undergraduate\", \"Undergraduate\", \"Undergraduate\", \"Graduate\", \"Advanced/Professional\", \"Advanced/Professional\", \"Graduate\", \"Graduate\", \"Advanced/Professional\", \"Undergraduate\", \"Undergraduate\", \"Advanced/Professional\", \"Undergraduate\", \"Undergraduate\", \"Graduate\", \"Advanced/Professional\", \"Advanced/Professional\", \"Advanced/Professional\", \"Graduate\", \"Undergraduate\", \"Advanced/Professional\", \"Undergraduate\", \"Undergraduate\", \"Undergraduate\", \"Graduate\", \"Advanced/Professional\", \"Undergraduate\", \"Advanced/Professional\", \"Undergraduate\", \"Graduate\", \"Advanced/Professional\", \"Graduate\", \"Undergraduate\", \"Graduate\", \"Graduate\", \"Undergraduate\", \"Undergraduate\", \"Advanced/Professional\", \"Undergraduate\", \"Advanced/Professional\", \"Undergraduate\", \"Undergraduate\", \"Undergraduate\", \"Advanced/Professional\", \"Undergraduate\", \"Graduate\", \"Graduate\", \"Undergraduate\", \"Graduate\", \"Graduate\", \"Advanced/Professional\", \"Advanced/Professional\", \"Graduate\", \"Graduate\", \"Graduate\", \"Undergraduate\", \"Undergraduate\", \"Graduate\", \"Undergraduate\", \"Advanced/Professional\", \"Advanced/Professional\", \"Graduate\", \"Graduate\", \"Undergraduate\", \"Undergraduate\", \"Advanced/Professional\", \"Undergraduate\", \"Graduate\", \"Advanced/Professional\", \"Undergraduate\", \"Advanced/Professional\", \"Undergraduate\", \"Graduate\", \"Advanced/Professional\", \"Graduate\", \"Graduate\", \"Undergraduate\", \"Advanced/Professional\", \"Undergraduate\", \"Graduate\", \"Graduate\", \"Graduate\", \"Undergraduate\", \"Advanced/Professional\", \"Advanced/Professional\", \"Advanced/Professional\", \"Graduate\", \"Undergraduate\", \"Advanced/Professional\", \"Undergraduate\", \"Undergraduate\", \"Undergraduate\", \"Advanced/Professional\", \"Graduate\", \"Advanced/Professional\", \"Advanced/Professional\", \"Undergraduate\", \"Undergraduate\", \"Advanced/Professional\", \"Graduate\", \"Undergraduate\", \"Undergraduate\", \"Graduate\", \"Graduate\", \"Graduate\", \"Advanced/Professional\", \"Undergraduate\", \"Advanced/Professional\", \"Graduate\", \"Undergraduate\", \"Graduate\", \"Graduate\", \"Advanced/Professional\", \"Undergraduate\", \"Graduate\", \"Undergraduate\", \"Advanced/Professional\", \"Advanced/Professional\", \"Undergraduate\", \"Graduate\", \"Undergraduate\", \"Advanced/Professional\", \"Advanced/Professional\", \"Undergraduate\", \"Undergraduate\", \"Undergraduate\", \"Undergraduate\", \"Graduate\", \"Undergraduate\", \"Undergraduate\", \"Undergraduate\", \"Advanced/Professional\", \"Advanced/Professional\", \"Undergraduate\", \"Graduate\", \"Undergraduate\", \"Undergraduate\", \"Undergraduate\", \"Advanced/Professional\", \"Advanced/Professional\", \"Graduate\", \"Undergraduate\", \"Advanced/Professional\", \"Undergraduate\", \"Undergraduate\", \"Undergraduate\", \"Undergraduate\", \"Advanced/Professional\", \"Undergraduate\", \"Graduate\", \"Advanced/Professional\", \"Graduate\", \"Graduate\", \"Undergraduate\", \"Graduate\", \"Undergraduate\", \"Undergraduate\", \"Graduate\", \"Advanced/Professional\", \"Undergraduate\", \"Graduate\", \"Undergraduate\", \"Undergraduate\", \"Undergraduate\", \"Advanced/Professional\", \"Undergraduate\", \"Undergraduate\", \"Advanced/Professional\", \"Undergraduate\", \"Undergraduate\", \"Undergraduate\", \"Advanced/Professional\", \"Undergraduate\", \"Graduate\", \"Undergraduate\", \"Undergraduate\", \"Undergraduate\", \"Undergraduate\", \"Advanced/Professional\", \"Advanced/Professional\", \"Graduate\", \"Graduate\", \"Graduate\", \"Graduate\", \"Graduate\", \"Graduate\", \"Graduate\", \"Advanced/Professional\", \"Graduate\", \"Undergraduate\", \"Undergraduate\", \"Graduate\", \"Undergraduate\", \"Undergraduate\", \"Graduate\", \"Graduate\", \"Advanced/Professional\", \"Undergraduate\", \"Undergraduate\", \"Undergraduate\", \"Undergraduate\", \"Graduate\", \"Advanced/Professional\", \"Undergraduate\", \"Advanced/Professional\", \"Undergraduate\", \"Undergraduate\", \"Undergraduate\", \"Graduate\", \"Graduate\", \"Undergraduate\", \"Undergraduate\", \"Graduate\", \"Graduate\", \"Graduate\", \"Undergraduate\", \"Undergraduate\", \"Undergraduate\", \"Undergraduate\", \"Graduate\", \"Advanced/Professional\", \"Advanced/Professional\", \"Undergraduate\", \"Undergraduate\", \"Graduate\", \"Undergraduate\", \"Undergraduate\", \"Graduate\", \"Undergraduate\", \"Advanced/Professional\", \"Undergraduate\", \"Graduate\", \"Undergraduate\", \"Undergraduate\", \"Graduate\", \"Undergraduate\", \"Advanced/Professional\", \"Undergraduate\", \"Undergraduate\", \"Advanced/Professional\", \"Graduate\", \"Advanced/Professional\", \"Advanced/Professional\", \"Undergraduate\", \"Advanced/Professional\", \"Graduate\", \"Undergraduate\", \"Advanced/Professional\", \"Advanced/Professional\", \"Undergraduate\", \"Graduate\", \"Graduate\", \"Graduate\", \"Advanced/Professional\", \"Advanced/Professional\", \"Undergraduate\", \"Advanced/Professional\", \"Advanced/Professional\", \"Advanced/Professional\", \"Advanced/Professional\", \"Undergraduate\", \"Graduate\", \"Advanced/Professional\", \"Advanced/Professional\", \"Advanced/Professional\", \"Advanced/Professional\", \"Undergraduate\", \"Advanced/Professional\", \"Advanced/Professional\", \"Graduate\", \"Undergraduate\", \"Advanced/Professional\", \"Advanced/Professional\", \"Undergraduate\", \"Graduate\", \"Undergraduate\", \"Undergraduate\", \"Advanced/Professional\", \"Undergraduate\", \"Undergraduate\", \"Advanced/Professional\", \"Graduate\", \"Undergraduate\", \"Graduate\", \"Undergraduate\", \"Undergraduate\", \"Graduate\", \"Graduate\", \"Undergraduate\", \"Undergraduate\", \"Graduate\", \"Undergraduate\", \"Undergraduate\", \"Undergraduate\", \"Advanced/Professional\", \"Undergraduate\", \"Graduate\", \"Graduate\", \"Advanced/Professional\", \"Graduate\", \"Undergraduate\", \"Advanced/Professional\", \"Graduate\", \"Undergraduate\", \"Graduate\", \"Advanced/Professional\", \"Undergraduate\", \"Advanced/Professional\", \"Advanced/Professional\", \"Advanced/Professional\", \"Advanced/Professional\", \"Undergraduate\", \"Advanced/Professional\", \"Graduate\", \"Advanced/Professional\", \"Advanced/Professional\", \"Advanced/Professional\", \"Undergraduate\", \"Undergraduate\", \"Undergraduate\", \"Graduate\", \"Graduate\", \"Undergraduate\", \"Undergraduate\", \"Graduate\", \"Advanced/Professional\", \"Graduate\", \"Undergraduate\", \"Undergraduate\", \"Graduate\", \"Graduate\", \"Undergraduate\", \"Undergraduate\", \"Undergraduate\", \"Advanced/Professional\", \"Undergraduate\", \"Undergraduate\", \"Undergraduate\", \"Advanced/Professional\", \"Undergraduate\", \"Advanced/Professional\", \"Undergraduate\", \"Undergraduate\", \"Graduate\", \"Graduate\", \"Advanced/Professional\", \"Graduate\", \"Advanced/Professional\", \"Undergraduate\", \"Undergraduate\", \"Undergraduate\", \"Undergraduate\", \"Graduate\", \"Undergraduate\", \"Undergraduate\", \"Graduate\", \"Undergraduate\", \"Undergraduate\", \"Undergraduate\", \"Advanced/Professional\", \"Undergraduate\", \"Advanced/Professional\", \"Advanced/Professional\", \"Advanced/Professional\", \"Advanced/Professional\", \"Undergraduate\", \"Advanced/Professional\", \"Graduate\", \"Undergraduate\", \"Advanced/Professional\", \"Undergraduate\", \"Undergraduate\", \"Graduate\", \"Undergraduate\", \"Graduate\", \"Advanced/Professional\", \"Undergraduate\", \"Undergraduate\", \"Undergraduate\", \"Undergraduate\", \"Advanced/Professional\", \"Graduate\", \"Undergraduate\", \"Undergraduate\", \"Advanced/Professional\", \"Graduate\", \"Advanced/Professional\", \"Advanced/Professional\", \"Undergraduate\", \"Undergraduate\", \"Graduate\", \"Advanced/Professional\", \"Undergraduate\", \"Advanced/Professional\", \"Advanced/Professional\", \"Undergraduate\", \"Undergraduate\", \"Undergraduate\", \"Undergraduate\", \"Advanced/Professional\", \"Undergraduate\", \"Undergraduate\", \"Undergraduate\", \"Undergraduate\", \"Undergraduate\", \"Advanced/Professional\", \"Graduate\", \"Advanced/Professional\", \"Undergraduate\", \"Advanced/Professional\", \"Advanced/Professional\", \"Undergraduate\", \"Undergraduate\", \"Advanced/Professional\", \"Undergraduate\", \"Undergraduate\", \"Undergraduate\", \"Graduate\", \"Undergraduate\", \"Undergraduate\", \"Undergraduate\", \"Undergraduate\", \"Graduate\", \"Advanced/Professional\", \"Graduate\", \"Advanced/Professional\", \"Undergraduate\", \"Undergraduate\", \"Undergraduate\", \"Advanced/Professional\", \"Undergraduate\", \"Advanced/Professional\", \"Undergraduate\", \"Undergraduate\", \"Graduate\", \"Undergraduate\", \"Undergraduate\", \"Undergraduate\", \"Undergraduate\", \"Undergraduate\", \"Advanced/Professional\", \"Advanced/Professional\", \"Graduate\", \"Advanced/Professional\", \"Undergraduate\", \"Advanced/Professional\", \"Undergraduate\", \"Undergraduate\", \"Advanced/Professional\", \"Undergraduate\", \"Advanced/Professional\", \"Graduate\", \"Graduate\", \"Advanced/Professional\", \"Undergraduate\", \"Graduate\", \"Advanced/Professional\", \"Advanced/Professional\", \"Advanced/Professional\", \"Graduate\", \"Advanced/Professional\", \"Advanced/Professional\", \"Advanced/Professional\", \"Undergraduate\", \"Undergraduate\", \"Undergraduate\", \"Advanced/Professional\", \"Graduate\", \"Undergraduate\", \"Undergraduate\", \"Graduate\", \"Graduate\", \"Undergraduate\", \"Undergraduate\", \"Undergraduate\", \"Graduate\", \"Advanced/Professional\", \"Advanced/Professional\", \"Undergraduate\", \"Undergraduate\", \"Graduate\", \"Undergraduate\", \"Graduate\", \"Advanced/Professional\", \"Undergraduate\", \"Advanced/Professional\", \"Advanced/Professional\", \"Advanced/Professional\", \"Graduate\", \"Advanced/Professional\", \"Undergraduate\", \"Undergraduate\", \"Undergraduate\", \"Advanced/Professional\", \"Graduate\", \"Undergraduate\", \"Advanced/Professional\", \"Undergraduate\", \"Undergraduate\", \"Advanced/Professional\", \"Advanced/Professional\", \"Undergraduate\", \"Graduate\", \"Advanced/Professional\", \"Undergraduate\", \"Advanced/Professional\", \"Undergraduate\", \"Advanced/Professional\", \"Undergraduate\", \"Undergraduate\", \"Undergraduate\", \"Undergraduate\", \"Advanced/Professional\", \"Undergraduate\", \"Advanced/Professional\", \"Advanced/Professional\", \"Undergraduate\", \"Undergraduate\", \"Advanced/Professional\", \"Graduate\", \"Undergraduate\", \"Undergraduate\", \"Undergraduate\", \"Graduate\", \"Graduate\", \"Undergraduate\", \"Undergraduate\", \"Undergraduate\", \"Undergraduate\", \"Undergraduate\", \"Graduate\", \"Graduate\", \"Advanced/Professional\", \"Undergraduate\", \"Undergraduate\", \"Undergraduate\", \"Graduate\", \"Undergraduate\", \"Advanced/Professional\", \"Graduate\", \"Advanced/Professional\", \"Graduate\", \"Advanced/Professional\", \"Graduate\", \"Graduate\", \"Undergraduate\", \"Graduate\", \"Advanced/Professional\", \"Undergraduate\", \"Undergraduate\", \"Undergraduate\", \"Graduate\", \"Advanced/Professional\", \"Undergraduate\", \"Advanced/Professional\", \"Undergraduate\", \"Advanced/Professional\", \"Undergraduate\", \"Graduate\", \"Undergraduate\", \"Undergraduate\", \"Graduate\", \"Undergraduate\", \"Advanced/Professional\", \"Advanced/Professional\", \"Advanced/Professional\", \"Undergraduate\", \"Undergraduate\", \"Undergraduate\", \"Undergraduate\", \"Graduate\", \"Undergraduate\", \"Undergraduate\", \"Advanced/Professional\", \"Undergraduate\", \"Advanced/Professional\", \"Graduate\", \"Advanced/Professional\", \"Undergraduate\", \"Graduate\", \"Graduate\", \"Advanced/Professional\", \"Undergraduate\", \"Undergraduate\", \"Advanced/Professional\", \"Graduate\", \"Undergraduate\", \"Graduate\", \"Undergraduate\", \"Graduate\", \"Graduate\", \"Undergraduate\", \"Graduate\", \"Undergraduate\", \"Graduate\", \"Graduate\", \"Graduate\", \"Undergraduate\", \"Advanced/Professional\", \"Undergraduate\", \"Advanced/Professional\", \"Undergraduate\", \"Undergraduate\", \"Advanced/Professional\", \"Undergraduate\", \"Graduate\", \"Undergraduate\", \"Advanced/Professional\", \"Graduate\", \"Graduate\", \"Graduate\", \"Advanced/Professional\", \"Undergraduate\", \"Undergraduate\", \"Undergraduate\", \"Undergraduate\", \"Undergraduate\", \"Undergraduate\", \"Advanced/Professional\", \"Graduate\", \"Graduate\", \"Undergraduate\", \"Advanced/Professional\", \"Undergraduate\", \"Graduate\", \"Graduate\", \"Graduate\", \"Advanced/Professional\", \"Undergraduate\", \"Undergraduate\", \"Advanced/Professional\", \"Graduate\", \"Undergraduate\", \"Advanced/Professional\", \"Undergraduate\", \"Undergraduate\", \"Advanced/Professional\", \"Undergraduate\", \"Undergraduate\", \"Undergraduate\", \"Advanced/Professional\", \"Undergraduate\", \"Graduate\", \"Undergraduate\", \"Advanced/Professional\", \"Undergraduate\", \"Undergraduate\", \"Graduate\", \"Undergraduate\", \"Undergraduate\", \"Graduate\", \"Undergraduate\", \"Advanced/Professional\", \"Graduate\", \"Graduate\", \"Undergraduate\", \"Advanced/Professional\", \"Undergraduate\", \"Graduate\", \"Advanced/Professional\", \"Graduate\", \"Advanced/Professional\", \"Undergraduate\", \"Graduate\", \"Undergraduate\", \"Advanced/Professional\", \"Undergraduate\", \"Undergraduate\", \"Graduate\", \"Undergraduate\", \"Graduate\", \"Graduate\", \"Undergraduate\", \"Undergraduate\", \"Advanced/Professional\", \"Undergraduate\", \"Advanced/Professional\", \"Graduate\", \"Undergraduate\", \"Advanced/Professional\", \"Graduate\", \"Advanced/Professional\", \"Advanced/Professional\", \"Advanced/Professional\", \"Graduate\", \"Undergraduate\", \"Advanced/Professional\", \"Graduate\", \"Undergraduate\", \"Graduate\", \"Advanced/Professional\", \"Undergraduate\", \"Undergraduate\", \"Undergraduate\", \"Advanced/Professional\", \"Undergraduate\", \"Undergraduate\", \"Graduate\", \"Advanced/Professional\", \"Graduate\", \"Graduate\", \"Advanced/Professional\", \"Graduate\", \"Undergraduate\", \"Undergraduate\", \"Undergraduate\", \"Graduate\", \"Advanced/Professional\", \"Undergraduate\", \"Undergraduate\", \"Undergraduate\", \"Graduate\", \"Graduate\", \"Advanced/Professional\", \"Undergraduate\", \"Graduate\", \"Undergraduate\", \"Advanced/Professional\", \"Graduate\", \"Undergraduate\", \"Undergraduate\", \"Advanced/Professional\", \"Graduate\", \"Undergraduate\", \"Advanced/Professional\", \"Advanced/Professional\", \"Graduate\", \"Graduate\", \"Graduate\", \"Undergraduate\", \"Undergraduate\", \"Graduate\", \"Undergraduate\", \"Undergraduate\", \"Undergraduate\", \"Graduate\", \"Undergraduate\", \"Advanced/Professional\", \"Advanced/Professional\", \"Undergraduate\", \"Undergraduate\", \"Undergraduate\", \"Advanced/Professional\", \"Undergraduate\", \"Graduate\", \"Undergraduate\", \"Graduate\", \"Undergraduate\", \"Undergraduate\", \"Undergraduate\", \"Undergraduate\", \"Undergraduate\", \"Advanced/Professional\", \"Undergraduate\", \"Advanced/Professional\", \"Undergraduate\", \"Advanced/Professional\", \"Undergraduate\", \"Advanced/Professional\", \"Graduate\", \"Undergraduate\", \"Graduate\", \"Advanced/Professional\", \"Advanced/Professional\", \"Undergraduate\", \"Undergraduate\", \"Undergraduate\", \"Undergraduate\", \"Undergraduate\", \"Undergraduate\", \"Graduate\", \"Advanced/Professional\", \"Undergraduate\", \"Graduate\", \"Graduate\", \"Graduate\", \"Undergraduate\", \"Advanced/Professional\", \"Undergraduate\", \"Undergraduate\", \"Advanced/Professional\", \"Advanced/Professional\", \"Graduate\", \"Graduate\", \"Undergraduate\", \"Advanced/Professional\", \"Advanced/Professional\", \"Graduate\", \"Advanced/Professional\", \"Undergraduate\", \"Graduate\", \"Undergraduate\", \"Graduate\", \"Advanced/Professional\", \"Undergraduate\", \"Graduate\", \"Graduate\", \"Graduate\", \"Graduate\", \"Undergraduate\", \"Undergraduate\", \"Undergraduate\", \"Advanced/Professional\", \"Graduate\", \"Undergraduate\", \"Advanced/Professional\", \"Graduate\", \"Undergraduate\", \"Undergraduate\", \"Graduate\", \"Graduate\", \"Undergraduate\", \"Graduate\", \"Graduate\", \"Undergraduate\", \"Undergraduate\", \"Graduate\", \"Undergraduate\", \"Graduate\", \"Advanced/Professional\", \"Graduate\", \"Undergraduate\", \"Undergraduate\", \"Advanced/Professional\", \"Graduate\", \"Graduate\", \"Advanced/Professional\", \"Undergraduate\", \"Graduate\", \"Undergraduate\", \"Advanced/Professional\", \"Undergraduate\", \"Undergraduate\", \"Graduate\", \"Advanced/Professional\", \"Undergraduate\", \"Undergraduate\", \"Graduate\", \"Undergraduate\", \"Advanced/Professional\", \"Advanced/Professional\", \"Undergraduate\", \"Undergraduate\", \"Undergraduate\", \"Undergraduate\", \"Graduate\", \"Graduate\", \"Advanced/Professional\", \"Graduate\", \"Graduate\", \"Undergraduate\", \"Advanced/Professional\", \"Advanced/Professional\", \"Graduate\", \"Advanced/Professional\", \"Advanced/Professional\", \"Advanced/Professional\", \"Undergraduate\", \"Advanced/Professional\", \"Undergraduate\", \"Graduate\", \"Undergraduate\", \"Advanced/Professional\", \"Advanced/Professional\", \"Graduate\", \"Undergraduate\", \"Undergraduate\", \"Graduate\", \"Advanced/Professional\", \"Graduate\", \"Advanced/Professional\", \"Undergraduate\", \"Advanced/Professional\", \"Undergraduate\", \"Graduate\", \"Undergraduate\", \"Graduate\", \"Undergraduate\", \"Advanced/Professional\", \"Advanced/Professional\", \"Undergraduate\", \"Advanced/Professional\", \"Graduate\", \"Advanced/Professional\", \"Graduate\", \"Undergraduate\", \"Advanced/Professional\", \"Graduate\", \"Undergraduate\", \"Undergraduate\", \"Undergraduate\", \"Undergraduate\", \"Graduate\", \"Undergraduate\", \"Undergraduate\", \"Undergraduate\", \"Graduate\", \"Advanced/Professional\", \"Graduate\", \"Advanced/Professional\", \"Advanced/Professional\", \"Undergraduate\", \"Undergraduate\", \"Graduate\", \"Advanced/Professional\", \"Undergraduate\", \"Advanced/Professional\", \"Undergraduate\", \"Undergraduate\", \"Advanced/Professional\", \"Advanced/Professional\", \"Undergraduate\", \"Undergraduate\", \"Graduate\", \"Graduate\", \"Undergraduate\", \"Graduate\", \"Graduate\", \"Undergraduate\", \"Graduate\", \"Undergraduate\", \"Advanced/Professional\", \"Advanced/Professional\", \"Undergraduate\", \"Undergraduate\", \"Undergraduate\", \"Undergraduate\", \"Graduate\", \"Advanced/Professional\", \"Advanced/Professional\", \"Graduate\", \"Graduate\", \"Undergraduate\", \"Advanced/Professional\", \"Graduate\", \"Graduate\", \"Advanced/Professional\", \"Undergraduate\", \"Undergraduate\", \"Graduate\", \"Undergraduate\", \"Advanced/Professional\", \"Undergraduate\", \"Undergraduate\", \"Graduate\", \"Undergraduate\", \"Undergraduate\", \"Undergraduate\", \"Advanced/Professional\", \"Undergraduate\", \"Graduate\", \"Graduate\", \"Undergraduate\", \"Advanced/Professional\", \"Graduate\", \"Undergraduate\", \"Undergraduate\", \"Undergraduate\", \"Undergraduate\", \"Graduate\", \"Undergraduate\", \"Graduate\", \"Graduate\", \"Undergraduate\", \"Advanced/Professional\", \"Advanced/Professional\", \"Undergraduate\", \"Advanced/Professional\", \"Undergraduate\", \"Graduate\", \"Graduate\", \"Graduate\", \"Advanced/Professional\", \"Undergraduate\", \"Undergraduate\", \"Undergraduate\", \"Undergraduate\", \"Advanced/Professional\", \"Undergraduate\", \"Undergraduate\", \"Advanced/Professional\", \"Undergraduate\", \"Advanced/Professional\", \"Undergraduate\", \"Advanced/Professional\", \"Advanced/Professional\", \"Undergraduate\", \"Graduate\", \"Undergraduate\", \"Advanced/Professional\", \"Undergraduate\", \"Undergraduate\", \"Undergraduate\", \"Undergraduate\", \"Advanced/Professional\", \"Advanced/Professional\", \"Advanced/Professional\", \"Undergraduate\", \"Graduate\", \"Advanced/Professional\", \"Graduate\", \"Graduate\", \"Graduate\", \"Advanced/Professional\", \"Graduate\", \"Graduate\", \"Graduate\", \"Advanced/Professional\", \"Graduate\", \"Undergraduate\", \"Graduate\", \"Advanced/Professional\", \"Advanced/Professional\", \"Undergraduate\", \"Advanced/Professional\", \"Graduate\", \"Undergraduate\", \"Undergraduate\", \"Undergraduate\", \"Advanced/Professional\", \"Undergraduate\", \"Advanced/Professional\", \"Advanced/Professional\", \"Undergraduate\", \"Advanced/Professional\", \"Undergraduate\", \"Undergraduate\", \"Undergraduate\", \"Undergraduate\", \"Undergraduate\", \"Advanced/Professional\", \"Undergraduate\", \"Graduate\", \"Advanced/Professional\", \"Undergraduate\", \"Advanced/Professional\", \"Advanced/Professional\", \"Graduate\", \"Undergraduate\", \"Graduate\", \"Undergraduate\", \"Undergraduate\", \"Undergraduate\", \"Undergraduate\", \"Advanced/Professional\", \"Advanced/Professional\", \"Undergraduate\", \"Undergraduate\", \"Undergraduate\", \"Graduate\", \"Graduate\", \"Advanced/Professional\", \"Graduate\", \"Graduate\", \"Advanced/Professional\", \"Advanced/Professional\", \"Undergraduate\", \"Undergraduate\", \"Undergraduate\", \"Undergraduate\", \"Advanced/Professional\", \"Undergraduate\", \"Advanced/Professional\", \"Undergraduate\", \"Undergraduate\", \"Graduate\", \"Advanced/Professional\", \"Undergraduate\", \"Graduate\", \"Undergraduate\", \"Undergraduate\", \"Undergraduate\", \"Graduate\", \"Graduate\", \"Graduate\", \"Advanced/Professional\", \"Undergraduate\", \"Advanced/Professional\", \"Advanced/Professional\", \"Undergraduate\", \"Advanced/Professional\", \"Graduate\", \"Advanced/Professional\", \"Advanced/Professional\", \"Graduate\", \"Undergraduate\", \"Undergraduate\", \"Undergraduate\", \"Graduate\", \"Undergraduate\", \"Graduate\", \"Advanced/Professional\", \"Advanced/Professional\", \"Advanced/Professional\", \"Advanced/Professional\", \"Advanced/Professional\", \"Undergraduate\", \"Advanced/Professional\", \"Advanced/Professional\", \"Undergraduate\", \"Undergraduate\", \"Undergraduate\", \"Undergraduate\", \"Advanced/Professional\", \"Undergraduate\", \"Advanced/Professional\", \"Graduate\", \"Graduate\", \"Undergraduate\", \"Undergraduate\", \"Advanced/Professional\", \"Undergraduate\", \"Undergraduate\", \"Undergraduate\", \"Graduate\", \"Advanced/Professional\", \"Undergraduate\", \"Graduate\", \"Graduate\", \"Undergraduate\", \"Undergraduate\", \"Advanced/Professional\", \"Undergraduate\", \"Graduate\", \"Advanced/Professional\", \"Advanced/Professional\", \"Advanced/Professional\", \"Undergraduate\", \"Graduate\", \"Advanced/Professional\", \"Advanced/Professional\", \"Undergraduate\", \"Graduate\", \"Advanced/Professional\", \"Graduate\", \"Undergraduate\", \"Undergraduate\", \"Advanced/Professional\", \"Graduate\", \"Undergraduate\", \"Graduate\", \"Undergraduate\", \"Advanced/Professional\", \"Undergraduate\", \"Advanced/Professional\", \"Undergraduate\", \"Undergraduate\", \"Graduate\", \"Graduate\", \"Graduate\", \"Advanced/Professional\", \"Graduate\", \"Graduate\", \"Undergraduate\", \"Graduate\", \"Undergraduate\", \"Undergraduate\", \"Undergraduate\", \"Undergraduate\", \"Graduate\", \"Undergraduate\", \"Graduate\", \"Undergraduate\", \"Graduate\", \"Undergraduate\", \"Graduate\", \"Graduate\", \"Undergraduate\", \"Advanced/Professional\", \"Undergraduate\", \"Undergraduate\", \"Undergraduate\", \"Advanced/Professional\", \"Advanced/Professional\", \"Undergraduate\", \"Graduate\", \"Undergraduate\", \"Undergraduate\", \"Advanced/Professional\", \"Graduate\", \"Undergraduate\", \"Advanced/Professional\", \"Undergraduate\", \"Advanced/Professional\", \"Advanced/Professional\", \"Graduate\", \"Advanced/Professional\", \"Advanced/Professional\", \"Undergraduate\", \"Graduate\", \"Undergraduate\", \"Advanced/Professional\", \"Undergraduate\", \"Graduate\", \"Graduate\", \"Advanced/Professional\", \"Undergraduate\", \"Advanced/Professional\", \"Undergraduate\", \"Advanced/Professional\", \"Undergraduate\", \"Undergraduate\", \"Undergraduate\", \"Graduate\", \"Undergraduate\", \"Undergraduate\", \"Graduate\", \"Graduate\", \"Graduate\", \"Advanced/Professional\", \"Undergraduate\", \"Graduate\", \"Undergraduate\", \"Advanced/Professional\", \"Advanced/Professional\", \"Undergraduate\", \"Graduate\", \"Advanced/Professional\", \"Advanced/Professional\", \"Undergraduate\", \"Advanced/Professional\", \"Undergraduate\", \"Graduate\", \"Advanced/Professional\", \"Advanced/Professional\", \"Undergraduate\", \"Undergraduate\", \"Graduate\", \"Advanced/Professional\", \"Undergraduate\", \"Graduate\", \"Undergraduate\", \"Advanced/Professional\", \"Undergraduate\", \"Undergraduate\", \"Undergraduate\", \"Graduate\", \"Advanced/Professional\", \"Undergraduate\", \"Undergraduate\", \"Undergraduate\", \"Advanced/Professional\", \"Graduate\", \"Graduate\", \"Graduate\", \"Advanced/Professional\", \"Graduate\", \"Advanced/Professional\", \"Advanced/Professional\", \"Advanced/Professional\", \"Graduate\", \"Undergraduate\", \"Graduate\", \"Graduate\", \"Undergraduate\", \"Undergraduate\", \"Undergraduate\", \"Advanced/Professional\", \"Advanced/Professional\", \"Undergraduate\", \"Graduate\", \"Advanced/Professional\", \"Undergraduate\", \"Undergraduate\", \"Graduate\", \"Undergraduate\", \"Advanced/Professional\", \"Graduate\", \"Undergraduate\", \"Undergraduate\", \"Undergraduate\", \"Advanced/Professional\", \"Undergraduate\", \"Advanced/Professional\", \"Undergraduate\", \"Undergraduate\", \"Undergraduate\", \"Undergraduate\", \"Graduate\", \"Undergraduate\", \"Graduate\", \"Undergraduate\", \"Advanced/Professional\", \"Advanced/Professional\", \"Graduate\", \"Advanced/Professional\", \"Graduate\", \"Advanced/Professional\", \"Graduate\", \"Undergraduate\", \"Undergraduate\", \"Undergraduate\", \"Graduate\", \"Undergraduate\", \"Advanced/Professional\", \"Undergraduate\", \"Undergraduate\", \"Advanced/Professional\", \"Advanced/Professional\", \"Undergraduate\", \"Advanced/Professional\", \"Undergraduate\", \"Graduate\", \"Undergraduate\", \"Advanced/Professional\", \"Graduate\", \"Graduate\", \"Advanced/Professional\", \"Graduate\", \"Graduate\", \"Undergraduate\", \"Undergraduate\", \"Graduate\", \"Undergraduate\", \"Graduate\", \"Undergraduate\", \"Graduate\", \"Advanced/Professional\", \"Graduate\", \"Advanced/Professional\", \"Undergraduate\", \"Undergraduate\", \"Graduate\", \"Advanced/Professional\", \"Undergraduate\", \"Undergraduate\", \"Advanced/Professional\", \"Undergraduate\", \"Advanced/Professional\", \"Undergraduate\", \"Advanced/Professional\", \"Advanced/Professional\", \"Graduate\", \"Undergraduate\", \"Advanced/Professional\", \"Advanced/Professional\", \"Advanced/Professional\", \"Graduate\", \"Graduate\", \"Undergraduate\", \"Undergraduate\", \"Graduate\", \"Undergraduate\", \"Advanced/Professional\", \"Graduate\", \"Undergraduate\", \"Graduate\", \"Advanced/Professional\", \"Graduate\", \"Undergraduate\", \"Undergraduate\", \"Advanced/Professional\", \"Undergraduate\", \"Graduate\", \"Undergraduate\", \"Graduate\", \"Graduate\", \"Graduate\", \"Undergraduate\", \"Undergraduate\", \"Advanced/Professional\", \"Undergraduate\", \"Undergraduate\", \"Advanced/Professional\", \"Undergraduate\", \"Undergraduate\", \"Undergraduate\", \"Undergraduate\", \"Advanced/Professional\", \"Undergraduate\", \"Undergraduate\", \"Graduate\", \"Advanced/Professional\", \"Undergraduate\", \"Graduate\", \"Undergraduate\", \"Advanced/Professional\", \"Graduate\", \"Undergraduate\", \"Undergraduate\", \"Graduate\", \"Undergraduate\", \"Undergraduate\", \"Advanced/Professional\", \"Graduate\", \"Undergraduate\", \"Advanced/Professional\", \"Graduate\", \"Advanced/Professional\", \"Advanced/Professional\", \"Undergraduate\", \"Graduate\", \"Undergraduate\", \"Graduate\", \"Undergraduate\", \"Undergraduate\", \"Undergraduate\", \"Undergraduate\", \"Undergraduate\", \"Graduate\", \"Graduate\", \"Undergraduate\", \"Graduate\", \"Advanced/Professional\", \"Undergraduate\", \"Undergraduate\", \"Graduate\", \"Advanced/Professional\", \"Graduate\", \"Undergraduate\", \"Undergraduate\", \"Graduate\", \"Graduate\", \"Graduate\", \"Undergraduate\", \"Graduate\", \"Undergraduate\", \"Advanced/Professional\", \"Advanced/Professional\", \"Advanced/Professional\", \"Advanced/Professional\", \"Graduate\", \"Undergraduate\", \"Graduate\", \"Undergraduate\", \"Advanced/Professional\", \"Undergraduate\", \"Undergraduate\", \"Advanced/Professional\", \"Advanced/Professional\", \"Advanced/Professional\", \"Graduate\", \"Advanced/Professional\", \"Undergraduate\", \"Undergraduate\", \"Undergraduate\", \"Undergraduate\", \"Undergraduate\", \"Advanced/Professional\", \"Advanced/Professional\", \"Undergraduate\", \"Graduate\", \"Advanced/Professional\", \"Undergraduate\", \"Advanced/Professional\", \"Undergraduate\", \"Advanced/Professional\", \"Undergraduate\", \"Advanced/Professional\", \"Advanced/Professional\", \"Undergraduate\", \"Graduate\", \"Graduate\", \"Undergraduate\", \"Undergraduate\", \"Graduate\", \"Undergraduate\", \"Graduate\", \"Undergraduate\", \"Undergraduate\", \"Undergraduate\", \"Undergraduate\", \"Advanced/Professional\", \"Advanced/Professional\", \"Advanced/Professional\", \"Undergraduate\", \"Graduate\", \"Graduate\", \"Undergraduate\", \"Undergraduate\", \"Undergraduate\", \"Undergraduate\", \"Undergraduate\", \"Graduate\", \"Graduate\", \"Undergraduate\", \"Advanced/Professional\", \"Undergraduate\", \"Graduate\", \"Undergraduate\", \"Undergraduate\", \"Graduate\", \"Graduate\", \"Undergraduate\", \"Graduate\", \"Advanced/Professional\", \"Undergraduate\", \"Graduate\", \"Advanced/Professional\", \"Advanced/Professional\", \"Graduate\", \"Undergraduate\", \"Undergraduate\", \"Undergraduate\", \"Advanced/Professional\", \"Undergraduate\", \"Graduate\", \"Advanced/Professional\", \"Graduate\", \"Undergraduate\", \"Undergraduate\", \"Advanced/Professional\", \"Graduate\", \"Advanced/Professional\", \"Undergraduate\", \"Undergraduate\", \"Undergraduate\", \"Undergraduate\", \"Undergraduate\", \"Advanced/Professional\", \"Undergraduate\", \"Undergraduate\", \"Undergraduate\", \"Advanced/Professional\", \"Undergraduate\", \"Graduate\", \"Undergraduate\", \"Advanced/Professional\", \"Graduate\", \"Undergraduate\", \"Undergraduate\", \"Undergraduate\", \"Advanced/Professional\", \"Graduate\", \"Graduate\", \"Undergraduate\", \"Graduate\", \"Undergraduate\", \"Undergraduate\", \"Graduate\", \"Undergraduate\", \"Advanced/Professional\", \"Undergraduate\", \"Undergraduate\", \"Advanced/Professional\", \"Advanced/Professional\", \"Advanced/Professional\", \"Advanced/Professional\", \"Advanced/Professional\", \"Advanced/Professional\", \"Advanced/Professional\", \"Advanced/Professional\", \"Undergraduate\", \"Graduate\", \"Undergraduate\", \"Graduate\", \"Graduate\", \"Undergraduate\", \"Undergraduate\", \"Graduate\", \"Advanced/Professional\", \"Graduate\", \"Undergraduate\", \"Graduate\", \"Graduate\", \"Graduate\", \"Undergraduate\", \"Graduate\", \"Undergraduate\", \"Graduate\", \"Undergraduate\", \"Graduate\", \"Graduate\", \"Undergraduate\", \"Undergraduate\", \"Undergraduate\", \"Undergraduate\", \"Undergraduate\", \"Graduate\", \"Graduate\", \"Advanced/Professional\", \"Graduate\", \"Undergraduate\", \"Undergraduate\", \"Undergraduate\", \"Graduate\", \"Undergraduate\", \"Graduate\", \"Undergraduate\", \"Undergraduate\", \"Undergraduate\", \"Undergraduate\", \"Advanced/Professional\", \"Advanced/Professional\", \"Graduate\", \"Undergraduate\", \"Graduate\", \"Undergraduate\", \"Undergraduate\", \"Advanced/Professional\", \"Advanced/Professional\", \"Advanced/Professional\", \"Undergraduate\", \"Undergraduate\", \"Graduate\", \"Undergraduate\", \"Graduate\", \"Advanced/Professional\", \"Advanced/Professional\", \"Graduate\", \"Advanced/Professional\", \"Graduate\", \"Undergraduate\", \"Advanced/Professional\", \"Undergraduate\", \"Graduate\", \"Advanced/Professional\", \"Undergraduate\", \"Advanced/Professional\", \"Graduate\", \"Undergraduate\", \"Graduate\", \"Undergraduate\", \"Undergraduate\", \"Advanced/Professional\", \"Graduate\", \"Undergraduate\", \"Undergraduate\", \"Undergraduate\", \"Advanced/Professional\", \"Undergraduate\", \"Undergraduate\", \"Undergraduate\", \"Undergraduate\", \"Graduate\", \"Advanced/Professional\", \"Graduate\", \"Undergraduate\", \"Undergraduate\", \"Graduate\", \"Advanced/Professional\", \"Advanced/Professional\", \"Undergraduate\", \"Undergraduate\", \"Advanced/Professional\", \"Advanced/Professional\", \"Undergraduate\", \"Undergraduate\", \"Undergraduate\", \"Undergraduate\", \"Advanced/Professional\", \"Graduate\", \"Advanced/Professional\", \"Advanced/Professional\", \"Graduate\", \"Graduate\", \"Undergraduate\", \"Advanced/Professional\", \"Undergraduate\", \"Advanced/Professional\", \"Undergraduate\", \"Advanced/Professional\", \"Graduate\", \"Graduate\", \"Advanced/Professional\", \"Advanced/Professional\", \"Advanced/Professional\", \"Undergraduate\", \"Undergraduate\", \"Undergraduate\", \"Undergraduate\", \"Undergraduate\", \"Graduate\", \"Undergraduate\", \"Advanced/Professional\", \"Undergraduate\", \"Advanced/Professional\", \"Graduate\", \"Graduate\", \"Graduate\", \"Undergraduate\", \"Undergraduate\", \"Advanced/Professional\", \"Undergraduate\", \"Undergraduate\", \"Undergraduate\", \"Undergraduate\", \"Graduate\", \"Advanced/Professional\", \"Undergraduate\", \"Undergraduate\", \"Undergraduate\", \"Advanced/Professional\", \"Advanced/Professional\", \"Graduate\", \"Undergraduate\", \"Graduate\", \"Undergraduate\", \"Undergraduate\", \"Graduate\", \"Undergraduate\", \"Graduate\", \"Advanced/Professional\", \"Graduate\", \"Undergraduate\", \"Advanced/Professional\", \"Advanced/Professional\", \"Advanced/Professional\", \"Undergraduate\", \"Advanced/Professional\", \"Advanced/Professional\", \"Undergraduate\", \"Undergraduate\", \"Undergraduate\", \"Undergraduate\", \"Undergraduate\", \"Advanced/Professional\", \"Undergraduate\", \"Undergraduate\", \"Graduate\", \"Advanced/Professional\", \"Advanced/Professional\", \"Graduate\", \"Undergraduate\", \"Advanced/Professional\", \"Graduate\", \"Graduate\", \"Advanced/Professional\", \"Graduate\", \"Undergraduate\", \"Graduate\", \"Graduate\", \"Undergraduate\", \"Undergraduate\", \"Graduate\", \"Advanced/Professional\", \"Advanced/Professional\", \"Graduate\", \"Undergraduate\", \"Advanced/Professional\", \"Undergraduate\", \"Advanced/Professional\", \"Graduate\", \"Graduate\", \"Undergraduate\", \"Advanced/Professional\", \"Graduate\", \"Undergraduate\", \"Graduate\", \"Graduate\", \"Advanced/Professional\", \"Graduate\", \"Undergraduate\", \"Undergraduate\", \"Graduate\", \"Undergraduate\", \"Undergraduate\", \"Undergraduate\", \"Advanced/Professional\", \"Undergraduate\", \"Advanced/Professional\", \"Undergraduate\", \"Advanced/Professional\", \"Undergraduate\", \"Advanced/Professional\", \"Undergraduate\", \"Undergraduate\", \"Undergraduate\", \"Undergraduate\", \"Graduate\", \"Undergraduate\", \"Graduate\", \"Undergraduate\", \"Advanced/Professional\", \"Graduate\", \"Undergraduate\", \"Graduate\", \"Advanced/Professional\", \"Graduate\", \"Undergraduate\", \"Undergraduate\", \"Graduate\", \"Advanced/Professional\", \"Graduate\", \"Undergraduate\", \"Undergraduate\", \"Advanced/Professional\", \"Graduate\", \"Advanced/Professional\", \"Undergraduate\", \"Undergraduate\", \"Graduate\", \"Advanced/Professional\", \"Graduate\", \"Undergraduate\", \"Undergraduate\", \"Advanced/Professional\", \"Advanced/Professional\", \"Graduate\", \"Advanced/Professional\", \"Undergraduate\", \"Advanced/Professional\", \"Graduate\", \"Undergraduate\", \"Advanced/Professional\", \"Graduate\", \"Graduate\", \"Undergraduate\", \"Undergraduate\", \"Undergraduate\", \"Graduate\", \"Undergraduate\", \"Graduate\", \"Undergraduate\", \"Graduate\", \"Undergraduate\", \"Undergraduate\", \"Undergraduate\", \"Undergraduate\", \"Advanced/Professional\", \"Advanced/Professional\", \"Undergraduate\", \"Undergraduate\", \"Undergraduate\", \"Undergraduate\", \"Undergraduate\", \"Advanced/Professional\", \"Undergraduate\", \"Advanced/Professional\", \"Graduate\", \"Undergraduate\", \"Undergraduate\", \"Undergraduate\", \"Graduate\", \"Graduate\", \"Undergraduate\", \"Graduate\", \"Advanced/Professional\", \"Graduate\", \"Undergraduate\", \"Undergraduate\", \"Undergraduate\", \"Undergraduate\", \"Advanced/Professional\", \"Undergraduate\", \"Advanced/Professional\", \"Undergraduate\", \"Undergraduate\", \"Advanced/Professional\", \"Undergraduate\", \"Undergraduate\", \"Graduate\", \"Advanced/Professional\", \"Undergraduate\", \"Undergraduate\", \"Undergraduate\", \"Advanced/Professional\", \"Advanced/Professional\", \"Undergraduate\", \"Graduate\", \"Advanced/Professional\", \"Advanced/Professional\", \"Undergraduate\", \"Advanced/Professional\", \"Graduate\", \"Undergraduate\", \"Undergraduate\", \"Undergraduate\", \"Graduate\", \"Graduate\", \"Graduate\", \"Graduate\", \"Undergraduate\", \"Undergraduate\", \"Undergraduate\", \"Undergraduate\", \"Graduate\", \"Undergraduate\", \"Advanced/Professional\", \"Undergraduate\", \"Advanced/Professional\", \"Graduate\", \"Undergraduate\", \"Undergraduate\", \"Undergraduate\", \"Advanced/Professional\", \"Graduate\", \"Advanced/Professional\", \"Undergraduate\", \"Undergraduate\", \"Advanced/Professional\", \"Advanced/Professional\", \"Advanced/Professional\", \"Graduate\", \"Graduate\", \"Graduate\", \"Advanced/Professional\", \"Undergraduate\", \"Advanced/Professional\", \"Advanced/Professional\", \"Advanced/Professional\", \"Undergraduate\", \"Advanced/Professional\", \"Undergraduate\", \"Graduate\", \"Advanced/Professional\", \"Advanced/Professional\", \"Undergraduate\", \"Graduate\", \"Advanced/Professional\", \"Undergraduate\", \"Undergraduate\", \"Undergraduate\", \"Advanced/Professional\", \"Advanced/Professional\", \"Undergraduate\", \"Graduate\", \"Graduate\", \"Graduate\", \"Advanced/Professional\", \"Graduate\", \"Undergraduate\", \"Graduate\", \"Undergraduate\", \"Graduate\", \"Advanced/Professional\", \"Advanced/Professional\", \"Graduate\", \"Graduate\", \"Undergraduate\", \"Graduate\", \"Advanced/Professional\", \"Undergraduate\", \"Graduate\", \"Advanced/Professional\", \"Advanced/Professional\", \"Graduate\", \"Undergraduate\", \"Graduate\", \"Advanced/Professional\", \"Advanced/Professional\", \"Advanced/Professional\", \"Graduate\", \"Undergraduate\", \"Advanced/Professional\", \"Graduate\", \"Undergraduate\", \"Undergraduate\", \"Undergraduate\", \"Advanced/Professional\", \"Undergraduate\", \"Graduate\", \"Graduate\", \"Graduate\", \"Undergraduate\", \"Advanced/Professional\", \"Undergraduate\", \"Graduate\", \"Advanced/Professional\", \"Undergraduate\", \"Undergraduate\", \"Undergraduate\", \"Undergraduate\", \"Undergraduate\", \"Undergraduate\", \"Graduate\", \"Advanced/Professional\", \"Advanced/Professional\", \"Undergraduate\", \"Undergraduate\", \"Advanced/Professional\", \"Graduate\", \"Graduate\", \"Graduate\", \"Undergraduate\", \"Advanced/Professional\", \"Undergraduate\", \"Undergraduate\", \"Undergraduate\", \"Advanced/Professional\", \"Undergraduate\", \"Undergraduate\", \"Graduate\", \"Graduate\", \"Undergraduate\", \"Graduate\", \"Graduate\", \"Graduate\", \"Undergraduate\", \"Undergraduate\", \"Graduate\", \"Undergraduate\", \"Undergraduate\", \"Advanced/Professional\", \"Advanced/Professional\", \"Undergraduate\", \"Undergraduate\", \"Undergraduate\", \"Graduate\", \"Graduate\", \"Undergraduate\", \"Undergraduate\", \"Undergraduate\", \"Advanced/Professional\", \"Advanced/Professional\", \"Undergraduate\", \"Advanced/Professional\", \"Advanced/Professional\", \"Advanced/Professional\", \"Undergraduate\", \"Advanced/Professional\", \"Undergraduate\", \"Advanced/Professional\", \"Graduate\", \"Graduate\", \"Graduate\", \"Graduate\", \"Undergraduate\", \"Undergraduate\", \"Undergraduate\", \"Graduate\", \"Undergraduate\", \"Advanced/Professional\", \"Undergraduate\", \"Graduate\", \"Undergraduate\", \"Advanced/Professional\", \"Graduate\", \"Advanced/Professional\", \"Advanced/Professional\", \"Advanced/Professional\", \"Undergraduate\", \"Undergraduate\", \"Graduate\", \"Advanced/Professional\", \"Undergraduate\", \"Advanced/Professional\", \"Advanced/Professional\", \"Advanced/Professional\", \"Graduate\", \"Undergraduate\", \"Advanced/Professional\", \"Graduate\", \"Undergraduate\", \"Undergraduate\", \"Advanced/Professional\", \"Advanced/Professional\", \"Undergraduate\", \"Graduate\", \"Advanced/Professional\", \"Advanced/Professional\", \"Graduate\", \"Graduate\", \"Undergraduate\", \"Undergraduate\", \"Undergraduate\", \"Graduate\", \"Advanced/Professional\", \"Undergraduate\", \"Advanced/Professional\", \"Graduate\", \"Undergraduate\", \"Undergraduate\", \"Undergraduate\", \"Advanced/Professional\", \"Graduate\", \"Advanced/Professional\", \"Graduate\", \"Advanced/Professional\", \"Graduate\", \"Advanced/Professional\", \"Advanced/Professional\", \"Graduate\", \"Undergraduate\", \"Advanced/Professional\", \"Undergraduate\", \"Advanced/Professional\", \"Undergraduate\", \"Advanced/Professional\", \"Advanced/Professional\", \"Advanced/Professional\", \"Undergraduate\", \"Undergraduate\", \"Undergraduate\", \"Undergraduate\", \"Advanced/Professional\", \"Undergraduate\", \"Undergraduate\", \"Undergraduate\", \"Graduate\", \"Undergraduate\", \"Graduate\", \"Undergraduate\", \"Graduate\", \"Advanced/Professional\", \"Graduate\", \"Graduate\", \"Advanced/Professional\", \"Undergraduate\", \"Advanced/Professional\", \"Graduate\", \"Undergraduate\", \"Undergraduate\", \"Advanced/Professional\", \"Advanced/Professional\", \"Undergraduate\", \"Graduate\", \"Graduate\", \"Undergraduate\", \"Advanced/Professional\", \"Graduate\", \"Undergraduate\", \"Advanced/Professional\", \"Undergraduate\", \"Undergraduate\", \"Advanced/Professional\", \"Graduate\", \"Graduate\", \"Undergraduate\", \"Undergraduate\", \"Advanced/Professional\", \"Undergraduate\", \"Undergraduate\", \"Advanced/Professional\", \"Advanced/Professional\", \"Undergraduate\", \"Undergraduate\", \"Advanced/Professional\", \"Undergraduate\", \"Undergraduate\", \"Undergraduate\", \"Undergraduate\", \"Undergraduate\", \"Advanced/Professional\", \"Advanced/Professional\", \"Graduate\", \"Graduate\", \"Advanced/Professional\", \"Undergraduate\", \"Advanced/Professional\", \"Advanced/Professional\", \"Graduate\", \"Advanced/Professional\", \"Undergraduate\", \"Advanced/Professional\", \"Undergraduate\", \"Undergraduate\", \"Undergraduate\", \"Advanced/Professional\", \"Advanced/Professional\", \"Advanced/Professional\", \"Graduate\", \"Undergraduate\", \"Advanced/Professional\", \"Advanced/Professional\", \"Advanced/Professional\", \"Undergraduate\", \"Graduate\", \"Undergraduate\", \"Graduate\", \"Undergraduate\", \"Undergraduate\", \"Graduate\", \"Graduate\", \"Graduate\", \"Advanced/Professional\", \"Undergraduate\", \"Graduate\", \"Graduate\", \"Advanced/Professional\", \"Graduate\", \"Undergraduate\", \"Advanced/Professional\", \"Graduate\", \"Undergraduate\", \"Advanced/Professional\", \"Graduate\", \"Advanced/Professional\", \"Graduate\", \"Undergraduate\", \"Undergraduate\", \"Undergraduate\", \"Undergraduate\", \"Advanced/Professional\", \"Undergraduate\", \"Undergraduate\", \"Advanced/Professional\", \"Advanced/Professional\", \"Undergraduate\", \"Graduate\", \"Advanced/Professional\", \"Graduate\", \"Undergraduate\", \"Undergraduate\", \"Graduate\", \"Advanced/Professional\", \"Graduate\", \"Advanced/Professional\", \"Advanced/Professional\", \"Advanced/Professional\", \"Advanced/Professional\", \"Advanced/Professional\", \"Advanced/Professional\", \"Undergraduate\", \"Graduate\", \"Advanced/Professional\", \"Undergraduate\", \"Undergraduate\", \"Advanced/Professional\", \"Undergraduate\", \"Undergraduate\", \"Graduate\", \"Graduate\", \"Advanced/Professional\", \"Undergraduate\", \"Advanced/Professional\", \"Undergraduate\", \"Advanced/Professional\", \"Advanced/Professional\", \"Graduate\", \"Undergraduate\", \"Advanced/Professional\", \"Undergraduate\", \"Advanced/Professional\", \"Graduate\", \"Undergraduate\", \"Advanced/Professional\", \"Undergraduate\", \"Undergraduate\", \"Advanced/Professional\", \"Undergraduate\", \"Graduate\", \"Graduate\", \"Undergraduate\", \"Undergraduate\", \"Graduate\", \"Advanced/Professional\", \"Advanced/Professional\", \"Undergraduate\", \"Undergraduate\", \"Graduate\", \"Undergraduate\", \"Advanced/Professional\", \"Advanced/Professional\", \"Advanced/Professional\", \"Advanced/Professional\", \"Graduate\", \"Graduate\", \"Undergraduate\", \"Undergraduate\", \"Undergraduate\", \"Undergraduate\", \"Graduate\", \"Advanced/Professional\", \"Advanced/Professional\", \"Graduate\", \"Undergraduate\", \"Graduate\", \"Graduate\", \"Graduate\", \"Undergraduate\", \"Undergraduate\", \"Advanced/Professional\", \"Undergraduate\", \"Graduate\", \"Undergraduate\", \"Undergraduate\", \"Undergraduate\", \"Undergraduate\", \"Undergraduate\", \"Advanced/Professional\", \"Undergraduate\", \"Undergraduate\", \"Graduate\", \"Advanced/Professional\", \"Undergraduate\", \"Advanced/Professional\", \"Graduate\", \"Undergraduate\", \"Undergraduate\", \"Advanced/Professional\", \"Advanced/Professional\", \"Graduate\", \"Graduate\", \"Advanced/Professional\", \"Undergraduate\", \"Undergraduate\", \"Graduate\", \"Advanced/Professional\", \"Undergraduate\", \"Advanced/Professional\", \"Advanced/Professional\", \"Advanced/Professional\", \"Graduate\", \"Graduate\", \"Advanced/Professional\", \"Graduate\", \"Advanced/Professional\", \"Undergraduate\", \"Graduate\", \"Graduate\", \"Undergraduate\", \"Graduate\", \"Undergraduate\", \"Graduate\", \"Graduate\", \"Advanced/Professional\", \"Advanced/Professional\", \"Undergraduate\", \"Graduate\", \"Graduate\", \"Advanced/Professional\", \"Advanced/Professional\", \"Graduate\", \"Undergraduate\", \"Graduate\", \"Advanced/Professional\", \"Undergraduate\", \"Undergraduate\", \"Undergraduate\", \"Undergraduate\", \"Undergraduate\", \"Advanced/Professional\", \"Graduate\", \"Advanced/Professional\", \"Undergraduate\", \"Undergraduate\", \"Undergraduate\", \"Undergraduate\", \"Advanced/Professional\", \"Graduate\", \"Graduate\", \"Undergraduate\", \"Advanced/Professional\", \"Graduate\", \"Graduate\", \"Undergraduate\", \"Advanced/Professional\", \"Graduate\", \"Undergraduate\", \"Undergraduate\", \"Undergraduate\", \"Graduate\", \"Graduate\", \"Graduate\", \"Advanced/Professional\", \"Graduate\", \"Undergraduate\", \"Graduate\", \"Undergraduate\", \"Advanced/Professional\", \"Advanced/Professional\", \"Advanced/Professional\", \"Graduate\", \"Graduate\", \"Graduate\", \"Advanced/Professional\", \"Advanced/Professional\", \"Advanced/Professional\", \"Graduate\", \"Undergraduate\", \"Graduate\", \"Graduate\", \"Graduate\", \"Undergraduate\", \"Graduate\", \"Graduate\", \"Graduate\", \"Undergraduate\", \"Advanced/Professional\", \"Advanced/Professional\", \"Undergraduate\", \"Undergraduate\", \"Graduate\", \"Undergraduate\", \"Advanced/Professional\", \"Graduate\", \"Advanced/Professional\", \"Advanced/Professional\", \"Graduate\", \"Undergraduate\", \"Undergraduate\", \"Graduate\", \"Advanced/Professional\", \"Advanced/Professional\", \"Undergraduate\", \"Undergraduate\", \"Undergraduate\", \"Undergraduate\", \"Undergraduate\", \"Advanced/Professional\", \"Undergraduate\", \"Graduate\", \"Advanced/Professional\", \"Undergraduate\", \"Graduate\", \"Graduate\", \"Graduate\", \"Advanced/Professional\", \"Undergraduate\", \"Advanced/Professional\", \"Undergraduate\", \"Undergraduate\", \"Undergraduate\", \"Advanced/Professional\", \"Advanced/Professional\", \"Undergraduate\", \"Undergraduate\", \"Advanced/Professional\", \"Graduate\", \"Graduate\", \"Undergraduate\", \"Advanced/Professional\", \"Undergraduate\", \"Advanced/Professional\", \"Advanced/Professional\", \"Advanced/Professional\", \"Advanced/Professional\", \"Undergraduate\", \"Advanced/Professional\", \"Graduate\", \"Advanced/Professional\", \"Graduate\", \"Advanced/Professional\", \"Graduate\", \"Graduate\", \"Undergraduate\", \"Undergraduate\", \"Graduate\", \"Graduate\", \"Undergraduate\", \"Graduate\", \"Graduate\", \"Undergraduate\", \"Undergraduate\", \"Graduate\", \"Undergraduate\", \"Undergraduate\", \"Undergraduate\", \"Graduate\", \"Graduate\", \"Advanced/Professional\", \"Advanced/Professional\", \"Undergraduate\", \"Undergraduate\", \"Undergraduate\", \"Graduate\", \"Undergraduate\", \"Undergraduate\", \"Undergraduate\", \"Undergraduate\", \"Undergraduate\", \"Undergraduate\", \"Graduate\", \"Graduate\", \"Advanced/Professional\", \"Undergraduate\", \"Undergraduate\", \"Undergraduate\", \"Undergraduate\", \"Undergraduate\", \"Advanced/Professional\", \"Undergraduate\", \"Graduate\", \"Advanced/Professional\", \"Graduate\", \"Undergraduate\", \"Advanced/Professional\", \"Advanced/Professional\", \"Graduate\", \"Undergraduate\", \"Undergraduate\", \"Advanced/Professional\", \"Undergraduate\", \"Advanced/Professional\", \"Advanced/Professional\", \"Advanced/Professional\", \"Graduate\", \"Graduate\", \"Undergraduate\", \"Undergraduate\", \"Graduate\", \"Advanced/Professional\", \"Undergraduate\", \"Undergraduate\", \"Advanced/Professional\", \"Advanced/Professional\", \"Undergraduate\", \"Undergraduate\", \"Undergraduate\", \"Graduate\", \"Advanced/Professional\", \"Graduate\", \"Advanced/Professional\", \"Undergraduate\", \"Undergraduate\", \"Undergraduate\", \"Graduate\", \"Advanced/Professional\", \"Graduate\", \"Advanced/Professional\", \"Undergraduate\", \"Graduate\", \"Advanced/Professional\", \"Undergraduate\", \"Undergraduate\", \"Undergraduate\", \"Advanced/Professional\", \"Undergraduate\", \"Graduate\", \"Advanced/Professional\", \"Undergraduate\", \"Graduate\", \"Graduate\", \"Undergraduate\", \"Graduate\", \"Undergraduate\", \"Advanced/Professional\", \"Graduate\", \"Advanced/Professional\", \"Advanced/Professional\", \"Undergraduate\", \"Undergraduate\", \"Graduate\", \"Advanced/Professional\", \"Advanced/Professional\", \"Undergraduate\", \"Undergraduate\", \"Undergraduate\", \"Advanced/Professional\", \"Undergraduate\", \"Advanced/Professional\", \"Undergraduate\", \"Undergraduate\", \"Graduate\", \"Undergraduate\", \"Advanced/Professional\", \"Advanced/Professional\", \"Advanced/Professional\", \"Undergraduate\", \"Graduate\", \"Undergraduate\", \"Undergraduate\", \"Undergraduate\", \"Graduate\", \"Advanced/Professional\", \"Undergraduate\", \"Undergraduate\", \"Undergraduate\", \"Undergraduate\", \"Undergraduate\", \"Undergraduate\", \"Undergraduate\", \"Advanced/Professional\", \"Undergraduate\", \"Graduate\", \"Graduate\", \"Graduate\", \"Undergraduate\", \"Advanced/Professional\", \"Undergraduate\", \"Advanced/Professional\", \"Undergraduate\", \"Graduate\", \"Advanced/Professional\", \"Undergraduate\", \"Undergraduate\", \"Undergraduate\", \"Undergraduate\", \"Undergraduate\", \"Undergraduate\", \"Undergraduate\", \"Undergraduate\", \"Undergraduate\", \"Graduate\", \"Undergraduate\", \"Undergraduate\", \"Graduate\", \"Undergraduate\", \"Advanced/Professional\", \"Advanced/Professional\", \"Undergraduate\", \"Graduate\", \"Undergraduate\", \"Undergraduate\", \"Undergraduate\", \"Undergraduate\", \"Undergraduate\", \"Advanced/Professional\", \"Advanced/Professional\", \"Undergraduate\", \"Undergraduate\", \"Undergraduate\", \"Advanced/Professional\", \"Graduate\", \"Graduate\", \"Undergraduate\", \"Advanced/Professional\", \"Graduate\", \"Undergraduate\", \"Undergraduate\", \"Undergraduate\", \"Graduate\", \"Undergraduate\", \"Graduate\", \"Advanced/Professional\", \"Graduate\", \"Undergraduate\", \"Advanced/Professional\", \"Graduate\", \"Advanced/Professional\", \"Advanced/Professional\", \"Undergraduate\", \"Advanced/Professional\", \"Graduate\", \"Advanced/Professional\", \"Undergraduate\", \"Graduate\", \"Undergraduate\", \"Graduate\", \"Undergraduate\", \"Undergraduate\", \"Graduate\", \"Advanced/Professional\", \"Graduate\", \"Advanced/Professional\", \"Undergraduate\", \"Advanced/Professional\", \"Advanced/Professional\", \"Undergraduate\", \"Undergraduate\", \"Graduate\", \"Undergraduate\", \"Undergraduate\", \"Undergraduate\", \"Graduate\", \"Graduate\", \"Advanced/Professional\", \"Graduate\", \"Advanced/Professional\", \"Advanced/Professional\", \"Graduate\", \"Undergraduate\", \"Graduate\", \"Graduate\", \"Graduate\", \"Undergraduate\", \"Graduate\", \"Undergraduate\", \"Undergraduate\", \"Undergraduate\", \"Advanced/Professional\", \"Undergraduate\", \"Undergraduate\", \"Undergraduate\", \"Graduate\", \"Advanced/Professional\", \"Undergraduate\", \"Advanced/Professional\", \"Advanced/Professional\", \"Advanced/Professional\", \"Undergraduate\", \"Graduate\", \"Undergraduate\", \"Undergraduate\", \"Advanced/Professional\", \"Advanced/Professional\", \"Advanced/Professional\", \"Graduate\", \"Undergraduate\", \"Undergraduate\", \"Undergraduate\", \"Graduate\", \"Advanced/Professional\", \"Undergraduate\", \"Graduate\", \"Advanced/Professional\", \"Undergraduate\", \"Advanced/Professional\", \"Undergraduate\", \"Undergraduate\", \"Undergraduate\", \"Graduate\", \"Undergraduate\", \"Undergraduate\", \"Graduate\", \"Advanced/Professional\", \"Undergraduate\", \"Undergraduate\", \"Advanced/Professional\", \"Undergraduate\", \"Undergraduate\", \"Undergraduate\", \"Undergraduate\", \"Graduate\", \"Graduate\", \"Advanced/Professional\", \"Graduate\", \"Graduate\", \"Advanced/Professional\", \"Undergraduate\", \"Undergraduate\", \"Advanced/Professional\", \"Undergraduate\", \"Graduate\", \"Graduate\", \"Graduate\", \"Graduate\", \"Undergraduate\", \"Undergraduate\", \"Advanced/Professional\", \"Advanced/Professional\", \"Advanced/Professional\", \"Undergraduate\", \"Advanced/Professional\", \"Advanced/Professional\", \"Undergraduate\", \"Graduate\", \"Undergraduate\", \"Advanced/Professional\", \"Undergraduate\", \"Graduate\", \"Advanced/Professional\", \"Graduate\", \"Graduate\", \"Graduate\", \"Graduate\", \"Undergraduate\", \"Graduate\", \"Undergraduate\", \"Undergraduate\", \"Undergraduate\", \"Advanced/Professional\", \"Advanced/Professional\", \"Graduate\", \"Undergraduate\", \"Undergraduate\", \"Advanced/Professional\", \"Undergraduate\", \"Advanced/Professional\", \"Advanced/Professional\", \"Graduate\", \"Undergraduate\", \"Advanced/Professional\", \"Graduate\", \"Undergraduate\", \"Graduate\", \"Graduate\", \"Undergraduate\", \"Advanced/Professional\", \"Graduate\", \"Undergraduate\", \"Advanced/Professional\", \"Graduate\", \"Undergraduate\", \"Advanced/Professional\", \"Undergraduate\", \"Undergraduate\", \"Advanced/Professional\", \"Undergraduate\", \"Graduate\", \"Undergraduate\", \"Advanced/Professional\", \"Undergraduate\", \"Advanced/Professional\", \"Advanced/Professional\", \"Undergraduate\", \"Undergraduate\", \"Graduate\", \"Advanced/Professional\", \"Undergraduate\", \"Advanced/Professional\", \"Graduate\", \"Advanced/Professional\", \"Undergraduate\", \"Undergraduate\", \"Undergraduate\", \"Graduate\", \"Undergraduate\", \"Undergraduate\", \"Undergraduate\", \"Graduate\", \"Graduate\", \"Advanced/Professional\", \"Undergraduate\", \"Advanced/Professional\", \"Advanced/Professional\", \"Graduate\", \"Undergraduate\", \"Undergraduate\", \"Undergraduate\", \"Undergraduate\", \"Advanced/Professional\", \"Undergraduate\", \"Advanced/Professional\", \"Advanced/Professional\", \"Advanced/Professional\", \"Undergraduate\", \"Advanced/Professional\", \"Undergraduate\", \"Advanced/Professional\", \"Graduate\", \"Advanced/Professional\", \"Advanced/Professional\", \"Graduate\", \"Graduate\", \"Undergraduate\", \"Undergraduate\", \"Graduate\", \"Advanced/Professional\", \"Undergraduate\", \"Advanced/Professional\", \"Undergraduate\", \"Advanced/Professional\", \"Graduate\", \"Graduate\", \"Undergraduate\", \"Graduate\", \"Graduate\", \"Undergraduate\", \"Graduate\", \"Graduate\", \"Undergraduate\", \"Advanced/Professional\", \"Advanced/Professional\", \"Advanced/Professional\", \"Undergraduate\", \"Undergraduate\", \"Advanced/Professional\", \"Undergraduate\", \"Undergraduate\", \"Undergraduate\", \"Undergraduate\", \"Graduate\", \"Graduate\", \"Graduate\", \"Undergraduate\", \"Advanced/Professional\", \"Undergraduate\", \"Undergraduate\", \"Graduate\", \"Undergraduate\", \"Undergraduate\", \"Advanced/Professional\", \"Undergraduate\", \"Undergraduate\", \"Graduate\", \"Graduate\", \"Advanced/Professional\", \"Graduate\", \"Undergraduate\", \"Advanced/Professional\", \"Undergraduate\", \"Advanced/Professional\", \"Advanced/Professional\", \"Graduate\", \"Undergraduate\", \"Undergraduate\", \"Graduate\", \"Graduate\", \"Graduate\", \"Advanced/Professional\", \"Undergraduate\", \"Graduate\", \"Graduate\", \"Undergraduate\", \"Undergraduate\", \"Graduate\", \"Undergraduate\", \"Advanced/Professional\", \"Graduate\", \"Undergraduate\", \"Advanced/Professional\", \"Graduate\", \"Advanced/Professional\", \"Advanced/Professional\", \"Undergraduate\", \"Undergraduate\", \"Graduate\", \"Advanced/Professional\", \"Advanced/Professional\", \"Advanced/Professional\", \"Graduate\", \"Advanced/Professional\", \"Undergraduate\", \"Advanced/Professional\", \"Undergraduate\", \"Advanced/Professional\", \"Undergraduate\", \"Advanced/Professional\", \"Graduate\", \"Graduate\", \"Undergraduate\", \"Advanced/Professional\", \"Advanced/Professional\", \"Undergraduate\", \"Graduate\", \"Graduate\", \"Undergraduate\", \"Advanced/Professional\", \"Advanced/Professional\", \"Graduate\", \"Undergraduate\", \"Advanced/Professional\", \"Advanced/Professional\", \"Advanced/Professional\", \"Undergraduate\", \"Graduate\", \"Undergraduate\", \"Undergraduate\", \"Graduate\", \"Advanced/Professional\", \"Graduate\", \"Graduate\", \"Undergraduate\", \"Undergraduate\", \"Advanced/Professional\", \"Graduate\", \"Advanced/Professional\", \"Advanced/Professional\", \"Undergraduate\", \"Advanced/Professional\", \"Undergraduate\", \"Undergraduate\", \"Graduate\", \"Graduate\", \"Advanced/Professional\", \"Undergraduate\", \"Graduate\", \"Undergraduate\", \"Advanced/Professional\", \"Advanced/Professional\", \"Graduate\", \"Graduate\", \"Graduate\", \"Graduate\", \"Undergraduate\", \"Advanced/Professional\", \"Advanced/Professional\", \"Graduate\", \"Graduate\", \"Advanced/Professional\", \"Advanced/Professional\", \"Graduate\", \"Graduate\", \"Advanced/Professional\", \"Undergraduate\", \"Undergraduate\", \"Undergraduate\", \"Graduate\", \"Advanced/Professional\", \"Undergraduate\", \"Advanced/Professional\", \"Undergraduate\", \"Undergraduate\", \"Advanced/Professional\", \"Undergraduate\", \"Undergraduate\", \"Undergraduate\", \"Undergraduate\", \"Advanced/Professional\", \"Undergraduate\", \"Graduate\", \"Graduate\", \"Undergraduate\", \"Graduate\", \"Undergraduate\", \"Graduate\", \"Graduate\", \"Undergraduate\", \"Advanced/Professional\", \"Advanced/Professional\", \"Advanced/Professional\", \"Advanced/Professional\", \"Graduate\", \"Advanced/Professional\", \"Undergraduate\", \"Undergraduate\", \"Graduate\", \"Undergraduate\", \"Undergraduate\", \"Undergraduate\", \"Advanced/Professional\", \"Undergraduate\", \"Graduate\", \"Undergraduate\", \"Graduate\", \"Graduate\", \"Undergraduate\", \"Undergraduate\", \"Advanced/Professional\", \"Advanced/Professional\", \"Graduate\", \"Graduate\", \"Undergraduate\", \"Undergraduate\", \"Undergraduate\", \"Graduate\", \"Undergraduate\", \"Graduate\", \"Advanced/Professional\", \"Undergraduate\", \"Undergraduate\", \"Undergraduate\", \"Undergraduate\", \"Advanced/Professional\", \"Graduate\", \"Advanced/Professional\", \"Undergraduate\", \"Undergraduate\", \"Undergraduate\", \"Advanced/Professional\", \"Graduate\", \"Undergraduate\", \"Undergraduate\", \"Graduate\", \"Advanced/Professional\", \"Undergraduate\", \"Graduate\", \"Advanced/Professional\", \"Undergraduate\", \"Advanced/Professional\", \"Advanced/Professional\", \"Graduate\", \"Graduate\", \"Advanced/Professional\", \"Undergraduate\", \"Advanced/Professional\", \"Graduate\", \"Graduate\", \"Undergraduate\", \"Graduate\", \"Undergraduate\", \"Graduate\", \"Undergraduate\", \"Undergraduate\", \"Advanced/Professional\", \"Advanced/Professional\", \"Advanced/Professional\", \"Advanced/Professional\", \"Undergraduate\", \"Graduate\", \"Undergraduate\", \"Graduate\", \"Undergraduate\", \"Graduate\", \"Undergraduate\", \"Undergraduate\", \"Undergraduate\", \"Advanced/Professional\", \"Undergraduate\", \"Graduate\", \"Undergraduate\", \"Undergraduate\", \"Undergraduate\", \"Undergraduate\", \"Graduate\", \"Graduate\", \"Graduate\", \"Undergraduate\", \"Graduate\", \"Advanced/Professional\", \"Undergraduate\", \"Advanced/Professional\", \"Undergraduate\", \"Undergraduate\", \"Graduate\", \"Graduate\", \"Graduate\", \"Advanced/Professional\", \"Undergraduate\", \"Graduate\", \"Undergraduate\", \"Graduate\", \"Graduate\", \"Advanced/Professional\", \"Graduate\", \"Graduate\", \"Undergraduate\", \"Undergraduate\", \"Undergraduate\", \"Undergraduate\", \"Graduate\", \"Advanced/Professional\", \"Advanced/Professional\", \"Undergraduate\", \"Advanced/Professional\", \"Undergraduate\", \"Graduate\", \"Advanced/Professional\", \"Undergraduate\", \"Advanced/Professional\", \"Undergraduate\", \"Undergraduate\", \"Graduate\", \"Undergraduate\", \"Graduate\", \"Undergraduate\", \"Graduate\", \"Graduate\", \"Advanced/Professional\", \"Undergraduate\", \"Advanced/Professional\", \"Undergraduate\", \"Undergraduate\", \"Undergraduate\", \"Advanced/Professional\", \"Undergraduate\", \"Advanced/Professional\", \"Advanced/Professional\", \"Graduate\", \"Graduate\", \"Advanced/Professional\", \"Undergraduate\", \"Graduate\", \"Graduate\", \"Graduate\", \"Undergraduate\", \"Undergraduate\", \"Undergraduate\", \"Advanced/Professional\", \"Undergraduate\", \"Graduate\", \"Graduate\", \"Advanced/Professional\", \"Undergraduate\", \"Advanced/Professional\", \"Undergraduate\", \"Undergraduate\", \"Advanced/Professional\", \"Undergraduate\", \"Advanced/Professional\", \"Graduate\", \"Graduate\", \"Undergraduate\", \"Graduate\", \"Undergraduate\", \"Advanced/Professional\", \"Advanced/Professional\", \"Advanced/Professional\", \"Advanced/Professional\", \"Undergraduate\", \"Undergraduate\", \"Undergraduate\", \"Advanced/Professional\", \"Graduate\", \"Advanced/Professional\", \"Advanced/Professional\", \"Undergraduate\", \"Undergraduate\", \"Advanced/Professional\", \"Graduate\", \"Graduate\", \"Graduate\", \"Undergraduate\", \"Graduate\", \"Advanced/Professional\", \"Undergraduate\", \"Graduate\", \"Advanced/Professional\", \"Undergraduate\", \"Undergraduate\", \"Undergraduate\", \"Graduate\", \"Undergraduate\", \"Advanced/Professional\", \"Undergraduate\", \"Advanced/Professional\", \"Undergraduate\", \"Graduate\", \"Undergraduate\", \"Undergraduate\", \"Advanced/Professional\", \"Undergraduate\", \"Graduate\", \"Advanced/Professional\", \"Undergraduate\", \"Advanced/Professional\", \"Advanced/Professional\", \"Undergraduate\", \"Undergraduate\", \"Graduate\", \"Advanced/Professional\", \"Graduate\", \"Undergraduate\", \"Graduate\", \"Undergraduate\", \"Undergraduate\", \"Advanced/Professional\", \"Graduate\", \"Undergraduate\", \"Undergraduate\", \"Undergraduate\", \"Undergraduate\", \"Graduate\", \"Graduate\", \"Advanced/Professional\", \"Advanced/Professional\", \"Undergraduate\", \"Advanced/Professional\", \"Graduate\", \"Advanced/Professional\", \"Advanced/Professional\", \"Undergraduate\", \"Undergraduate\", \"Advanced/Professional\", \"Undergraduate\", \"Undergraduate\", \"Undergraduate\", \"Advanced/Professional\", \"Advanced/Professional\", \"Advanced/Professional\", \"Graduate\", \"Graduate\", \"Undergraduate\", \"Graduate\", \"Graduate\", \"Undergraduate\", \"Graduate\", \"Undergraduate\", \"Undergraduate\", \"Graduate\", \"Advanced/Professional\", \"Undergraduate\", \"Advanced/Professional\", \"Graduate\", \"Undergraduate\", \"Graduate\", \"Undergraduate\", \"Advanced/Professional\", \"Graduate\", \"Advanced/Professional\", \"Graduate\", \"Undergraduate\", \"Undergraduate\", \"Undergraduate\", \"Undergraduate\", \"Advanced/Professional\", \"Undergraduate\", \"Advanced/Professional\", \"Undergraduate\", \"Graduate\", \"Undergraduate\", \"Undergraduate\", \"Graduate\", \"Graduate\", \"Graduate\", \"Graduate\", \"Undergraduate\", \"Advanced/Professional\", \"Undergraduate\", \"Graduate\", \"Undergraduate\", \"Graduate\", \"Graduate\", \"Advanced/Professional\", \"Undergraduate\", \"Undergraduate\", \"Undergraduate\", \"Undergraduate\", \"Graduate\", \"Advanced/Professional\", \"Graduate\", \"Advanced/Professional\", \"Advanced/Professional\", \"Advanced/Professional\", \"Advanced/Professional\", \"Undergraduate\", \"Advanced/Professional\", \"Advanced/Professional\", \"Graduate\", \"Undergraduate\", \"Undergraduate\", \"Advanced/Professional\", \"Advanced/Professional\", \"Graduate\", \"Advanced/Professional\", \"Advanced/Professional\", \"Advanced/Professional\", \"Advanced/Professional\", \"Graduate\", \"Advanced/Professional\", \"Advanced/Professional\", \"Graduate\", \"Undergraduate\", \"Graduate\", \"Undergraduate\", \"Undergraduate\", \"Advanced/Professional\", \"Advanced/Professional\", \"Undergraduate\", \"Undergraduate\", \"Graduate\", \"Undergraduate\", \"Graduate\", \"Advanced/Professional\", \"Advanced/Professional\", \"Graduate\", \"Graduate\", \"Graduate\", \"Undergraduate\", \"Advanced/Professional\", \"Advanced/Professional\", \"Advanced/Professional\", \"Advanced/Professional\", \"Undergraduate\", \"Undergraduate\", \"Undergraduate\", \"Undergraduate\", \"Graduate\", \"Advanced/Professional\", \"Undergraduate\", \"Advanced/Professional\", \"Undergraduate\", \"Graduate\", \"Undergraduate\", \"Undergraduate\", \"Advanced/Professional\", \"Undergraduate\", \"Undergraduate\", \"Advanced/Professional\", \"Graduate\", \"Advanced/Professional\", \"Advanced/Professional\", \"Undergraduate\", \"Undergraduate\", \"Graduate\", \"Undergraduate\", \"Undergraduate\", \"Undergraduate\", \"Graduate\", \"Undergraduate\", \"Advanced/Professional\", \"Undergraduate\", \"Undergraduate\", \"Graduate\", \"Graduate\", \"Graduate\", \"Advanced/Professional\", \"Undergraduate\", \"Undergraduate\", \"Undergraduate\", \"Graduate\", \"Undergraduate\", \"Graduate\", \"Undergraduate\", \"Undergraduate\", \"Advanced/Professional\", \"Advanced/Professional\", \"Graduate\", \"Undergraduate\", \"Advanced/Professional\", \"Undergraduate\", \"Graduate\", \"Advanced/Professional\", \"Undergraduate\", \"Undergraduate\", \"Advanced/Professional\", \"Graduate\", \"Undergraduate\", \"Undergraduate\", \"Undergraduate\", \"Advanced/Professional\", \"Undergraduate\", \"Undergraduate\", \"Graduate\", \"Undergraduate\", \"Graduate\", \"Graduate\", \"Graduate\", \"Advanced/Professional\", \"Advanced/Professional\", \"Graduate\", \"Undergraduate\", \"Advanced/Professional\", \"Undergraduate\", \"Advanced/Professional\", \"Graduate\", \"Undergraduate\", \"Undergraduate\", \"Undergraduate\", \"Advanced/Professional\", \"Graduate\", \"Undergraduate\", \"Undergraduate\", \"Undergraduate\", \"Graduate\", \"Advanced/Professional\", \"Undergraduate\", \"Advanced/Professional\", \"Undergraduate\", \"Undergraduate\", \"Advanced/Professional\", \"Undergraduate\", \"Undergraduate\", \"Undergraduate\", \"Advanced/Professional\", \"Undergraduate\", \"Advanced/Professional\", \"Undergraduate\", \"Undergraduate\", \"Undergraduate\", \"Undergraduate\", \"Undergraduate\", \"Graduate\", \"Advanced/Professional\", \"Graduate\", \"Advanced/Professional\", \"Undergraduate\", \"Undergraduate\", \"Advanced/Professional\", \"Graduate\", \"Graduate\", \"Graduate\", \"Undergraduate\", \"Undergraduate\", \"Undergraduate\", \"Undergraduate\", \"Graduate\", \"Undergraduate\", \"Advanced/Professional\", \"Undergraduate\", \"Advanced/Professional\", \"Graduate\", \"Advanced/Professional\", \"Undergraduate\", \"Advanced/Professional\", \"Undergraduate\", \"Undergraduate\", \"Graduate\", \"Undergraduate\", \"Undergraduate\", \"Graduate\", \"Undergraduate\", \"Undergraduate\", \"Graduate\", \"Undergraduate\", \"Graduate\", \"Advanced/Professional\", \"Graduate\", \"Undergraduate\", \"Undergraduate\", \"Undergraduate\", \"Graduate\", \"Undergraduate\", \"Advanced/Professional\", \"Advanced/Professional\", \"Undergraduate\", \"Graduate\", \"Advanced/Professional\", \"Advanced/Professional\", \"Advanced/Professional\", \"Graduate\", \"Undergraduate\", \"Advanced/Professional\", \"Graduate\", \"Graduate\", \"Undergraduate\", \"Undergraduate\", \"Undergraduate\", \"Advanced/Professional\", \"Undergraduate\", \"Graduate\", \"Undergraduate\", \"Graduate\", \"Undergraduate\", \"Undergraduate\", \"Undergraduate\", \"Advanced/Professional\", \"Undergraduate\", \"Advanced/Professional\", \"Undergraduate\", \"Advanced/Professional\", \"Undergraduate\", \"Undergraduate\", \"Undergraduate\", \"Undergraduate\", \"Advanced/Professional\", \"Graduate\", \"Undergraduate\", \"Undergraduate\", \"Undergraduate\", \"Graduate\", \"Graduate\", \"Undergraduate\", \"Graduate\", \"Advanced/Professional\", \"Undergraduate\", \"Graduate\", \"Undergraduate\", \"Graduate\", \"Undergraduate\", \"Advanced/Professional\", \"Undergraduate\", \"Undergraduate\", \"Undergraduate\", \"Undergraduate\", \"Advanced/Professional\", \"Undergraduate\", \"Advanced/Professional\", \"Advanced/Professional\", \"Advanced/Professional\", \"Advanced/Professional\", \"Graduate\", \"Undergraduate\", \"Undergraduate\", \"Undergraduate\", \"Advanced/Professional\", \"Undergraduate\", \"Undergraduate\", \"Undergraduate\", \"Graduate\", \"Undergraduate\", \"Graduate\", \"Undergraduate\", \"Undergraduate\", \"Graduate\", \"Undergraduate\", \"Advanced/Professional\", \"Undergraduate\", \"Undergraduate\", \"Advanced/Professional\", \"Undergraduate\", \"Undergraduate\", \"Undergraduate\", \"Advanced/Professional\", \"Graduate\", \"Advanced/Professional\", \"Graduate\", \"Advanced/Professional\", \"Undergraduate\", \"Graduate\", \"Advanced/Professional\", \"Undergraduate\", \"Advanced/Professional\", \"Advanced/Professional\", \"Advanced/Professional\", \"Graduate\", \"Undergraduate\", \"Graduate\", \"Undergraduate\", \"Advanced/Professional\", \"Undergraduate\", \"Advanced/Professional\", \"Undergraduate\", \"Undergraduate\", \"Undergraduate\", \"Advanced/Professional\", \"Undergraduate\", \"Advanced/Professional\", \"Undergraduate\", \"Advanced/Professional\", \"Advanced/Professional\", \"Undergraduate\", \"Advanced/Professional\", \"Advanced/Professional\", \"Undergraduate\", \"Advanced/Professional\", \"Advanced/Professional\", \"Advanced/Professional\", \"Undergraduate\", \"Undergraduate\", \"Undergraduate\", \"Advanced/Professional\", \"Advanced/Professional\", \"Undergraduate\", \"Graduate\", \"Undergraduate\", \"Graduate\", \"Undergraduate\", \"Undergraduate\", \"Advanced/Professional\", \"Graduate\", \"Undergraduate\", \"Graduate\", \"Undergraduate\", \"Undergraduate\", \"Graduate\", \"Advanced/Professional\", \"Undergraduate\", \"Graduate\", \"Undergraduate\", \"Graduate\", \"Graduate\", \"Undergraduate\", \"Advanced/Professional\", \"Advanced/Professional\", \"Undergraduate\", \"Undergraduate\", \"Undergraduate\", \"Graduate\", \"Graduate\", \"Advanced/Professional\", \"Undergraduate\", \"Graduate\", \"Advanced/Professional\", \"Undergraduate\", \"Undergraduate\", \"Advanced/Professional\", \"Undergraduate\", \"Advanced/Professional\", \"Undergraduate\", \"Advanced/Professional\", \"Graduate\", \"Undergraduate\", \"Undergraduate\", \"Graduate\", \"Graduate\", \"Undergraduate\", \"Graduate\", \"Undergraduate\", \"Undergraduate\", \"Undergraduate\", \"Undergraduate\", \"Advanced/Professional\", \"Advanced/Professional\", \"Undergraduate\", \"Undergraduate\", \"Advanced/Professional\", \"Advanced/Professional\", \"Advanced/Professional\", \"Advanced/Professional\", \"Graduate\", \"Advanced/Professional\", \"Advanced/Professional\", \"Advanced/Professional\", \"Undergraduate\", \"Graduate\", \"Undergraduate\", \"Graduate\", \"Undergraduate\", \"Advanced/Professional\", \"Graduate\", \"Advanced/Professional\", \"Advanced/Professional\", \"Advanced/Professional\", \"Graduate\", \"Graduate\", \"Graduate\", \"Advanced/Professional\", \"Advanced/Professional\", \"Graduate\", \"Undergraduate\", \"Undergraduate\", \"Undergraduate\", \"Advanced/Professional\", \"Graduate\", \"Advanced/Professional\", \"Graduate\", \"Undergraduate\", \"Advanced/Professional\", \"Advanced/Professional\", \"Graduate\", \"Advanced/Professional\", \"Undergraduate\", \"Advanced/Professional\", \"Advanced/Professional\", \"Undergraduate\", \"Advanced/Professional\", \"Graduate\", \"Undergraduate\"], \"x0\": \" \", \"xaxis\": \"x\", \"y\": [49.0, 34.0, 11.0, 100.0, 45.0, 29.0, 72.0, 22.0, 81.0, 105.0, 45.0, 114.0, 40.0, 112.0, 22.0, 81.0, 21.0, 25.0, 63.0, 62.0, 43.0, 152.0, 29.0, 83.0, 158.0, 48.0, 35.0, 29.0, 41.0, 18.0, 50.0, 81.0, 121.0, 71.0, 80.0, 84.0, 60.0, 45.0, 104.0, 52.0, 43.0, 81.0, 49.0, 8.0, 131.0, 72.0, 44.0, 139.0, 29.0, 93.0, 186.5, 39.0, 125.0, 22.0, 32.0, 105.0, 131.0, 105.0, 45.0, 60.0, 20.0, 115.0, 69.0, 130.0, 85.0, 135.0, 12.0, 29.0, 19.0, 41.0, 40.0, 82.0, 50.0, 18.0, 109.0, 42.0, 78.0, 51.0, 113.0, 29.0, 34.0, 64.0, 121.0, 48.0, 80.0, 161.0, 94.0, 15.0, 74.0, 30.0, 44.0, 22.0, 38.0, 35.0, 69.0, 43.0, 32.0, 49.0, 9.0, 45.0, 82.0, 92.0, 39.0, 81.0, 35.0, 61.0, 73.0, 112.0, 12.0, 38.0, 73.0, 84.0, 78.0, 80.0, 115.0, 82.0, 74.0, 70.0, 81.0, 51.0, 39.0, 98.0, 45.0, 49.0, 128.0, 42.0, 18.0, 31.0, 58.0, 48.0, 54.0, 70.0, 124.0, 84.0, 83.0, 163.0, 42.0, 118.0, 24.0, 22.0, 58.0, 60.0, 15.0, 83.0, 79.0, 41.0, 80.0, 52.0, 70.0, 92.0, 43.0, 21.0, 23.0, 13.0, 112.0, 138.0, 11.0, 171.0, 42.0, 85.0, 44.0, 65.0, 24.0, 11.0, 38.0, 10.0, 135.0, 63.0, 115.0, 45.0, 169.0, 112.0, 93.0, 29.0, 85.0, 21.0, 144.0, 13.0, 165.0, 9.0, 59.0, 29.0, 20.0, 68.0, 65.0, 61.0, 91.0, 31.0, 71.0, 73.0, 20.0, 55.0, 69.0, 155.0, 94.0, 92.0, 125.0, 74.0, 72.0, 61.0, 25.0, 83.0, 104.0, 41.0, 58.0, 93.0, 39.0, 148.0, 53.0, 71.0, 92.0, 61.0, 38.0, 58.0, 80.0, 71.0, 89.0, 83.0, 28.0, 52.0, 70.0, 71.0, 75.0, 78.0, 25.0, 60.0, 99.0, 55.0, 29.0, 53.0, 138.0, 42.0, 99.0, 18.0, 24.0, 55.0, 58.0, 33.0, 74.0, 38.0, 23.0, 61.0, 81.0, 129.0, 33.0, 63.0, 70.0, 45.0, 65.0, 74.0, 50.0, 22.0, 30.0, 21.0, 155.0, 64.0, 65.0, 71.0, 40.0, 69.0, 69.0, 45.0, 62.0, 24.0, 80.0, 8.0, 38.0, 93.0, 55.0, 64.0, 122.0, 70.0, 81.0, 70.0, 150.0, 152.0, 22.0, 22.0, 79.0, 33.0, 128.0, 91.0, 39.0, 121.0, 21.0, 41.0, 45.0, 51.0, 110.0, 20.0, 64.0, 89.0, 80.0, 114.0, 49.0, 186.5, 78.0, 28.0, 42.0, 140.0, 45.0, 122.0, 65.0, 68.0, 153.0, 89.0, 91.0, 55.0, 118.0, 22.0, 63.0, 12.0, 50.0, 43.0, 113.0, 91.0, 55.0, 173.0, 71.0, 24.0, 42.0, 141.0, 32.0, 55.0, 153.0, 113.0, 30.0, 29.0, 35.0, 98.0, 30.0, 58.0, 25.0, 19.0, 44.0, 20.0, 98.0, 90.0, 61.0, 40.0, 38.0, 28.0, 34.0, 73.0, 53.0, 21.0, 40.0, 41.0, 82.0, 155.0, 45.0, 9.0, 48.0, 18.0, 80.0, 64.0, 29.0, 48.0, 23.0, 84.0, 30.0, 93.0, 39.0, 60.0, 133.0, 125.0, 58.0, 89.0, 82.0, 110.0, 54.0, 89.0, 42.0, 41.0, 38.0, 85.0, 83.0, 33.0, 50.0, 58.0, 145.0, 161.0, 38.0, 28.0, 75.0, 35.0, 24.0, 78.0, 113.0, 75.0, 91.0, 31.0, 45.0, 80.0, 50.0, 31.0, 29.0, 59.0, 43.0, 29.0, 91.0, 65.0, 22.0, 71.0, 60.0, 60.0, 69.0, 48.0, 21.0, 53.0, 29.0, 60.0, 42.0, 69.0, 20.0, 186.5, 141.0, 81.0, 35.0, 13.0, 39.0, 21.0, 10.0, 84.0, 30.0, 31.0, 114.0, 53.0, 24.0, 150.0, 132.0, 68.0, 53.0, 30.0, 113.0, 15.0, 84.0, 88.0, 43.0, 43.0, 90.0, 34.0, 38.0, 173.0, 160.0, 44.0, 83.0, 94.0, 43.0, 42.0, 34.0, 39.0, 70.0, 39.0, 44.0, 44.0, 32.0, 15.0, 118.0, 62.0, 82.0, 54.0, 48.0, 74.0, 113.0, 81.0, 43.0, 34.0, 48.0, 54.0, 75.0, 72.0, 39.0, 75.0, 79.0, 186.5, 65.0, 82.0, 21.0, 50.0, 39.0, 101.0, 41.0, 132.0, 43.0, 11.0, 21.0, 109.0, 141.0, 81.0, 54.0, 164.0, 28.0, 68.0, 44.0, 61.0, 35.0, 54.0, 14.0, 52.0, 101.0, 149.0, 35.0, 21.0, 118.0, 38.0, 24.0, 59.0, 41.0, 85.0, 12.0, 32.0, 79.0, 28.0, 41.0, 70.0, 53.0, 128.0, 50.0, 80.0, 93.0, 48.0, 149.0, 49.0, 88.0, 22.0, 55.0, 72.0, 38.0, 114.0, 83.0, 101.0, 94.0, 40.0, 128.0, 39.0, 51.0, 79.0, 48.0, 85.0, 41.0, 125.0, 11.0, 103.0, 141.0, 38.0, 135.0, 28.0, 70.0, 41.0, 81.0, 55.0, 24.0, 81.0, 32.0, 129.0, 108.0, 180.0, 139.0, 33.0, 74.0, 42.0, 73.0, 114.0, 92.0, 34.0, 54.0, 64.0, 42.0, 70.0, 51.0, 71.0, 35.0, 40.0, 18.0, 32.0, 35.0, 120.0, 31.0, 35.0, 32.0, 85.0, 139.0, 103.0, 152.0, 33.0, 84.0, 61.0, 64.0, 34.0, 82.0, 58.0, 92.0, 78.0, 13.0, 81.0, 23.0, 35.0, 79.0, 165.0, 52.0, 49.0, 64.0, 61.0, 112.0, 72.0, 18.0, 41.0, 61.0, 23.0, 22.0, 59.0, 33.0, 11.0, 186.5, 61.0, 103.0, 51.0, 12.0, 82.0, 164.0, 48.0, 38.0, 65.0, 71.0, 18.0, 52.0, 48.0, 30.0, 40.0, 112.0, 115.0, 63.0, 85.0, 59.0, 68.0, 84.0, 62.0, 141.0, 129.0, 30.0, 148.0, 25.0, 21.0, 72.0, 59.0, 83.0, 10.0, 84.0, 98.0, 32.0, 31.0, 94.0, 21.0, 110.0, 38.0, 39.0, 61.0, 92.0, 119.0, 53.0, 18.0, 90.0, 140.0, 90.0, 85.0, 80.0, 53.0, 49.0, 80.0, 82.0, 186.5, 22.0, 81.0, 40.0, 154.0, 49.0, 85.0, 21.0, 14.0, 60.0, 138.0, 98.0, 22.0, 49.0, 102.0, 45.0, 82.0, 81.0, 35.0, 59.0, 52.0, 84.0, 85.0, 65.0, 89.0, 81.0, 38.0, 72.0, 78.0, 71.0, 120.0, 39.0, 23.0, 12.0, 92.0, 42.0, 160.0, 98.0, 164.0, 42.0, 10.0, 31.0, 58.0, 65.0, 98.0, 150.0, 44.0, 15.0, 82.0, 61.0, 38.0, 39.0, 173.0, 8.0, 51.0, 62.0, 34.0, 44.0, 162.0, 64.0, 111.0, 41.0, 52.0, 65.0, 45.0, 35.0, 65.0, 38.0, 42.0, 45.0, 145.0, 33.0, 60.0, 45.0, 72.0, 34.0, 23.0, 45.0, 28.0, 81.0, 72.0, 49.0, 31.0, 63.0, 142.0, 74.0, 24.0, 29.0, 79.0, 94.0, 121.0, 54.0, 73.0, 71.0, 29.0, 93.0, 73.0, 19.0, 58.0, 39.0, 23.0, 29.0, 155.0, 90.0, 113.0, 42.0, 30.0, 19.0, 30.0, 28.0, 15.0, 70.0, 10.0, 22.0, 70.0, 61.0, 161.0, 29.0, 35.0, 48.0, 44.0, 88.0, 40.0, 21.0, 58.0, 59.0, 74.0, 84.0, 58.0, 154.0, 185.0, 78.0, 55.0, 30.0, 74.0, 118.0, 82.0, 29.0, 53.0, 43.0, 59.0, 84.0, 21.0, 63.0, 51.0, 24.0, 95.0, 59.0, 51.0, 28.0, 154.0, 15.0, 55.0, 149.0, 79.0, 68.0, 78.0, 34.0, 184.0, 85.0, 186.5, 64.0, 88.0, 42.0, 91.0, 38.0, 28.0, 32.0, 31.0, 22.0, 74.0, 22.0, 43.0, 43.0, 112.0, 9.0, 81.0, 131.0, 19.0, 62.0, 19.0, 8.0, 30.0, 80.0, 22.0, 33.0, 64.0, 60.0, 81.0, 45.0, 112.0, 180.0, 28.0, 14.0, 43.0, 88.0, 78.0, 68.0, 144.0, 30.0, 120.0, 24.0, 78.0, 44.0, 73.0, 90.0, 58.0, 75.0, 50.0, 85.0, 54.0, 24.0, 45.0, 68.0, 48.0, 114.0, 52.0, 142.0, 15.0, 118.0, 101.0, 84.0, 32.0, 64.0, 81.0, 28.0, 93.0, 42.0, 45.0, 49.0, 69.0, 94.0, 18.0, 8.0, 55.0, 85.0, 62.0, 65.0, 138.0, 103.0, 152.0, 25.0, 98.0, 39.0, 40.0, 58.0, 62.0, 69.0, 40.0, 61.0, 30.0, 29.0, 41.0, 109.0, 50.0, 43.0, 108.0, 20.0, 112.0, 25.0, 42.0, 29.0, 84.0, 81.0, 55.0, 40.0, 78.0, 51.0, 50.0, 21.0, 79.0, 84.0, 34.0, 73.0, 90.0, 23.0, 54.0, 49.0, 51.0, 8.0, 62.0, 25.0, 63.0, 24.0, 11.0, 23.0, 33.0, 39.0, 113.0, 186.5, 105.0, 40.0, 61.0, 75.0, 122.0, 75.0, 59.0, 24.0, 39.0, 145.0, 24.0, 20.0, 85.0, 65.0, 11.0, 40.0, 54.0, 95.0, 94.0, 79.0, 48.0, 70.0, 40.0, 44.0, 43.0, 29.0, 114.0, 52.0, 13.0, 95.0, 84.0, 49.0, 181.0, 70.0, 79.0, 61.0, 121.0, 34.0, 183.0, 51.0, 70.0, 39.0, 84.0, 122.0, 145.0, 98.0, 79.0, 38.0, 49.0, 38.0, 91.0, 29.0, 172.0, 58.0, 186.5, 90.0, 55.0, 28.0, 42.0, 9.0, 65.0, 83.0, 38.0, 13.0, 75.0, 91.0, 99.0, 71.0, 111.0, 108.0, 158.0, 81.0, 12.0, 21.0, 55.0, 42.0, 81.0, 13.0, 132.0, 99.0, 23.0, 40.0, 112.0, 138.0, 113.0, 186.5, 38.0, 32.0, 104.0, 43.0, 45.0, 35.0, 42.0, 58.0, 14.0, 98.0, 90.0, 65.0, 19.0, 35.0, 71.0, 31.0, 43.0, 24.0, 58.0, 115.0, 168.0, 128.0, 138.0, 81.0, 41.0, 71.0, 8.0, 42.0, 62.0, 22.0, 38.0, 24.0, 50.0, 94.0, 43.0, 48.0, 52.0, 84.0, 131.0, 44.0, 78.0, 15.0, 38.0, 84.0, 122.0, 98.0, 80.0, 165.0, 121.0, 20.0, 11.0, 45.0, 14.0, 30.0, 45.0, 80.0, 25.0, 144.0, 84.0, 22.0, 33.0, 60.0, 81.0, 63.0, 12.0, 15.0, 39.0, 44.0, 110.0, 41.0, 59.0, 39.0, 35.0, 80.0, 81.0, 31.0, 93.0, 45.0, 40.0, 80.0, 20.0, 41.0, 31.0, 35.0, 40.0, 84.0, 53.0, 85.0, 138.0, 71.0, 113.0, 23.0, 62.0, 14.0, 60.0, 94.0, 83.0, 61.0, 92.0, 20.0, 186.5, 74.0, 84.0, 98.0, 52.0, 55.0, 64.0, 128.0, 50.0, 54.0, 129.0, 82.0, 100.0, 44.0, 81.0, 71.0, 28.0, 80.0, 90.0, 74.0, 14.0, 23.0, 153.0, 38.0, 112.0, 145.0, 28.0, 31.0, 186.5, 50.0, 71.0, 21.0, 35.0, 42.0, 78.0, 73.0, 53.0, 51.0, 40.0, 178.0, 35.0, 123.0, 48.0, 45.0, 15.0, 79.0, 63.0, 30.0, 32.0, 64.0, 84.0, 21.0, 99.0, 35.0, 180.0, 42.0, 42.0, 82.0, 55.0, 79.0, 48.0, 93.0, 23.0, 50.0, 85.0, 35.0, 29.0, 84.0, 20.0, 14.0, 179.0, 48.0, 74.0, 53.0, 83.0, 171.0, 85.0, 38.0, 85.0, 79.0, 69.0, 43.0, 33.0, 42.0, 40.0, 43.0, 20.0, 65.0, 84.0, 45.0, 109.0, 34.0, 162.0, 105.0, 22.0, 82.0, 105.0, 62.0, 82.0, 72.0, 38.0, 25.0, 20.0, 80.0, 84.0, 33.0, 55.0, 33.0, 43.0, 45.0, 141.0, 69.0, 78.0, 84.0, 51.0, 75.0, 20.0, 63.0, 44.0, 100.0, 12.0, 68.0, 48.0, 82.0, 52.0, 39.0, 40.0, 54.0, 32.0, 64.0, 92.0, 40.0, 60.0, 85.0, 21.0, 35.0, 52.0, 128.0, 186.5, 68.0, 55.0, 55.0, 80.0, 123.0, 90.0, 61.0, 41.0, 43.0, 71.0, 25.0, 141.0, 22.0, 145.0, 49.0, 109.0, 80.0, 82.0, 52.0, 85.0, 148.0, 160.0, 39.0, 25.0, 33.0, 38.0, 85.0, 48.0, 15.0, 94.0, 120.0, 60.0, 145.0, 29.0, 78.0, 59.0, 80.0, 180.0, 8.0, 23.0, 79.0, 78.0, 64.0, 64.0, 43.0, 32.0, 179.0, 8.0, 63.0, 40.0, 99.0, 159.0, 39.0, 99.0, 18.0, 38.0, 133.0, 84.0, 60.0, 18.0, 73.0, 125.0, 74.0, 35.0, 113.0, 52.0, 18.0, 25.0, 50.0, 75.0, 92.0, 33.0, 65.0, 44.0, 183.0, 175.0, 28.0, 49.0, 45.0, 22.0, 120.0, 175.0, 101.0, 104.0, 58.0, 80.0, 45.0, 134.0, 58.0, 20.0, 25.0, 55.0, 155.0, 30.0, 39.0, 73.0, 41.0, 34.0, 21.0, 11.0, 154.0, 19.0, 101.0, 24.0, 131.0, 105.0, 52.0, 21.0, 45.0, 39.0, 186.5, 186.5, 83.0, 34.0, 49.0, 60.0, 41.0, 72.0, 31.0, 73.0, 89.0, 19.0, 63.0, 104.0, 40.0, 92.0, 72.0, 44.0, 73.0, 63.0, 69.0, 42.0, 88.0, 98.0, 12.0, 12.0, 24.0, 25.0, 131.0, 50.0, 21.0, 55.0, 58.0, 72.0, 83.0, 93.0, 38.0, 55.0, 11.0, 85.0, 124.0, 129.0, 180.0, 74.0, 83.0, 33.0, 21.0, 35.0, 105.0, 103.0, 75.0, 33.0, 52.0, 89.0, 63.0, 44.0, 29.0, 29.0, 22.0, 53.0, 24.0, 153.0, 31.0, 21.0, 180.0, 82.0, 90.0, 99.0, 53.0, 18.0, 70.0, 100.0, 125.0, 68.0, 55.0, 84.0, 13.0, 33.0, 89.0, 93.0, 68.0, 85.0, 73.0, 83.0, 24.0, 102.0, 53.0, 175.0, 28.0, 14.0, 34.0, 64.0, 84.0, 42.0, 63.0, 100.0, 22.0, 20.0, 21.0, 25.0, 20.0, 81.0, 119.0, 74.0, 42.0, 73.0, 44.0, 141.0, 14.0, 33.0, 83.0, 89.0, 39.0, 83.0, 108.0, 21.0, 102.0, 48.0, 32.0, 43.0, 35.0, 184.0, 140.0, 32.0, 149.0, 15.0, 71.0, 108.0, 122.0, 40.0, 186.5, 79.0, 84.0, 31.0, 12.0, 88.0, 29.0, 186.5, 20.0, 15.0, 155.0, 25.0, 186.5, 101.0, 19.0, 186.5, 8.0, 59.0, 72.0, 55.0, 24.0, 19.0, 71.0, 54.0, 28.0, 25.0, 51.0, 88.0, 125.0, 79.0, 31.0, 131.0, 70.0, 38.0, 83.0, 59.0, 121.0, 42.0, 32.0, 29.0, 40.0, 25.0, 21.0, 79.0, 52.0, 61.0, 25.0, 25.0, 80.0, 55.0, 23.0, 60.0, 54.0, 44.0, 33.0, 45.0, 55.0, 134.0, 44.0, 149.0, 22.0, 74.0, 62.0, 9.0, 9.0, 15.0, 28.0, 83.0, 73.0, 42.0, 34.0, 32.0, 68.0, 82.0, 19.0, 60.0, 186.5, 186.5, 34.0, 44.0, 23.0, 43.0, 139.0, 118.0, 70.0, 42.0, 143.0, 28.0, 45.0, 78.0, 121.0, 59.0, 64.0, 15.0, 10.0, 61.0, 50.0, 79.0, 35.0, 11.0, 128.0, 55.0, 79.0, 18.0, 91.0, 9.0, 62.0, 59.0, 25.0, 54.0, 125.0, 35.0, 113.0, 25.0, 45.0, 119.0, 30.0, 79.0, 23.0, 171.0, 74.0, 103.0, 99.0, 43.0, 23.0, 91.0, 93.0, 154.0, 21.0, 65.0, 15.0, 52.0, 30.0, 42.0, 20.0, 60.0, 54.0, 60.0, 41.0, 30.0, 21.0, 105.0, 65.0, 20.0, 161.0, 82.0, 43.0, 61.0, 90.0, 90.0, 21.0, 118.0, 44.0, 99.0, 98.0, 69.0, 82.0, 112.0, 123.0, 78.0, 59.0, 78.0, 49.0, 82.0, 185.0, 163.0, 19.0, 115.0, 81.0, 93.0, 184.0, 50.0, 55.0, 13.0, 29.0, 72.0, 83.0, 98.0, 43.0, 34.0, 10.0, 186.5, 85.0, 50.0, 91.0, 112.0, 98.0, 115.0, 22.0, 101.0, 83.0, 52.0, 54.0, 69.0, 64.0, 53.0, 19.0, 31.0, 63.0, 25.0, 22.0, 78.0, 81.0, 41.0, 62.0, 35.0, 30.0, 51.0, 140.0, 73.0, 40.0, 69.0, 82.0, 38.0, 23.0, 55.0, 58.0, 29.0, 39.0, 39.0, 30.0, 58.0, 62.0, 62.0, 19.0, 38.0, 84.0, 78.0, 22.0, 81.0, 32.0, 89.0, 121.0, 42.0, 130.0, 30.0, 114.0, 155.0, 50.0, 34.0, 94.0, 114.0, 89.0, 49.0, 115.0, 148.0, 72.0, 114.0, 11.0, 63.0, 113.0, 80.0, 54.0, 32.0, 11.0, 141.0, 84.0, 18.0, 20.0, 55.0, 31.0, 114.0, 52.0, 18.0, 55.0, 29.0, 30.0, 38.0, 122.0, 183.0, 41.0, 38.0, 61.0, 80.0, 22.0, 124.0, 44.0, 75.0, 78.0, 31.0, 99.0, 41.0, 39.0, 51.0, 52.0, 141.0, 93.0, 14.0, 160.0, 44.0, 33.0, 71.0, 55.0, 79.0, 80.0, 179.0, 9.0, 61.0, 111.0, 80.0, 32.0, 83.0, 91.0, 29.0, 19.0, 52.0, 150.0, 32.0, 91.0, 121.0, 25.0, 102.0, 44.0, 43.0, 94.0, 29.0, 38.0, 120.0, 85.0, 89.0, 25.0, 20.0, 125.0, 18.0, 173.0, 34.0, 55.0, 32.0, 65.0, 83.0, 30.0, 180.0, 13.0, 35.0, 95.0, 83.0, 39.0, 54.0, 81.0, 53.0, 119.0, 21.0, 40.0, 69.0, 45.0, 55.0, 38.0, 44.0, 45.0, 84.0, 29.0, 95.0, 79.0, 41.0, 19.0, 75.0, 64.0, 54.0, 14.0, 94.0, 10.0, 145.0, 81.0, 153.0, 58.0, 49.0, 132.0, 85.0, 85.0, 104.0, 40.0, 103.0, 25.0, 69.0, 30.0, 70.0, 15.0, 125.0, 50.0, 44.0, 38.0, 64.0, 9.0, 44.0, 93.0, 83.0, 179.0, 40.0, 58.0, 74.0, 15.0, 11.0, 41.0, 68.0, 28.0, 83.0, 40.0, 113.0, 89.0, 38.0, 62.0, 65.0, 40.0, 30.0, 20.0, 58.0, 150.0, 54.0, 19.0, 30.0, 123.0, 45.0, 154.0, 93.0, 71.0, 55.0, 38.0, 74.0, 69.0, 104.0, 38.0, 25.0, 162.0, 64.0, 30.0, 52.0, 42.0, 79.0, 34.0, 123.0, 160.0, 51.0, 108.0, 68.0, 42.0, 32.0, 22.0, 29.0, 69.0, 92.0, 40.0, 9.0, 128.0, 110.0, 171.0, 13.0, 25.0, 33.0, 34.0, 58.0, 51.0, 29.0, 111.0, 43.0, 130.0, 20.0, 101.0, 48.0, 92.0, 33.0, 51.0, 31.0, 83.0, 45.0, 89.0, 89.0, 9.0, 58.0, 80.0, 73.0, 41.0, 74.0, 29.0, 25.0, 98.0, 59.0, 43.0, 72.0, 134.0, 140.0, 39.0, 35.0, 141.0, 23.0, 134.0, 35.0, 42.0, 81.0, 14.0, 45.0, 79.0, 53.0, 33.0, 60.0, 8.0, 38.0, 154.0, 54.0, 41.0, 25.0, 53.0, 79.0, 13.0, 130.0, 93.0, 82.0, 15.0, 28.0, 9.0, 88.0, 143.0, 62.0, 51.0, 101.0, 90.0, 83.0, 21.0, 115.0, 32.0, 186.5, 34.0, 30.0, 31.0, 90.0, 79.0, 22.0, 42.0, 29.0, 72.0, 68.0, 78.0, 90.0, 14.0, 129.0, 39.0, 82.0, 31.0, 9.0, 15.0, 70.0, 84.0, 155.0, 89.0, 185.0, 82.0, 60.0, 58.0, 29.0, 32.0, 115.0, 83.0, 54.0, 112.0, 112.0, 23.0, 186.5, 84.0, 39.0, 129.0, 113.0, 35.0, 85.0, 73.0, 70.0, 39.0, 72.0, 68.0, 35.0, 61.0, 69.0, 59.0, 99.0, 130.0, 72.0, 44.0, 91.0, 92.0, 55.0, 20.0, 59.0, 8.0, 85.0, 94.0, 22.0, 74.0, 59.0, 12.0, 8.0, 74.0, 34.0, 63.0, 85.0, 31.0, 61.0, 88.0, 22.0, 63.0, 80.0, 78.0, 45.0, 51.0, 111.0, 45.0, 41.0, 69.0, 23.0, 160.0, 61.0, 110.0, 50.0, 49.0, 52.0, 53.0, 72.0, 51.0, 23.0, 41.0, 41.0, 138.0, 14.0, 145.0, 25.0, 43.0, 93.0, 90.0, 41.0, 63.0, 23.0, 75.0, 13.0, 10.0, 100.0, 85.0, 73.0, 130.0, 65.0, 59.0, 31.0, 134.0, 11.0, 32.0, 53.0, 28.0, 44.0, 40.0, 40.0, 163.0, 82.0, 89.0, 78.0, 55.0, 34.0, 58.0, 73.0, 54.0, 45.0, 93.0, 102.0, 39.0, 114.0, 29.0, 30.0, 22.0, 38.0, 41.0, 38.0, 25.0, 70.0, 186.5, 42.0, 64.0, 28.0, 119.0, 28.0, 60.0, 23.0, 39.0, 19.0, 72.0, 41.0, 32.0, 69.0, 23.0, 44.0, 32.0, 25.0, 80.0, 83.0, 133.0, 89.0, 81.0, 44.0, 119.0, 39.0, 40.0, 79.0, 30.0, 178.0, 82.0, 50.0, 64.0, 129.0, 68.0, 30.0, 48.0, 130.0, 40.0, 105.0, 41.0, 80.0, 134.0, 49.0, 63.0, 70.0, 32.0, 14.0, 111.0, 38.0, 121.0, 90.0, 20.0, 61.0, 43.0, 39.0, 60.0, 63.0, 8.0, 52.0, 111.0, 71.0, 25.0, 34.0, 74.0, 120.0, 50.0, 10.0, 45.0, 29.0, 145.0, 100.0, 24.0, 60.0, 50.0, 43.0, 79.0, 44.0, 31.0, 14.0, 19.0, 90.0, 21.0, 75.0, 175.0, 41.0, 79.0, 24.0, 39.0, 9.0, 15.0, 80.0, 63.0, 20.0, 43.0, 65.0, 91.0, 53.0, 110.0, 82.0, 23.0, 172.0, 88.0, 71.0, 39.0, 94.0, 25.0, 10.0, 42.0, 142.0, 34.0, 139.0, 154.0, 40.0, 33.0, 80.0, 10.0, 41.0, 30.0, 78.0, 164.0, 23.0, 149.0, 25.0, 42.0, 71.0, 70.0, 55.0, 29.0, 123.0, 8.0, 69.0, 79.0, 105.0, 39.0, 163.0, 9.0, 71.0, 51.0, 32.0, 60.0, 35.0, 41.0, 73.0, 49.0, 79.0, 120.0, 60.0, 78.0, 40.0, 68.0, 49.0, 65.0, 55.0, 62.0, 152.0, 42.0, 39.0, 82.0, 108.0, 59.0, 61.0, 78.0, 18.0, 113.0, 62.0, 81.0, 13.0, 75.0, 33.0, 179.0, 69.0, 45.0, 59.0, 81.0, 133.0, 81.0, 14.0, 28.0, 93.0, 155.0, 155.0, 68.0, 52.0, 51.0, 44.0, 121.0, 49.0, 42.0, 144.0, 72.0, 44.0, 43.0, 74.0, 145.0, 158.0, 78.0, 105.0, 100.0, 58.0, 113.0, 10.0, 142.0, 128.0, 88.0, 101.0, 70.0, 122.0, 70.0, 43.0, 31.0, 35.0, 81.0, 19.0, 98.0, 101.0, 81.0, 135.0, 34.0, 104.0, 29.0, 82.0, 62.0, 85.0, 8.0, 78.0, 44.0, 122.0, 22.0, 39.0, 55.0, 144.0, 71.0, 186.5, 22.0, 158.0, 75.0, 69.0, 39.0, 34.0, 32.0, 129.0, 54.0, 34.0, 45.0, 68.0, 53.0, 32.0, 31.0, 72.0, 30.0, 138.0, 18.0, 69.0, 58.0, 63.0, 43.0, 28.0, 38.0, 72.0, 64.0, 70.0, 12.0, 159.0, 103.0, 42.0, 48.0, 49.0, 89.0, 22.0, 10.0, 38.0, 49.0, 30.0, 82.0, 82.0, 24.0, 32.0, 34.0, 61.0, 22.0, 40.0, 50.0, 35.0, 64.0, 49.0, 44.0, 65.0, 13.0, 84.0, 28.0, 108.0, 59.0, 163.0, 69.0, 115.0, 118.0, 163.0, 140.0, 91.0, 61.0, 69.0, 22.0, 53.0, 25.0, 31.0, 83.0, 152.0, 30.0, 34.0, 44.0, 182.0, 44.0, 122.0, 35.0, 91.0, 30.0, 53.0, 28.0, 85.0, 28.0, 41.0, 41.0, 33.0, 59.0, 129.0, 35.0, 45.0, 62.0, 14.0, 53.0, 48.0, 128.0, 105.0, 40.0, 10.0, 102.0, 31.0, 30.0, 21.0, 44.0, 48.0, 21.0, 84.0, 64.0, 82.0, 39.0, 45.0, 152.0, 12.0, 32.0, 74.0, 54.0, 75.0, 95.0, 90.0, 20.0, 64.0, 85.0, 105.0, 21.0, 78.0, 158.0, 125.0, 81.0, 183.0, 54.0, 79.0, 38.0, 158.0, 20.0, 60.0, 113.0, 70.0, 84.0, 23.0, 141.0, 110.0, 31.0, 22.0, 91.0, 82.0, 23.0, 35.0, 18.0, 80.0, 74.0, 73.0, 40.0, 55.0, 69.0, 92.0, 48.0, 58.0, 109.0, 39.0, 33.0, 18.0, 63.0, 43.0, 70.0, 19.0, 39.0, 81.0, 34.0, 114.0, 55.0, 21.0, 50.0, 41.0, 8.0, 55.0, 40.0, 22.0, 44.0, 54.0, 75.0, 42.0, 133.0, 40.0, 34.0, 142.0, 64.0, 44.0, 95.0, 49.0, 12.0, 98.0, 42.0, 44.0, 124.0, 175.0, 22.0, 78.0, 54.0, 154.0, 42.0, 186.5, 80.0, 81.0, 89.0, 61.0, 25.0, 43.0, 122.0, 160.0, 83.0, 79.0, 30.0, 145.0, 151.0, 14.0, 19.0, 55.0, 182.0, 78.0, 42.0, 44.0, 53.0, 65.0, 43.0, 38.0, 50.0, 81.0, 41.0, 73.0, 31.0, 84.0, 95.0, 60.0, 43.0, 38.0, 82.0, 52.0, 43.0, 82.0, 161.0, 24.0, 102.0, 53.0, 85.0, 111.0, 90.0, 94.0, 63.0, 39.0, 186.5, 142.0, 163.0, 113.0, 64.0, 20.0, 179.0, 91.0, 80.0, 38.0, 44.0, 81.0, 95.0, 44.0, 88.0, 11.0, 92.0, 74.0, 72.0, 63.0, 172.0, 183.0, 40.0, 68.0, 78.0, 68.0, 49.0, 39.0, 151.0, 159.0, 89.0, 105.0, 78.0, 128.0, 81.0, 50.0, 38.0, 119.0, 110.0, 29.0, 19.0, 38.0, 31.0, 14.0, 39.0, 33.0, 92.0, 78.0, 42.0, 15.0, 48.0, 63.0, 149.0, 49.0, 125.0, 58.0, 48.0, 75.0, 114.0, 111.0, 62.0, 45.0, 113.0, 128.0, 81.0, 75.0, 21.0, 83.0, 121.0, 40.0, 101.0, 90.0, 68.0, 74.0, 74.0, 51.0, 149.0, 31.0, 85.0, 62.0, 44.0, 63.0, 23.0, 40.0, 78.0, 40.0, 78.0, 71.0, 23.0, 15.0, 28.0, 23.0, 19.0, 42.0, 113.0, 34.0, 19.0, 43.0, 44.0, 21.0, 115.0, 81.0, 91.0, 30.0, 55.0, 48.0, 23.0, 21.0, 55.0, 21.0, 40.0, 30.0, 78.0, 65.0, 50.0, 55.0, 111.0, 21.0, 65.0, 114.0, 54.0, 75.0, 13.0, 54.0, 22.0, 186.5, 18.0, 74.0, 61.0, 64.0, 10.0, 82.0, 61.0, 83.0, 73.0, 22.0, 91.0, 65.0, 13.0, 103.0, 95.0, 31.0, 38.0, 104.0, 38.0, 30.0, 19.0, 25.0, 20.0, 83.0, 18.0, 62.0, 24.0, 13.0, 64.0, 62.0, 88.0, 28.0, 52.0, 82.0, 140.0, 80.0, 58.0, 180.0, 55.0, 65.0, 62.0, 23.0, 35.0, 35.0, 74.0, 14.0, 83.0, 71.0, 53.0, 103.0, 109.0, 60.0, 12.0, 141.0, 128.0, 98.0, 41.0, 90.0, 31.0, 74.0, 83.0, 35.0, 140.0, 65.0, 35.0, 73.0, 29.0, 55.0, 20.0, 70.0, 81.0, 25.0, 119.0, 49.0, 38.0, 80.0, 84.0, 61.0, 60.0, 83.0, 59.0, 32.0, 33.0, 19.0, 14.0, 154.0, 33.0, 28.0, 44.0, 81.0, 29.0, 58.0, 38.0, 82.0, 18.0, 45.0, 64.0, 48.0, 24.0, 65.0, 111.0, 114.0, 39.0, 19.0, 22.0, 49.0, 40.0, 63.0, 55.0, 33.0, 31.0, 24.0, 81.0, 81.0, 113.0, 92.0, 81.0, 101.0, 78.0, 78.0, 35.0, 9.0, 82.0, 41.0, 84.0, 42.0, 54.0, 84.0, 131.0, 85.0, 84.0, 114.0, 61.0, 39.0, 21.0, 68.0, 85.0, 180.0, 110.0, 65.0, 81.0, 132.0, 44.0, 98.0, 62.0, 91.0, 29.0, 101.0, 65.0, 58.0, 32.0, 44.0, 113.0, 38.0, 13.0, 62.0, 29.0, 23.0, 11.0, 90.0, 43.0, 59.0, 28.0, 28.0, 108.0, 78.0, 65.0, 25.0, 108.0, 43.0, 95.0, 24.0, 186.5, 24.0, 41.0, 80.0, 63.0, 79.0, 114.0, 120.0, 104.0, 20.0, 41.0, 35.0, 22.0, 132.0, 32.0, 21.0, 49.0, 79.0, 30.0, 118.0, 11.0, 61.0, 43.0, 54.0, 33.0, 84.0, 110.0, 14.0, 65.0, 78.0, 18.0, 95.0, 95.0, 186.5, 19.0, 19.0, 39.0, 93.0, 112.0, 40.0, 45.0, 133.0, 85.0, 18.0, 54.0, 41.0, 21.0, 152.0, 53.0, 84.0, 59.0, 33.0, 81.0, 61.0, 88.0, 170.0, 83.0, 44.0, 83.0, 21.0, 143.0, 103.0, 162.0, 73.0, 25.0, 115.0, 88.0, 73.0, 94.0, 58.0, 81.0, 113.0, 35.0, 65.0, 170.0, 62.0, 54.0, 39.0, 28.0, 95.0, 21.0, 50.0, 34.0, 19.0, 71.0, 113.0, 9.0, 118.0, 79.0, 72.0, 18.0, 93.0, 62.0, 23.0, 40.0, 34.0, 114.0, 125.0, 41.0, 38.0, 45.0, 12.0, 115.0, 175.0, 24.0, 28.0, 32.0, 63.0, 32.0, 60.0, 53.0, 58.0, 42.0, 39.0, 72.0, 80.0, 39.0, 18.0, 30.0, 54.0, 128.0, 38.0, 120.0, 25.0, 85.0, 14.0, 70.0, 23.0, 31.0, 132.0, 28.0, 91.0, 186.5, 88.0, 84.0, 64.0, 28.0, 149.0, 42.0, 53.0, 113.0, 79.0, 175.0, 38.0, 52.0, 42.0, 13.0, 141.0, 131.0, 64.0, 49.0, 34.0, 91.0, 186.5, 53.0, 39.0, 20.0, 104.0, 51.0, 38.0, 12.0, 28.0, 33.0, 31.0, 44.0, 49.0, 134.0, 114.0, 90.0, 105.0, 58.0, 53.0, 15.0, 103.0, 58.0, 83.0, 61.0, 69.0, 89.0, 70.0, 39.0, 41.0, 148.0, 38.0, 129.0, 84.0, 29.0, 30.0, 90.0, 150.0, 15.0, 13.0, 9.0, 24.0, 41.0, 25.0, 49.0, 58.0, 141.0, 50.0, 61.0, 65.0, 112.0, 19.0, 23.0, 60.0, 30.0, 186.5, 109.0, 174.0, 34.0, 84.0, 41.0, 92.0, 19.0, 55.0, 22.0, 155.0, 72.0, 81.0, 30.0, 54.0, 60.0, 68.0, 65.0, 31.0, 29.0, 43.0, 80.0, 43.0, 186.5, 24.0, 32.0, 30.0, 64.0, 15.0, 70.0, 32.0, 84.0, 62.0, 33.0, 65.0, 33.0, 15.0, 45.0, 132.0, 29.0, 65.0, 52.0, 64.0, 73.0, 20.0, 44.0, 79.0, 104.0, 88.0, 51.0, 61.0, 23.0, 38.0, 75.0, 42.0, 45.0, 59.0, 9.0, 62.0, 186.5, 162.0, 93.0, 145.0, 149.0, 69.0, 30.0, 48.0, 42.0, 132.0, 81.0, 60.0, 45.0, 70.0, 71.0, 28.0, 83.0, 131.0, 82.0, 79.0, 51.0, 111.0, 93.0, 73.0, 24.0, 64.0, 104.0, 38.0, 186.5, 53.0, 74.0, 21.0, 80.0, 41.0, 79.0, 32.0, 38.0, 85.0, 93.0, 69.0, 32.0, 61.0, 125.0, 30.0, 104.0, 24.0, 22.0, 59.0, 164.0, 60.0, 43.0, 70.0, 51.0, 59.0, 22.0, 29.0, 18.0, 65.0, 65.0, 38.0, 110.0, 22.0, 43.0, 30.0, 134.0, 32.0, 139.0, 45.0, 62.0, 51.0, 93.0, 122.0, 45.0, 179.0, 64.0, 41.0, 58.0, 64.0, 28.0, 21.0, 60.0, 78.0, 59.0, 59.0, 83.0, 128.0, 95.0, 78.0, 30.0, 51.0, 35.0, 74.0, 43.0, 23.0, 20.0, 112.0, 74.0, 65.0, 124.0, 65.0, 73.0, 8.0, 53.0, 13.0, 60.0, 45.0, 39.0, 78.0, 43.0, 31.0, 82.0, 112.0, 10.0, 18.0, 72.0, 72.0, 78.0, 78.0, 30.0, 45.0, 80.0, 174.0, 51.0, 181.0, 78.0, 79.0, 119.0, 49.0, 100.0, 70.0, 52.0, 12.0, 82.0, 34.0, 112.0, 42.0, 83.0, 186.5, 29.0, 70.0, 25.0, 84.0, 81.0, 15.0, 54.0, 83.0, 62.0, 134.0, 75.0, 109.0, 152.0, 83.0, 52.0, 31.0, 98.0, 14.0, 64.0, 109.0, 118.0, 80.0, 51.0, 83.0, 90.0, 28.0, 82.0, 24.0, 71.0, 80.0, 109.0, 140.0, 39.0, 39.0, 50.0, 31.0, 35.0, 44.0, 35.0, 20.0, 10.0, 83.0, 186.5, 84.0, 41.0, 164.0, 152.0, 62.0, 12.0, 28.0, 52.0, 19.0, 35.0, 28.0, 70.0, 140.0, 102.0, 50.0, 61.0, 44.0, 12.0, 69.0, 132.0, 128.0, 44.0, 44.0, 34.0, 132.0, 158.0, 83.0, 28.0, 31.0, 40.0, 71.0, 42.0, 35.0, 81.0, 91.0, 75.0, 54.0, 43.0, 94.0, 84.0, 34.0, 15.0, 99.0, 15.0, 83.0, 83.0, 143.0, 81.0, 39.0, 62.0, 64.0, 29.0, 64.0, 21.0, 64.0, 40.0, 61.0, 44.0, 78.0, 25.0, 125.0, 63.0, 54.0, 92.0, 119.0, 40.0, 41.0, 81.0, 101.0, 25.0, 55.0, 43.0, 98.0, 112.0, 69.0, 79.0, 118.0, 81.0, 19.0, 63.0, 102.0, 40.0, 44.0, 59.0, 186.5, 64.0, 129.0, 43.0, 12.0, 53.0, 39.0, 65.0, 18.0, 55.0, 60.0, 42.0, 44.0, 111.0, 62.0, 44.0, 69.0, 62.0, 35.0, 91.0, 12.0, 89.0, 65.0, 82.0, 48.0, 20.0, 91.0, 122.0, 22.0, 43.0, 38.0, 61.0, 33.0, 145.0, 170.0, 55.0, 40.0, 68.0, 53.0, 63.0, 123.0, 13.0, 12.0, 53.0, 79.0, 89.0, 62.0, 40.0, 23.0, 62.0, 69.0, 124.0, 52.0, 134.0, 58.0, 45.0, 75.0, 23.0, 48.0, 145.0, 31.0, 38.0, 78.0, 94.0, 84.0, 22.0, 78.0, 75.0, 71.0, 24.0, 112.0, 53.0, 41.0, 25.0, 42.0, 51.0, 19.0, 90.0, 89.0, 22.0, 119.0, 18.0, 32.0, 19.0, 90.0, 59.0, 84.0, 13.0, 88.0, 34.0, 11.0, 80.0, 41.0, 90.0, 81.0, 60.0, 39.0, 22.0, 32.0, 28.0, 35.0, 186.5, 40.0, 88.0, 124.0, 23.0, 23.0, 139.0, 42.0, 161.0, 28.0, 42.0, 81.0, 82.0, 53.0, 42.0, 64.0, 90.0, 44.0, 29.0, 93.0, 69.0, 82.0, 13.0, 72.0, 54.0, 104.0, 44.0, 40.0, 186.5, 64.0, 9.0, 38.0, 72.0, 82.0, 48.0, 82.0, 14.0, 162.0, 54.0, 90.0, 64.0, 65.0, 113.0, 38.0, 65.0, 39.0, 174.0, 59.0, 43.0, 24.0, 50.0, 68.0, 61.0, 21.0, 21.0, 31.0, 70.0, 25.0, 78.0, 19.0, 23.0, 40.0, 22.0, 71.0, 58.0, 75.0, 40.0, 83.0, 99.0, 59.0, 53.0, 11.0, 71.0, 85.0, 49.0, 122.0, 171.0, 8.0, 59.0, 49.0, 92.0, 75.0, 60.0, 41.0, 40.0, 81.0, 52.0, 25.0, 139.0, 54.0, 81.0, 73.0, 30.0, 59.0, 21.0, 65.0, 41.0, 52.0, 84.0, 135.0, 18.0, 34.0, 85.0, 23.0, 65.0, 186.5, 40.0, 95.0, 23.0, 82.0, 53.0, 10.0, 75.0, 23.0, 133.0, 129.0, 85.0, 168.0, 83.0, 52.0, 114.0, 81.0, 32.0, 63.0, 70.0, 20.0, 138.0, 63.0, 85.0, 80.0, 53.0, 72.0, 91.0, 148.0, 28.0, 186.5, 22.0, 74.0, 70.0, 11.0, 61.0, 41.0, 23.0, 30.0, 44.0, 49.0, 75.0, 43.0, 59.0, 75.0, 75.0, 88.0, 11.0, 22.0, 49.0, 140.0, 99.0, 82.0, 10.0, 109.0, 45.0, 93.0, 39.0, 21.0, 31.0, 31.0, 52.0, 13.0, 21.0, 50.0, 81.0, 74.0, 89.0, 82.0, 88.0, 61.0, 139.0, 29.0, 51.0, 58.0, 21.0, 43.0, 104.0, 9.0, 39.0, 89.0, 21.0, 29.0, 43.0, 30.0, 39.0, 83.0, 58.0, 8.0, 39.0, 186.5, 45.0, 111.0, 83.0, 83.0, 115.0, 60.0, 53.0, 134.0, 91.0, 91.0, 128.0, 78.0, 161.0, 60.0, 161.0, 40.0, 68.0, 74.0, 55.0, 145.0, 24.0, 10.0, 138.0, 63.0, 54.0, 62.0, 81.0, 61.0, 68.0, 78.0, 165.0, 48.0, 52.0, 18.0, 42.0, 18.0, 40.0, 44.0, 11.0, 108.0, 12.0, 19.0, 150.0, 89.0, 83.0, 79.0, 102.0, 155.0, 138.0, 51.0, 80.0, 135.0, 34.0, 62.0, 173.0, 149.0, 20.0, 42.0, 28.0, 95.0, 95.0, 34.0, 41.0, 150.0, 91.0, 84.0, 73.0, 122.0, 73.0, 20.0, 134.0, 98.0, 54.0, 41.0, 14.0, 93.0, 79.0, 79.0, 62.0, 95.0, 60.0, 75.0, 85.0, 143.0, 34.0, 44.0, 31.0, 13.0, 52.0, 42.0, 102.0, 10.0, 44.0, 158.0, 12.0, 59.0, 92.0, 82.0, 44.0, 121.0, 38.0, 92.0, 53.0, 45.0, 63.0, 181.0, 33.0, 22.0, 99.0, 44.0, 101.0, 32.0, 59.0, 25.0, 29.0, 35.0, 75.0, 58.0, 41.0, 42.0, 55.0, 18.0, 75.0, 85.0, 43.0, 149.0, 25.0, 19.0, 18.0, 13.0, 41.0, 139.0, 62.0, 51.0, 71.0, 45.0, 53.0, 64.0, 39.0, 38.0, 85.0, 61.0, 23.0, 122.0, 72.0, 123.0, 40.0, 62.0, 113.0, 81.0, 59.0, 25.0, 25.0, 14.0, 19.0, 61.0, 21.0, 44.0, 42.0, 52.0, 112.0, 34.0, 83.0, 24.0, 71.0, 75.0, 153.0, 75.0, 19.0, 31.0, 65.0, 8.0, 92.0, 85.0, 149.0, 9.0, 40.0, 54.0, 140.0, 18.0, 12.0, 140.0, 24.0, 60.0, 50.0, 44.0, 51.0, 34.0, 33.0, 63.0, 22.0, 75.0, 75.0, 62.0, 48.0, 73.0, 135.0, 61.0, 78.0, 40.0, 44.0, 45.0, 18.0, 53.0, 11.0, 38.0, 28.0, 35.0, 81.0, 90.0, 115.0, 78.0, 30.0, 39.0, 69.0, 29.0, 54.0, 60.0, 99.0, 51.0, 53.0, 79.0, 90.0, 18.0, 73.0, 59.0, 40.0, 41.0, 53.0, 128.0, 35.0, 28.0, 155.0, 186.5, 50.0, 48.0, 81.0, 50.0, 21.0, 142.0, 64.0, 91.0, 74.0, 82.0, 45.0, 85.0, 133.0, 22.0, 24.0, 38.0, 80.0, 33.0, 41.0, 90.0, 89.0, 8.0, 85.0, 53.0, 20.0, 9.0, 25.0, 114.0, 41.0, 49.0, 12.0, 50.0, 30.0, 32.0, 41.0, 25.0, 29.0, 50.0, 79.0, 110.0, 40.0, 18.0, 48.0, 40.0, 19.0, 35.0, 19.0, 83.0, 39.0, 38.0, 63.0, 85.0, 14.0, 64.0, 124.0, 20.0, 33.0, 80.0, 35.0, 74.0, 32.0, 73.0, 41.0, 18.0, 28.0, 64.0, 44.0, 109.0, 71.0, 79.0, 30.0, 82.0, 101.0, 13.0, 59.0, 64.0, 186.5, 28.0, 131.0, 19.0, 44.0, 49.0, 99.0, 95.0, 81.0, 73.0, 186.5, 41.0, 80.0, 90.0, 41.0, 102.0, 59.0, 69.0, 49.0, 61.0, 59.0, 85.0, 13.0, 44.0, 53.0, 31.0, 101.0, 61.0, 68.0, 21.0, 149.0, 75.0, 55.0, 81.0, 179.0, 42.0, 186.5, 18.0, 28.0, 80.0, 79.0, 52.0, 18.0, 52.0, 15.0, 84.0, 114.0, 41.0, 29.0, 23.0, 84.0, 60.0, 13.0, 45.0, 83.0, 58.0, 148.0, 92.0, 62.0, 50.0, 29.0, 85.0, 78.0, 85.0, 89.0, 33.0, 42.0, 31.0, 35.0, 22.0, 45.0, 119.0, 43.0, 75.0, 121.0, 63.0, 58.0, 155.0, 69.0, 38.0, 9.0, 69.0, 186.5, 38.0, 129.0, 59.0, 115.0, 83.0, 65.0, 72.0, 72.0, 63.0, 64.0, 186.5, 104.0, 180.0, 18.0, 93.0, 32.0, 68.0, 38.0, 115.0, 161.0, 154.0, 68.0, 44.0, 149.0, 103.0, 41.0, 113.0, 48.0, 69.0, 43.0, 19.0, 65.0, 32.0, 20.0, 25.0, 70.0, 70.0, 103.0, 61.0, 170.0, 49.0, 62.0, 102.0, 8.0, 91.0, 10.0, 35.0, 71.0, 59.0, 14.0, 122.0, 81.0, 35.0, 83.0, 121.0, 35.0, 88.0, 70.0, 63.0, 125.0, 21.0, 75.0, 38.0, 58.0, 31.0, 18.0, 29.0, 29.0, 69.0, 121.0, 64.0, 84.0, 65.0, 85.0, 44.0, 174.0, 178.0, 55.0, 25.0, 21.0, 72.0, 129.0, 18.0, 91.0, 38.0, 21.0, 38.0, 154.0, 178.0, 85.0, 93.0, 151.0, 78.0, 135.0, 40.0, 80.0, 18.0, 74.0, 94.0, 88.0, 82.0, 54.0, 45.0, 39.0, 20.0, 93.0, 85.0, 95.0, 48.0, 22.0, 33.0, 40.0, 30.0, 22.0, 20.0, 49.0, 25.0, 150.0, 32.0, 9.0, 23.0, 18.0, 42.0, 39.0, 84.0, 43.0, 28.0, 59.0, 29.0, 39.0, 42.0, 24.0, 62.0, 33.0, 73.0, 88.0, 58.0, 48.0, 40.0, 160.0, 39.0, 53.0, 32.0, 32.0, 11.0, 60.0, 41.0, 99.0, 83.0, 134.0, 85.0, 41.0, 44.0, 62.0, 149.0, 25.0, 84.0, 81.0, 181.0, 62.0, 11.0, 60.0, 42.0, 83.0, 109.0, 70.0, 25.0, 72.0, 183.0, 44.0, 52.0, 18.0, 40.0, 41.0, 81.0, 128.0, 65.0, 145.0, 65.0, 119.0, 124.0, 33.0, 41.0, 105.0, 130.0, 80.0, 115.0, 62.0, 34.0, 18.0, 44.0, 25.0, 52.0, 71.0, 61.0, 62.0, 33.0, 28.0, 53.0, 69.0, 165.0, 75.0, 54.0, 53.0, 41.0, 43.0, 79.0, 24.0, 73.0, 50.0, 28.0, 64.0, 49.0, 121.0, 58.0, 51.0, 61.0, 35.0, 39.0, 74.0, 186.5, 81.0, 44.0, 19.0, 85.0, 74.0, 54.0, 58.0, 18.0, 88.0, 19.0, 49.0, 101.0, 138.0, 25.0, 120.0, 153.0, 28.0, 110.0, 94.0, 48.0, 123.0, 33.0, 42.0, 68.0, 28.0, 42.0, 28.0, 73.0, 89.0, 82.0, 83.0, 28.0, 39.0, 110.0, 55.0, 111.0, 94.0, 85.0, 81.0, 94.0, 162.0, 80.0, 70.0, 19.0, 109.0, 12.0, 33.0, 49.0, 42.0, 41.0, 43.0, 64.0, 19.0, 65.0, 53.0, 32.0, 22.0, 39.0, 59.0, 50.0, 19.0, 55.0, 81.0, 108.0, 98.0, 110.0, 33.0, 34.0, 69.0, 41.0, 60.0, 95.0, 73.0, 41.0, 68.0, 64.0, 29.0, 31.0, 54.0, 63.0, 92.0, 186.5, 45.0, 72.0, 98.0, 30.0, 78.0, 43.0, 85.0, 38.0, 58.0, 92.0, 13.0, 186.5, 75.0, 40.0, 15.0, 24.0, 49.0, 83.0], \"y0\": \" \", \"yaxis\": \"y\"}, {\"alignmentgroup\": \"True\", \"hoverlabel\": {\"namelength\": 0}, \"hovertemplate\": \"Personal Loan=1<br>Education Mark=%{x}<br>Income=%{y}\", \"legendgroup\": \"\", \"marker\": {\"color\": \"#636efa\"}, \"name\": \"\", \"notched\": false, \"offsetgroup\": \"\", \"orientation\": \"v\", \"showlegend\": false, \"type\": \"box\", \"x\": [\"Advanced/Professional\", \"Advanced/Professional\", \"Advanced/Professional\", \"Graduate\", \"Advanced/Professional\", \"Graduate\", \"Advanced/Professional\", \"Advanced/Professional\", \"Advanced/Professional\", \"Graduate\", \"Advanced/Professional\", \"Graduate\", \"Graduate\", \"Advanced/Professional\", \"Advanced/Professional\", \"Graduate\", \"Undergraduate\", \"Advanced/Professional\", \"Advanced/Professional\", \"Undergraduate\", \"Advanced/Professional\", \"Graduate\", \"Graduate\", \"Advanced/Professional\", \"Advanced/Professional\", \"Advanced/Professional\", \"Advanced/Professional\", \"Undergraduate\", \"Graduate\", \"Graduate\", \"Graduate\", \"Undergraduate\", \"Undergraduate\", \"Undergraduate\", \"Undergraduate\", \"Undergraduate\", \"Graduate\", \"Graduate\", \"Undergraduate\", \"Advanced/Professional\", \"Undergraduate\", \"Graduate\", \"Graduate\", \"Advanced/Professional\", \"Advanced/Professional\", \"Graduate\", \"Advanced/Professional\", \"Graduate\", \"Graduate\", \"Graduate\", \"Graduate\", \"Undergraduate\", \"Advanced/Professional\", \"Advanced/Professional\", \"Graduate\", \"Advanced/Professional\", \"Advanced/Professional\", \"Graduate\", \"Advanced/Professional\", \"Advanced/Professional\", \"Advanced/Professional\", \"Graduate\", \"Graduate\", \"Advanced/Professional\", \"Undergraduate\", \"Graduate\", \"Graduate\", \"Advanced/Professional\", \"Graduate\", \"Undergraduate\", \"Graduate\", \"Advanced/Professional\", \"Advanced/Professional\", \"Advanced/Professional\", \"Advanced/Professional\", \"Advanced/Professional\", \"Advanced/Professional\", \"Graduate\", \"Graduate\", \"Undergraduate\", \"Graduate\", \"Advanced/Professional\", \"Undergraduate\", \"Undergraduate\", \"Graduate\", \"Undergraduate\", \"Graduate\", \"Advanced/Professional\", \"Undergraduate\", \"Advanced/Professional\", \"Advanced/Professional\", \"Graduate\", \"Advanced/Professional\", \"Undergraduate\", \"Graduate\", \"Graduate\", \"Advanced/Professional\", \"Advanced/Professional\", \"Graduate\", \"Graduate\", \"Advanced/Professional\", \"Graduate\", \"Advanced/Professional\", \"Advanced/Professional\", \"Undergraduate\", \"Graduate\", \"Advanced/Professional\", \"Undergraduate\", \"Advanced/Professional\", \"Advanced/Professional\", \"Undergraduate\", \"Graduate\", \"Undergraduate\", \"Graduate\", \"Undergraduate\", \"Advanced/Professional\", \"Advanced/Professional\", \"Advanced/Professional\", \"Undergraduate\", \"Graduate\", \"Graduate\", \"Undergraduate\", \"Graduate\", \"Graduate\", \"Graduate\", \"Advanced/Professional\", \"Graduate\", \"Advanced/Professional\", \"Graduate\", \"Advanced/Professional\", \"Graduate\", \"Graduate\", \"Graduate\", \"Undergraduate\", \"Graduate\", \"Graduate\", \"Graduate\", \"Undergraduate\", \"Advanced/Professional\", \"Advanced/Professional\", \"Advanced/Professional\", \"Graduate\", \"Graduate\", \"Advanced/Professional\", \"Advanced/Professional\", \"Advanced/Professional\", \"Graduate\", \"Graduate\", \"Undergraduate\", \"Graduate\", \"Advanced/Professional\", \"Graduate\", \"Graduate\", \"Advanced/Professional\", \"Advanced/Professional\", \"Graduate\", \"Undergraduate\", \"Undergraduate\", \"Undergraduate\", \"Undergraduate\", \"Graduate\", \"Graduate\", \"Advanced/Professional\", \"Advanced/Professional\", \"Advanced/Professional\", \"Graduate\", \"Advanced/Professional\", \"Graduate\", \"Graduate\", \"Advanced/Professional\", \"Advanced/Professional\", \"Advanced/Professional\", \"Advanced/Professional\", \"Advanced/Professional\", \"Graduate\", \"Undergraduate\", \"Graduate\", \"Undergraduate\", \"Undergraduate\", \"Advanced/Professional\", \"Undergraduate\", \"Undergraduate\", \"Undergraduate\", \"Advanced/Professional\", \"Advanced/Professional\", \"Undergraduate\", \"Graduate\", \"Graduate\", \"Advanced/Professional\", \"Advanced/Professional\", \"Undergraduate\", \"Advanced/Professional\", \"Undergraduate\", \"Undergraduate\", \"Graduate\", \"Undergraduate\", \"Advanced/Professional\", \"Advanced/Professional\", \"Advanced/Professional\", \"Advanced/Professional\", \"Graduate\", \"Undergraduate\", \"Graduate\", \"Advanced/Professional\", \"Advanced/Professional\", \"Undergraduate\", \"Graduate\", \"Graduate\", \"Graduate\", \"Graduate\", \"Advanced/Professional\", \"Graduate\", \"Advanced/Professional\", \"Advanced/Professional\", \"Advanced/Professional\", \"Advanced/Professional\", \"Graduate\", \"Undergraduate\", \"Advanced/Professional\", \"Graduate\", \"Advanced/Professional\", \"Graduate\", \"Graduate\", \"Advanced/Professional\", \"Graduate\", \"Graduate\", \"Advanced/Professional\", \"Graduate\", \"Graduate\", \"Graduate\", \"Advanced/Professional\", \"Graduate\", \"Undergraduate\", \"Advanced/Professional\", \"Graduate\", \"Undergraduate\", \"Graduate\", \"Advanced/Professional\", \"Undergraduate\", \"Graduate\", \"Undergraduate\", \"Graduate\", \"Graduate\", \"Advanced/Professional\", \"Graduate\", \"Graduate\", \"Graduate\", \"Graduate\", \"Advanced/Professional\", \"Undergraduate\", \"Graduate\", \"Graduate\", \"Advanced/Professional\", \"Advanced/Professional\", \"Advanced/Professional\", \"Advanced/Professional\", \"Graduate\", \"Undergraduate\", \"Graduate\", \"Graduate\", \"Undergraduate\", \"Graduate\", \"Graduate\", \"Advanced/Professional\", \"Graduate\", \"Undergraduate\", \"Advanced/Professional\", \"Advanced/Professional\", \"Undergraduate\", \"Advanced/Professional\", \"Advanced/Professional\", \"Undergraduate\", \"Advanced/Professional\", \"Graduate\", \"Advanced/Professional\", \"Advanced/Professional\", \"Graduate\", \"Advanced/Professional\", \"Undergraduate\", \"Advanced/Professional\", \"Graduate\", \"Advanced/Professional\", \"Undergraduate\", \"Graduate\", \"Graduate\", \"Graduate\", \"Advanced/Professional\", \"Advanced/Professional\", \"Graduate\", \"Advanced/Professional\", \"Advanced/Professional\", \"Graduate\", \"Graduate\", \"Graduate\", \"Undergraduate\", \"Advanced/Professional\", \"Advanced/Professional\", \"Graduate\", \"Advanced/Professional\", \"Graduate\", \"Undergraduate\", \"Advanced/Professional\", \"Graduate\", \"Advanced/Professional\", \"Advanced/Professional\", \"Undergraduate\", \"Advanced/Professional\", \"Graduate\", \"Undergraduate\", \"Graduate\", \"Graduate\", \"Graduate\", \"Advanced/Professional\", \"Graduate\", \"Advanced/Professional\", \"Graduate\", \"Advanced/Professional\", \"Graduate\", \"Undergraduate\", \"Undergraduate\", \"Advanced/Professional\", \"Advanced/Professional\", \"Advanced/Professional\", \"Advanced/Professional\", \"Graduate\", \"Graduate\", \"Undergraduate\", \"Advanced/Professional\", \"Graduate\", \"Graduate\", \"Advanced/Professional\", \"Undergraduate\", \"Graduate\", \"Graduate\", \"Undergraduate\", \"Advanced/Professional\", \"Graduate\", \"Advanced/Professional\", \"Advanced/Professional\", \"Advanced/Professional\", \"Advanced/Professional\", \"Graduate\", \"Graduate\", \"Undergraduate\", \"Advanced/Professional\", \"Graduate\", \"Graduate\", \"Advanced/Professional\", \"Undergraduate\", \"Advanced/Professional\", \"Graduate\", \"Advanced/Professional\", \"Undergraduate\", \"Advanced/Professional\", \"Advanced/Professional\", \"Advanced/Professional\", \"Undergraduate\", \"Advanced/Professional\", \"Advanced/Professional\", \"Advanced/Professional\", \"Undergraduate\", \"Undergraduate\", \"Graduate\", \"Advanced/Professional\", \"Undergraduate\", \"Advanced/Professional\", \"Graduate\", \"Graduate\", \"Advanced/Professional\", \"Graduate\", \"Advanced/Professional\", \"Advanced/Professional\", \"Graduate\", \"Advanced/Professional\", \"Graduate\", \"Graduate\", \"Graduate\", \"Graduate\", \"Advanced/Professional\", \"Graduate\", \"Graduate\", \"Advanced/Professional\", \"Advanced/Professional\", \"Graduate\", \"Graduate\", \"Advanced/Professional\", \"Advanced/Professional\", \"Advanced/Professional\", \"Graduate\", \"Advanced/Professional\", \"Advanced/Professional\", \"Graduate\", \"Undergraduate\", \"Advanced/Professional\", \"Advanced/Professional\", \"Advanced/Professional\", \"Graduate\", \"Advanced/Professional\", \"Advanced/Professional\", \"Undergraduate\", \"Advanced/Professional\", \"Undergraduate\", \"Undergraduate\", \"Advanced/Professional\", \"Advanced/Professional\", \"Advanced/Professional\", \"Graduate\", \"Advanced/Professional\", \"Graduate\", \"Undergraduate\", \"Advanced/Professional\", \"Graduate\", \"Advanced/Professional\", \"Graduate\", \"Undergraduate\", \"Advanced/Professional\", \"Undergraduate\", \"Advanced/Professional\", \"Graduate\", \"Advanced/Professional\", \"Graduate\", \"Advanced/Professional\", \"Graduate\", \"Advanced/Professional\", \"Advanced/Professional\", \"Undergraduate\", \"Advanced/Professional\", \"Advanced/Professional\", \"Undergraduate\", \"Advanced/Professional\", \"Graduate\", \"Advanced/Professional\", \"Graduate\", \"Advanced/Professional\", \"Undergraduate\", \"Undergraduate\", \"Advanced/Professional\", \"Graduate\", \"Undergraduate\", \"Undergraduate\", \"Advanced/Professional\", \"Advanced/Professional\", \"Advanced/Professional\", \"Graduate\", \"Advanced/Professional\", \"Advanced/Professional\", \"Graduate\", \"Advanced/Professional\", \"Advanced/Professional\", \"Undergraduate\", \"Advanced/Professional\", \"Graduate\", \"Graduate\", \"Graduate\", \"Graduate\", \"Graduate\", \"Graduate\", \"Graduate\", \"Graduate\", \"Undergraduate\", \"Graduate\", \"Undergraduate\", \"Advanced/Professional\", \"Undergraduate\", \"Advanced/Professional\", \"Graduate\", \"Advanced/Professional\", \"Advanced/Professional\", \"Advanced/Professional\", \"Advanced/Professional\", \"Graduate\", \"Graduate\", \"Advanced/Professional\", \"Graduate\", \"Advanced/Professional\", \"Advanced/Professional\", \"Graduate\", \"Graduate\", \"Advanced/Professional\", \"Undergraduate\"], \"x0\": \" \", \"xaxis\": \"x2\", \"y\": [180.0, 130.0, 186.5, 119.0, 141.0, 132.0, 186.5, 186.5, 131.0, 135.0, 133.0, 118.0, 149.0, 132.0, 134.0, 168.0, 148.0, 159.0, 158.0, 172.0, 170.0, 120.0, 170.0, 134.0, 111.0, 172.0, 159.0, 186.5, 165.0, 119.0, 101.0, 101.0, 99.0, 158.0, 173.0, 60.0, 155.0, 174.0, 133.0, 100.0, 179.0, 115.0, 113.0, 122.0, 183.0, 149.0, 83.0, 182.0, 152.0, 173.0, 69.0, 122.0, 131.0, 175.0, 161.0, 152.0, 170.0, 115.0, 165.0, 122.0, 129.0, 185.0, 105.0, 164.0, 109.0, 132.0, 114.0, 152.0, 138.0, 109.0, 172.0, 165.0, 135.0, 186.5, 158.0, 186.5, 186.5, 132.0, 130.0, 150.0, 124.0, 182.0, 120.0, 161.0, 172.0, 186.5, 95.0, 186.5, 129.0, 83.0, 169.0, 135.0, 174.0, 83.0, 142.0, 185.0, 99.0, 186.5, 118.0, 122.0, 110.0, 145.0, 175.0, 145.0, 83.0, 138.0, 125.0, 75.0, 175.0, 186.5, 186.5, 182.0, 104.0, 171.0, 73.0, 134.0, 143.0, 120.0, 181.0, 94.0, 112.0, 103.0, 71.0, 123.0, 186.5, 165.0, 118.0, 169.0, 130.0, 130.0, 113.0, 164.0, 186.5, 145.0, 179.0, 180.0, 171.0, 139.0, 135.0, 179.0, 186.5, 172.0, 183.0, 101.0, 129.0, 184.0, 154.0, 154.0, 160.0, 141.0, 178.0, 91.0, 186.5, 64.0, 155.0, 102.0, 114.0, 65.0, 122.0, 170.0, 184.0, 124.0, 186.5, 138.0, 111.0, 84.0, 154.0, 153.0, 93.0, 186.5, 152.0, 158.0, 182.0, 139.0, 186.5, 173.0, 139.0, 114.0, 125.0, 155.0, 128.0, 119.0, 171.0, 113.0, 98.0, 185.0, 112.0, 186.5, 161.0, 178.0, 179.0, 110.0, 125.0, 111.0, 186.5, 134.0, 118.0, 186.5, 181.0, 103.0, 128.0, 142.0, 170.0, 169.0, 103.0, 113.0, 180.0, 161.0, 134.0, 159.0, 160.0, 186.5, 174.0, 186.5, 178.0, 115.0, 168.0, 83.0, 99.0, 158.0, 183.0, 123.0, 186.5, 180.0, 186.5, 162.0, 183.0, 186.5, 150.0, 131.0, 168.0, 105.0, 172.0, 114.0, 170.0, 170.0, 182.0, 129.0, 130.0, 186.5, 89.0, 184.0, 123.0, 109.0, 184.0, 185.0, 125.0, 138.0, 169.0, 140.0, 108.0, 123.0, 161.0, 164.0, 179.0, 168.0, 178.0, 92.0, 111.0, 104.0, 98.0, 171.0, 90.0, 180.0, 114.0, 149.0, 152.0, 161.0, 161.0, 110.0, 160.0, 111.0, 186.5, 154.0, 131.0, 148.0, 119.0, 131.0, 158.0, 173.0, 186.5, 183.0, 130.0, 185.0, 168.0, 115.0, 154.0, 182.0, 185.0, 183.0, 133.0, 181.0, 186.5, 172.0, 184.0, 186.5, 114.0, 122.0, 113.0, 140.0, 186.5, 102.0, 130.0, 132.0, 186.5, 162.0, 121.0, 153.0, 103.0, 164.0, 148.0, 169.0, 130.0, 158.0, 141.0, 134.0, 168.0, 129.0, 179.0, 131.0, 175.0, 114.0, 124.0, 99.0, 158.0, 173.0, 94.0, 111.0, 179.0, 93.0, 159.0, 140.0, 141.0, 132.0, 105.0, 153.0, 174.0, 164.0, 141.0, 125.0, 115.0, 163.0, 182.0, 135.0, 142.0, 82.0, 135.0, 125.0, 172.0, 149.0, 120.0, 133.0, 154.0, 182.0, 125.0, 95.0, 144.0, 118.0, 169.0, 139.0, 153.0, 165.0, 128.0, 130.0, 99.0, 148.0, 154.0, 141.0, 140.0, 120.0, 129.0, 160.0, 184.0, 131.0, 118.0, 83.0, 142.0, 108.0, 135.0, 115.0, 186.5, 178.0, 131.0, 129.0, 158.0, 142.0, 139.0, 179.0, 186.5, 123.0, 119.0, 123.0, 123.0, 93.0, 182.0, 85.0, 95.0, 93.0, 154.0, 173.0, 186.5, 175.0, 142.0, 180.0, 155.0, 179.0, 138.0, 141.0, 180.0, 123.0, 163.0, 108.0, 135.0, 144.0, 139.0, 143.0, 154.0, 91.0, 89.0, 173.0, 155.0, 158.0, 186.5, 186.5, 186.5, 130.0, 85.0, 128.0, 132.0, 186.5, 170.0, 143.0, 182.0, 184.0, 140.0, 141.0, 145.0, 181.0, 178.0, 145.0, 164.0, 164.0, 104.0, 111.0, 145.0, 182.0, 133.0, 120.0, 115.0, 83.0, 180.0, 151.0, 133.0, 81.0, 102.0, 134.0, 130.0, 142.0, 143.0, 184.0, 186.5, 162.0, 108.0, 141.0, 140.0, 173.0, 101.0, 123.0, 184.0, 115.0, 174.0, 135.0, 165.0, 133.0, 142.0, 129.0, 121.0, 112.0, 122.0, 135.0], \"y0\": \" \", \"yaxis\": \"y2\"}],\n",
              "                        {\"annotations\": [{\"font\": {}, \"showarrow\": false, \"text\": \"Personal Loan=0\", \"x\": 0.245, \"xanchor\": \"center\", \"xref\": \"paper\", \"y\": 1.0, \"yanchor\": \"bottom\", \"yref\": \"paper\"}, {\"font\": {}, \"showarrow\": false, \"text\": \"Personal Loan=1\", \"x\": 0.755, \"xanchor\": \"center\", \"xref\": \"paper\", \"y\": 1.0, \"yanchor\": \"bottom\", \"yref\": \"paper\"}], \"boxmode\": \"group\", \"legend\": {\"tracegroupgap\": 0}, \"margin\": {\"t\": 60}, \"template\": {\"data\": {\"bar\": [{\"error_x\": {\"color\": \"#2a3f5f\"}, \"error_y\": {\"color\": \"#2a3f5f\"}, \"marker\": {\"line\": {\"color\": \"#E5ECF6\", \"width\": 0.5}}, \"type\": \"bar\"}], \"barpolar\": [{\"marker\": {\"line\": {\"color\": \"#E5ECF6\", \"width\": 0.5}}, \"type\": \"barpolar\"}], \"carpet\": [{\"aaxis\": {\"endlinecolor\": \"#2a3f5f\", \"gridcolor\": \"white\", \"linecolor\": \"white\", \"minorgridcolor\": \"white\", \"startlinecolor\": \"#2a3f5f\"}, \"baxis\": {\"endlinecolor\": \"#2a3f5f\", \"gridcolor\": \"white\", \"linecolor\": \"white\", \"minorgridcolor\": \"white\", \"startlinecolor\": \"#2a3f5f\"}, \"type\": \"carpet\"}], \"choropleth\": [{\"colorbar\": {\"outlinewidth\": 0, \"ticks\": \"\"}, \"type\": \"choropleth\"}], \"contour\": [{\"colorbar\": {\"outlinewidth\": 0, \"ticks\": \"\"}, \"colorscale\": [[0.0, \"#0d0887\"], [0.1111111111111111, \"#46039f\"], [0.2222222222222222, \"#7201a8\"], [0.3333333333333333, \"#9c179e\"], [0.4444444444444444, \"#bd3786\"], [0.5555555555555556, \"#d8576b\"], [0.6666666666666666, \"#ed7953\"], [0.7777777777777778, \"#fb9f3a\"], [0.8888888888888888, \"#fdca26\"], [1.0, \"#f0f921\"]], \"type\": \"contour\"}], \"contourcarpet\": [{\"colorbar\": {\"outlinewidth\": 0, \"ticks\": \"\"}, \"type\": \"contourcarpet\"}], \"heatmap\": [{\"colorbar\": {\"outlinewidth\": 0, \"ticks\": \"\"}, \"colorscale\": [[0.0, \"#0d0887\"], [0.1111111111111111, \"#46039f\"], [0.2222222222222222, \"#7201a8\"], [0.3333333333333333, \"#9c179e\"], [0.4444444444444444, \"#bd3786\"], [0.5555555555555556, \"#d8576b\"], [0.6666666666666666, \"#ed7953\"], [0.7777777777777778, \"#fb9f3a\"], [0.8888888888888888, \"#fdca26\"], [1.0, \"#f0f921\"]], \"type\": \"heatmap\"}], \"heatmapgl\": [{\"colorbar\": {\"outlinewidth\": 0, \"ticks\": \"\"}, \"colorscale\": [[0.0, \"#0d0887\"], [0.1111111111111111, \"#46039f\"], [0.2222222222222222, \"#7201a8\"], [0.3333333333333333, \"#9c179e\"], [0.4444444444444444, \"#bd3786\"], [0.5555555555555556, \"#d8576b\"], [0.6666666666666666, \"#ed7953\"], [0.7777777777777778, \"#fb9f3a\"], [0.8888888888888888, \"#fdca26\"], [1.0, \"#f0f921\"]], \"type\": \"heatmapgl\"}], \"histogram\": [{\"marker\": {\"colorbar\": {\"outlinewidth\": 0, \"ticks\": \"\"}}, \"type\": \"histogram\"}], \"histogram2d\": [{\"colorbar\": {\"outlinewidth\": 0, \"ticks\": \"\"}, \"colorscale\": [[0.0, \"#0d0887\"], [0.1111111111111111, \"#46039f\"], [0.2222222222222222, \"#7201a8\"], [0.3333333333333333, \"#9c179e\"], [0.4444444444444444, \"#bd3786\"], [0.5555555555555556, \"#d8576b\"], [0.6666666666666666, \"#ed7953\"], [0.7777777777777778, \"#fb9f3a\"], [0.8888888888888888, \"#fdca26\"], [1.0, \"#f0f921\"]], \"type\": \"histogram2d\"}], \"histogram2dcontour\": [{\"colorbar\": {\"outlinewidth\": 0, \"ticks\": \"\"}, \"colorscale\": [[0.0, \"#0d0887\"], [0.1111111111111111, \"#46039f\"], [0.2222222222222222, \"#7201a8\"], [0.3333333333333333, \"#9c179e\"], [0.4444444444444444, \"#bd3786\"], [0.5555555555555556, \"#d8576b\"], [0.6666666666666666, \"#ed7953\"], [0.7777777777777778, \"#fb9f3a\"], [0.8888888888888888, \"#fdca26\"], [1.0, \"#f0f921\"]], \"type\": \"histogram2dcontour\"}], \"mesh3d\": [{\"colorbar\": {\"outlinewidth\": 0, \"ticks\": \"\"}, \"type\": \"mesh3d\"}], \"parcoords\": [{\"line\": {\"colorbar\": {\"outlinewidth\": 0, \"ticks\": \"\"}}, \"type\": \"parcoords\"}], \"pie\": [{\"automargin\": true, \"type\": \"pie\"}], \"scatter\": [{\"marker\": {\"colorbar\": {\"outlinewidth\": 0, \"ticks\": \"\"}}, \"type\": \"scatter\"}], \"scatter3d\": [{\"line\": {\"colorbar\": {\"outlinewidth\": 0, \"ticks\": \"\"}}, \"marker\": {\"colorbar\": {\"outlinewidth\": 0, \"ticks\": \"\"}}, \"type\": \"scatter3d\"}], \"scattercarpet\": [{\"marker\": {\"colorbar\": {\"outlinewidth\": 0, \"ticks\": \"\"}}, \"type\": \"scattercarpet\"}], \"scattergeo\": [{\"marker\": {\"colorbar\": {\"outlinewidth\": 0, \"ticks\": \"\"}}, \"type\": \"scattergeo\"}], \"scattergl\": [{\"marker\": {\"colorbar\": {\"outlinewidth\": 0, \"ticks\": \"\"}}, \"type\": \"scattergl\"}], \"scattermapbox\": [{\"marker\": {\"colorbar\": {\"outlinewidth\": 0, \"ticks\": \"\"}}, \"type\": \"scattermapbox\"}], \"scatterpolar\": [{\"marker\": {\"colorbar\": {\"outlinewidth\": 0, \"ticks\": \"\"}}, \"type\": \"scatterpolar\"}], \"scatterpolargl\": [{\"marker\": {\"colorbar\": {\"outlinewidth\": 0, \"ticks\": \"\"}}, \"type\": \"scatterpolargl\"}], \"scatterternary\": [{\"marker\": {\"colorbar\": {\"outlinewidth\": 0, \"ticks\": \"\"}}, \"type\": \"scatterternary\"}], \"surface\": [{\"colorbar\": {\"outlinewidth\": 0, \"ticks\": \"\"}, \"colorscale\": [[0.0, \"#0d0887\"], [0.1111111111111111, \"#46039f\"], [0.2222222222222222, \"#7201a8\"], [0.3333333333333333, \"#9c179e\"], [0.4444444444444444, \"#bd3786\"], [0.5555555555555556, \"#d8576b\"], [0.6666666666666666, \"#ed7953\"], [0.7777777777777778, \"#fb9f3a\"], [0.8888888888888888, \"#fdca26\"], [1.0, \"#f0f921\"]], \"type\": \"surface\"}], \"table\": [{\"cells\": {\"fill\": {\"color\": \"#EBF0F8\"}, \"line\": {\"color\": \"white\"}}, \"header\": {\"fill\": {\"color\": \"#C8D4E3\"}, \"line\": {\"color\": \"white\"}}, \"type\": \"table\"}]}, \"layout\": {\"annotationdefaults\": {\"arrowcolor\": \"#2a3f5f\", \"arrowhead\": 0, \"arrowwidth\": 1}, \"coloraxis\": {\"colorbar\": {\"outlinewidth\": 0, \"ticks\": \"\"}}, \"colorscale\": {\"diverging\": [[0, \"#8e0152\"], [0.1, \"#c51b7d\"], [0.2, \"#de77ae\"], [0.3, \"#f1b6da\"], [0.4, \"#fde0ef\"], [0.5, \"#f7f7f7\"], [0.6, \"#e6f5d0\"], [0.7, \"#b8e186\"], [0.8, \"#7fbc41\"], [0.9, \"#4d9221\"], [1, \"#276419\"]], \"sequential\": [[0.0, \"#0d0887\"], [0.1111111111111111, \"#46039f\"], [0.2222222222222222, \"#7201a8\"], [0.3333333333333333, \"#9c179e\"], [0.4444444444444444, \"#bd3786\"], [0.5555555555555556, \"#d8576b\"], [0.6666666666666666, \"#ed7953\"], [0.7777777777777778, \"#fb9f3a\"], [0.8888888888888888, \"#fdca26\"], [1.0, \"#f0f921\"]], \"sequentialminus\": [[0.0, \"#0d0887\"], [0.1111111111111111, \"#46039f\"], [0.2222222222222222, \"#7201a8\"], [0.3333333333333333, \"#9c179e\"], [0.4444444444444444, \"#bd3786\"], [0.5555555555555556, \"#d8576b\"], [0.6666666666666666, \"#ed7953\"], [0.7777777777777778, \"#fb9f3a\"], [0.8888888888888888, \"#fdca26\"], [1.0, \"#f0f921\"]]}, \"colorway\": [\"#636efa\", \"#EF553B\", \"#00cc96\", \"#ab63fa\", \"#FFA15A\", \"#19d3f3\", \"#FF6692\", \"#B6E880\", \"#FF97FF\", \"#FECB52\"], \"font\": {\"color\": \"#2a3f5f\"}, \"geo\": {\"bgcolor\": \"white\", \"lakecolor\": \"white\", \"landcolor\": \"#E5ECF6\", \"showlakes\": true, \"showland\": true, \"subunitcolor\": \"white\"}, \"hoverlabel\": {\"align\": \"left\"}, \"hovermode\": \"closest\", \"mapbox\": {\"style\": \"light\"}, \"paper_bgcolor\": \"white\", \"plot_bgcolor\": \"#E5ECF6\", \"polar\": {\"angularaxis\": {\"gridcolor\": \"white\", \"linecolor\": \"white\", \"ticks\": \"\"}, \"bgcolor\": \"#E5ECF6\", \"radialaxis\": {\"gridcolor\": \"white\", \"linecolor\": \"white\", \"ticks\": \"\"}}, \"scene\": {\"xaxis\": {\"backgroundcolor\": \"#E5ECF6\", \"gridcolor\": \"white\", \"gridwidth\": 2, \"linecolor\": \"white\", \"showbackground\": true, \"ticks\": \"\", \"zerolinecolor\": \"white\"}, \"yaxis\": {\"backgroundcolor\": \"#E5ECF6\", \"gridcolor\": \"white\", \"gridwidth\": 2, \"linecolor\": \"white\", \"showbackground\": true, \"ticks\": \"\", \"zerolinecolor\": \"white\"}, \"zaxis\": {\"backgroundcolor\": \"#E5ECF6\", \"gridcolor\": \"white\", \"gridwidth\": 2, \"linecolor\": \"white\", \"showbackground\": true, \"ticks\": \"\", \"zerolinecolor\": \"white\"}}, \"shapedefaults\": {\"line\": {\"color\": \"#2a3f5f\"}}, \"ternary\": {\"aaxis\": {\"gridcolor\": \"white\", \"linecolor\": \"white\", \"ticks\": \"\"}, \"baxis\": {\"gridcolor\": \"white\", \"linecolor\": \"white\", \"ticks\": \"\"}, \"bgcolor\": \"#E5ECF6\", \"caxis\": {\"gridcolor\": \"white\", \"linecolor\": \"white\", \"ticks\": \"\"}}, \"title\": {\"x\": 0.05}, \"xaxis\": {\"automargin\": true, \"gridcolor\": \"white\", \"linecolor\": \"white\", \"ticks\": \"\", \"title\": {\"standoff\": 15}, \"zerolinecolor\": \"white\", \"zerolinewidth\": 2}, \"yaxis\": {\"automargin\": true, \"gridcolor\": \"white\", \"linecolor\": \"white\", \"ticks\": \"\", \"title\": {\"standoff\": 15}, \"zerolinecolor\": \"white\", \"zerolinewidth\": 2}}}, \"xaxis\": {\"anchor\": \"y\", \"domain\": [0.0, 0.49], \"title\": {\"text\": \"Education Mark\"}}, \"xaxis2\": {\"anchor\": \"y2\", \"domain\": [0.51, 1.0], \"matches\": \"x\", \"title\": {\"text\": \"Education Mark\"}}, \"yaxis\": {\"anchor\": \"x\", \"domain\": [0.0, 1.0], \"title\": {\"text\": \"Income\"}}, \"yaxis2\": {\"anchor\": \"x2\", \"domain\": [0.0, 1.0], \"matches\": \"y\", \"showticklabels\": false}},\n",
              "                        {\"responsive\": true}\n",
              "                    ).then(function(){\n",
              "                            \n",
              "var gd = document.getElementById('65fa2efe-2f7a-470d-bacf-04002a88830e');\n",
              "var x = new MutationObserver(function (mutations, observer) {{\n",
              "        var display = window.getComputedStyle(gd).display;\n",
              "        if (!display || display === 'none') {{\n",
              "            console.log([gd, 'removed!']);\n",
              "            Plotly.purge(gd);\n",
              "            observer.disconnect();\n",
              "        }}\n",
              "}});\n",
              "\n",
              "// Listen for the removal of the full notebook cells\n",
              "var notebookContainer = gd.closest('#notebook-container');\n",
              "if (notebookContainer) {{\n",
              "    x.observe(notebookContainer, {childList: true});\n",
              "}}\n",
              "\n",
              "// Listen for the clearing of the current output cell\n",
              "var outputEl = gd.closest('.output');\n",
              "if (outputEl) {{\n",
              "    x.observe(outputEl, {childList: true});\n",
              "}}\n",
              "\n",
              "                        })\n",
              "                };\n",
              "                \n",
              "            </script>\n",
              "        </div>\n",
              "</body>\n",
              "</html>"
            ]
          },
          "metadata": {}
        }
      ]
    },
    {
      "cell_type": "code",
      "source": [
        "plt.figure(figsize=(12,8))\n",
        "sns.distplot(df[df['Personal Loan']==0]['Income'], hist=False, label='Customes incomes with no loans')\n",
        "sns.distplot(df[df['Personal Loan']==1]['Income'], hist=False, label='Customes incomes with loans')\n",
        "plt.legend()"
      ],
      "metadata": {
        "colab": {
          "base_uri": "https://localhost:8080/",
          "height": 673
        },
        "id": "lMEllKWXE29r",
        "outputId": "c1855911-5012-483b-d1f6-28a06a621254"
      },
      "execution_count": 43,
      "outputs": [
        {
          "output_type": "stream",
          "name": "stderr",
          "text": [
            "/usr/local/lib/python3.7/dist-packages/seaborn/distributions.py:2619: FutureWarning:\n",
            "\n",
            "`distplot` is a deprecated function and will be removed in a future version. Please adapt your code to use either `displot` (a figure-level function with similar flexibility) or `kdeplot` (an axes-level function for kernel density plots).\n",
            "\n",
            "/usr/local/lib/python3.7/dist-packages/seaborn/distributions.py:2619: FutureWarning:\n",
            "\n",
            "`distplot` is a deprecated function and will be removed in a future version. Please adapt your code to use either `displot` (a figure-level function with similar flexibility) or `kdeplot` (an axes-level function for kernel density plots).\n",
            "\n"
          ]
        },
        {
          "output_type": "execute_result",
          "data": {
            "text/plain": [
              "<matplotlib.legend.Legend at 0x7f5d85de0290>"
            ]
          },
          "metadata": {},
          "execution_count": 43
        },
        {
          "output_type": "display_data",
          "data": {
            "image/png": "[encoded data removed]",
            "text/plain": [
              "<Figure size 864x576 with 1 Axes>"
            ]
          },
          "metadata": {
            "needs_background": "light"
          }
        }
      ]
    },
    {
      "cell_type": "markdown",
      "source": [
        "**5.4 Analysis customers on basics of Security Account, Online, Account Holder Category, & Credit Card**"
      ],
      "metadata": {
        "id": "7JtuZxD5NK8V"
      }
    },
    {
      "cell_type": "code",
      "source": [
        "df.columns"
      ],
      "metadata": {
        "colab": {
          "base_uri": "https://localhost:8080/"
        },
        "id": "cgWJ43_SNfMm",
        "outputId": "4ec519c1-3519-465f-ae94-b381d42e023e"
      },
      "execution_count": 44,
      "outputs": [
        {
          "output_type": "execute_result",
          "data": {
            "text/plain": [
              "Index(['Age', 'Income', 'Family', 'CCAvg', 'Education', 'Mortgage',\n",
              "       'Personal Loan', 'Securities Account', 'CD Account', 'Online',\n",
              "       'CreditCard', 'Education Mark', 'Account Holder Category'],\n",
              "      dtype='object')"
            ]
          },
          "metadata": {},
          "execution_count": 44
        }
      ]
    },
    {
      "cell_type": "code",
      "source": [
        "col_names = ['Securities Account', 'Online', 'Account Holder Category', 'CreditCard']"
      ],
      "metadata": {
        "id": "_B3vnxzkNhPv"
      },
      "execution_count": 45,
      "outputs": []
    },
    {
      "cell_type": "code",
      "source": [
        "for col in col_names:\n",
        "  plt.figure(figsize=(10,5))\n",
        "  sns.countplot(x=col, hue='Personal Loan', data=df)"
      ],
      "metadata": {
        "colab": {
          "base_uri": "https://localhost:8080/",
          "height": 1000
        },
        "id": "2kwTvB1GN_yK",
        "outputId": "3936d996-7bed-4e6c-9927-0e65cdbdb3a9"
      },
      "execution_count": 46,
      "outputs": [
        {
          "output_type": "display_data",
          "data": {
            "image/png": "[encoded data removed]",
            "text/plain": [
              "<Figure size 720x360 with 1 Axes>"
            ]
          },
          "metadata": {
            "needs_background": "light"
          }
        },
        {
          "output_type": "display_data",
          "data": {
            "image/png": "[encoded data removed]",
            "text/plain": [
              "<Figure size 720x360 with 1 Axes>"
            ]
          },
          "metadata": {
            "needs_background": "light"
          }
        },
        {
          "output_type": "display_data",
          "data": {
            "image/png": "[encoded data removed]",
            "text/plain": [
              "<Figure size 720x360 with 1 Axes>"
            ]
          },
          "metadata": {
            "needs_background": "light"
          }
        },
        {
          "output_type": "display_data",
          "data": {
            "image/png": "[encoded data removed]",
            "text/plain": [
              "<Figure size 720x360 with 1 Axes>"
            ]
          },
          "metadata": {
            "needs_background": "light"
          }
        }
      ]
    },
    {
      "cell_type": "markdown",
      "source": [
        "# **6. A/B Testing**\n",
        "- test different ideas aganist each others in real world\n",
        "- choose the one that statistcally performes better\n",
        "- if p value less than significance level = .05, so we will reject defalut hypothesis(Ho) and accept alternative hypothesis(Ha) \n",
        "- else accept Ho and reject Ha"
      ],
      "metadata": {
        "id": "kJ85H1hOIWXa"
      }
    },
    {
      "cell_type": "code",
      "source": [
        "df.columns"
      ],
      "metadata": {
        "colab": {
          "base_uri": "https://localhost:8080/"
        },
        "id": "juPobq-EI53i",
        "outputId": "75b71657-3538-4895-cd39-3d30dba4e939"
      },
      "execution_count": 48,
      "outputs": [
        {
          "output_type": "execute_result",
          "data": {
            "text/plain": [
              "Index(['Age', 'Income', 'Family', 'CCAvg', 'Education', 'Mortgage',\n",
              "       'Personal Loan', 'Securities Account', 'CD Account', 'Online',\n",
              "       'CreditCard', 'Education Mark', 'Account Holder Category'],\n",
              "      dtype='object')"
            ]
          },
          "metadata": {},
          "execution_count": 48
        }
      ]
    },
    {
      "cell_type": "code",
      "source": [
        "age_no_loan = df[df['Personal Loan']==0]['Age']\n",
        "age_no_loan"
      ],
      "metadata": {
        "colab": {
          "base_uri": "https://localhost:8080/"
        },
        "id": "RhlaBUCfPve-",
        "outputId": "dd51e23b-cf08-4930-aa6b-2e6302c0c058"
      },
      "execution_count": 49,
      "outputs": [
        {
          "output_type": "execute_result",
          "data": {
            "text/plain": [
              "0       25\n",
              "1       45\n",
              "2       39\n",
              "3       35\n",
              "4       35\n",
              "        ..\n",
              "4995    29\n",
              "4996    30\n",
              "4997    63\n",
              "4998    65\n",
              "4999    28\n",
              "Name: Age, Length: 4520, dtype: int64"
            ]
          },
          "metadata": {},
          "execution_count": 49
        }
      ]
    },
    {
      "cell_type": "code",
      "source": [
        "sns.distplot(age_no_loan)"
      ],
      "metadata": {
        "colab": {
          "base_uri": "https://localhost:8080/",
          "height": 386
        },
        "id": "rxjdAWGkQV3g",
        "outputId": "90fbb314-78f7-485e-cfd4-607c7439ff45"
      },
      "execution_count": 51,
      "outputs": [
        {
          "output_type": "stream",
          "name": "stderr",
          "text": [
            "/usr/local/lib/python3.7/dist-packages/seaborn/distributions.py:2619: FutureWarning:\n",
            "\n",
            "`distplot` is a deprecated function and will be removed in a future version. Please adapt your code to use either `displot` (a figure-level function with similar flexibility) or `histplot` (an axes-level function for histograms).\n",
            "\n"
          ]
        },
        {
          "output_type": "execute_result",
          "data": {
            "text/plain": [
              "<matplotlib.axes._subplots.AxesSubplot at 0x7f5d7f2d59d0>"
            ]
          },
          "metadata": {},
          "execution_count": 51
        },
        {
          "output_type": "display_data",
          "data": {
            "image/png": "[encoded data removed]",
            "text/plain": [
              "<Figure size 432x288 with 1 Axes>"
            ]
          },
          "metadata": {
            "needs_background": "light"
          }
        }
      ]
    },
    {
      "cell_type": "code",
      "source": [
        "age_yes_loan = df[df['Personal Loan']==1]['Age']\n",
        "age_yes_loan"
      ],
      "metadata": {
        "colab": {
          "base_uri": "https://localhost:8080/"
        },
        "id": "NyXWXYypQJC2",
        "outputId": "417f6dbb-be8e-4160-b7c0-53170cc2d59e"
      },
      "execution_count": 50,
      "outputs": [
        {
          "output_type": "execute_result",
          "data": {
            "text/plain": [
              "9       34\n",
              "16      38\n",
              "18      46\n",
              "29      38\n",
              "38      42\n",
              "        ..\n",
              "4883    38\n",
              "4927    43\n",
              "4941    28\n",
              "4962    46\n",
              "4980    29\n",
              "Name: Age, Length: 480, dtype: int64"
            ]
          },
          "metadata": {},
          "execution_count": 50
        }
      ]
    },
    {
      "cell_type": "code",
      "source": [
        "sns.distplot(age_yes_loan)"
      ],
      "metadata": {
        "colab": {
          "base_uri": "https://localhost:8080/",
          "height": 386
        },
        "id": "tC2rRfAhQfIZ",
        "outputId": "486db51a-be9b-46db-8bf9-7fdb29e047a9"
      },
      "execution_count": 52,
      "outputs": [
        {
          "output_type": "stream",
          "name": "stderr",
          "text": [
            "/usr/local/lib/python3.7/dist-packages/seaborn/distributions.py:2619: FutureWarning:\n",
            "\n",
            "`distplot` is a deprecated function and will be removed in a future version. Please adapt your code to use either `displot` (a figure-level function with similar flexibility) or `histplot` (an axes-level function for histograms).\n",
            "\n"
          ]
        },
        {
          "output_type": "execute_result",
          "data": {
            "text/plain": [
              "<matplotlib.axes._subplots.AxesSubplot at 0x7f5d7f28d6d0>"
            ]
          },
          "metadata": {},
          "execution_count": 52
        },
        {
          "output_type": "display_data",
          "data": {
            "image/png": "[encoded data removed]",
            "text/plain": [
              "<Figure size 432x288 with 1 Axes>"
            ]
          },
          "metadata": {
            "needs_background": "light"
          }
        }
      ]
    },
    {
      "cell_type": "code",
      "source": [
        "Ho = 'Age does not have impact on taking loan'\n",
        "Ha = 'Age has impact on taking loan'"
      ],
      "metadata": {
        "id": "zqVxCwxYQ_r7"
      },
      "execution_count": 54,
      "outputs": []
    },
    {
      "cell_type": "code",
      "source": [
        "#The t-test quantifies the difference between the arithmetic means of the two samples.\n",
        "t_stat, p_val= ss.ttest_ind(age_no_loan, age_yes_loan)\n",
        "t_stat , p_val"
      ],
      "metadata": {
        "colab": {
          "base_uri": "https://localhost:8080/"
        },
        "id": "RO-B7n28QsXY",
        "outputId": "075ec1c2-cfae-4c1c-a7ea-9d506e37ea9d"
      },
      "execution_count": 53,
      "outputs": [
        {
          "output_type": "execute_result",
          "data": {
            "text/plain": [
              "(0.5461906615539323, 0.584959263705325)"
            ]
          },
          "metadata": {},
          "execution_count": 53
        }
      ]
    },
    {
      "cell_type": "code",
      "source": [
        "if p_val < .05:\n",
        "  print(Ha + ' because p_value = {} so less than .05(which is significance level)'.format(p_val))\n",
        "else:\n",
        "  print(Ho + ' because p_value = {} so greater than .05(which is significance level)'.format(p_val))"
      ],
      "metadata": {
        "colab": {
          "base_uri": "https://localhost:8080/"
        },
        "id": "jwL-w1HyQ2lr",
        "outputId": "57bf7316-e0cc-4bea-a54a-c1ce101ccc78"
      },
      "execution_count": 56,
      "outputs": [
        {
          "output_type": "stream",
          "name": "stdout",
          "text": [
            "Age does not have impact on taking loan because p_value = 0.584959263705325 so greater than .05(which is significance level)\n"
          ]
        }
      ]
    },
    {
      "cell_type": "markdown",
      "source": [
        "# Automate Analysis"
      ],
      "metadata": {
        "id": "MIfsA5WuWCI8"
      }
    },
    {
      "cell_type": "code",
      "source": [
        "def make_hypothes(col):\n",
        "  no_loan = df[df['Personal Loan']==0][col]\n",
        "  yes_loan = df[df['Personal Loan']==1][col]\n",
        "\n",
        "  Ho = '{} does not have impact on taking loan'.format(col) #default hypothesis\n",
        "  Ha = '{} has impact on taking loan'.format(col)           #alternative hypothesis\n",
        "\n",
        "  t_stat, p_val= ss.ttest_ind(no_loan, yes_loan)\n",
        "  t_stat , p_val\n",
        " \n",
        "  if p_val < .05:\n",
        "    print(Ha + ' because p_value = {} so less than .05(which is significance level)'.format(p_val))\n",
        "  else:\n",
        "    print(Ho + ' because p_value = {} so greater than .05(which is significance level)'.format(p_val))"
      ],
      "metadata": {
        "id": "ayBeEA7RWFBF"
      },
      "execution_count": 58,
      "outputs": []
    },
    {
      "cell_type": "code",
      "source": [
        "#show if income has impact on taking loan or not\n",
        "make_hypothes('Income')"
      ],
      "metadata": {
        "colab": {
          "base_uri": "https://localhost:8080/"
        },
        "id": "O-jQguLhXRrQ",
        "outputId": "b4a9228b-299e-4ad6-f68a-79eb0cbd48d4"
      },
      "execution_count": 59,
      "outputs": [
        {
          "output_type": "stream",
          "name": "stdout",
          "text": [
            "Income has impact on taking loan because p_value = 0.0 so less than .05(which is significance level)\n"
          ]
        }
      ]
    },
    {
      "cell_type": "code",
      "source": [
        "#show if family size has impact on taking loan or not\n",
        "make_hypothes('Family')"
      ],
      "metadata": {
        "colab": {
          "base_uri": "https://localhost:8080/"
        },
        "id": "1oGYj4wtXxy2",
        "outputId": "49a0a0a7-d6d0-4b7d-b1d2-b6b73a6111fa"
      },
      "execution_count": 60,
      "outputs": [
        {
          "output_type": "stream",
          "name": "stdout",
          "text": [
            "Family has impact on taking loan because p_value = 1.4099040685673807e-05 so less than .05(which is significance level)\n"
          ]
        }
      ]
    }
  ]
}